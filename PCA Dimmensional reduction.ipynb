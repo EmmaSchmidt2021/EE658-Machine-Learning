{
 "cells": [
  {
   "cell_type": "code",
   "execution_count": 1,
   "id": "c077b570",
   "metadata": {},
   "outputs": [],
   "source": [
    "import numpy as np\n",
    "import matplotlib.pyplot as plt\n",
    "from sklearn.linear_model import LinearRegression\n"
   ]
  },
  {
   "cell_type": "code",
   "execution_count": 2,
   "id": "f37aa2c5",
   "metadata": {},
   "outputs": [
    {
     "name": "stdout",
     "output_type": "stream",
     "text": [
      "(2, 50) (1, 50)\n"
     ]
    }
   ],
   "source": [
    "#generate some data\n",
    "np.random.seed(97)\n",
    "m=50\n",
    "n=2\n",
    "x1 = np.array(10 * np.random.rand(1, m))\n",
    "x2 = 1 + 1.5 * x1 + 0.55*np.random.randn(1, m)\n",
    "y = 5*x1 + 3*x2 + 2*np.random.randn()\n",
    "X = np.vstack((x1, x2))\n",
    "print(X.shape, y.shape)"
   ]
  },
  {
   "cell_type": "code",
   "execution_count": 3,
   "id": "a5758db4",
   "metadata": {},
   "outputs": [
    {
     "data": {
      "image/png": "[encoded data removed]",
      "text/plain": [
       "<Figure size 432x288 with 1 Axes>"
      ]
     },
     "metadata": {
      "needs_background": "light"
     },
     "output_type": "display_data"
    }
   ],
   "source": [
    "# Plot the points\n",
    "plt.plot(X[0], X[1], ('bo'))\n",
    "plt.show()"
   ]
  },
  {
   "cell_type": "code",
   "execution_count": 4,
   "id": "1342e637",
   "metadata": {},
   "outputs": [
    {
     "name": "stdout",
     "output_type": "stream",
     "text": [
      "Intercept= -0.7215577592236357 Coeff = [5. 3.]\n",
      "Prediction for (4,5): [34.27844224]\n"
     ]
    }
   ],
   "source": [
    "# I-b Find the Regression line\n",
    "lin_reg = LinearRegression()\n",
    "lin_reg.fit(X.T, y[0])\n",
    "print('Intercept=',lin_reg.intercept_, 'Coeff =', lin_reg.coef_)\n",
    "# Intercept= -0.7215577592236357 Coeff = [5. 3.]\n",
    "# I-c Predict with the model\n",
    "print('Prediction for (4,5):', \n",
    "lin_reg.predict([[4,5]]))\n",
    "# Prediction for (4,5): [34.27844224]"
   ]
  },
  {
   "cell_type": "code",
   "execution_count": 5,
   "id": "f28dc174",
   "metadata": {},
   "outputs": [
    {
     "data": {
      "image/png": "[encoded data removed]",
      "text/plain": [
       "<Figure size 432x288 with 1 Axes>"
      ]
     },
     "metadata": {
      "needs_background": "light"
     },
     "output_type": "display_data"
    }
   ],
   "source": [
    "from sklearn.preprocessing import StandardScaler\n",
    "sc = StandardScaler() #normalize and transform\n",
    "X2 = sc.fit_transform(X.T)\n",
    "X = X2.T\n",
    "plt.plot(X[0], X[1], ('bo'))\n",
    "plt.show()\n",
    "#idendical distribution - x axis values are the only thing that have changed+"
   ]
  },
  {
   "cell_type": "code",
   "execution_count": 6,
   "id": "d1701c72",
   "metadata": {},
   "outputs": [
    {
     "name": "stdout",
     "output_type": "stream",
     "text": [
      "Intercept= 48.7202349688163 Coeff = [15.22116269 13.56340123]\n",
      "[[-0.29972481 -0.72840377]]\n",
      "Prediction for (4,5): [34.27844224]\n"
     ]
    }
   ],
   "source": [
    "# I-b Find the Regression line\n",
    "lin_reg = LinearRegression()\n",
    "lin_reg.fit(X.T, y[0])\n",
    "print('Intercept=',lin_reg.intercept_, 'Coeff =', lin_reg.coef_)\n",
    "# Intercept= 48.7202349688163 Coeff = [15.22116269 13.56340123]\n",
    "# I-c Predict with the model\n",
    "pt = np.array([[4,5]])\n",
    "pt_s = sc.transform(pt)\n",
    "print(pt_s)\n",
    "pred = lin_reg.predict(pt_s)\n",
    "print('Prediction for (4,5):', pred)"
   ]
  },
  {
   "cell_type": "code",
   "execution_count": 7,
   "id": "02500ecd",
   "metadata": {},
   "outputs": [],
   "source": [
    "#the problem and the prediction remain the same even after adjusting the data to center around on 0,0"
   ]
  },
  {
   "cell_type": "code",
   "execution_count": 8,
   "id": "ce73c0a6",
   "metadata": {},
   "outputs": [
    {
     "name": "stdout",
     "output_type": "stream",
     "text": [
      "Eigenvalues: v=\n",
      " [ 0.35165323 99.64834677] \n",
      "\n",
      "Eigenvectors W=\n",
      " [[-0.70710678 -0.70710678]\n",
      " [ 0.70710678 -0.70710678]] \n",
      "\n",
      "Sorted\n",
      " v= [99.64834677  0.35165323] \n",
      " W= [[-0.70710678 -0.70710678]\n",
      " [-0.70710678  0.70710678]]\n"
     ]
    }
   ],
   "source": [
    "# II-a Compute the Eigenvalues /Eigenvectors\n",
    "sigma = np.dot(X, X.T)\n",
    "v, W = np.linalg.eig(sigma)\n",
    "print('Eigenvalues: v=\\n', v, '\\n')\n",
    "print('Eigenvectors W=\\n', W, '\\n')\n",
    "# Sort the Eigenvectors (in reverse) Need to order in decreasing value\n",
    "v_indices = np.argsort(v)[::-1]\n",
    "v = v[v_indices]\n",
    "W = W[:,v_indices]\n",
    "print('Sorted\\n', 'v=',v,'\\n', 'W=',W)"
   ]
  },
  {
   "cell_type": "code",
   "execution_count": 9,
   "id": "36930359",
   "metadata": {},
   "outputs": [
    {
     "data": {
      "image/png": "[encoded data removed]",
      "text/plain": [
       "<Figure size 432x288 with 1 Axes>"
      ]
     },
     "metadata": {
      "needs_background": "light"
     },
     "output_type": "display_data"
    }
   ],
   "source": [
    "# II-b Transform the original data using the entire Eigenvectors matrix\n",
    "Xa = np.dot(W.T, X)\n",
    "plt.plot(X[0], X[1], ('bo'), label='original')\n",
    "plt.plot(Xa[0], Xa[1], ('ro'), label='transformed')\n",
    "plt.legend(loc=\"upper left\")\n",
    "plt.show()"
   ]
  },
  {
   "cell_type": "code",
   "execution_count": 10,
   "id": "aeaddc99",
   "metadata": {},
   "outputs": [
    {
     "name": "stdout",
     "output_type": "stream",
     "text": [
      "Intercept= 48.7202349688163 Coeff = [-20.35376034  -1.17221437]\n",
      "[34.27844224]\n"
     ]
    }
   ],
   "source": [
    "# II-c Find regression line corresponding to the transformed dataset\n",
    "lin_reg2 = LinearRegression()\n",
    "lin_reg2.fit(Xa.T, y[0])\n",
    "print('Intercept=',lin_reg2.intercept_, 'Coeff =', lin_reg2.coef_)\n",
    "# Intercept= 48.7202349688163 Coeff = [-20.35376034  -1.17221437]\n",
    "# II-d Predict with the model\n",
    "pt_s_t = np.dot(W.T, pt_s.T)\n",
    "pred_a = lin_reg2.predict(pt_s_t.T); print(pred_a)\n",
    "# [34.27844224]"
   ]
  },
  {
   "cell_type": "code",
   "execution_count": 11,
   "id": "e0970481",
   "metadata": {},
   "outputs": [
    {
     "data": {
      "image/png": "[encoded data removed]",
      "text/plain": [
       "<Figure size 432x288 with 1 Axes>"
      ]
     },
     "metadata": {
      "needs_background": "light"
     },
     "output_type": "display_data"
    }
   ],
   "source": [
    "# III-a Transform data using only the first Eigenvector\n",
    "Wr = W[:, 0]\n",
    "Xb = np.dot(Wr.T, X)\n",
    "plt.plot(X[0], X[1], ('bo'), label='original')\n",
    "plt.plot(Xa[0], Xa[1], ('ro'), label='transformed')\n",
    "plt.plot(Xb, np.zeros(len(Xb)), ('go'), label='reduced dimensions')\n",
    "plt.legend(loc=\"upper left\")\n",
    "plt.show()"
   ]
  },
  {
   "cell_type": "code",
   "execution_count": 12,
   "id": "cab1e76c",
   "metadata": {},
   "outputs": [
    {
     "name": "stdout",
     "output_type": "stream",
     "text": [
      "48.7202349688163 [-20.35376034]\n",
      "[[0.72699669]]\n",
      "Prediction for (4,5): [33.92311851]\n"
     ]
    }
   ],
   "source": [
    "# III-b Fit a regression line model\n",
    "lin_regb = LinearRegression()\n",
    "lin_regb.fit(Xb.reshape(-1,1), y[0])\n",
    "print(lin_regb.intercept_, lin_regb.coef_)\n",
    "# 48.7202349688163 [-20.35376034]\n",
    "# III-c Prediction\n",
    "pt_s_t2 = np.dot(Wr.reshape(-1, 1).T, pt_s.T)\n",
    "print(pt_s_t2)\n",
    "#[[0.72699669]]\n",
    "pred_b = lin_regb.predict(pt_s_t2.T)\n",
    "print('Prediction for (4,5):', pred_b)\n",
    "# Prediction for (4,5): [33.92311851]"
   ]
  },
  {
   "cell_type": "code",
   "execution_count": 13,
   "id": "3f005a87",
   "metadata": {},
   "outputs": [
    {
     "name": "stdout",
     "output_type": "stream",
     "text": [
      "1.0474382984015875 %\n"
     ]
    }
   ],
   "source": [
    "# III-d Comparing prediction in III to the ones in I and II\n",
    "pct_change = 100 * abs(pred_a - pred_b) / pred_b\n",
    "print(pct_change[0], '%')\n",
    "# 1.047438298401588 %"
   ]
  },
  {
   "cell_type": "code",
   "execution_count": 14,
   "id": "51fc03ab",
   "metadata": {},
   "outputs": [
    {
     "name": "stdout",
     "output_type": "stream",
     "text": [
      "Eigenvectors:, U\n",
      " [[-0.70710678 -0.70710678]\n",
      " [-0.70710678  0.70710678]] (2, 2) \n",
      "\n",
      "Eigenvalues: s= [9.98240185 0.59300356] (2,) \n",
      "\n",
      "Eigenvectors: VT=\n",
      " (50, 50) \n",
      "\n",
      "Eigenvectors W=\n",
      " [[-0.70710678 -0.70710678]\n",
      " [-0.70710678  0.70710678]] (2, 2) \n",
      "\n"
     ]
    }
   ],
   "source": [
    "U, s, VT = np.linalg.svd(X)\n",
    "print('Eigenvectors:, U\\n', U, U.shape,'\\n')\n",
    "print('Eigenvalues: s=', s, s.shape,'\\n')\n",
    "print('Eigenvectors: VT=\\n', VT.shape,'\\n')\n",
    "\n",
    "print('Eigenvectors W=\\n', W, W.shape, '\\n')\n"
   ]
  },
  {
   "cell_type": "code",
   "execution_count": 15,
   "id": "1d6c305d",
   "metadata": {},
   "outputs": [
    {
     "name": "stdout",
     "output_type": "stream",
     "text": [
      "True\n"
     ]
    },
    {
     "data": {
      "text/plain": [
       "True"
      ]
     },
     "execution_count": 15,
     "metadata": {},
     "output_type": "execute_result"
    }
   ],
   "source": [
    "# Asserting that 𝑋=𝑈 Σ 𝑉^𝑇\n",
    "Sigma = np.zeros((X.shape[0], X.shape[1]))\n",
    "Sigma[:X.shape[0], :X.shape[0]] = np.diag(s)\n",
    "Xc = np.dot(U, np.dot(Sigma, VT))\n",
    "print(np.allclose(X, Xc))\n",
    "# True\n",
    "\n",
    "np.allclose( np.identity(2), np.dot(U, U.T) )\n",
    "# True\n",
    "np.allclose( np.identity(50), np.dot(VT, VT.T) )\n",
    "# True\n"
   ]
  },
  {
   "cell_type": "code",
   "execution_count": 16,
   "id": "905e9c83",
   "metadata": {},
   "outputs": [
    {
     "data": {
      "image/png": "[encoded data removed]",
      "text/plain": [
       "<Figure size 432x288 with 1 Axes>"
      ]
     },
     "metadata": {
      "needs_background": "light"
     },
     "output_type": "display_data"
    },
    {
     "name": "stdout",
     "output_type": "stream",
     "text": [
      "[34.27844224]\n"
     ]
    },
    {
     "data": {
      "text/plain": [
       "LinearRegression()"
      ]
     },
     "execution_count": 16,
     "metadata": {},
     "output_type": "execute_result"
    }
   ],
   "source": [
    "# transforming X, using the first 2 Eigenvectors\n",
    "plt.plot(X[0], X[1], ('bo'))\n",
    "Xall = np.dot(U.T, X)\n",
    "plt.plot(Xall[0], Xall[1], ('ro'))\n",
    "plt.show()\n",
    "\n",
    "# Making a prediction, using the entire\n",
    "# transformed dataset\n",
    "Xc = np.dot(U.T,  X)\n",
    "lrg = LinearRegression()\n",
    "lrg.fit(Xc.T, y[0])\n",
    "\n",
    "pt1_s_t = np.dot(U.T, pt_s.T)\n",
    "pred_a = lrg.predict(pt1_s_t.T); print(pred_a)\n",
    "# [34.27844224]\n",
    "\n",
    "# Approximate X by using only the first Eigenvector\n",
    "Ur = U[:, 0]\n",
    "Xr = np.dot(Ur.T,  X).reshape(1,50)\n",
    "lrg = LinearRegression()\n",
    "lrg.fit(Xr.T, y[0])\n"
   ]
  },
  {
   "cell_type": "code",
   "execution_count": 17,
   "id": "cc12b11e",
   "metadata": {},
   "outputs": [
    {
     "name": "stdout",
     "output_type": "stream",
     "text": [
      "[[0.72699669]]\n",
      "Prediction for (4,5): [33.92311851]\n",
      "1.0474382984015669 %\n"
     ]
    }
   ],
   "source": [
    "pt_s_t2 = np.dot(Ur.reshape(-1, 1).T, pt_s.T)\n",
    "print(pt_s_t2)\n",
    "# [[0.72699669]]\n",
    "\n",
    "pred_b = lrg.predict(pt_s_t2.T)\n",
    "print('Prediction for (4,5):', pred_b)\n",
    "# Prediction for (4,5): [33.92311851]\n",
    "\n",
    "pct_change = 100 * abs(pred_a - pred_b) / pred_b\n",
    "print(pct_change[0], '%')\n",
    "# 1.047438298401567 %\n"
   ]
  },
  {
   "cell_type": "code",
   "execution_count": 18,
   "id": "05fd9395",
   "metadata": {},
   "outputs": [
    {
     "name": "stdout",
     "output_type": "stream",
     "text": [
      "X.shape= (4, 150)\n",
      "y.shape= (150,) \n",
      "\n",
      "feature_names=\n",
      " ['sepal length (cm)', 'sepal width (cm)', 'petal length (cm)', 'petal width (cm)'] \n",
      "\n",
      "target_names=\n",
      " ['setosa', 'versicolor', 'virginica']\n"
     ]
    }
   ],
   "source": [
    "#apply to IRIS Dataset - can we predict with a smaller number of variables\n",
    "from sklearn import datasets\n",
    "iris = datasets.load_iris()\n",
    "X, y = iris.data, iris.target\n",
    "X = X.T\n",
    "feature_names = list(iris.feature_names)\n",
    "target_names = list(iris.target_names)\n",
    "print('X.shape=', X.shape)\n",
    "print('y.shape=', y.shape, '\\n')\n",
    "print('feature_names=\\n', feature_names, '\\n')\n",
    "print('target_names=\\n', target_names)\n"
   ]
  },
  {
   "cell_type": "code",
   "execution_count": 20,
   "id": "fee94e23",
   "metadata": {},
   "outputs": [
    {
     "name": "stdout",
     "output_type": "stream",
     "text": [
      "Eigen-values: v=\n",
      " [9.20830507e+03 3.15454317e+02 1.19780429e+01 3.55257020e+00] \n",
      "\n",
      "Eigen-vectors: w=\n",
      " [[ 0.75110816  0.2841749   0.50215472  0.32081425]\n",
      " [ 0.38008617  0.5467445  -0.67524332 -0.31725607]\n",
      " [ 0.51300886 -0.70866455 -0.05916621 -0.48074507]\n",
      " [ 0.16790754 -0.34367081 -0.53701625  0.75187165]]\n"
     ]
    }
   ],
   "source": [
    "# Using PCA to find the Eigenvalues and Eigenvectors\n",
    "C = np.dot(X, X.T)\n",
    "v, w = np.linalg.eig(C)\n",
    "print('Eigen-values: v=\\n', v,'\\n')\n",
    "print('Eigen-vectors: w=\\n', w)\n",
    "#Eigen-values: v=\n",
    "# [9.20653060e+03   3.14103073e+02   1.20360193e+01   3.53031167e+00] \n",
    "#Eigen-vectors: w=\n",
    " #[[ 0.75116805    0.28583096    0.49942378    0.32345496]\n",
    " #[ 0.37978837     0.54488976    -0.67502499   -0.32124324]\n",
    " #[ 0.51315094    -0.70889874    -0.05471983   -0.48077482]\n",
    " #[ 0.16787934   -0.34475845     -0.54029889    0.74902286]]\n"
   ]
  },
  {
   "cell_type": "code",
   "execution_count": 21,
   "id": "a9ca81df",
   "metadata": {},
   "outputs": [
    {
     "name": "stdout",
     "output_type": "stream",
     "text": [
      "Eigen-vectors: U=\n",
      " [[-0.75110816 -0.2841749   0.50215472  0.32081425]\n",
      " [-0.38008617 -0.5467445  -0.67524332 -0.31725607]\n",
      " [-0.51300886  0.70866455 -0.05916621 -0.48074507]\n",
      " [-0.16790754  0.34367081 -0.53701625  0.75187165]] (4, 4) \n",
      "\n",
      "Eigen-values: s= [95.95991387 17.76103366  3.46093093  1.88482631] (4,)\n",
      "Eigen-vectors: VT= (150, 150) \n",
      "\n"
     ]
    }
   ],
   "source": [
    "# Using Singular-value decomposition\n",
    "U, s, VT = np.linalg.svd(X)\n",
    "print('Eigen-vectors: U=\\n', U, U.shape,'\\n')\n",
    "print('Eigen-values: s=', s, s.shape)\n",
    "print('Eigen-vectors: VT=', VT.shape,'\\n')\n"
   ]
  },
  {
   "cell_type": "code",
   "execution_count": 22,
   "id": "d882a837",
   "metadata": {},
   "outputs": [
    {
     "name": "stdout",
     "output_type": "stream",
     "text": [
      "Ur=\n",
      " [[ 0.75110816  0.2841749 ]\n",
      " [ 0.38008617  0.5467445 ]\n",
      " [ 0.51300886 -0.70866455]\n",
      " [ 0.16790754 -0.34367081]]\n",
      "wr=\n",
      " [[ 0.75110816  0.2841749 ]\n",
      " [ 0.38008617  0.5467445 ]\n",
      " [ 0.51300886 -0.70866455]\n",
      " [ 0.16790754 -0.34367081]]\n"
     ]
    },
    {
     "data": {
      "text/plain": [
       "True"
      ]
     },
     "execution_count": 22,
     "metadata": {},
     "output_type": "execute_result"
    }
   ],
   "source": [
    "#Let’s take the first two columns (Principle Components) of U and call it Ur\n",
    "Ur = -U[:, 0:2]\n",
    "print('Ur=\\n', Ur)\n",
    "wr = w[:, 0:2]\n",
    "print('wr=\\n', wr)\n",
    "np.allclose(Ur, wr)   # True\n"
   ]
  },
  {
   "cell_type": "code",
   "execution_count": 26,
   "id": "86b7653e",
   "metadata": {},
   "outputs": [
    {
     "data": {
      "text/plain": [
       "((4, 150), (150, 2))"
      ]
     },
     "execution_count": 26,
     "metadata": {},
     "output_type": "execute_result"
    }
   ],
   "source": [
    "#Project the data X onto the reduced matrix Ur:\n",
    "Xr = np.dot(X.T, Ur)\n",
    "X.shape, Xr.shape"
   ]
  },
  {
   "cell_type": "code",
   "execution_count": 28,
   "id": "6ada3424",
   "metadata": {},
   "outputs": [
    {
     "data": {
      "image/png": "[encoded data removed]",
      "text/plain": [
       "<Figure size 432x288 with 1 Axes>"
      ]
     },
     "metadata": {
      "needs_background": "light"
     },
     "output_type": "display_data"
    }
   ],
   "source": [
    "plt.scatter(Xr[:,0], Xr[:,1], c=y, cmap='plasma')\n",
    "plt.show()\n"
   ]
  },
  {
   "cell_type": "code",
   "execution_count": 30,
   "id": "d67c7124",
   "metadata": {},
   "outputs": [
    {
     "ename": "ValueError",
     "evalue": "x and y must have same first dimension, but have shapes (6,) and (5,)",
     "output_type": "error",
     "traceback": [
      "\u001b[1;31m---------------------------------------------------------------------------\u001b[0m",
      "\u001b[1;31mValueError\u001b[0m                                Traceback (most recent call last)",
      "\u001b[1;32m~\\AppData\\Local\\Temp/ipykernel_25760/4236952554.py\u001b[0m in \u001b[0;36m<module>\u001b[1;34m\u001b[0m\n\u001b[0;32m      3\u001b[0m \u001b[0mnp\u001b[0m\u001b[1;33m.\u001b[0m\u001b[0minsert\u001b[0m\u001b[1;33m(\u001b[0m\u001b[0msv\u001b[0m\u001b[1;33m,\u001b[0m \u001b[1;36m0\u001b[0m\u001b[1;33m,\u001b[0m \u001b[1;36m0\u001b[0m\u001b[1;33m)\u001b[0m \u001b[1;31m#- insert the value 0 in position 0 of array sv\u001b[0m\u001b[1;33m\u001b[0m\u001b[1;33m\u001b[0m\u001b[0m\n\u001b[0;32m      4\u001b[0m \u001b[0msv\u001b[0m \u001b[1;33m=\u001b[0m \u001b[0mnp\u001b[0m\u001b[1;33m.\u001b[0m\u001b[0minsert\u001b[0m\u001b[1;33m(\u001b[0m\u001b[0msv\u001b[0m\u001b[1;33m,\u001b[0m \u001b[1;36m0\u001b[0m\u001b[1;33m,\u001b[0m \u001b[1;36m0\u001b[0m\u001b[1;33m)\u001b[0m\u001b[1;33m\u001b[0m\u001b[1;33m\u001b[0m\u001b[0m\n\u001b[1;32m----> 5\u001b[1;33m \u001b[0mplt\u001b[0m\u001b[1;33m.\u001b[0m\u001b[0mstep\u001b[0m\u001b[1;33m(\u001b[0m\u001b[0mlist\u001b[0m\u001b[1;33m(\u001b[0m\u001b[0mrange\u001b[0m\u001b[1;33m(\u001b[0m\u001b[0mlen\u001b[0m\u001b[1;33m(\u001b[0m\u001b[0msv\u001b[0m\u001b[1;33m)\u001b[0m\u001b[1;33m+\u001b[0m\u001b[1;36m1\u001b[0m\u001b[1;33m)\u001b[0m\u001b[1;33m)\u001b[0m\u001b[1;33m,\u001b[0m \u001b[0msv\u001b[0m\u001b[1;33m)\u001b[0m\u001b[1;33m\u001b[0m\u001b[1;33m\u001b[0m\u001b[0m\n\u001b[0m\u001b[0;32m      6\u001b[0m \u001b[0mplt\u001b[0m\u001b[1;33m.\u001b[0m\u001b[0mshow\u001b[0m\u001b[1;33m(\u001b[0m\u001b[1;33m)\u001b[0m\u001b[1;33m\u001b[0m\u001b[1;33m\u001b[0m\u001b[0m\n\u001b[0;32m      7\u001b[0m \u001b[0mprint\u001b[0m\u001b[1;33m(\u001b[0m\u001b[1;34m'sv ='\u001b[0m\u001b[1;33m,\u001b[0m \u001b[0msv\u001b[0m\u001b[1;33m)\u001b[0m\u001b[1;33m\u001b[0m\u001b[1;33m\u001b[0m\u001b[0m\n",
      "\u001b[1;32m~\\Anaconda3\\envs\\tf2\\lib\\site-packages\\matplotlib\\pyplot.py\u001b[0m in \u001b[0;36mstep\u001b[1;34m(x, y, where, data, *args, **kwargs)\u001b[0m\n\u001b[0;32m   2882\u001b[0m \u001b[1;33m@\u001b[0m\u001b[0m_copy_docstring_and_deprecators\u001b[0m\u001b[1;33m(\u001b[0m\u001b[0mAxes\u001b[0m\u001b[1;33m.\u001b[0m\u001b[0mstep\u001b[0m\u001b[1;33m)\u001b[0m\u001b[1;33m\u001b[0m\u001b[1;33m\u001b[0m\u001b[0m\n\u001b[0;32m   2883\u001b[0m \u001b[1;32mdef\u001b[0m \u001b[0mstep\u001b[0m\u001b[1;33m(\u001b[0m\u001b[0mx\u001b[0m\u001b[1;33m,\u001b[0m \u001b[0my\u001b[0m\u001b[1;33m,\u001b[0m \u001b[1;33m*\u001b[0m\u001b[0margs\u001b[0m\u001b[1;33m,\u001b[0m \u001b[0mwhere\u001b[0m\u001b[1;33m=\u001b[0m\u001b[1;34m'pre'\u001b[0m\u001b[1;33m,\u001b[0m \u001b[0mdata\u001b[0m\u001b[1;33m=\u001b[0m\u001b[1;32mNone\u001b[0m\u001b[1;33m,\u001b[0m \u001b[1;33m**\u001b[0m\u001b[0mkwargs\u001b[0m\u001b[1;33m)\u001b[0m\u001b[1;33m:\u001b[0m\u001b[1;33m\u001b[0m\u001b[1;33m\u001b[0m\u001b[0m\n\u001b[1;32m-> 2884\u001b[1;33m     return gca().step(\n\u001b[0m\u001b[0;32m   2885\u001b[0m         \u001b[0mx\u001b[0m\u001b[1;33m,\u001b[0m \u001b[0my\u001b[0m\u001b[1;33m,\u001b[0m \u001b[1;33m*\u001b[0m\u001b[0margs\u001b[0m\u001b[1;33m,\u001b[0m \u001b[0mwhere\u001b[0m\u001b[1;33m=\u001b[0m\u001b[0mwhere\u001b[0m\u001b[1;33m,\u001b[0m\u001b[1;33m\u001b[0m\u001b[1;33m\u001b[0m\u001b[0m\n\u001b[0;32m   2886\u001b[0m         **({\"data\": data} if data is not None else {}), **kwargs)\n",
      "\u001b[1;32m~\\Anaconda3\\envs\\tf2\\lib\\site-packages\\matplotlib\\axes\\_axes.py\u001b[0m in \u001b[0;36mstep\u001b[1;34m(self, x, y, where, data, *args, **kwargs)\u001b[0m\n\u001b[0;32m   2115\u001b[0m         \u001b[0m_api\u001b[0m\u001b[1;33m.\u001b[0m\u001b[0mcheck_in_list\u001b[0m\u001b[1;33m(\u001b[0m\u001b[1;33m(\u001b[0m\u001b[1;34m'pre'\u001b[0m\u001b[1;33m,\u001b[0m \u001b[1;34m'post'\u001b[0m\u001b[1;33m,\u001b[0m \u001b[1;34m'mid'\u001b[0m\u001b[1;33m)\u001b[0m\u001b[1;33m,\u001b[0m \u001b[0mwhere\u001b[0m\u001b[1;33m=\u001b[0m\u001b[0mwhere\u001b[0m\u001b[1;33m)\u001b[0m\u001b[1;33m\u001b[0m\u001b[1;33m\u001b[0m\u001b[0m\n\u001b[0;32m   2116\u001b[0m         \u001b[0mkwargs\u001b[0m\u001b[1;33m[\u001b[0m\u001b[1;34m'drawstyle'\u001b[0m\u001b[1;33m]\u001b[0m \u001b[1;33m=\u001b[0m \u001b[1;34m'steps-'\u001b[0m \u001b[1;33m+\u001b[0m \u001b[0mwhere\u001b[0m\u001b[1;33m\u001b[0m\u001b[1;33m\u001b[0m\u001b[0m\n\u001b[1;32m-> 2117\u001b[1;33m         \u001b[1;32mreturn\u001b[0m \u001b[0mself\u001b[0m\u001b[1;33m.\u001b[0m\u001b[0mplot\u001b[0m\u001b[1;33m(\u001b[0m\u001b[0mx\u001b[0m\u001b[1;33m,\u001b[0m \u001b[0my\u001b[0m\u001b[1;33m,\u001b[0m \u001b[1;33m*\u001b[0m\u001b[0margs\u001b[0m\u001b[1;33m,\u001b[0m \u001b[0mdata\u001b[0m\u001b[1;33m=\u001b[0m\u001b[0mdata\u001b[0m\u001b[1;33m,\u001b[0m \u001b[1;33m**\u001b[0m\u001b[0mkwargs\u001b[0m\u001b[1;33m)\u001b[0m\u001b[1;33m\u001b[0m\u001b[1;33m\u001b[0m\u001b[0m\n\u001b[0m\u001b[0;32m   2118\u001b[0m \u001b[1;33m\u001b[0m\u001b[0m\n\u001b[0;32m   2119\u001b[0m     \u001b[1;33m@\u001b[0m\u001b[0mstaticmethod\u001b[0m\u001b[1;33m\u001b[0m\u001b[1;33m\u001b[0m\u001b[0m\n",
      "\u001b[1;32m~\\Anaconda3\\envs\\tf2\\lib\\site-packages\\matplotlib\\axes\\_axes.py\u001b[0m in \u001b[0;36mplot\u001b[1;34m(self, scalex, scaley, data, *args, **kwargs)\u001b[0m\n\u001b[0;32m   1630\u001b[0m         \"\"\"\n\u001b[0;32m   1631\u001b[0m         \u001b[0mkwargs\u001b[0m \u001b[1;33m=\u001b[0m \u001b[0mcbook\u001b[0m\u001b[1;33m.\u001b[0m\u001b[0mnormalize_kwargs\u001b[0m\u001b[1;33m(\u001b[0m\u001b[0mkwargs\u001b[0m\u001b[1;33m,\u001b[0m \u001b[0mmlines\u001b[0m\u001b[1;33m.\u001b[0m\u001b[0mLine2D\u001b[0m\u001b[1;33m)\u001b[0m\u001b[1;33m\u001b[0m\u001b[1;33m\u001b[0m\u001b[0m\n\u001b[1;32m-> 1632\u001b[1;33m         \u001b[0mlines\u001b[0m \u001b[1;33m=\u001b[0m \u001b[1;33m[\u001b[0m\u001b[1;33m*\u001b[0m\u001b[0mself\u001b[0m\u001b[1;33m.\u001b[0m\u001b[0m_get_lines\u001b[0m\u001b[1;33m(\u001b[0m\u001b[1;33m*\u001b[0m\u001b[0margs\u001b[0m\u001b[1;33m,\u001b[0m \u001b[0mdata\u001b[0m\u001b[1;33m=\u001b[0m\u001b[0mdata\u001b[0m\u001b[1;33m,\u001b[0m \u001b[1;33m**\u001b[0m\u001b[0mkwargs\u001b[0m\u001b[1;33m)\u001b[0m\u001b[1;33m]\u001b[0m\u001b[1;33m\u001b[0m\u001b[1;33m\u001b[0m\u001b[0m\n\u001b[0m\u001b[0;32m   1633\u001b[0m         \u001b[1;32mfor\u001b[0m \u001b[0mline\u001b[0m \u001b[1;32min\u001b[0m \u001b[0mlines\u001b[0m\u001b[1;33m:\u001b[0m\u001b[1;33m\u001b[0m\u001b[1;33m\u001b[0m\u001b[0m\n\u001b[0;32m   1634\u001b[0m             \u001b[0mself\u001b[0m\u001b[1;33m.\u001b[0m\u001b[0madd_line\u001b[0m\u001b[1;33m(\u001b[0m\u001b[0mline\u001b[0m\u001b[1;33m)\u001b[0m\u001b[1;33m\u001b[0m\u001b[1;33m\u001b[0m\u001b[0m\n",
      "\u001b[1;32m~\\Anaconda3\\envs\\tf2\\lib\\site-packages\\matplotlib\\axes\\_base.py\u001b[0m in \u001b[0;36m__call__\u001b[1;34m(self, data, *args, **kwargs)\u001b[0m\n\u001b[0;32m    310\u001b[0m                 \u001b[0mthis\u001b[0m \u001b[1;33m+=\u001b[0m \u001b[0margs\u001b[0m\u001b[1;33m[\u001b[0m\u001b[1;36m0\u001b[0m\u001b[1;33m]\u001b[0m\u001b[1;33m,\u001b[0m\u001b[1;33m\u001b[0m\u001b[1;33m\u001b[0m\u001b[0m\n\u001b[0;32m    311\u001b[0m                 \u001b[0margs\u001b[0m \u001b[1;33m=\u001b[0m \u001b[0margs\u001b[0m\u001b[1;33m[\u001b[0m\u001b[1;36m1\u001b[0m\u001b[1;33m:\u001b[0m\u001b[1;33m]\u001b[0m\u001b[1;33m\u001b[0m\u001b[1;33m\u001b[0m\u001b[0m\n\u001b[1;32m--> 312\u001b[1;33m             \u001b[1;32myield\u001b[0m \u001b[1;32mfrom\u001b[0m \u001b[0mself\u001b[0m\u001b[1;33m.\u001b[0m\u001b[0m_plot_args\u001b[0m\u001b[1;33m(\u001b[0m\u001b[0mthis\u001b[0m\u001b[1;33m,\u001b[0m \u001b[0mkwargs\u001b[0m\u001b[1;33m)\u001b[0m\u001b[1;33m\u001b[0m\u001b[1;33m\u001b[0m\u001b[0m\n\u001b[0m\u001b[0;32m    313\u001b[0m \u001b[1;33m\u001b[0m\u001b[0m\n\u001b[0;32m    314\u001b[0m     \u001b[1;32mdef\u001b[0m \u001b[0mget_next_color\u001b[0m\u001b[1;33m(\u001b[0m\u001b[0mself\u001b[0m\u001b[1;33m)\u001b[0m\u001b[1;33m:\u001b[0m\u001b[1;33m\u001b[0m\u001b[1;33m\u001b[0m\u001b[0m\n",
      "\u001b[1;32m~\\Anaconda3\\envs\\tf2\\lib\\site-packages\\matplotlib\\axes\\_base.py\u001b[0m in \u001b[0;36m_plot_args\u001b[1;34m(self, tup, kwargs, return_kwargs)\u001b[0m\n\u001b[0;32m    496\u001b[0m \u001b[1;33m\u001b[0m\u001b[0m\n\u001b[0;32m    497\u001b[0m         \u001b[1;32mif\u001b[0m \u001b[0mx\u001b[0m\u001b[1;33m.\u001b[0m\u001b[0mshape\u001b[0m\u001b[1;33m[\u001b[0m\u001b[1;36m0\u001b[0m\u001b[1;33m]\u001b[0m \u001b[1;33m!=\u001b[0m \u001b[0my\u001b[0m\u001b[1;33m.\u001b[0m\u001b[0mshape\u001b[0m\u001b[1;33m[\u001b[0m\u001b[1;36m0\u001b[0m\u001b[1;33m]\u001b[0m\u001b[1;33m:\u001b[0m\u001b[1;33m\u001b[0m\u001b[1;33m\u001b[0m\u001b[0m\n\u001b[1;32m--> 498\u001b[1;33m             raise ValueError(f\"x and y must have same first dimension, but \"\n\u001b[0m\u001b[0;32m    499\u001b[0m                              f\"have shapes {x.shape} and {y.shape}\")\n\u001b[0;32m    500\u001b[0m         \u001b[1;32mif\u001b[0m \u001b[0mx\u001b[0m\u001b[1;33m.\u001b[0m\u001b[0mndim\u001b[0m \u001b[1;33m>\u001b[0m \u001b[1;36m2\u001b[0m \u001b[1;32mor\u001b[0m \u001b[0my\u001b[0m\u001b[1;33m.\u001b[0m\u001b[0mndim\u001b[0m \u001b[1;33m>\u001b[0m \u001b[1;36m2\u001b[0m\u001b[1;33m:\u001b[0m\u001b[1;33m\u001b[0m\u001b[1;33m\u001b[0m\u001b[0m\n",
      "\u001b[1;31mValueError\u001b[0m: x and y must have same first dimension, but have shapes (6,) and (5,)"
     ]
    },
    {
     "data": {
      "image/png": "[encoded data removed]",
      "text/plain": [
       "<Figure size 432x288 with 1 Axes>"
      ]
     },
     "metadata": {
      "needs_background": "light"
     },
     "output_type": "display_data"
    }
   ],
   "source": [
    "# The Scree plot\n",
    "sv = np.cumsum(s)/sum(s)\n",
    "#np.insert(sv, 0, 0) #- insert the value 0 in position 0 of array sv\n",
    "sv = np.insert(sv, 0, 0)\n",
    "plt.step(list(range(len(sv)+1)), sv)\n",
    "plt.show()\n",
    "print('sv =', sv)\n"
   ]
  },
  {
   "cell_type": "code",
   "execution_count": 31,
   "id": "3f55999b",
   "metadata": {},
   "outputs": [
    {
     "name": "stdout",
     "output_type": "stream",
     "text": [
      "(4, 150)\n",
      "Is X equal to Xa?  True\n"
     ]
    }
   ],
   "source": [
    "Sigma = np.zeros((X.shape[0], X.shape[1]))\n",
    "Sigma[:X.shape[0], :X.shape[0]] = np.diag(s)\n",
    "Xa = U.dot(Sigma.dot(VT))\n",
    "print(Xa.shape)\n",
    "res = np.allclose(X, Xa)\n",
    "print('Is X equal to Xa? ', res)\n"
   ]
  },
  {
   "cell_type": "code",
   "execution_count": 32,
   "id": "9beaad98",
   "metadata": {},
   "outputs": [
    {
     "name": "stdout",
     "output_type": "stream",
     "text": [
      "(150, 4) (150,)\n",
      "Confusion matrix:\n",
      " [[50  0  0]\n",
      " [ 0 47  3]\n",
      " [ 0  2 48]]\n",
      "Accuracy: 0.9666666666666667\n"
     ]
    },
    {
     "name": "stderr",
     "output_type": "stream",
     "text": [
      "C:\\Users\\emmasch\\Anaconda3\\envs\\tf2\\lib\\site-packages\\sklearn\\svm\\_base.py:1199: ConvergenceWarning: Liblinear failed to converge, increase the number of iterations.\n",
      "  warnings.warn(\n",
      "C:\\Users\\emmasch\\Anaconda3\\envs\\tf2\\lib\\site-packages\\sklearn\\svm\\_base.py:1199: ConvergenceWarning: Liblinear failed to converge, increase the number of iterations.\n",
      "  warnings.warn(\n"
     ]
    }
   ],
   "source": [
    "# Using Scikit-Learn Logistic Regression with the Iris Dataset\n",
    "from sklearn import datasets\n",
    "from sklearn.multiclass import OneVsRestClassifier\n",
    "from sklearn.svm import LinearSVC\n",
    "X1 = X.T\n",
    "print(X1.shape, y.shape)\n",
    "ovrc = OneVsRestClassifier(LinearSVC(random_state=0))\n",
    "ovrc.fit(X1, y)\n",
    "predict = ovrc.predict(X1)\n",
    "from sklearn import metrics\n",
    "cm = metrics.confusion_matrix(y, predict)\n",
    "print('Confusion matrix:\\n', cm)\n",
    "print('Accuracy:', metrics.accuracy_score(y, predict))\n"
   ]
  },
  {
   "cell_type": "code",
   "execution_count": 33,
   "id": "00e18ca5",
   "metadata": {},
   "outputs": [
    {
     "name": "stdout",
     "output_type": "stream",
     "text": [
      "Confusion matrix:\n",
      " [[50  0  0]\n",
      " [ 0 46  4]\n",
      " [ 0  0 50]]\n",
      "Accuracy: 0.9733333333333334\n"
     ]
    },
    {
     "name": "stderr",
     "output_type": "stream",
     "text": [
      "C:\\Users\\emmasch\\Anaconda3\\envs\\tf2\\lib\\site-packages\\sklearn\\svm\\_base.py:1199: ConvergenceWarning: Liblinear failed to converge, increase the number of iterations.\n",
      "  warnings.warn(\n",
      "C:\\Users\\emmasch\\Anaconda3\\envs\\tf2\\lib\\site-packages\\sklearn\\svm\\_base.py:1199: ConvergenceWarning: Liblinear failed to converge, increase the number of iterations.\n",
      "  warnings.warn(\n"
     ]
    }
   ],
   "source": [
    "# Using Xr\n",
    "ovrc = OneVsRestClassifier(LinearSVC(random_state=0))\n",
    "ovrc.fit(Xr, y)\n",
    "predict = ovrc.predict(Xr)\n",
    "from sklearn import metrics\n",
    "cm = metrics.confusion_matrix(y, predict)\n",
    "print('Confusion matrix:\\n', cm)\n",
    "print('Accuracy:', metrics.accuracy_score(y, predict))\n"
   ]
  },
  {
   "cell_type": "code",
   "execution_count": 34,
   "id": "ba90cc11",
   "metadata": {},
   "outputs": [],
   "source": [
    "#apply using SciKit Learn"
   ]
  },
  {
   "cell_type": "code",
   "execution_count": 35,
   "id": "4372a765",
   "metadata": {},
   "outputs": [],
   "source": [
    "# Import Libraries\n",
    "import pandas as pd\n",
    "import numpy as np\n",
    "import matplotlib.pyplot as plt\n",
    "import seaborn as sns\n",
    "# Import Dataset\n",
    "from sklearn.datasets import load_breast_cancer\n",
    "cancer = load_breast_cancer()\n"
   ]
  },
  {
   "cell_type": "code",
   "execution_count": 36,
   "id": "fc0d31d3",
   "metadata": {},
   "outputs": [
    {
     "name": "stdout",
     "output_type": "stream",
     "text": [
      ".. _breast_cancer_dataset:\n",
      "\n",
      "Breast cancer wisconsin (diagnostic) dataset\n",
      "--------------------------------------------\n",
      "\n",
      "**Data Set Characteristics:**\n",
      "\n",
      "    :Number of Instances: 569\n",
      "\n",
      "    :Number of Attributes: 30 numeric, predictive attributes and the class\n",
      "\n",
      "    :Attribute Information:\n",
      "        - radius (mean of distances from center to points on the perimeter)\n",
      "        - texture (standard deviation of gray-scale values)\n",
      "        - perimeter\n",
      "        - area\n",
      "        - smoothness (local variation in radius lengths)\n",
      "        - compactness (perimeter^2 / area - 1.0)\n",
      "        - concavity (severity of concave portions of the contour)\n",
      "        - concave points (number of concave portions of the contour)\n",
      "        - symmetry\n",
      "        - fractal dimension (\"coastline approximation\" - 1)\n",
      "\n",
      "        The mean, standard error, and \"worst\" or largest (mean of the three\n",
      "        worst/largest values) of these features were computed for each image,\n",
      "        resulting in 30 features.  For instance, field 0 is Mean Radius, field\n",
      "        10 is Radius SE, field 20 is Worst Radius.\n",
      "\n",
      "        - class:\n",
      "                - WDBC-Malignant\n",
      "                - WDBC-Benign\n",
      "\n",
      "    :Summary Statistics:\n",
      "\n",
      "    ===================================== ====== ======\n",
      "                                           Min    Max\n",
      "    ===================================== ====== ======\n",
      "    radius (mean):                        6.981  28.11\n",
      "    texture (mean):                       9.71   39.28\n",
      "    perimeter (mean):                     43.79  188.5\n",
      "    area (mean):                          143.5  2501.0\n",
      "    smoothness (mean):                    0.053  0.163\n",
      "    compactness (mean):                   0.019  0.345\n",
      "    concavity (mean):                     0.0    0.427\n",
      "    concave points (mean):                0.0    0.201\n",
      "    symmetry (mean):                      0.106  0.304\n",
      "    fractal dimension (mean):             0.05   0.097\n",
      "    radius (standard error):              0.112  2.873\n",
      "    texture (standard error):             0.36   4.885\n",
      "    perimeter (standard error):           0.757  21.98\n",
      "    area (standard error):                6.802  542.2\n",
      "    smoothness (standard error):          0.002  0.031\n",
      "    compactness (standard error):         0.002  0.135\n",
      "    concavity (standard error):           0.0    0.396\n",
      "    concave points (standard error):      0.0    0.053\n",
      "    symmetry (standard error):            0.008  0.079\n",
      "    fractal dimension (standard error):   0.001  0.03\n",
      "    radius (worst):                       7.93   36.04\n",
      "    texture (worst):                      12.02  49.54\n",
      "    perimeter (worst):                    50.41  251.2\n",
      "    area (worst):                         185.2  4254.0\n",
      "    smoothness (worst):                   0.071  0.223\n",
      "    compactness (worst):                  0.027  1.058\n",
      "    concavity (worst):                    0.0    1.252\n",
      "    concave points (worst):               0.0    0.291\n",
      "    symmetry (worst):                     0.156  0.664\n",
      "    fractal dimension (worst):            0.055  0.208\n",
      "    ===================================== ====== ======\n",
      "\n",
      "    :Missing Attribute Values: None\n",
      "\n",
      "    :Class Distribution: 212 - Malignant, 357 - Benign\n",
      "\n",
      "    :Creator:  Dr. William H. Wolberg, W. Nick Street, Olvi L. Mangasarian\n",
      "\n",
      "    :Donor: Nick Street\n",
      "\n",
      "    :Date: November, 1995\n",
      "\n",
      "This is a copy of UCI ML Breast Cancer Wisconsin (Diagnostic) datasets.\n",
      "https://goo.gl/U2Uwz2\n",
      "\n",
      "Features are computed from a digitized image of a fine needle\n",
      "aspirate (FNA) of a breast mass.  They describe\n",
      "characteristics of the cell nuclei present in the image.\n",
      "\n",
      "Separating plane described above was obtained using\n",
      "Multisurface Method-Tree (MSM-T) [K. P. Bennett, \"Decision Tree\n",
      "Construction Via Linear Programming.\" Proceedings of the 4th\n",
      "Midwest Artificial Intelligence and Cognitive Science Society,\n",
      "pp. 97-101, 1992], a classification method which uses linear\n",
      "programming to construct a decision tree.  Relevant features\n",
      "were selected using an exhaustive search in the space of 1-4\n",
      "features and 1-3 separating planes.\n",
      "\n",
      "The actual linear program used to obtain the separating plane\n",
      "in the 3-dimensional space is that described in:\n",
      "[K. P. Bennett and O. L. Mangasarian: \"Robust Linear\n",
      "Programming Discrimination of Two Linearly Inseparable Sets\",\n",
      "Optimization Methods and Software 1, 1992, 23-34].\n",
      "\n",
      "This database is also available through the UW CS ftp server:\n",
      "\n",
      "ftp ftp.cs.wisc.edu\n",
      "cd math-prog/cpo-dataset/machine-learn/WDBC/\n",
      "\n",
      ".. topic:: References\n",
      "\n",
      "   - W.N. Street, W.H. Wolberg and O.L. Mangasarian. Nuclear feature extraction \n",
      "     for breast tumor diagnosis. IS&T/SPIE 1993 International Symposium on \n",
      "     Electronic Imaging: Science and Technology, volume 1905, pages 861-870,\n",
      "     San Jose, CA, 1993.\n",
      "   - O.L. Mangasarian, W.N. Street and W.H. Wolberg. Breast cancer diagnosis and \n",
      "     prognosis via linear programming. Operations Research, 43(4), pages 570-577, \n",
      "     July-August 1995.\n",
      "   - W.H. Wolberg, W.N. Street, and O.L. Mangasarian. Machine learning techniques\n",
      "     to diagnose breast cancer from fine-needle aspirates. Cancer Letters 77 (1994) \n",
      "     163-171.\n"
     ]
    }
   ],
   "source": [
    "# Exploring the dataset\n",
    "cancer.keys()\n",
    "print(cancer['DESCR'])\n"
   ]
  },
  {
   "cell_type": "code",
   "execution_count": 37,
   "id": "a75da646",
   "metadata": {},
   "outputs": [
    {
     "data": {
      "text/plain": [
       "array(['malignant', 'benign'], dtype='<U9')"
      ]
     },
     "execution_count": 37,
     "metadata": {},
     "output_type": "execute_result"
    }
   ],
   "source": [
    "df = pd.DataFrame(cancer['data'], columns=cancer['feature_names'])\n",
    "df.head(2)\n",
    "cancer['target'][0:25]\n",
    "\n",
    "cancer['target_names']\n"
   ]
  },
  {
   "cell_type": "code",
   "execution_count": 38,
   "id": "a4ef7138",
   "metadata": {},
   "outputs": [],
   "source": [
    "# Scale Dataset\n",
    "from sklearn.preprocessing import StandardScaler\n",
    "sc = StandardScaler()\n",
    "sc.fit(df)\n",
    "sc_data = sc.transform(df)\n"
   ]
  },
  {
   "cell_type": "code",
   "execution_count": 42,
   "id": "effebf1d",
   "metadata": {},
   "outputs": [
    {
     "name": "stdout",
     "output_type": "stream",
     "text": [
      "(569, 30) (569, 2)\n"
     ]
    },
    {
     "data": {
      "image/png": "[encoded data removed]",
      "text/plain": [
       "<Figure size 576x432 with 1 Axes>"
      ]
     },
     "metadata": {
      "needs_background": "light"
     },
     "output_type": "display_data"
    }
   ],
   "source": [
    "# Apply PCA\n",
    "from sklearn.decomposition import PCA\n",
    "pca = PCA(n_components=2)\n",
    "pca.fit(sc_data)\n",
    "xpca = pca.transform(sc_data)\n",
    "print(sc_data.shape, xpca.shape)\n",
    "# we have dropped all but 2 dimmensions from 30\n",
    "\n",
    "# Visualize Data\n",
    "plt.figure(figsize=(8,6))\n",
    "plt.scatter(xpca[:,0], xpca[:,1], c=cancer['target'], cmap='plasma')\n",
    "plt.xlabel('PC-1')\n",
    "plt.ylabel('PC-2')\n",
    "plt.show()\n"
   ]
  },
  {
   "cell_type": "code",
   "execution_count": 40,
   "id": "6e3096a8",
   "metadata": {},
   "outputs": [
    {
     "name": "stdout",
     "output_type": "stream",
     "text": [
      "   mean radius  mean texture  mean perimeter  mean area  mean smoothness  \\\n",
      "0     0.218902      0.103725        0.227537   0.220995         0.142590   \n",
      "1    -0.233857     -0.059706       -0.215181  -0.231077         0.186113   \n",
      "\n",
      "   mean compactness  mean concavity  mean concave points  mean symmetry  \\\n",
      "0          0.239285        0.258400             0.260854       0.138167   \n",
      "1          0.151892        0.060165            -0.034768       0.190349   \n",
      "\n",
      "   mean fractal dimension  ...  worst radius  worst texture  worst perimeter  \\\n",
      "0                0.064363  ...      0.227997       0.104469         0.236640   \n",
      "1                0.366575  ...     -0.219866      -0.045467        -0.199878   \n",
      "\n",
      "   worst area  worst smoothness  worst compactness  worst concavity  \\\n",
      "0    0.224871          0.127953           0.210096         0.228768   \n",
      "1   -0.219352          0.172304           0.143593         0.097964   \n",
      "\n",
      "   worst concave points  worst symmetry  worst fractal dimension  \n",
      "0              0.250886        0.122905                 0.131784  \n",
      "1             -0.008257        0.141883                 0.275339  \n",
      "\n",
      "[2 rows x 30 columns]\n"
     ]
    },
    {
     "data": {
      "image/png": "[encoded data removed]",
      "text/plain": [
       "<Figure size 864x432 with 2 Axes>"
      ]
     },
     "metadata": {
      "needs_background": "light"
     },
     "output_type": "display_data"
    }
   ],
   "source": [
    "# Show Eigenvectors\n",
    "df_components = pd.DataFrame(pca.components_,columns=cancer['feature_names'])\n",
    "print(df_components)\n",
    "plt.figure(figsize=(12,6))\n",
    "sns.heatmap(df_components, cmap='plasma')\n",
    "plt.show()\n"
   ]
  },
  {
   "cell_type": "code",
   "execution_count": 43,
   "id": "0753e1da",
   "metadata": {},
   "outputs": [
    {
     "name": "stdout",
     "output_type": "stream",
     "text": [
      "[[207   5]\n",
      " [  2 355]]\n",
      "0.9876977152899824\n"
     ]
    },
    {
     "data": {
      "image/png": "[encoded data removed]",
      "text/plain": [
       "<Figure size 432x288 with 1 Axes>"
      ]
     },
     "metadata": {
      "needs_background": "light"
     },
     "output_type": "display_data"
    }
   ],
   "source": [
    "from sklearn.linear_model import LogisticRegression\n",
    "logisticRegr=LogisticRegression()\n",
    "score_list = []\n",
    "for nc in range(1, sc_data.shape[1]+1):\n",
    "    pca = PCA(n_components = nc)\n",
    "    xpca = pca.fit_transform(sc_data)\n",
    "    logisticRegr.fit(xpca, cancer['target'])\n",
    "    predictions = logisticRegr.predict(xpca)\n",
    "    score = logisticRegr.score(xpca, cancer['target'])\n",
    "    #print('score =', score) ; print(pca.components_.shape)\n",
    "    score_list.append(score)\n",
    "cm = metrics.confusion_matrix(cancer['target'], predictions)\n",
    "print(cm)\n",
    "plt.plot(range(1,len(score_list)+1), score_list)\n",
    "print(score_list[-1])    # 0.9876977152899824\n",
    "# you can retain another 2-5% by utalizing 5 dimmensions\n"
   ]
  },
  {
   "cell_type": "code",
   "execution_count": null,
   "id": "8f59e929",
   "metadata": {},
   "outputs": [],
   "source": []
  }
 ],
 "metadata": {
  "kernelspec": {
   "display_name": "tf2",
   "language": "python",
   "name": "tf2"
  },
  "language_info": {
   "codemirror_mode": {
    "name": "ipython",
    "version": 3
   },
   "file_extension": ".py",
   "mimetype": "text/x-python",
   "name": "python",
   "nbconvert_exporter": "python",
   "pygments_lexer": "ipython3",
   "version": "3.8.12"
  }
 },
 "nbformat": 4,
 "nbformat_minor": 5
}
