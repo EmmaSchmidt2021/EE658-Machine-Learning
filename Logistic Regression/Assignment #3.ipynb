{
 "cells": [
  {
   "cell_type": "markdown",
   "id": "56cbff42",
   "metadata": {},
   "source": [
    "<H1><center>EE 658/758 Machine Learning in Engineering</center></H1>\n",
    "<H2><center>Assignment #3: Logistic Regression</center></H2>\n",
    "<H2><center>Due date: Monday, february 28, 2022</center></H2>"
   ]
  },
  {
   "cell_type": "markdown",
   "id": "d009fe9b",
   "metadata": {},
   "source": [
    "<H3>For this assignment, you are asked to implement the logistic regression algorithm for classifying data. \n",
    "The data is in the file \"adult-dataset.csv\". It was extracted from the census bureau database, found at: \n",
    "    http://www.census.gov/ftp/pub/DES/www/welcome.html\n",
    "<P>\n",
    "The features collected about the adult individuals consists of the list below. For each feature, the possible values\n",
    "that can be assigned are listed along side each feature.\n",
    "</P>\n",
    "\"Income\" is the dependent variable that we will be trying to predict as to whether an individual has an income\n",
    "greater than $50,000 a year or not, based on the features of the individual.\n",
    "<P>\n",
    "\n",
    "We want to use the Scikit-Learn library to classify the data, as ndicated in the cells below.</H3>\n",
    "<P>\n",
    "<H4>\n",
    "The list of features are:<BR>\n",
    "<P>\n",
    " 1- <B>age</B>: continuous<BR>\n",
    " \n",
    "<P>\n",
    " 2- workclass:<BR>\n",
    "\tPrivate<BR>\n",
    "\tSelf-emp-not-inc<BR>\n",
    "\tSelf-emp-inc<BR>\n",
    "\tFederal-gov<BR>\n",
    "\tLocal-gov<BR>\n",
    "\tState-gov<BR>\n",
    "\tWithout-pay<BR>\n",
    "\tNever-worked<BR>\n",
    "    \n",
    "<P>\n",
    " 3- education: <BR>\n",
    "\tBachelors, <BR>\n",
    "\tSome-college, <BR>\n",
    "\t11th, <BR>\n",
    "\tHS-grad, <BR>\n",
    "\tProf-school, <BR>\n",
    "\tAssoc-acdm, <BR>\n",
    "\tAssoc-voc, <BR>\n",
    "\t9th, <BR>\n",
    "\t7th-8th, <BR>\n",
    "\t12th, <BR>\n",
    "\tMasters, <BR>\n",
    "\t1st-4th, <BR>\n",
    "\t10th, <BR>\n",
    "\tDoctorate, <BR>\n",
    "\t5th-6th, <BR>\n",
    "\tPreschool <BR> \n",
    "<P>\n",
    " 4- marital-status: <BR>\n",
    "\tMarried-civ-spouse,<BR>\n",
    "\tDivorced,<BR>\n",
    "\tNever-married,<BR>\n",
    "\tSeparated,<BR>\n",
    "\tWidowed,<BR>\n",
    "\tMarried-spouse-absent,<BR>\n",
    "\tMarried-AF-spouse <BR>\n",
    "<P>\n",
    " 5- occupation: <BR>\n",
    "\tTech-support, <BR>\n",
    "\tCraft-repair, <BR>\n",
    "\tOther-service, <BR>\n",
    "\tSales, <BR>\n",
    "\tExec-managerial, <BR>\n",
    "\tProf-specialty, <BR>\n",
    "\tHandlers-cleaners, <BR>\n",
    "\tMachine-op-inspct, <BR>\n",
    "\tAdm-clerical, <BR>\n",
    "\tFarming-fishing, <BR>\n",
    "\tTransport-moving, <BR>\n",
    "\tPriv-house-serv, <BR>\n",
    "\tProtective-serv, <BR>\n",
    "\tArmed-Forces<BR>\n",
    " <P>\n",
    " 6- race: <BR>\n",
    "\tWhite, <BR>\n",
    "\tAsian-Pac-Islander, <BR>\n",
    "\tAmer-Indian-Eskimo, <BR>\n",
    "\tBlack, <BR>\n",
    "\tOther <BR>\n",
    " <P>\n",
    " 7- sex: <BR>\n",
    "\tFemale, <BR>\n",
    "\tMale <BR>\n",
    "    <P>\n",
    " 8- hours-per-week: continuous<BR>\n",
    " <P>\n",
    " 9- native-country: <BR>\n",
    "\tUnited-States,<BR>\n",
    "\tCambodia,<BR>\n",
    "\tEngland,<BR>\n",
    "\tPuerto-Rico,<BR>\n",
    "\tCanada,<BR>\n",
    "\tGermany,<BR>\n",
    "\tOutlying-US(Guam-USVI-etc),<BR>\n",
    "\tIndia,<BR>\n",
    "\tJapan,<BR>\n",
    "\tGreece,<BR>\n",
    "\tSouth,<BR>\n",
    "\tChina,<BR>\n",
    "\tCuba,<BR>\n",
    "\tIran,<BR>\n",
    "\tHonduras,<BR>\n",
    "\tPhilippines,<BR>\n",
    "\tItaly,<BR>\n",
    "\tPoland,<BR>\n",
    "\tJamaica,<BR>\n",
    "\tVietnam,<BR>\n",
    "\tMexico,<BR>\n",
    "\tPortugal,<BR>\n",
    "\tIreland,<BR>\n",
    "\tFrance,<BR>\n",
    "\tDominican-Republic,<BR>\n",
    "\tLaos,<BR>\n",
    "\tEcuador,<BR>\n",
    "\tTaiwan,<BR>\n",
    "\tHaiti,<BR>\n",
    "\tColumbia,<BR>\n",
    "\tHungary,<BR>\n",
    "\tGuatemala,<BR>\n",
    "\tNicaragua,<BR>\n",
    "\tScotland,<BR>\n",
    "\tThailand,<BR>\n",
    "\tYugoslavia,<BR>\n",
    "\tEl-Salvador,<BR>\n",
    "\tTrinadad&Tobago,<BR>\n",
    "\tPeru,<BR>\n",
    "\tHong,<BR>\n",
    "\tHoland-Netherlands<BR>\n",
    " <P>\n",
    " 10- Income:<BR>\n",
    "\t<=50K,<BR>\n",
    "\t>50K <BR>\n",
    " <P>"
   ]
  },
  {
   "cell_type": "markdown",
   "id": "5dba2700",
   "metadata": {},
   "source": [
    "### 1. Import Libraries"
   ]
  },
  {
   "cell_type": "code",
   "execution_count": 2,
   "id": "a0a9cd13",
   "metadata": {},
   "outputs": [],
   "source": [
    "import numpy as np\n",
    "import matplotlib.pyplot as plt\n",
    "import sklearn"
   ]
  },
  {
   "cell_type": "markdown",
   "id": "143bb8bc",
   "metadata": {},
   "source": [
    "### 2. Read data from the CSV file"
   ]
  },
  {
   "cell_type": "markdown",
   "id": "2cbe7921",
   "metadata": {},
   "source": [
    "### 3. Explore the data"
   ]
  },
  {
   "cell_type": "markdown",
   "id": "47273ca9",
   "metadata": {},
   "source": [
    "### 4. print out the unique (distinct) values for each of the attributes  "
   ]
  },
  {
   "cell_type": "markdown",
   "id": "ab3d6d34",
   "metadata": {},
   "source": [
    "### 5. Replace the attributes with categorical values by columns (one per value) "
   ]
  },
  {
   "cell_type": "markdown",
   "id": "ba9a2a5c",
   "metadata": {},
   "source": [
    "### 6. Define your X and y Dataframes"
   ]
  },
  {
   "cell_type": "markdown",
   "id": "1d281b15",
   "metadata": {},
   "source": [
    "### 7. Normalize the data"
   ]
  },
  {
   "cell_type": "markdown",
   "id": "4fed8ebb",
   "metadata": {},
   "source": [
    "### 8. Split the data into testing and training subsets"
   ]
  },
  {
   "cell_type": "markdown",
   "id": "fffb5309",
   "metadata": {},
   "source": [
    "### 9. Train a One-Versus-One logistic regression model on the normalized training data"
   ]
  },
  {
   "cell_type": "markdown",
   "id": "2481e170",
   "metadata": {},
   "source": [
    "### 10. Compute the Confusion Matrix, using the One-Versus-One model and the testing data set"
   ]
  },
  {
   "cell_type": "markdown",
   "id": "15a955f9",
   "metadata": {},
   "source": [
    "### 11. Train a One-Vs-Rest logistic regression model on the normalized training data"
   ]
  },
  {
   "cell_type": "markdown",
   "id": "94d10d6e",
   "metadata": {},
   "source": [
    "### 12. Compute the Confusion Matrix, using then One-Vs-Rest model and the testing data set"
   ]
  },
  {
   "cell_type": "markdown",
   "id": "b01d6d42",
   "metadata": {},
   "source": [
    "### 13. Compare the results of the One-Versus-One and One-Vs-Rest models"
   ]
  },
  {
   "cell_type": "markdown",
   "id": "048bb9c7",
   "metadata": {},
   "source": [
    "### 14. Compute the following metrics for the One-Vs-Rest model:\n",
    "- Accuracy\n",
    "- Error\n",
    "- Sensitivity\n",
    "- False Positive\n",
    "- Specificity\n",
    "- Precision\n",
    "- Prevalence\n",
    "- F1 Score"
   ]
  },
  {
   "cell_type": "markdown",
   "id": "bab816fc",
   "metadata": {},
   "source": [
    "### 15. Make up 2 instances of input data.Use both models to predict the classification of each data"
   ]
  },
  {
   "cell_type": "markdown",
   "id": "6b3684ea",
   "metadata": {},
   "source": [
    "## END"
   ]
  }
 ],
 "metadata": {
  "kernelspec": {
   "display_name": "Python 3 (ipykernel)",
   "language": "python",
   "name": "python3"
  },
  "language_info": {
   "codemirror_mode": {
    "name": "ipython",
    "version": 3
   },
   "file_extension": ".py",
   "mimetype": "text/x-python",
   "name": "python",
   "nbconvert_exporter": "python",
   "pygments_lexer": "ipython3",
   "version": "3.9.7"
  }
 },
 "nbformat": 4,
 "nbformat_minor": 5
}
