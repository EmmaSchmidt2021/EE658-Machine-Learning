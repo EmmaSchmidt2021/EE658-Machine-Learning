{
 "cells": [
  {
   "cell_type": "markdown",
   "id": "56cbff42",
   "metadata": {},
   "source": [
    "<H1><center>EE 658/758 Machine Learning in Engineering</center></H1>\n",
    "<H2><center>Assignment #3: Logistic Regression</center></H2>\n",
    "<H2><center>Due date: Monday, february 28, 2022</center></H2>"
   ]
  },
  {
   "cell_type": "markdown",
   "id": "d009fe9b",
   "metadata": {},
   "source": [
    "<H3>For this assignment, you are asked to implement the logistic regression algorithm for classifying data. \n",
    "The data is in the file \"adult-dataset.csv\". It was extracted from the census bureau database, found at: \n",
    "    http://www.census.gov/ftp/pub/DES/www/welcome.html\n",
    "<P>\n",
    "The features collected about the adult individuals consists of the list below. For each feature, the possible values\n",
    "that can be assigned are listed along side each feature.\n",
    "</P>\n",
    "\"Income\" is the dependent variable that we will be trying to predict as to whether an individual has an income\n",
    "greater than $50,000 a year or not, based on the features of the individual.\n",
    "<P>\n",
    "\n",
    "We want to use the Scikit-Learn library to classify the data, as ndicated in the cells below.</H3>\n",
    "<P>\n",
    "<H4>\n",
    "The list of features are:<BR>\n",
    "<P>\n",
    " 1- <B>age</B>: continuous<BR>\n",
    " \n",
    "<P>\n",
    " 2- workclass:<BR>\n",
    "\tPrivate<BR>\n",
    "\tSelf-emp-not-inc<BR>\n",
    "\tSelf-emp-inc<BR>\n",
    "\tFederal-gov<BR>\n",
    "\tLocal-gov<BR>\n",
    "\tState-gov<BR>\n",
    "\tWithout-pay<BR>\n",
    "\tNever-worked<BR>\n",
    "    \n",
    "<P>\n",
    " 3- education: <BR>\n",
    "\tBachelors, <BR>\n",
    "\tSome-college, <BR>\n",
    "\t11th, <BR>\n",
    "\tHS-grad, <BR>\n",
    "\tProf-school, <BR>\n",
    "\tAssoc-acdm, <BR>\n",
    "\tAssoc-voc, <BR>\n",
    "\t9th, <BR>\n",
    "\t7th-8th, <BR>\n",
    "\t12th, <BR>\n",
    "\tMasters, <BR>\n",
    "\t1st-4th, <BR>\n",
    "\t10th, <BR>\n",
    "\tDoctorate, <BR>\n",
    "\t5th-6th, <BR>\n",
    "\tPreschool <BR> \n",
    "<P>\n",
    " 4- marital-status: <BR>\n",
    "\tMarried-civ-spouse,<BR>\n",
    "\tDivorced,<BR>\n",
    "\tNever-married,<BR>\n",
    "\tSeparated,<BR>\n",
    "\tWidowed,<BR>\n",
    "\tMarried-spouse-absent,<BR>\n",
    "\tMarried-AF-spouse <BR>\n",
    "<P>\n",
    " 5- occupation: <BR>\n",
    "\tTech-support, <BR>\n",
    "\tCraft-repair, <BR>\n",
    "\tOther-service, <BR>\n",
    "\tSales, <BR>\n",
    "\tExec-managerial, <BR>\n",
    "\tProf-specialty, <BR>\n",
    "\tHandlers-cleaners, <BR>\n",
    "\tMachine-op-inspct, <BR>\n",
    "\tAdm-clerical, <BR>\n",
    "\tFarming-fishing, <BR>\n",
    "\tTransport-moving, <BR>\n",
    "\tPriv-house-serv, <BR>\n",
    "\tProtective-serv, <BR>\n",
    "\tArmed-Forces<BR>\n",
    " <P>\n",
    " 6- race: <BR>\n",
    "\tWhite, <BR>\n",
    "\tAsian-Pac-Islander, <BR>\n",
    "\tAmer-Indian-Eskimo, <BR>\n",
    "\tBlack, <BR>\n",
    "\tOther <BR>\n",
    " <P>\n",
    " 7- sex: <BR>\n",
    "\tFemale, <BR>\n",
    "\tMale <BR>\n",
    "    <P>\n",
    " 8- hours-per-week: continuous<BR>\n",
    " <P>\n",
    " 9- native-country: <BR>\n",
    "\tUnited-States,<BR>\n",
    "\tCambodia,<BR>\n",
    "\tEngland,<BR>\n",
    "\tPuerto-Rico,<BR>\n",
    "\tCanada,<BR>\n",
    "\tGermany,<BR>\n",
    "\tOutlying-US(Guam-USVI-etc),<BR>\n",
    "\tIndia,<BR>\n",
    "\tJapan,<BR>\n",
    "\tGreece,<BR>\n",
    "\tSouth,<BR>\n",
    "\tChina,<BR>\n",
    "\tCuba,<BR>\n",
    "\tIran,<BR>\n",
    "\tHonduras,<BR>\n",
    "\tPhilippines,<BR>\n",
    "\tItaly,<BR>\n",
    "\tPoland,<BR>\n",
    "\tJamaica,<BR>\n",
    "\tVietnam,<BR>\n",
    "\tMexico,<BR>\n",
    "\tPortugal,<BR>\n",
    "\tIreland,<BR>\n",
    "\tFrance,<BR>\n",
    "\tDominican-Republic,<BR>\n",
    "\tLaos,<BR>\n",
    "\tEcuador,<BR>\n",
    "\tTaiwan,<BR>\n",
    "\tHaiti,<BR>\n",
    "\tColumbia,<BR>\n",
    "\tHungary,<BR>\n",
    "\tGuatemala,<BR>\n",
    "\tNicaragua,<BR>\n",
    "\tScotland,<BR>\n",
    "\tThailand,<BR>\n",
    "\tYugoslavia,<BR>\n",
    "\tEl-Salvador,<BR>\n",
    "\tTrinadad&Tobago,<BR>\n",
    "\tPeru,<BR>\n",
    "\tHong,<BR>\n",
    "\tHoland-Netherlands<BR>\n",
    " <P>\n",
    " 10- Income:<BR>\n",
    "\t<=50K,<BR>\n",
    "\t>50K <BR>\n",
    " <P>"
   ]
  },
  {
   "cell_type": "markdown",
   "id": "5dba2700",
   "metadata": {},
   "source": [
    "### 1. Import Libraries"
   ]
  },
  {
   "cell_type": "code",
   "execution_count": 181,
   "id": "a0a9cd13",
   "metadata": {},
   "outputs": [],
   "source": [
    "import numpy as np\n",
    "import pandas as pd\n",
    "import matplotlib.pyplot as plt\n",
    "import sklearn"
   ]
  },
  {
   "cell_type": "markdown",
   "id": "143bb8bc",
   "metadata": {},
   "source": [
    "### 2. Read data from the CSV file"
   ]
  },
  {
   "cell_type": "code",
   "execution_count": 182,
   "id": "0485a9a9",
   "metadata": {},
   "outputs": [],
   "source": [
    "data_path = r\"C:\\Users\\schmi\\EE658\\EE658-Machine-Learning\\Logistic Regression\\adult-dataset.csv\"\n",
    "df= pd.read_csv(data_path)"
   ]
  },
  {
   "cell_type": "markdown",
   "id": "2cbe7921",
   "metadata": {},
   "source": [
    "### 3. Explore the data"
   ]
  },
  {
   "cell_type": "code",
   "execution_count": 183,
   "id": "69a4341e",
   "metadata": {},
   "outputs": [
    {
     "data": {
      "text/html": [
       "<div>\n",
       "<style scoped>\n",
       "    .dataframe tbody tr th:only-of-type {\n",
       "        vertical-align: middle;\n",
       "    }\n",
       "\n",
       "    .dataframe tbody tr th {\n",
       "        vertical-align: top;\n",
       "    }\n",
       "\n",
       "    .dataframe thead th {\n",
       "        text-align: right;\n",
       "    }\n",
       "</style>\n",
       "<table border=\"1\" class=\"dataframe\">\n",
       "  <thead>\n",
       "    <tr style=\"text-align: right;\">\n",
       "      <th></th>\n",
       "      <th>age</th>\n",
       "      <th>workClass</th>\n",
       "      <th>Education</th>\n",
       "      <th>marital-status</th>\n",
       "      <th>occupation</th>\n",
       "      <th>race</th>\n",
       "      <th>sex</th>\n",
       "      <th>hours-per-week</th>\n",
       "      <th>Native Country</th>\n",
       "      <th>Income</th>\n",
       "    </tr>\n",
       "  </thead>\n",
       "  <tbody>\n",
       "    <tr>\n",
       "      <th>0</th>\n",
       "      <td>25</td>\n",
       "      <td>Private</td>\n",
       "      <td>11th</td>\n",
       "      <td>Never-married</td>\n",
       "      <td>Machine-op-inspct</td>\n",
       "      <td>Black</td>\n",
       "      <td>Male</td>\n",
       "      <td>40</td>\n",
       "      <td>United-States</td>\n",
       "      <td>&lt;=50K.</td>\n",
       "    </tr>\n",
       "    <tr>\n",
       "      <th>1</th>\n",
       "      <td>38</td>\n",
       "      <td>Private</td>\n",
       "      <td>HS-grad</td>\n",
       "      <td>Married-civ-spouse</td>\n",
       "      <td>Farming-fishing</td>\n",
       "      <td>White</td>\n",
       "      <td>Male</td>\n",
       "      <td>50</td>\n",
       "      <td>United-States</td>\n",
       "      <td>&lt;=50K.</td>\n",
       "    </tr>\n",
       "    <tr>\n",
       "      <th>2</th>\n",
       "      <td>28</td>\n",
       "      <td>Local-gov</td>\n",
       "      <td>Assoc-acdm</td>\n",
       "      <td>Married-civ-spouse</td>\n",
       "      <td>Protective-serv</td>\n",
       "      <td>White</td>\n",
       "      <td>Male</td>\n",
       "      <td>40</td>\n",
       "      <td>United-States</td>\n",
       "      <td>&gt;50K.</td>\n",
       "    </tr>\n",
       "    <tr>\n",
       "      <th>3</th>\n",
       "      <td>44</td>\n",
       "      <td>Private</td>\n",
       "      <td>Some-college</td>\n",
       "      <td>Married-civ-spouse</td>\n",
       "      <td>Machine-op-inspct</td>\n",
       "      <td>Black</td>\n",
       "      <td>Male</td>\n",
       "      <td>40</td>\n",
       "      <td>United-States</td>\n",
       "      <td>&gt;50K.</td>\n",
       "    </tr>\n",
       "    <tr>\n",
       "      <th>4</th>\n",
       "      <td>34</td>\n",
       "      <td>Private</td>\n",
       "      <td>10th</td>\n",
       "      <td>Never-married</td>\n",
       "      <td>Other-service</td>\n",
       "      <td>White</td>\n",
       "      <td>Male</td>\n",
       "      <td>30</td>\n",
       "      <td>United-States</td>\n",
       "      <td>&lt;=50K.</td>\n",
       "    </tr>\n",
       "  </tbody>\n",
       "</table>\n",
       "</div>"
      ],
      "text/plain": [
       "   age   workClass      Education       marital-status          occupation  \\\n",
       "0   25     Private           11th        Never-married   Machine-op-inspct   \n",
       "1   38     Private        HS-grad   Married-civ-spouse     Farming-fishing   \n",
       "2   28   Local-gov     Assoc-acdm   Married-civ-spouse     Protective-serv   \n",
       "3   44     Private   Some-college   Married-civ-spouse   Machine-op-inspct   \n",
       "4   34     Private           10th        Never-married       Other-service   \n",
       "\n",
       "     race    sex  hours-per-week  Native Country   Income  \n",
       "0   Black   Male              40   United-States   <=50K.  \n",
       "1   White   Male              50   United-States   <=50K.  \n",
       "2   White   Male              40   United-States    >50K.  \n",
       "3   Black   Male              40   United-States    >50K.  \n",
       "4   White   Male              30   United-States   <=50K.  "
      ]
     },
     "execution_count": 183,
     "metadata": {},
     "output_type": "execute_result"
    }
   ],
   "source": [
    "df.head()\n",
    "#print(df.head(1).shape)"
   ]
  },
  {
   "cell_type": "markdown",
   "id": "47273ca9",
   "metadata": {},
   "source": [
    "### 4. print out the unique (distinct) values for each of the attributes  "
   ]
  },
  {
   "cell_type": "code",
   "execution_count": 184,
   "id": "b30c6e28",
   "metadata": {},
   "outputs": [
    {
     "name": "stdout",
     "output_type": "stream",
     "text": [
      "<class 'pandas.core.frame.DataFrame'>\n",
      "RangeIndex: 15060 entries, 0 to 15059\n",
      "Data columns (total 10 columns):\n",
      " #   Column          Non-Null Count  Dtype \n",
      "---  ------          --------------  ----- \n",
      " 0   age             15060 non-null  int64 \n",
      " 1   workClass       15060 non-null  object\n",
      " 2   Education       15060 non-null  object\n",
      " 3   marital-status  15060 non-null  object\n",
      " 4   occupation      15060 non-null  object\n",
      " 5   race            15060 non-null  object\n",
      " 6   sex             15060 non-null  object\n",
      " 7   hours-per-week  15060 non-null  int64 \n",
      " 8   Native Country  15060 non-null  object\n",
      " 9   Income          15060 non-null  object\n",
      "dtypes: int64(2), object(8)\n",
      "memory usage: 1.1+ MB\n",
      "['workClass', 'Education', 'marital-status', 'occupation', 'race', 'sex', 'Native Country', 'Income']\n"
     ]
    }
   ],
   "source": [
    "#print out some info to learn about the column information\n",
    "df.info()\n",
    "objectColumns = df.dtypes[df.dtypes == object]\n",
    "text_to_num = list(objectColumns.index)\n",
    "print(text_to_num)"
   ]
  },
  {
   "cell_type": "code",
   "execution_count": 185,
   "id": "a23399fd",
   "metadata": {},
   "outputs": [
    {
     "name": "stdout",
     "output_type": "stream",
     "text": [
      "[' 11th' ' HS-grad' ' Assoc-acdm' ' Some-college' ' 10th' ' Prof-school'\n",
      " ' 7th-8th' ' Bachelors' ' Masters' ' 5th-6th' ' Assoc-voc' ' 9th'\n",
      " ' Doctorate' ' 12th' ' 1st-4th' ' Preschool']\n",
      "marital-status\n",
      "0              Never-married\n",
      "1         Married-civ-spouse\n",
      "2         Married-civ-spouse\n",
      "3         Married-civ-spouse\n",
      "4              Never-married\n",
      "                ...         \n",
      "15055          Never-married\n",
      "15056               Divorced\n",
      "15057     Married-civ-spouse\n",
      "15058               Divorced\n",
      "15059     Married-civ-spouse\n",
      "Name: marital-status, Length: 15060, dtype: object\n"
     ]
    }
   ],
   "source": [
    "#play around with the notes from class\n",
    "df['Education'].nunique()\n",
    "print(df['Education'].unique())\n",
    "\n",
    "sample = text_to_num[2]\n",
    "print(sample)\n",
    "print(df[sample])"
   ]
  },
  {
   "cell_type": "code",
   "execution_count": 186,
   "id": "fb030492",
   "metadata": {},
   "outputs": [
    {
     "name": "stdout",
     "output_type": "stream",
     "text": [
      "\n",
      "there are 7 different types in the column workClass:\n",
      "\n",
      "[' Private' ' Local-gov' ' Self-emp-not-inc' ' Federal-gov' ' State-gov'\n",
      " ' Self-emp-inc' ' Without-pay']\n",
      "\n",
      "there are 16 different types in the column Education:\n",
      "\n",
      "[' 11th' ' HS-grad' ' Assoc-acdm' ' Some-college' ' 10th' ' Prof-school'\n",
      " ' 7th-8th' ' Bachelors' ' Masters' ' 5th-6th' ' Assoc-voc' ' 9th'\n",
      " ' Doctorate' ' 12th' ' 1st-4th' ' Preschool']\n",
      "\n",
      "there are 7 different types in the column marital-status:\n",
      "\n",
      "[' Never-married' ' Married-civ-spouse' ' Widowed' ' Separated'\n",
      " ' Divorced' ' Married-spouse-absent' ' Married-AF-spouse']\n",
      "\n",
      "there are 14 different types in the column occupation:\n",
      "\n",
      "[' Machine-op-inspct' ' Farming-fishing' ' Protective-serv'\n",
      " ' Other-service' ' Prof-specialty' ' Craft-repair' ' Adm-clerical'\n",
      " ' Exec-managerial' ' Tech-support' ' Sales' ' Priv-house-serv'\n",
      " ' Transport-moving' ' Handlers-cleaners' ' Armed-Forces']\n",
      "\n",
      "there are 5 different types in the column race:\n",
      "\n",
      "[' Black' ' White' ' Other' ' Amer-Indian-Eskimo' ' Asian-Pac-Islander']\n",
      "\n",
      "there are 2 different types in the column sex:\n",
      "\n",
      "[' Male' ' Female']\n",
      "\n",
      "there are 40 different types in the column Native Country:\n",
      "\n",
      "[' United-States' ' Peru' ' Guatemala' ' Mexico' ' Dominican-Republic'\n",
      " ' Ireland' ' Germany' ' Philippines' ' Thailand' ' Haiti' ' El-Salvador'\n",
      " ' Puerto-Rico' ' Vietnam' ' South' ' Columbia' ' Japan' ' India'\n",
      " ' Cambodia' ' Poland' ' Laos' ' England' ' Cuba' ' Taiwan' ' Italy'\n",
      " ' Canada' ' Portugal' ' China' ' Nicaragua' ' Honduras' ' Iran'\n",
      " ' Scotland' ' Jamaica' ' Ecuador' ' Yugoslavia' ' Hungary' ' Hong'\n",
      " ' Greece' ' Trinadad&Tobago' ' Outlying-US(Guam-USVI-etc)' ' France']\n",
      "\n",
      "there are 2 different types in the column Income:\n",
      "\n",
      "[' <=50K.' ' >50K.']\n"
     ]
    }
   ],
   "source": [
    "for i in range(len(text_to_num)):\n",
    "    col_name = text_to_num[i]\n",
    "    print(\"\\nthere are \" + str(df[col_name].nunique()) +\" different types in the column \"+ col_name +\":\\n\")\n",
    "    print(df[col_name].unique())"
   ]
  },
  {
   "cell_type": "markdown",
   "id": "ab3d6d34",
   "metadata": {},
   "source": [
    "### 5. Replace the attributes with categorical values by columns (one per value) "
   ]
  },
  {
   "cell_type": "code",
   "execution_count": 187,
   "id": "1b1c6c34",
   "metadata": {},
   "outputs": [
    {
     "name": "stdout",
     "output_type": "stream",
     "text": [
      "   age  hours-per-week  workClass_ Federal-gov  workClass_ Local-gov  \\\n",
      "0   25              40                       0                     0   \n",
      "1   38              50                       0                     0   \n",
      "2   28              40                       0                     1   \n",
      "3   44              40                       0                     0   \n",
      "4   34              30                       0                     0   \n",
      "\n",
      "   workClass_ Private  workClass_ Self-emp-inc  workClass_ Self-emp-not-inc  \\\n",
      "0                   1                        0                            0   \n",
      "1                   1                        0                            0   \n",
      "2                   0                        0                            0   \n",
      "3                   1                        0                            0   \n",
      "4                   1                        0                            0   \n",
      "\n",
      "   workClass_ State-gov  workClass_ Without-pay  Education_ 10th  ...  \\\n",
      "0                     0                       0                0  ...   \n",
      "1                     0                       0                0  ...   \n",
      "2                     0                       0                0  ...   \n",
      "3                     0                       0                0  ...   \n",
      "4                     0                       0                1  ...   \n",
      "\n",
      "   Native Country_ Scotland  Native Country_ South  Native Country_ Taiwan  \\\n",
      "0                         0                      0                       0   \n",
      "1                         0                      0                       0   \n",
      "2                         0                      0                       0   \n",
      "3                         0                      0                       0   \n",
      "4                         0                      0                       0   \n",
      "\n",
      "   Native Country_ Thailand  Native Country_ Trinadad&Tobago  \\\n",
      "0                         0                                0   \n",
      "1                         0                                0   \n",
      "2                         0                                0   \n",
      "3                         0                                0   \n",
      "4                         0                                0   \n",
      "\n",
      "   Native Country_ United-States  Native Country_ Vietnam  \\\n",
      "0                              1                        0   \n",
      "1                              1                        0   \n",
      "2                              1                        0   \n",
      "3                              1                        0   \n",
      "4                              1                        0   \n",
      "\n",
      "   Native Country_ Yugoslavia  Income_ <=50K.  Income_ >50K.  \n",
      "0                           0               1              0  \n",
      "1                           0               1              0  \n",
      "2                           0               0              1  \n",
      "3                           0               0              1  \n",
      "4                           0               1              0  \n",
      "\n",
      "[5 rows x 95 columns]\n",
      "(1, 95)\n"
     ]
    }
   ],
   "source": [
    "New_df = pd.get_dummies(df,columns=text_to_num)\n",
    "print(New_df.head())\n",
    "print(New_df.head(1).shape)"
   ]
  },
  {
   "cell_type": "markdown",
   "id": "ba9a2a5c",
   "metadata": {},
   "source": [
    "### 6. Define your X and y Dataframes"
   ]
  },
  {
   "cell_type": "code",
   "execution_count": 197,
   "id": "1e514a58",
   "metadata": {},
   "outputs": [
    {
     "data": {
      "text/html": [
       "<div>\n",
       "<style scoped>\n",
       "    .dataframe tbody tr th:only-of-type {\n",
       "        vertical-align: middle;\n",
       "    }\n",
       "\n",
       "    .dataframe tbody tr th {\n",
       "        vertical-align: top;\n",
       "    }\n",
       "\n",
       "    .dataframe thead th {\n",
       "        text-align: right;\n",
       "    }\n",
       "</style>\n",
       "<table border=\"1\" class=\"dataframe\">\n",
       "  <thead>\n",
       "    <tr style=\"text-align: right;\">\n",
       "      <th></th>\n",
       "      <th>age</th>\n",
       "      <th>hours-per-week</th>\n",
       "      <th>workClass_ Federal-gov</th>\n",
       "      <th>workClass_ Local-gov</th>\n",
       "      <th>workClass_ Private</th>\n",
       "      <th>workClass_ Self-emp-inc</th>\n",
       "      <th>workClass_ Self-emp-not-inc</th>\n",
       "      <th>workClass_ State-gov</th>\n",
       "      <th>workClass_ Without-pay</th>\n",
       "      <th>Education_ 10th</th>\n",
       "      <th>...</th>\n",
       "      <th>Native Country_ Portugal</th>\n",
       "      <th>Native Country_ Puerto-Rico</th>\n",
       "      <th>Native Country_ Scotland</th>\n",
       "      <th>Native Country_ South</th>\n",
       "      <th>Native Country_ Taiwan</th>\n",
       "      <th>Native Country_ Thailand</th>\n",
       "      <th>Native Country_ Trinadad&amp;Tobago</th>\n",
       "      <th>Native Country_ United-States</th>\n",
       "      <th>Native Country_ Vietnam</th>\n",
       "      <th>Native Country_ Yugoslavia</th>\n",
       "    </tr>\n",
       "  </thead>\n",
       "  <tbody>\n",
       "    <tr>\n",
       "      <th>0</th>\n",
       "      <td>25</td>\n",
       "      <td>40</td>\n",
       "      <td>0</td>\n",
       "      <td>0</td>\n",
       "      <td>1</td>\n",
       "      <td>0</td>\n",
       "      <td>0</td>\n",
       "      <td>0</td>\n",
       "      <td>0</td>\n",
       "      <td>0</td>\n",
       "      <td>...</td>\n",
       "      <td>0</td>\n",
       "      <td>0</td>\n",
       "      <td>0</td>\n",
       "      <td>0</td>\n",
       "      <td>0</td>\n",
       "      <td>0</td>\n",
       "      <td>0</td>\n",
       "      <td>1</td>\n",
       "      <td>0</td>\n",
       "      <td>0</td>\n",
       "    </tr>\n",
       "    <tr>\n",
       "      <th>1</th>\n",
       "      <td>38</td>\n",
       "      <td>50</td>\n",
       "      <td>0</td>\n",
       "      <td>0</td>\n",
       "      <td>1</td>\n",
       "      <td>0</td>\n",
       "      <td>0</td>\n",
       "      <td>0</td>\n",
       "      <td>0</td>\n",
       "      <td>0</td>\n",
       "      <td>...</td>\n",
       "      <td>0</td>\n",
       "      <td>0</td>\n",
       "      <td>0</td>\n",
       "      <td>0</td>\n",
       "      <td>0</td>\n",
       "      <td>0</td>\n",
       "      <td>0</td>\n",
       "      <td>1</td>\n",
       "      <td>0</td>\n",
       "      <td>0</td>\n",
       "    </tr>\n",
       "    <tr>\n",
       "      <th>2</th>\n",
       "      <td>28</td>\n",
       "      <td>40</td>\n",
       "      <td>0</td>\n",
       "      <td>1</td>\n",
       "      <td>0</td>\n",
       "      <td>0</td>\n",
       "      <td>0</td>\n",
       "      <td>0</td>\n",
       "      <td>0</td>\n",
       "      <td>0</td>\n",
       "      <td>...</td>\n",
       "      <td>0</td>\n",
       "      <td>0</td>\n",
       "      <td>0</td>\n",
       "      <td>0</td>\n",
       "      <td>0</td>\n",
       "      <td>0</td>\n",
       "      <td>0</td>\n",
       "      <td>1</td>\n",
       "      <td>0</td>\n",
       "      <td>0</td>\n",
       "    </tr>\n",
       "    <tr>\n",
       "      <th>3</th>\n",
       "      <td>44</td>\n",
       "      <td>40</td>\n",
       "      <td>0</td>\n",
       "      <td>0</td>\n",
       "      <td>1</td>\n",
       "      <td>0</td>\n",
       "      <td>0</td>\n",
       "      <td>0</td>\n",
       "      <td>0</td>\n",
       "      <td>0</td>\n",
       "      <td>...</td>\n",
       "      <td>0</td>\n",
       "      <td>0</td>\n",
       "      <td>0</td>\n",
       "      <td>0</td>\n",
       "      <td>0</td>\n",
       "      <td>0</td>\n",
       "      <td>0</td>\n",
       "      <td>1</td>\n",
       "      <td>0</td>\n",
       "      <td>0</td>\n",
       "    </tr>\n",
       "    <tr>\n",
       "      <th>4</th>\n",
       "      <td>34</td>\n",
       "      <td>30</td>\n",
       "      <td>0</td>\n",
       "      <td>0</td>\n",
       "      <td>1</td>\n",
       "      <td>0</td>\n",
       "      <td>0</td>\n",
       "      <td>0</td>\n",
       "      <td>0</td>\n",
       "      <td>1</td>\n",
       "      <td>...</td>\n",
       "      <td>0</td>\n",
       "      <td>0</td>\n",
       "      <td>0</td>\n",
       "      <td>0</td>\n",
       "      <td>0</td>\n",
       "      <td>0</td>\n",
       "      <td>0</td>\n",
       "      <td>1</td>\n",
       "      <td>0</td>\n",
       "      <td>0</td>\n",
       "    </tr>\n",
       "  </tbody>\n",
       "</table>\n",
       "<p>5 rows × 93 columns</p>\n",
       "</div>"
      ],
      "text/plain": [
       "   age  hours-per-week  workClass_ Federal-gov  workClass_ Local-gov  \\\n",
       "0   25              40                       0                     0   \n",
       "1   38              50                       0                     0   \n",
       "2   28              40                       0                     1   \n",
       "3   44              40                       0                     0   \n",
       "4   34              30                       0                     0   \n",
       "\n",
       "   workClass_ Private  workClass_ Self-emp-inc  workClass_ Self-emp-not-inc  \\\n",
       "0                   1                        0                            0   \n",
       "1                   1                        0                            0   \n",
       "2                   0                        0                            0   \n",
       "3                   1                        0                            0   \n",
       "4                   1                        0                            0   \n",
       "\n",
       "   workClass_ State-gov  workClass_ Without-pay  Education_ 10th  ...  \\\n",
       "0                     0                       0                0  ...   \n",
       "1                     0                       0                0  ...   \n",
       "2                     0                       0                0  ...   \n",
       "3                     0                       0                0  ...   \n",
       "4                     0                       0                1  ...   \n",
       "\n",
       "   Native Country_ Portugal  Native Country_ Puerto-Rico  \\\n",
       "0                         0                            0   \n",
       "1                         0                            0   \n",
       "2                         0                            0   \n",
       "3                         0                            0   \n",
       "4                         0                            0   \n",
       "\n",
       "   Native Country_ Scotland  Native Country_ South  Native Country_ Taiwan  \\\n",
       "0                         0                      0                       0   \n",
       "1                         0                      0                       0   \n",
       "2                         0                      0                       0   \n",
       "3                         0                      0                       0   \n",
       "4                         0                      0                       0   \n",
       "\n",
       "   Native Country_ Thailand  Native Country_ Trinadad&Tobago  \\\n",
       "0                         0                                0   \n",
       "1                         0                                0   \n",
       "2                         0                                0   \n",
       "3                         0                                0   \n",
       "4                         0                                0   \n",
       "\n",
       "   Native Country_ United-States  Native Country_ Vietnam  \\\n",
       "0                              1                        0   \n",
       "1                              1                        0   \n",
       "2                              1                        0   \n",
       "3                              1                        0   \n",
       "4                              1                        0   \n",
       "\n",
       "   Native Country_ Yugoslavia  \n",
       "0                           0  \n",
       "1                           0  \n",
       "2                           0  \n",
       "3                           0  \n",
       "4                           0  \n",
       "\n",
       "[5 rows x 93 columns]"
      ]
     },
     "execution_count": 197,
     "metadata": {},
     "output_type": "execute_result"
    }
   ],
   "source": [
    "#we are trying to predict income based on all the other factors\n",
    "X = New_df.copy()\n",
    "#X.info()\n",
    "X.head(5)\n",
    "X.drop(X.filter(regex='Income').columns, axis=1, inplace=True)\n",
    "X.head(5)"
   ]
  },
  {
   "cell_type": "code",
   "execution_count": 218,
   "id": "74607b1f",
   "metadata": {},
   "outputs": [
    {
     "name": "stdout",
     "output_type": "stream",
     "text": [
      "    <=50K.   >50K.\n",
      "0        1       0\n",
      "1        1       0\n",
      "2        0       1\n",
      "3        0       1\n",
      "4        1       0\n",
      "    <=50K.\n",
      "0        1\n",
      "1        1\n",
      "2        0\n",
      "3        0\n",
      "4        1\n",
      "(15060, 1)\n"
     ]
    },
    {
     "data": {
      "text/plain": [
       "array([1, 1, 0, ..., 1, 1, 0], dtype=uint8)"
      ]
     },
     "execution_count": 218,
     "metadata": {},
     "output_type": "execute_result"
    }
   ],
   "source": [
    "income_column = df[\"Income\"]\n",
    "y=income_column.copy()                   \n",
    "y.head(5)\n",
    "y_50 = pd.get_dummies(y)\n",
    "print(y_50.head())\n",
    "del y_50[y_50.columns[-1]]\n",
    "print(y_50.head())\n",
    "print(y_50.shape)\n",
    "y_50.values.reshape(-1)"
   ]
  },
  {
   "cell_type": "markdown",
   "id": "1d281b15",
   "metadata": {},
   "source": [
    "### 7. Normalize the data"
   ]
  },
  {
   "cell_type": "code",
   "execution_count": 219,
   "id": "4963eeeb",
   "metadata": {},
   "outputs": [
    {
     "name": "stdout",
     "output_type": "stream",
     "text": [
      "Object `practice` not found.\n",
      "        age  hours-per-week  workClass_ Federal-gov  workClass_ Local-gov  \\\n",
      "0  0.109589        0.397959                     0.0                   0.0   \n",
      "1  0.287671        0.500000                     0.0                   0.0   \n",
      "2  0.150685        0.397959                     0.0                   1.0   \n",
      "3  0.369863        0.397959                     0.0                   0.0   \n",
      "4  0.232877        0.295918                     0.0                   0.0   \n",
      "\n",
      "   workClass_ Private  workClass_ Self-emp-inc  workClass_ Self-emp-not-inc  \\\n",
      "0                 1.0                      0.0                          0.0   \n",
      "1                 1.0                      0.0                          0.0   \n",
      "2                 0.0                      0.0                          0.0   \n",
      "3                 1.0                      0.0                          0.0   \n",
      "4                 1.0                      0.0                          0.0   \n",
      "\n",
      "   workClass_ State-gov  workClass_ Without-pay  Education_ 10th  ...  \\\n",
      "0                   0.0                     0.0              0.0  ...   \n",
      "1                   0.0                     0.0              0.0  ...   \n",
      "2                   0.0                     0.0              0.0  ...   \n",
      "3                   0.0                     0.0              0.0  ...   \n",
      "4                   0.0                     0.0              1.0  ...   \n",
      "\n",
      "   Native Country_ Portugal  Native Country_ Puerto-Rico  \\\n",
      "0                       0.0                          0.0   \n",
      "1                       0.0                          0.0   \n",
      "2                       0.0                          0.0   \n",
      "3                       0.0                          0.0   \n",
      "4                       0.0                          0.0   \n",
      "\n",
      "   Native Country_ Scotland  Native Country_ South  Native Country_ Taiwan  \\\n",
      "0                       0.0                    0.0                     0.0   \n",
      "1                       0.0                    0.0                     0.0   \n",
      "2                       0.0                    0.0                     0.0   \n",
      "3                       0.0                    0.0                     0.0   \n",
      "4                       0.0                    0.0                     0.0   \n",
      "\n",
      "   Native Country_ Thailand  Native Country_ Trinadad&Tobago  \\\n",
      "0                       0.0                              0.0   \n",
      "1                       0.0                              0.0   \n",
      "2                       0.0                              0.0   \n",
      "3                       0.0                              0.0   \n",
      "4                       0.0                              0.0   \n",
      "\n",
      "   Native Country_ United-States  Native Country_ Vietnam  \\\n",
      "0                            1.0                      0.0   \n",
      "1                            1.0                      0.0   \n",
      "2                            1.0                      0.0   \n",
      "3                            1.0                      0.0   \n",
      "4                            1.0                      0.0   \n",
      "\n",
      "   Native Country_ Yugoslavia  \n",
      "0                         0.0  \n",
      "1                         0.0  \n",
      "2                         0.0  \n",
      "3                         0.0  \n",
      "4                         0.0  \n",
      "\n",
      "[5 rows x 93 columns]\n",
      "(1, 93)\n"
     ]
    }
   ],
   "source": [
    "normalized data in the iris dataset practice?\n",
    "normalized_X=(X-X.min())/(X.max()-X.min())\n",
    "print(normalized_X.head())\n",
    "print(normalized_X.head(1).shape)\n",
    "#from sklearn.preprocessing import StandardScaler\n",
    "#scaler = StandardScaler()\n",
    "#Xstd = scaler.fit_transform(X)\n",
    "#print(Xstd[:2])"
   ]
  },
  {
   "cell_type": "markdown",
   "id": "4fed8ebb",
   "metadata": {},
   "source": [
    "### 8. Split the data into testing and training subsets"
   ]
  },
  {
   "cell_type": "code",
   "execution_count": 220,
   "id": "00179ce7",
   "metadata": {},
   "outputs": [],
   "source": [
    "from sklearn.model_selection import train_test_split\n",
    "X_train, X_test, y_train, y_test = train_test_split(normalized_X, y_50, test_size=0.3, random_state=45)"
   ]
  },
  {
   "cell_type": "markdown",
   "id": "fffb5309",
   "metadata": {},
   "source": [
    "### 9. Train a One-Versus-One logistic regression model on the normalized training data"
   ]
  },
  {
   "cell_type": "code",
   "execution_count": 221,
   "id": "1ba52ffb",
   "metadata": {},
   "outputs": [],
   "source": [
    "from sklearn.multiclass import OneVsOneClassifier\n",
    "from sklearn.svm import LinearSVC"
   ]
  },
  {
   "cell_type": "code",
   "execution_count": 223,
   "id": "9cb2157c",
   "metadata": {},
   "outputs": [
    {
     "data": {
      "text/plain": [
       "OneVsOneClassifier(estimator=LinearSVC(max_iter=2000, random_state=2))"
      ]
     },
     "execution_count": 223,
     "metadata": {},
     "output_type": "execute_result"
    }
   ],
   "source": [
    "ovoc=OneVsOneClassifier(LinearSVC(max_iter=2000, random_state=2))\n",
    "ovoc.fit(X_train,y_train.values.ravel())"
   ]
  },
  {
   "cell_type": "code",
   "execution_count": 224,
   "id": "84c606bd",
   "metadata": {},
   "outputs": [],
   "source": [
    "ovocPred = ovoc.predict(X_test)"
   ]
  },
  {
   "cell_type": "markdown",
   "id": "2481e170",
   "metadata": {},
   "source": [
    "### 10. Compute the Confusion Matrix, using the One-Versus-One model and the testing data set"
   ]
  },
  {
   "cell_type": "code",
   "execution_count": 225,
   "id": "446a78cb",
   "metadata": {},
   "outputs": [
    {
     "name": "stdout",
     "output_type": "stream",
     "text": [
      "[[ 608  500]\n",
      " [ 266 3144]]\n"
     ]
    }
   ],
   "source": [
    "from sklearn import metrics\n",
    "cmOVO= metrics.confusion_matrix(y_test, ovocPred)\n",
    "print(cmOVO)"
   ]
  },
  {
   "cell_type": "markdown",
   "id": "15a955f9",
   "metadata": {},
   "source": [
    "### 11. Train a One-Vs-Rest logistic regression model on the normalized training data"
   ]
  },
  {
   "cell_type": "code",
   "execution_count": 227,
   "id": "3bd9979c",
   "metadata": {},
   "outputs": [
    {
     "data": {
      "text/plain": [
       "LogisticRegression(max_iter=2000, multi_class='ovr', random_state=15)"
      ]
     },
     "execution_count": 227,
     "metadata": {},
     "output_type": "execute_result"
    }
   ],
   "source": [
    "from sklearn.linear_model import LogisticRegression\n",
    "ovr = LogisticRegression(random_state=15, multi_class='ovr', solver='lbfgs', max_iter=2000)\n",
    "ovr.fit(X_train, y_train.values.ravel())"
   ]
  },
  {
   "cell_type": "code",
   "execution_count": 228,
   "id": "c8c0381a",
   "metadata": {},
   "outputs": [],
   "source": [
    "ovrPred = ovr.predict(X_test)"
   ]
  },
  {
   "cell_type": "markdown",
   "id": "94d10d6e",
   "metadata": {},
   "source": [
    "### 12. Compute the Confusion Matrix, using then One-Vs-Rest model and the testing data set"
   ]
  },
  {
   "cell_type": "code",
   "execution_count": 229,
   "id": "a0e82244",
   "metadata": {},
   "outputs": [
    {
     "name": "stdout",
     "output_type": "stream",
     "text": [
      "[[ 603  505]\n",
      " [ 261 3149]]\n"
     ]
    }
   ],
   "source": [
    "cmOVR= metrics.confusion_matrix(y_test, ovrPred)\n",
    "print(cmOVR)"
   ]
  },
  {
   "cell_type": "markdown",
   "id": "b01d6d42",
   "metadata": {},
   "source": [
    "### 13. Compare the results of the One-Versus-One and One-Vs-Rest models"
   ]
  },
  {
   "cell_type": "code",
   "execution_count": 230,
   "id": "82dc8003",
   "metadata": {},
   "outputs": [
    {
     "name": "stdout",
     "output_type": "stream",
     "text": [
      "(4518,)\n",
      "(4518, 1)\n",
      "(4518,)\n",
      "[[ 5 -5]\n",
      " [ 5 -5]]\n"
     ]
    }
   ],
   "source": [
    "print(ovocPred.shape)\n",
    "ovo_result = pd.DataFrame(np.array(ovocPred).reshape(-1,1))\n",
    "print(ovo_result.shape)\n",
    "print(ovrPred.shape)\n",
    "ovr_result = pd.DataFrame(np.array(ovrPred).reshape(-1,1))\n",
    "\n",
    "results = pd.concat([ovo_result, ovr_result], axis=1)\n",
    "final = cmOVO-cmOVR\n",
    "print(final) #---need to come back\n"
   ]
  },
  {
   "cell_type": "markdown",
   "id": "048bb9c7",
   "metadata": {},
   "source": [
    "### 14. Compute the following metrics for the One-Vs-Rest model:\n",
    "- Accuracy\n",
    "- Error\n",
    "- Sensitivity\n",
    "- False Positive\n",
    "- Specificity\n",
    "- Precision\n",
    "- Prevalence\n",
    "- F1 Score"
   ]
  },
  {
   "cell_type": "code",
   "execution_count": 232,
   "id": "1310acec",
   "metadata": {},
   "outputs": [
    {
     "name": "stdout",
     "output_type": "stream",
     "text": [
      "accuracy =  0.8304559539619301\n",
      "sensitivity =  0.9234604105571848\n",
      "specificity =  0.5442238267148014\n",
      "precision =  0.8617952928297756\n",
      "prevelance =  0.81\n",
      "f1 =  0.8915628539071347\n"
     ]
    }
   ],
   "source": [
    "from sklearn.metrics import accuracy_score, f1_score, precision_score\n",
    "from sklearn.metrics import confusion_matrix\n",
    "tn, fp, fn, tp = confusion_matrix(y_test,ovrPred).ravel()\n",
    "\n",
    "accuracy = accuracy_score(y_test, ovrPred)\n",
    "print('accuracy = ', accuracy)\n",
    "sensitivity = tp/(tp+fn)\n",
    "print('sensitivity = ', sensitivity)\n",
    "#false_positive = abs(y_test-ovrPred).sum()\n",
    "#print('false positive = ', false_positive)\n",
    "specificity = tn / (tn+fp)\n",
    "print('specificity = ', specificity)\n",
    "precision = precision_score(y_test, ovrPred)\n",
    "print('precision = ', precision)\n",
    "Population = tn+fp+fn+tp\n",
    "prevalence = round( (tp+fp) / Population,2)\n",
    "print('prevelance = ', prevalence)\n",
    "f1 = f1_score(y_test, ovrPred)\n",
    "print('f1 = ', f1)"
   ]
  },
  {
   "cell_type": "markdown",
   "id": "bab816fc",
   "metadata": {},
   "source": [
    "### 15. Make up 2 instances of input data.Use both models to predict the classification of each data"
   ]
  },
  {
   "cell_type": "code",
   "execution_count": 233,
   "id": "45308cb5",
   "metadata": {},
   "outputs": [
    {
     "name": "stdout",
     "output_type": "stream",
     "text": [
      "age                              37\n",
      "hours-per-week                   20\n",
      "workClass_ Federal-gov            0\n",
      "workClass_ Local-gov              0\n",
      "workClass_ Private                1\n",
      "                                 ..\n",
      "Native Country_ United-States     1\n",
      "Native Country_ Vietnam           0\n",
      "Native Country_ Yugoslavia        0\n",
      "Income_ <=50K.                    1\n",
      "Income_ >50K.                     0\n",
      "Name: 15, Length: 95, dtype: int64\n",
      "(95,)\n",
      "(93,)\n",
      "age                                37\n",
      "hours-per-week                     20\n",
      "workClass_ Federal-gov              0\n",
      "workClass_ Local-gov                0\n",
      "workClass_ Private                  1\n",
      "                                   ..\n",
      "Native Country_ Thailand            0\n",
      "Native Country_ Trinadad&Tobago     0\n",
      "Native Country_ United-States       1\n",
      "Native Country_ Vietnam             0\n",
      "Native Country_ Yugoslavia          0\n",
      "Name: 15, Length: 93, dtype: int64\n",
      "int64\n"
     ]
    }
   ],
   "source": [
    "ex1=New_df.iloc[15]\n",
    "ex3 = New_df.iloc[2]\n",
    "print(ex1)\n",
    "print(ex1.shape)\n",
    "ex1n = ex1[:-2]\n",
    "print(ex1n.shape)\n",
    "print(ex1n)\n",
    "print(ex1n.dtype)"
   ]
  },
  {
   "cell_type": "code",
   "execution_count": 238,
   "id": "cfb1e0d1",
   "metadata": {},
   "outputs": [
    {
     "ename": "IndexError",
     "evalue": "index 1 is out of bounds for axis 0 with size 1",
     "output_type": "error",
     "traceback": [
      "\u001b[1;31m---------------------------------------------------------------------------\u001b[0m",
      "\u001b[1;31mIndexError\u001b[0m                                Traceback (most recent call last)",
      "\u001b[1;32m~\\AppData\\Local\\Temp/ipykernel_19372/2177784065.py\u001b[0m in \u001b[0;36m<module>\u001b[1;34m\u001b[0m\n\u001b[0;32m      1\u001b[0m \u001b[1;31m#they are now 21 years old and work 45 hours a week in local government in the united states\u001b[0m\u001b[1;33m\u001b[0m\u001b[1;33m\u001b[0m\u001b[0m\n\u001b[0;32m      2\u001b[0m \u001b[0mex1n\u001b[0m\u001b[1;33m[\u001b[0m\u001b[1;36m0\u001b[0m\u001b[1;33m]\u001b[0m\u001b[1;33m=\u001b[0m\u001b[1;36m21\u001b[0m\u001b[1;33m\u001b[0m\u001b[1;33m\u001b[0m\u001b[0m\n\u001b[1;32m----> 3\u001b[1;33m \u001b[0mex1n\u001b[0m\u001b[1;33m[\u001b[0m\u001b[1;36m1\u001b[0m\u001b[1;33m]\u001b[0m\u001b[1;33m=\u001b[0m\u001b[1;36m45\u001b[0m\u001b[1;33m\u001b[0m\u001b[1;33m\u001b[0m\u001b[0m\n\u001b[0m\u001b[0;32m      4\u001b[0m \u001b[0mex1n\u001b[0m\u001b[1;33m[\u001b[0m\u001b[1;36m2\u001b[0m\u001b[1;33m]\u001b[0m\u001b[1;33m=\u001b[0m\u001b[1;36m0\u001b[0m\u001b[1;33m\u001b[0m\u001b[1;33m\u001b[0m\u001b[0m\n\u001b[0;32m      5\u001b[0m \u001b[0mex1n\u001b[0m\u001b[1;33m[\u001b[0m\u001b[1;36m3\u001b[0m\u001b[1;33m]\u001b[0m\u001b[1;33m=\u001b[0m\u001b[1;36m1\u001b[0m\u001b[1;33m\u001b[0m\u001b[1;33m\u001b[0m\u001b[0m\n",
      "\u001b[1;31mIndexError\u001b[0m: index 1 is out of bounds for axis 0 with size 1"
     ]
    }
   ],
   "source": [
    "#they are now 21 years old and work 45 hours a week in local government in the united states\n",
    "ex1n[0]=21\n",
    "ex1n[1]=45\n",
    "ex1n[2]=0\n",
    "ex1n[3]=1\n",
    "ex1n[4]=0\n",
    "print(ex1n)"
   ]
  },
  {
   "cell_type": "code",
   "execution_count": 239,
   "id": "168275f2",
   "metadata": {},
   "outputs": [],
   "source": [
    "ex1n=np.array(ex1n).reshape(1,-1)\n",
    "#ex3n = np.array(ex3[:-2]).reshape(1,-1)"
   ]
  },
  {
   "cell_type": "code",
   "execution_count": 240,
   "id": "129cdbf3",
   "metadata": {},
   "outputs": [
    {
     "name": "stdout",
     "output_type": "stream",
     "text": [
      "[[40 50 21 21 21 21 21 21 21 21 21 21 21 21 21 21 21 21 21 21 21 21 21 21\n",
      "  21 21 21 21 21 21 21 21 21 21 21 21 21 21 21 21 21 21 21 21 21 21 21 21\n",
      "  21 21 21 21 21 21 21 21 21 21 21 21 21 21 21 21 21 21 21 21 21 21 21 21\n",
      "  21 21 21 21 21 21 21 21 21 21 21 21 21 21 21 21 21 21  0 21  1]]\n"
     ]
    }
   ],
   "source": [
    "#now they are 50 years old, work in the private sector for 50 hours a week in Yugoslavia\n",
    "ex2n = ex1n.copy()\n",
    "ex2n[0,1]=50\n",
    "ex2n[0,0]=40\n",
    "ex2n[0,-3]=0\n",
    "ex2n[0,-1]=1\n",
    "print(ex2n)"
   ]
  },
  {
   "cell_type": "code",
   "execution_count": 236,
   "id": "caf557d7",
   "metadata": {},
   "outputs": [
    {
     "name": "stdout",
     "output_type": "stream",
     "text": [
      "   age  hours-per-week  workClass_ Federal-gov  workClass_ Local-gov  \\\n",
      "0   37              20                       0                     0   \n",
      "1   40              50                       0                     0   \n",
      "\n",
      "   workClass_ Private  workClass_ Self-emp-inc  workClass_ Self-emp-not-inc  \\\n",
      "0                   1                        0                            0   \n",
      "1                   1                        0                            0   \n",
      "\n",
      "   workClass_ State-gov  workClass_ Without-pay  Education_ 10th  ...  \\\n",
      "0                     0                       0                0  ...   \n",
      "1                     0                       0                0  ...   \n",
      "\n",
      "   Native Country_ Portugal  Native Country_ Puerto-Rico  \\\n",
      "0                         0                            0   \n",
      "1                         0                            0   \n",
      "\n",
      "   Native Country_ Scotland  Native Country_ South  Native Country_ Taiwan  \\\n",
      "0                         0                      0                       0   \n",
      "1                         0                      0                       0   \n",
      "\n",
      "   Native Country_ Thailand  Native Country_ Trinadad&Tobago  \\\n",
      "0                         0                                0   \n",
      "1                         0                                0   \n",
      "\n",
      "   Native Country_ United-States  Native Country_ Vietnam  \\\n",
      "0                              1                        0   \n",
      "1                              0                        0   \n",
      "\n",
      "   Native Country_ Yugoslavia  \n",
      "0                           0  \n",
      "1                           1  \n",
      "\n",
      "[2 rows x 93 columns]\n"
     ]
    }
   ],
   "source": [
    "array = np.concatenate((ex1n, ex2n))\n",
    "new_ex = pd.DataFrame(array, columns=list(X.columns))\n",
    "print(new_ex.head())"
   ]
  },
  {
   "cell_type": "code",
   "execution_count": 241,
   "id": "d5e008cf",
   "metadata": {},
   "outputs": [
    {
     "name": "stdout",
     "output_type": "stream",
     "text": [
      "the predictions are ovr and ovo : [0 0] [0 0]\n"
     ]
    }
   ],
   "source": [
    "ovr_final = ovr.predict(new_ex)\n",
    "ovo_final = ovoc.predict(new_ex)\n",
    "print('the predictions are ovr and ovo :', ovr_final, ovo_final)"
   ]
  },
  {
   "cell_type": "markdown",
   "id": "6b3684ea",
   "metadata": {},
   "source": [
    "## END"
   ]
  }
 ],
 "metadata": {
  "kernelspec": {
   "display_name": "Python 3 (ipykernel)",
   "language": "python",
   "name": "python3"
  },
  "language_info": {
   "codemirror_mode": {
    "name": "ipython",
    "version": 3
   },
   "file_extension": ".py",
   "mimetype": "text/x-python",
   "name": "python",
   "nbconvert_exporter": "python",
   "pygments_lexer": "ipython3",
   "version": "3.8.5"
  }
 },
 "nbformat": 4,
 "nbformat_minor": 5
}
