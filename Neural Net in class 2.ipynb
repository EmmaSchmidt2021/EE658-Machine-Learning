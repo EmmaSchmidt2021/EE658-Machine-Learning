{
 "cells": [
  {
   "cell_type": "code",
   "execution_count": 3,
   "id": "5c492159",
   "metadata": {},
   "outputs": [],
   "source": [
    "import numpy as np \n",
    "import matplotlib.pyplot as plt\n",
    "import sklearn"
   ]
  },
  {
   "cell_type": "code",
   "execution_count": 6,
   "id": "05822bf4",
   "metadata": {},
   "outputs": [],
   "source": [
    "w1=1;w2=1\n",
    "b=1\n",
    "x1=2;x2=3\n",
    "alpha = 0.01"
   ]
  },
  {
   "cell_type": "code",
   "execution_count": 9,
   "id": "be0b3a79",
   "metadata": {},
   "outputs": [
    {
     "name": "stdout",
     "output_type": "stream",
     "text": [
      "y_pred= 12\n"
     ]
    }
   ],
   "source": [
    "y_pred =8+4*w1\n",
    "print('y_pred=', y_pred)"
   ]
  },
  {
   "cell_type": "code",
   "execution_count": 12,
   "id": "d66deb8f",
   "metadata": {},
   "outputs": [
    {
     "name": "stdout",
     "output_type": "stream",
     "text": [
      "i: 0 L= 0.0 y_pred= 5.0 w1= -0.75 dw1= 0.0\n",
      "i: 1 L= 0.0 y_pred= 5.0 w1= -0.75 dw1= 0.0\n",
      "i: 2 L= 0.0 y_pred= 5.0 w1= -0.75 dw1= 0.0\n",
      "i: 3 L= 0.0 y_pred= 5.0 w1= -0.75 dw1= 0.0\n",
      "i: 4 L= 0.0 y_pred= 5.0 w1= -0.75 dw1= 0.0\n",
      "i: 5 L= 0.0 y_pred= 5.0 w1= -0.75 dw1= 0.0\n",
      "i: 6 L= 0.0 y_pred= 5.0 w1= -0.75 dw1= 0.0\n",
      "i: 7 L= 0.0 y_pred= 5.0 w1= -0.75 dw1= 0.0\n",
      "i: 8 L= 0.0 y_pred= 5.0 w1= -0.75 dw1= 0.0\n",
      "i: 9 L= 0.0 y_pred= 5.0 w1= -0.75 dw1= 0.0\n",
      "i: 10 L= 0.0 y_pred= 5.0 w1= -0.75 dw1= 0.0\n",
      "i: 11 L= 0.0 y_pred= 5.0 w1= -0.75 dw1= 0.0\n",
      "i: 12 L= 0.0 y_pred= 5.0 w1= -0.75 dw1= 0.0\n",
      "i: 13 L= 0.0 y_pred= 5.0 w1= -0.75 dw1= 0.0\n",
      "i: 14 L= 0.0 y_pred= 5.0 w1= -0.75 dw1= 0.0\n",
      "i: 15 L= 0.0 y_pred= 5.0 w1= -0.75 dw1= 0.0\n",
      "i: 16 L= 0.0 y_pred= 5.0 w1= -0.75 dw1= 0.0\n",
      "i: 17 L= 0.0 y_pred= 5.0 w1= -0.75 dw1= 0.0\n",
      "i: 18 L= 0.0 y_pred= 5.0 w1= -0.75 dw1= 0.0\n",
      "i: 19 L= 0.0 y_pred= 5.0 w1= -0.75 dw1= 0.0\n"
     ]
    }
   ],
   "source": [
    "for i in range(20):\n",
    "    dw1 = 24+32*w1\n",
    "    w1=w1-alpha*dw1\n",
    "    y_pred = 8+4*w1\n",
    "    L=(y_pred-5)**2\n",
    "    print(\"i:\", i, \"L=\", round(L,2),\n",
    "         \"y_pred=\", round(y_pred,2),\n",
    "         \"w1=\", round(w1,2), \"dw1=\", round(dw1,2))"
   ]
  },
  {
   "cell_type": "code",
   "execution_count": 13,
   "id": "86203e2c",
   "metadata": {},
   "outputs": [],
   "source": [
    "%matplotlib inline"
   ]
  },
  {
   "cell_type": "code",
   "execution_count": 14,
   "id": "41200696",
   "metadata": {},
   "outputs": [],
   "source": [
    "def sigmoid(z):\n",
    "    return 1/(1+np.exp(-z))"
   ]
  },
  {
   "cell_type": "code",
   "execution_count": 37,
   "id": "644c8cf9",
   "metadata": {},
   "outputs": [],
   "source": [
    "def nn(X,y,m,alpha,num_of_iterations):\n",
    "    fig,(ax1,ax2)= plt.subplots(1,2)  \n",
    "    fig.set_size_inches(18,7)\n",
    "    ax2.plot(X[0,:],X[1,:],'go')\n",
    "    b=0\n",
    "    w=np.random.randn(1,X.shape[0])*0.01\n",
    "    for iteration in range(num_of_iterations):\n",
    "        J=0; dw1=0;dw2=0;db=0;\n",
    "        for i in range(m):\n",
    "            z=np.dot(w,X[:,i])+b\n",
    "            a = sigmoid(z)\n",
    "            J+=-(y[0,i]*np.log(a)+(1-y[0,i])*np.log(1-a))\n",
    "            dz=a-y[0,i]\n",
    "            dw1+=dz*X[0,i]\n",
    "            dw2+=dz*X[1,i]\n",
    "            db=db+dz\n",
    "        J=J/m\n",
    "        dw1=dw1/m\n",
    "        dw2=dw2/m\n",
    "        db=db/m\n",
    "        w[0,0]=w[0,0]-alpha*dw1\n",
    "        w[0,1]=w[0,1]-alpha*dw2\n",
    "        b=b-alpha*db\n",
    "        if iteration%15==0:\n",
    "            plt.plot(iteration,J,'go')\n",
    "        if iteration<1:\n",
    "            ax2.plot([0,14],[-b/w[0,1],-(w[0,0]*14+b)/w[0,1]],'r')\n",
    "        elif iteration<8:\n",
    "            ax2.plot([0,14],[-b/w[0,1],-(w[0,0]*14+b)/w[0,1]],'y')\n",
    "        elif iteration == num_of_iterations-1:\n",
    "            ax2.plot([0,14],[-b/w[0,1],-(w[0,0]*14+b)/w[0,1]],'g')\n",
    "            \n",
    "    return b, w\n"
   ]
  },
  {
   "cell_type": "code",
   "execution_count": 39,
   "id": "cdb57377",
   "metadata": {},
   "outputs": [
    {
     "data": {
      "image/png": "[encoded data removed]",
      "text/plain": [
       "<Figure size 1296x504 with 2 Axes>"
      ]
     },
     "metadata": {
      "needs_background": "light"
     },
     "output_type": "display_data"
    }
   ],
   "source": [
    "#validate results\n",
    "X=np.array([[0,0],[0,1],[1,0],[1,1]]).T #the AND opperator, X is 2x4\n",
    "y=np.array([[0,0,0,1]]) #y is 1x4\n",
    "m = len(y[0])\n",
    "alpha = 0.01\n",
    "num_of_iterations=40000\n",
    "\n",
    "bias, w = nn(X,y,m,alpha, num_of_iterations)\n",
    "\n"
   ]
  },
  {
   "cell_type": "code",
   "execution_count": null,
   "id": "b4a83a27",
   "metadata": {},
   "outputs": [],
   "source": [
    "print(bias, w[0,0], w[0,1])\n",
    "\n",
    "fig=plt.figure()\n",
    "plt.clf()"
   ]
  },
  {
   "cell_type": "code",
   "execution_count": 30,
   "id": "37ab40c7",
   "metadata": {},
   "outputs": [
    {
     "name": "stdout",
     "output_type": "stream",
     "text": [
      "0 0 0 1 "
     ]
    }
   ],
   "source": [
    "#validate the results\n",
    "pred=np.zeros((1,4), dtype=int)\n",
    "for i in range(4):\n",
    "    pred[0,i]=int(np.round(sigmoid(np.dot(w,X[:,i])+bias),0))\n",
    "    print(pred[0,i], end=' ')"
   ]
  },
  {
   "cell_type": "code",
   "execution_count": 32,
   "id": "c11babe7",
   "metadata": {},
   "outputs": [
    {
     "name": "stdout",
     "output_type": "stream",
     "text": [
      "[[3 0]\n",
      " [0 1]]\n"
     ]
    }
   ],
   "source": [
    "from sklearn.metrics import confusion_matrix\n",
    "print(confusion_matrix(y[0], pred[0]))"
   ]
  },
  {
   "cell_type": "code",
   "execution_count": null,
   "id": "f23f41e4",
   "metadata": {},
   "outputs": [],
   "source": []
  }
 ],
 "metadata": {
  "kernelspec": {
   "display_name": "Python 3 (ipykernel)",
   "language": "python",
   "name": "python3"
  },
  "language_info": {
   "codemirror_mode": {
    "name": "ipython",
    "version": 3
   },
   "file_extension": ".py",
   "mimetype": "text/x-python",
   "name": "python",
   "nbconvert_exporter": "python",
   "pygments_lexer": "ipython3",
   "version": "3.9.7"
  }
 },
 "nbformat": 4,
 "nbformat_minor": 5
}
