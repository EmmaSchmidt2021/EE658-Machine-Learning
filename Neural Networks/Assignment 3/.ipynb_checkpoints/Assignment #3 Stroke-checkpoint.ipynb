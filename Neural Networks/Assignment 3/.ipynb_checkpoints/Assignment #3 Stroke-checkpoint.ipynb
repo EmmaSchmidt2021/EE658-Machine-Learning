{
 "cells": [
  {
   "cell_type": "code",
   "execution_count": 3,
   "id": "0c23ee7f",
   "metadata": {},
   "outputs": [],
   "source": [
    "#import libararies and pull in dataset as a dataframe\n",
    "import numpy as np\n",
    "import pandas as pd\n",
    "import matplotlib.pyplot as plt"
   ]
  },
  {
   "cell_type": "code",
   "execution_count": 6,
   "id": "1900c423",
   "metadata": {},
   "outputs": [],
   "source": [
    "data_path = r\"C:\\Users\\schmi\\EE658\\EE658-Machine-Learning\\Neural Networks\\Assignment 3\\healthcare-dataset-stroke-data.csv\"\n",
    "df= pd.read_csv(data_path)"
   ]
  },
  {
   "cell_type": "code",
   "execution_count": 10,
   "id": "0edfdaf6",
   "metadata": {},
   "outputs": [
    {
     "data": {
      "text/html": [
       "<div>\n",
       "<style scoped>\n",
       "    .dataframe tbody tr th:only-of-type {\n",
       "        vertical-align: middle;\n",
       "    }\n",
       "\n",
       "    .dataframe tbody tr th {\n",
       "        vertical-align: top;\n",
       "    }\n",
       "\n",
       "    .dataframe thead th {\n",
       "        text-align: right;\n",
       "    }\n",
       "</style>\n",
       "<table border=\"1\" class=\"dataframe\">\n",
       "  <thead>\n",
       "    <tr style=\"text-align: right;\">\n",
       "      <th></th>\n",
       "      <th>id</th>\n",
       "      <th>gender</th>\n",
       "      <th>age</th>\n",
       "      <th>hypertension</th>\n",
       "      <th>heart_disease</th>\n",
       "      <th>ever_married</th>\n",
       "      <th>work_type</th>\n",
       "      <th>Residence_type</th>\n",
       "      <th>avg_glucose_level</th>\n",
       "      <th>bmi</th>\n",
       "      <th>smoking_status</th>\n",
       "      <th>stroke</th>\n",
       "    </tr>\n",
       "  </thead>\n",
       "  <tbody>\n",
       "    <tr>\n",
       "      <th>0</th>\n",
       "      <td>9046</td>\n",
       "      <td>Male</td>\n",
       "      <td>67.0</td>\n",
       "      <td>0</td>\n",
       "      <td>1</td>\n",
       "      <td>Yes</td>\n",
       "      <td>Private</td>\n",
       "      <td>Urban</td>\n",
       "      <td>228.69</td>\n",
       "      <td>36.6</td>\n",
       "      <td>formerly smoked</td>\n",
       "      <td>1</td>\n",
       "    </tr>\n",
       "    <tr>\n",
       "      <th>1</th>\n",
       "      <td>51676</td>\n",
       "      <td>Female</td>\n",
       "      <td>61.0</td>\n",
       "      <td>0</td>\n",
       "      <td>0</td>\n",
       "      <td>Yes</td>\n",
       "      <td>Self-employed</td>\n",
       "      <td>Rural</td>\n",
       "      <td>202.21</td>\n",
       "      <td>NaN</td>\n",
       "      <td>never smoked</td>\n",
       "      <td>1</td>\n",
       "    </tr>\n",
       "    <tr>\n",
       "      <th>2</th>\n",
       "      <td>31112</td>\n",
       "      <td>Male</td>\n",
       "      <td>80.0</td>\n",
       "      <td>0</td>\n",
       "      <td>1</td>\n",
       "      <td>Yes</td>\n",
       "      <td>Private</td>\n",
       "      <td>Rural</td>\n",
       "      <td>105.92</td>\n",
       "      <td>32.5</td>\n",
       "      <td>never smoked</td>\n",
       "      <td>1</td>\n",
       "    </tr>\n",
       "    <tr>\n",
       "      <th>3</th>\n",
       "      <td>60182</td>\n",
       "      <td>Female</td>\n",
       "      <td>49.0</td>\n",
       "      <td>0</td>\n",
       "      <td>0</td>\n",
       "      <td>Yes</td>\n",
       "      <td>Private</td>\n",
       "      <td>Urban</td>\n",
       "      <td>171.23</td>\n",
       "      <td>34.4</td>\n",
       "      <td>smokes</td>\n",
       "      <td>1</td>\n",
       "    </tr>\n",
       "    <tr>\n",
       "      <th>4</th>\n",
       "      <td>1665</td>\n",
       "      <td>Female</td>\n",
       "      <td>79.0</td>\n",
       "      <td>1</td>\n",
       "      <td>0</td>\n",
       "      <td>Yes</td>\n",
       "      <td>Self-employed</td>\n",
       "      <td>Rural</td>\n",
       "      <td>174.12</td>\n",
       "      <td>24.0</td>\n",
       "      <td>never smoked</td>\n",
       "      <td>1</td>\n",
       "    </tr>\n",
       "  </tbody>\n",
       "</table>\n",
       "</div>"
      ],
      "text/plain": [
       "      id  gender   age  hypertension  heart_disease ever_married  \\\n",
       "0   9046    Male  67.0             0              1          Yes   \n",
       "1  51676  Female  61.0             0              0          Yes   \n",
       "2  31112    Male  80.0             0              1          Yes   \n",
       "3  60182  Female  49.0             0              0          Yes   \n",
       "4   1665  Female  79.0             1              0          Yes   \n",
       "\n",
       "       work_type Residence_type  avg_glucose_level   bmi   smoking_status  \\\n",
       "0        Private          Urban             228.69  36.6  formerly smoked   \n",
       "1  Self-employed          Rural             202.21   NaN     never smoked   \n",
       "2        Private          Rural             105.92  32.5     never smoked   \n",
       "3        Private          Urban             171.23  34.4           smokes   \n",
       "4  Self-employed          Rural             174.12  24.0     never smoked   \n",
       "\n",
       "   stroke  \n",
       "0       1  \n",
       "1       1  \n",
       "2       1  \n",
       "3       1  \n",
       "4       1  "
      ]
     },
     "execution_count": 10,
     "metadata": {},
     "output_type": "execute_result"
    }
   ],
   "source": [
    "#_________________DATA EXPLORATION ___________________#\n",
    "df.head()\n"
   ]
  },
  {
   "cell_type": "code",
   "execution_count": 11,
   "id": "03cfbf14",
   "metadata": {},
   "outputs": [
    {
     "name": "stdout",
     "output_type": "stream",
     "text": [
      "<class 'pandas.core.frame.DataFrame'>\n",
      "RangeIndex: 5110 entries, 0 to 5109\n",
      "Data columns (total 12 columns):\n",
      " #   Column             Non-Null Count  Dtype  \n",
      "---  ------             --------------  -----  \n",
      " 0   id                 5110 non-null   int64  \n",
      " 1   gender             5110 non-null   object \n",
      " 2   age                5110 non-null   float64\n",
      " 3   hypertension       5110 non-null   int64  \n",
      " 4   heart_disease      5110 non-null   int64  \n",
      " 5   ever_married       5110 non-null   object \n",
      " 6   work_type          5110 non-null   object \n",
      " 7   Residence_type     5110 non-null   object \n",
      " 8   avg_glucose_level  5110 non-null   float64\n",
      " 9   bmi                4909 non-null   float64\n",
      " 10  smoking_status     5110 non-null   object \n",
      " 11  stroke             5110 non-null   int64  \n",
      "dtypes: float64(3), int64(4), object(5)\n",
      "memory usage: 479.2+ KB\n"
     ]
    }
   ],
   "source": [
    "df.info()\n",
    "# we can see that bmi is the only category that containing null entries\n"
   ]
  },
  {
   "cell_type": "code",
   "execution_count": 12,
   "id": "032f3ce7",
   "metadata": {},
   "outputs": [
    {
     "name": "stdout",
     "output_type": "stream",
     "text": [
      "\n",
      "there are 3 different types in the column gender:\n",
      "\n",
      "['Male' 'Female' 'Other']\n",
      "\n",
      "there are 2 different types in the column ever_married:\n",
      "\n",
      "['Yes' 'No']\n",
      "\n",
      "there are 5 different types in the column work_type:\n",
      "\n",
      "['Private' 'Self-employed' 'Govt_job' 'children' 'Never_worked']\n",
      "\n",
      "there are 2 different types in the column Residence_type:\n",
      "\n",
      "['Urban' 'Rural']\n",
      "\n",
      "there are 4 different types in the column smoking_status:\n",
      "\n",
      "['formerly smoked' 'never smoked' 'smokes' 'Unknown']\n"
     ]
    }
   ],
   "source": [
    "#find the unique values - basically all of the object type\n",
    "objectColumns = df.dtypes[df.dtypes == object]\n",
    "text_to_num = list(objectColumns.index)\n",
    "for i in range(len(text_to_num)):\n",
    "    col_name = text_to_num[i]\n",
    "    print(\"\\nthere are \" + str(df[col_name].nunique()) +\" different types in the column \"+ col_name +\":\\n\")\n",
    "    print(df[col_name].unique())"
   ]
  },
  {
   "cell_type": "code",
   "execution_count": 13,
   "id": "bbc47963",
   "metadata": {},
   "outputs": [],
   "source": [
    "# find the number of times each value is used"
   ]
  },
  {
   "cell_type": "code",
   "execution_count": null,
   "id": "ced3193a",
   "metadata": {},
   "outputs": [],
   "source": [
    "# plot a bar chart showing frequency of each value"
   ]
  },
  {
   "cell_type": "code",
   "execution_count": null,
   "id": "e92edf8f",
   "metadata": {},
   "outputs": [],
   "source": [
    "# for each condinuous numerical value -- show a histogram of the values"
   ]
  },
  {
   "cell_type": "code",
   "execution_count": null,
   "id": "63fd98a7",
   "metadata": {},
   "outputs": [],
   "source": [
    "# for each feature in the data find the number of missing values"
   ]
  },
  {
   "cell_type": "code",
   "execution_count": null,
   "id": "f892105d",
   "metadata": {},
   "outputs": [],
   "source": [
    "#_________________DATA PREPARATION______________________#"
   ]
  },
  {
   "cell_type": "code",
   "execution_count": null,
   "id": "9c575a4b",
   "metadata": {},
   "outputs": [],
   "source": [
    "#for each missing or unuseable value -- pseudocode stragegy and implement"
   ]
  },
  {
   "cell_type": "code",
   "execution_count": 14,
   "id": "42196432",
   "metadata": {},
   "outputs": [
    {
     "ename": "ImportError",
     "evalue": "cannot import name 'train_test_split' from 'sklearn' (C:\\Users\\schmi\\anaconda3\\envs\\hpenv\\lib\\site-packages\\sklearn\\__init__.py)",
     "output_type": "error",
     "traceback": [
      "\u001b[1;31m---------------------------------------------------------------------------\u001b[0m",
      "\u001b[1;31mImportError\u001b[0m                               Traceback (most recent call last)",
      "\u001b[1;32m~\\AppData\\Local\\Temp/ipykernel_28064/3955838224.py\u001b[0m in \u001b[0;36m<module>\u001b[1;34m\u001b[0m\n\u001b[0;32m      1\u001b[0m \u001b[1;31m#split test and training\u001b[0m\u001b[1;33m\u001b[0m\u001b[1;33m\u001b[0m\u001b[0m\n\u001b[1;32m----> 2\u001b[1;33m \u001b[1;32mfrom\u001b[0m \u001b[0msklearn\u001b[0m \u001b[1;32mimport\u001b[0m \u001b[0mtrain_test_split\u001b[0m\u001b[1;33m\u001b[0m\u001b[1;33m\u001b[0m\u001b[0m\n\u001b[0m",
      "\u001b[1;31mImportError\u001b[0m: cannot import name 'train_test_split' from 'sklearn' (C:\\Users\\schmi\\anaconda3\\envs\\hpenv\\lib\\site-packages\\sklearn\\__init__.py)"
     ]
    }
   ],
   "source": [
    "#split test and training\n",
    "from sklearn.model_selection import train_test_split\n",
    "X_train, X_test, y_train, y_test = train_test_split(normalized_X, y_50, test_size=0.3, random_state=45, stratify=y)"
   ]
  },
  {
   "cell_type": "code",
   "execution_count": null,
   "id": "5d1ff755",
   "metadata": {},
   "outputs": [],
   "source": [
    "#normalize data"
   ]
  },
  {
   "cell_type": "code",
   "execution_count": null,
   "id": "f679c552",
   "metadata": {},
   "outputs": [],
   "source": [
    "#_____________________Model Generation_________#"
   ]
  },
  {
   "cell_type": "code",
   "execution_count": null,
   "id": "efee577f",
   "metadata": {},
   "outputs": [],
   "source": [
    "#use perceptron in scikit learn to create model"
   ]
  },
  {
   "cell_type": "code",
   "execution_count": null,
   "id": "1ce98a73",
   "metadata": {},
   "outputs": [],
   "source": [
    "#display confusion matrix and classification results"
   ]
  },
  {
   "cell_type": "code",
   "execution_count": null,
   "id": "47c08344",
   "metadata": {},
   "outputs": [],
   "source": [
    "#use two layer neural net -- FROM NOTES -- to predict ---- \n",
    "\n",
    "# experiment with number of neurons in hidden layer \n",
    "# display confusion matrix and classification results"
   ]
  },
  {
   "cell_type": "code",
   "execution_count": null,
   "id": "e8eb0976",
   "metadata": {},
   "outputs": [],
   "source": [
    "#use logisticRegression to create model and display a confusion matrix"
   ]
  },
  {
   "cell_type": "code",
   "execution_count": null,
   "id": "30e6ba37",
   "metadata": {},
   "outputs": [],
   "source": [
    "#compare the 3 models -- 1) perceptron 2) 2 layer NN 3) logistic regression"
   ]
  }
 ],
 "metadata": {
  "kernelspec": {
   "display_name": "Python 3 (ipykernel)",
   "language": "python",
   "name": "python3"
  },
  "language_info": {
   "codemirror_mode": {
    "name": "ipython",
    "version": 3
   },
   "file_extension": ".py",
   "mimetype": "text/x-python",
   "name": "python",
   "nbconvert_exporter": "python",
   "pygments_lexer": "ipython3",
   "version": "3.9.7"
  }
 },
 "nbformat": 4,
 "nbformat_minor": 5
}
