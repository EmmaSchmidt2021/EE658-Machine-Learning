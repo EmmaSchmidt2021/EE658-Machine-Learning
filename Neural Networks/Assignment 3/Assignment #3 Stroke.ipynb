{
 "cells": [
  {
   "cell_type": "code",
   "execution_count": 86,
   "id": "0c23ee7f",
   "metadata": {},
   "outputs": [],
   "source": [
    "#import libararies and pull in dataset as a dataframe\n",
    "import numpy as np\n",
    "import pandas as pd\n",
    "import matplotlib.pyplot as plt\n"
   ]
  },
  {
   "cell_type": "code",
   "execution_count": 3,
   "id": "1900c423",
   "metadata": {},
   "outputs": [],
   "source": [
    "data_path = r\"C:\\Users\\schmi\\EE658\\EE658-Machine-Learning\\Neural Networks\\Assignment 3\\healthcare-dataset-stroke-data.csv\"\n",
    "df= pd.read_csv(data_path)"
   ]
  },
  {
   "cell_type": "code",
   "execution_count": 4,
   "id": "0edfdaf6",
   "metadata": {},
   "outputs": [
    {
     "data": {
      "text/html": [
       "<div>\n",
       "<style scoped>\n",
       "    .dataframe tbody tr th:only-of-type {\n",
       "        vertical-align: middle;\n",
       "    }\n",
       "\n",
       "    .dataframe tbody tr th {\n",
       "        vertical-align: top;\n",
       "    }\n",
       "\n",
       "    .dataframe thead th {\n",
       "        text-align: right;\n",
       "    }\n",
       "</style>\n",
       "<table border=\"1\" class=\"dataframe\">\n",
       "  <thead>\n",
       "    <tr style=\"text-align: right;\">\n",
       "      <th></th>\n",
       "      <th>id</th>\n",
       "      <th>gender</th>\n",
       "      <th>age</th>\n",
       "      <th>hypertension</th>\n",
       "      <th>heart_disease</th>\n",
       "      <th>ever_married</th>\n",
       "      <th>work_type</th>\n",
       "      <th>Residence_type</th>\n",
       "      <th>avg_glucose_level</th>\n",
       "      <th>bmi</th>\n",
       "      <th>smoking_status</th>\n",
       "      <th>stroke</th>\n",
       "    </tr>\n",
       "  </thead>\n",
       "  <tbody>\n",
       "    <tr>\n",
       "      <th>0</th>\n",
       "      <td>9046</td>\n",
       "      <td>Male</td>\n",
       "      <td>67.0</td>\n",
       "      <td>0</td>\n",
       "      <td>1</td>\n",
       "      <td>Yes</td>\n",
       "      <td>Private</td>\n",
       "      <td>Urban</td>\n",
       "      <td>228.69</td>\n",
       "      <td>36.6</td>\n",
       "      <td>formerly smoked</td>\n",
       "      <td>1</td>\n",
       "    </tr>\n",
       "    <tr>\n",
       "      <th>1</th>\n",
       "      <td>51676</td>\n",
       "      <td>Female</td>\n",
       "      <td>61.0</td>\n",
       "      <td>0</td>\n",
       "      <td>0</td>\n",
       "      <td>Yes</td>\n",
       "      <td>Self-employed</td>\n",
       "      <td>Rural</td>\n",
       "      <td>202.21</td>\n",
       "      <td>NaN</td>\n",
       "      <td>never smoked</td>\n",
       "      <td>1</td>\n",
       "    </tr>\n",
       "    <tr>\n",
       "      <th>2</th>\n",
       "      <td>31112</td>\n",
       "      <td>Male</td>\n",
       "      <td>80.0</td>\n",
       "      <td>0</td>\n",
       "      <td>1</td>\n",
       "      <td>Yes</td>\n",
       "      <td>Private</td>\n",
       "      <td>Rural</td>\n",
       "      <td>105.92</td>\n",
       "      <td>32.5</td>\n",
       "      <td>never smoked</td>\n",
       "      <td>1</td>\n",
       "    </tr>\n",
       "    <tr>\n",
       "      <th>3</th>\n",
       "      <td>60182</td>\n",
       "      <td>Female</td>\n",
       "      <td>49.0</td>\n",
       "      <td>0</td>\n",
       "      <td>0</td>\n",
       "      <td>Yes</td>\n",
       "      <td>Private</td>\n",
       "      <td>Urban</td>\n",
       "      <td>171.23</td>\n",
       "      <td>34.4</td>\n",
       "      <td>smokes</td>\n",
       "      <td>1</td>\n",
       "    </tr>\n",
       "    <tr>\n",
       "      <th>4</th>\n",
       "      <td>1665</td>\n",
       "      <td>Female</td>\n",
       "      <td>79.0</td>\n",
       "      <td>1</td>\n",
       "      <td>0</td>\n",
       "      <td>Yes</td>\n",
       "      <td>Self-employed</td>\n",
       "      <td>Rural</td>\n",
       "      <td>174.12</td>\n",
       "      <td>24.0</td>\n",
       "      <td>never smoked</td>\n",
       "      <td>1</td>\n",
       "    </tr>\n",
       "  </tbody>\n",
       "</table>\n",
       "</div>"
      ],
      "text/plain": [
       "      id  gender   age  hypertension  heart_disease ever_married  \\\n",
       "0   9046    Male  67.0             0              1          Yes   \n",
       "1  51676  Female  61.0             0              0          Yes   \n",
       "2  31112    Male  80.0             0              1          Yes   \n",
       "3  60182  Female  49.0             0              0          Yes   \n",
       "4   1665  Female  79.0             1              0          Yes   \n",
       "\n",
       "       work_type Residence_type  avg_glucose_level   bmi   smoking_status  \\\n",
       "0        Private          Urban             228.69  36.6  formerly smoked   \n",
       "1  Self-employed          Rural             202.21   NaN     never smoked   \n",
       "2        Private          Rural             105.92  32.5     never smoked   \n",
       "3        Private          Urban             171.23  34.4           smokes   \n",
       "4  Self-employed          Rural             174.12  24.0     never smoked   \n",
       "\n",
       "   stroke  \n",
       "0       1  \n",
       "1       1  \n",
       "2       1  \n",
       "3       1  \n",
       "4       1  "
      ]
     },
     "execution_count": 4,
     "metadata": {},
     "output_type": "execute_result"
    }
   ],
   "source": [
    "#_________________DATA EXPLORATION ___________________#\n",
    "df.head()\n"
   ]
  },
  {
   "cell_type": "code",
   "execution_count": 5,
   "id": "03cfbf14",
   "metadata": {},
   "outputs": [
    {
     "name": "stdout",
     "output_type": "stream",
     "text": [
      "<class 'pandas.core.frame.DataFrame'>\n",
      "RangeIndex: 5110 entries, 0 to 5109\n",
      "Data columns (total 12 columns):\n",
      " #   Column             Non-Null Count  Dtype  \n",
      "---  ------             --------------  -----  \n",
      " 0   id                 5110 non-null   int64  \n",
      " 1   gender             5110 non-null   object \n",
      " 2   age                5110 non-null   float64\n",
      " 3   hypertension       5110 non-null   int64  \n",
      " 4   heart_disease      5110 non-null   int64  \n",
      " 5   ever_married       5110 non-null   object \n",
      " 6   work_type          5110 non-null   object \n",
      " 7   Residence_type     5110 non-null   object \n",
      " 8   avg_glucose_level  5110 non-null   float64\n",
      " 9   bmi                4909 non-null   float64\n",
      " 10  smoking_status     5110 non-null   object \n",
      " 11  stroke             5110 non-null   int64  \n",
      "dtypes: float64(3), int64(4), object(5)\n",
      "memory usage: 479.2+ KB\n"
     ]
    }
   ],
   "source": [
    "df.info()\n",
    "# we can see that bmi is the only category that containing null entries\n"
   ]
  },
  {
   "cell_type": "code",
   "execution_count": 19,
   "id": "032f3ce7",
   "metadata": {},
   "outputs": [
    {
     "name": "stdout",
     "output_type": "stream",
     "text": [
      "numerical colums are:  ['id', 'age', 'hypertension', 'heart_disease', 'avg_glucose_level', 'bmi', 'stroke']\n",
      "\n",
      "there are 3 different types in the column gender:\n",
      "\n",
      "['Male' 'Female' 'Other']\n",
      "\n",
      "there are 2 different types in the column ever_married:\n",
      "\n",
      "['Yes' 'No']\n",
      "\n",
      "there are 5 different types in the column work_type:\n",
      "\n",
      "['Private' 'Self-employed' 'Govt_job' 'children' 'Never_worked']\n",
      "\n",
      "there are 2 different types in the column Residence_type:\n",
      "\n",
      "['Urban' 'Rural']\n",
      "\n",
      "there are 4 different types in the column smoking_status:\n",
      "\n",
      "['formerly smoked' 'never smoked' 'smokes' 'Unknown']\n"
     ]
    }
   ],
   "source": [
    "#find the unique values - basically all of the object type\n",
    "objectColumns = df.dtypes[df.dtypes == object]\n",
    "numberColumns = df.dtypes[df.dtypes != object]\n",
    "text_to_num = list(objectColumns.index)\n",
    "num_list = list(numberColumns.index)\n",
    "print('numerical colums are: ', num_list)\n",
    "for i in range(len(text_to_num)):\n",
    "    col_name = text_to_num[i]\n",
    "    print(\"\\nthere are \" + str(df[col_name].nunique()) +\" different types in the column \"+ col_name +\":\\n\")\n",
    "    print(df[col_name].unique())"
   ]
  },
  {
   "cell_type": "code",
   "execution_count": 47,
   "id": "bbc47963",
   "metadata": {},
   "outputs": [
    {
     "name": "stdout",
     "output_type": "stream",
     "text": [
      "Female    2994\n",
      "Male      2115\n",
      "Other        1\n",
      "Name: gender, dtype: int64\n",
      "['Female', 'Male', 'Other']\n",
      "[2994, 2115, 1]\n"
     ]
    }
   ],
   "source": [
    "# find the number of times each value is used\n",
    "genders_df = df['gender'].value_counts()\n",
    "print(genders_df)\n",
    "genders_options = df['gender'].value_counts().keys().to_list()\n",
    "genders_count = df['gender'].value_counts().to_list()\n",
    "print(genders_options)\n",
    "print(genders_count)"
   ]
  },
  {
   "cell_type": "code",
   "execution_count": 87,
   "id": "ced3193a",
   "metadata": {},
   "outputs": [
    {
     "data": {
      "image/png": "[encoded data removed]",
      "text/plain": [
       "<Figure size 432x288 with 1 Axes>"
      ]
     },
     "metadata": {
      "needs_background": "light"
     },
     "output_type": "display_data"
    }
   ],
   "source": [
    "# plot a bar chart showing frequency of each value\n",
    "plt.bar(genders_options, genders_count, width = 0.3, color=\"blue\")\n",
    "plt.ylabel('Number of people')\n",
    "plt.title('Genders')\n",
    "plt.show()"
   ]
  },
  {
   "cell_type": "code",
   "execution_count": 88,
   "id": "ec92e957",
   "metadata": {},
   "outputs": [
    {
     "data": {
      "image/png": "[encoded data removed]",
      "text/plain": [
       "<Figure size 432x288 with 1 Axes>"
      ]
     },
     "metadata": {
      "needs_background": "light"
     },
     "output_type": "display_data"
    }
   ],
   "source": [
    "work_df = df['work_type'].value_counts()\n",
    "work_options = df['work_type'].value_counts().keys().to_list()\n",
    "work_counts = df['work_type'].value_counts().to_list()\n",
    "plt.bar(work_options, work_counts, width = 0.3, color=\"red\")\n",
    "plt.title('Occupation')\n",
    "plt.show()"
   ]
  },
  {
   "cell_type": "code",
   "execution_count": 98,
   "id": "974a07ae",
   "metadata": {
    "scrolled": false
   },
   "outputs": [
    {
     "data": {
      "image/png": "[encoded data removed]",
      "text/plain": [
       "<Figure size 432x288 with 1 Axes>"
      ]
     },
     "metadata": {
      "needs_background": "light"
     },
     "output_type": "display_data"
    },
    {
     "data": {
      "image/png": "[encoded data removed]",
      "text/plain": [
       "<Figure size 432x288 with 1 Axes>"
      ]
     },
     "metadata": {
      "needs_background": "light"
     },
     "output_type": "display_data"
    },
    {
     "data": {
      "image/png": "[encoded data removed]",
      "text/plain": [
       "<Figure size 432x288 with 1 Axes>"
      ]
     },
     "metadata": {
      "needs_background": "light"
     },
     "output_type": "display_data"
    }
   ],
   "source": [
    "marital_options = df['ever_married'].value_counts().keys().to_list()\n",
    "marital_count = df['ever_married'].value_counts().to_list()\n",
    "\n",
    "res_options = df['Residence_type'].value_counts().keys().to_list()\n",
    "res_count = df['Residence_type'].value_counts().to_list()\n",
    "\n",
    "smoke_options = df['smoking_status'].value_counts().keys().to_list()\n",
    "smoke_count = df['smoking_status'].value_counts().to_list()\n",
    "\n",
    "\n",
    "plt.bar(marital_options, marital_count, width = 0.3, color=\"green\")\n",
    "plt.title('Marital Status')\n",
    "plt.show()\n",
    "plt.bar(res_options, res_count, width = 0.3, color=\"pink\")\n",
    "plt.title('Residence Type')\n",
    "plt.show()\n",
    "plt.bar(smoke_options, smoke_count, width = 0.3, color=\"navy\")\n",
    "plt.title('Residence Type')\n",
    "plt.show()"
   ]
  },
  {
   "cell_type": "code",
   "execution_count": 90,
   "id": "e92edf8f",
   "metadata": {},
   "outputs": [
    {
     "data": {
      "image/png": "[encoded data removed]",
      "text/plain": [
       "<Figure size 432x288 with 1 Axes>"
      ]
     },
     "metadata": {
      "needs_background": "light"
     },
     "output_type": "display_data"
    }
   ],
   "source": [
    "# for each condinuous numerical value -- show a histogram of the values\n",
    "plt.hist(df['age'].dropna(), bins=20, alpha=0.8, rwidth=0.7)\n",
    "plt.title('Age Distribution')\n",
    "plt.show()"
   ]
  },
  {
   "cell_type": "code",
   "execution_count": 93,
   "id": "39e4777b",
   "metadata": {},
   "outputs": [
    {
     "data": {
      "image/png": "[encoded data removed]",
      "text/plain": [
       "<Figure size 432x288 with 1 Axes>"
      ]
     },
     "metadata": {
      "needs_background": "light"
     },
     "output_type": "display_data"
    }
   ],
   "source": [
    "plt.hist(df['bmi'].dropna(), bins=20, alpha=0.8, rwidth=0.7, color = 'olive')\n",
    "plt.title('BMI Distribution')\n",
    "plt.show()"
   ]
  },
  {
   "cell_type": "code",
   "execution_count": 94,
   "id": "459b8a65",
   "metadata": {},
   "outputs": [
    {
     "data": {
      "image/png": "[encoded data removed]",
      "text/plain": [
       "<Figure size 432x288 with 1 Axes>"
      ]
     },
     "metadata": {
      "needs_background": "light"
     },
     "output_type": "display_data"
    }
   ],
   "source": [
    "plt.hist(df['avg_glucose_level'].dropna(), bins=20, alpha=0.8, rwidth=0.7, color='lightseagreen')\n",
    "plt.title('Average Glucose Level')\n",
    "plt.show()"
   ]
  },
  {
   "cell_type": "code",
   "execution_count": 102,
   "id": "a6cfc070",
   "metadata": {},
   "outputs": [
    {
     "name": "stdout",
     "output_type": "stream",
     "text": [
      "0    4612\n",
      "1     498\n",
      "Name: hypertension, dtype: int64\n"
     ]
    },
    {
     "data": {
      "image/png": "[encoded data removed]",
      "text/plain": [
       "<Figure size 432x288 with 1 Axes>"
      ]
     },
     "metadata": {
      "needs_background": "light"
     },
     "output_type": "display_data"
    }
   ],
   "source": [
    "hype_options = df['hypertension'].value_counts().keys().to_list()\n",
    "hype_count = df['hypertension'].value_counts().to_list()\n",
    "print(df['hypertension'].value_counts())\n",
    "plt.bar(hype_options, hype_count, width = 0.3, color=[\"red\", \"blue\"])\n",
    "plt.xticks(hype_options, ('No Hypertension', 'Hypertension'))\n",
    "plt.title('Hypertension')\n",
    "plt.show()"
   ]
  },
  {
   "cell_type": "code",
   "execution_count": 103,
   "id": "f592497b",
   "metadata": {},
   "outputs": [
    {
     "name": "stdout",
     "output_type": "stream",
     "text": [
      "0    4834\n",
      "1     276\n",
      "Name: heart_disease, dtype: int64\n"
     ]
    },
    {
     "data": {
      "image/png": "[encoded data removed]",
      "text/plain": [
       "<Figure size 432x288 with 1 Axes>"
      ]
     },
     "metadata": {
      "needs_background": "light"
     },
     "output_type": "display_data"
    }
   ],
   "source": [
    "heart_options = df['heart_disease'].value_counts().keys().to_list()\n",
    "heart_count = df['heart_disease'].value_counts().to_list()\n",
    "print(df['heart_disease'].value_counts())\n",
    "plt.bar(heart_options, heart_count, width = 0.3, color=[\"green\", \"red\"])\n",
    "plt.xticks(heart_options, ('No Heart Disease', 'Heart Disease'))\n",
    "plt.title('Heart Disease')\n",
    "plt.show()"
   ]
  },
  {
   "cell_type": "code",
   "execution_count": 107,
   "id": "63fd98a7",
   "metadata": {},
   "outputs": [
    {
     "name": "stdout",
     "output_type": "stream",
     "text": [
      "<class 'pandas.core.frame.DataFrame'>\n",
      "RangeIndex: 5110 entries, 0 to 5109\n",
      "Data columns (total 12 columns):\n",
      " #   Column             Non-Null Count  Dtype  \n",
      "---  ------             --------------  -----  \n",
      " 0   id                 5110 non-null   int64  \n",
      " 1   gender             5110 non-null   object \n",
      " 2   age                5110 non-null   float64\n",
      " 3   hypertension       5110 non-null   int64  \n",
      " 4   heart_disease      5110 non-null   int64  \n",
      " 5   ever_married       5110 non-null   object \n",
      " 6   work_type          5110 non-null   object \n",
      " 7   Residence_type     5110 non-null   object \n",
      " 8   avg_glucose_level  5110 non-null   float64\n",
      " 9   bmi                4909 non-null   float64\n",
      " 10  smoking_status     5110 non-null   object \n",
      " 11  stroke             5110 non-null   int64  \n",
      "dtypes: float64(3), int64(4), object(5)\n",
      "memory usage: 479.2+ KB\n",
      " there are  201 missing values from BMI\n"
     ]
    }
   ],
   "source": [
    "# for each feature in the data find the number of missing values\n",
    "df.info()\n",
    "\n",
    "missing_bmi = df['bmi'].isnull().sum()\n",
    "print(' there are ',missing_bmi, 'missing values from BMI')"
   ]
  },
  {
   "cell_type": "code",
   "execution_count": null,
   "id": "f892105d",
   "metadata": {},
   "outputs": [],
   "source": [
    "#_________________DATA PREPARATION______________________#"
   ]
  },
  {
   "cell_type": "code",
   "execution_count": 145,
   "id": "83e98507",
   "metadata": {},
   "outputs": [
    {
     "name": "stdout",
     "output_type": "stream",
     "text": [
      "count    4909.000000\n",
      "mean       28.893237\n",
      "std         7.854067\n",
      "min        10.300000\n",
      "25%        23.500000\n",
      "50%        28.100000\n",
      "75%        33.100000\n",
      "max        97.600000\n",
      "Name: bmi, dtype: float64\n",
      "count    5110.000000\n",
      "mean      106.147677\n",
      "std        45.283560\n",
      "min        55.120000\n",
      "25%        77.245000\n",
      "50%        91.885000\n",
      "75%       114.090000\n",
      "max       271.740000\n",
      "Name: avg_glucose_level, dtype: float64\n",
      "[77, 91, 114]\n",
      "77\n"
     ]
    }
   ],
   "source": [
    "print(df.bmi.describe())\n",
    "print(df.avg_glucose_level.describe())\n",
    "bounds = list(df.avg_glucose_level.quantile([0.25,0.5,0.75]))\n",
    "bounds = [int(x) for x in bounds]#convert to integer to work with inside the functions down the line\n",
    "print(bounds)\n",
    "print(bounds[0])"
   ]
  },
  {
   "cell_type": "code",
   "execution_count": 146,
   "id": "9c575a4b",
   "metadata": {},
   "outputs": [],
   "source": [
    "#for each missing or unuseable value -- pseudocode stragegy and implement\n",
    "# BMI and age may have a strong correlation? see average BMI by age and fill in\n",
    "# looking at the glucose histogram, there seems to be a very similar distribution with the glucose levels\n",
    "\n",
    "\n",
    "#create a function to calculate the average BMI based on glucose levels\n",
    "# look at the quanitle separation, we have 4 groupings of values based on the distribution\n",
    "# it is in the lower, lower middle, upper middle, or upper categories \n",
    "#-- divide and take the average BMI of each of these\n",
    "def compute_average_bmi_by_glucose():\n",
    "    a1 = df[(0 <= df['avg_glucose_level']) & (df['avg_glucose_level'] < bounds[0])]['bmi'].mean()\n",
    "    a2 = df[(bounds[0] <= df['avg_glucose_level']) & (df['avg_glucose_level'] < bounds[1])]['bmi'].mean()\n",
    "    a3 = df[(bounds[1] <= df['avg_glucose_level']) & (df['avg_glucose_level'] < bounds[2])]['bmi'].mean()\n",
    "    a4 = df[(bounds[2] <= df['avg_glucose_level'])]['bmi'].mean()      \n",
    "    return a1, a2, a3,4\n"
   ]
  },
  {
   "cell_type": "code",
   "execution_count": 149,
   "id": "c1faea06",
   "metadata": {},
   "outputs": [],
   "source": [
    "#create a function that will look for the null values and replace with the newly calculated value\n",
    "def impute_bmi(cols):\n",
    "    a1, a2, a3,a4 = compute_average_bmi_by_glucose()\n",
    "    BMI = cols[0]\n",
    "    glucose = cols[1]\n",
    "    \n",
    "    if pd.isnull(BMI):\n",
    "        if glucose in range(0,bounds[0]):\n",
    "            return a1\n",
    "        elif glucose in range(bounds[0],bounds[1]):\n",
    "            return a2\n",
    "        elif glucose in range(bounds[1],bounds[2]):\n",
    "            return a3\n",
    "        else:\n",
    "            return a4\n",
    "    else:\n",
    "        return BMI\n"
   ]
  },
  {
   "cell_type": "code",
   "execution_count": 150,
   "id": "2437ea64",
   "metadata": {},
   "outputs": [],
   "source": [
    "#now combine those two functions to replace the null values in BMI\n",
    "df['bmi'] = df[['bmi','avg_glucose_level']].apply(impute_bmi,axis=1)"
   ]
  },
  {
   "cell_type": "code",
   "execution_count": 153,
   "id": "e644fe66",
   "metadata": {},
   "outputs": [
    {
     "name": "stdout",
     "output_type": "stream",
     "text": [
      "<class 'pandas.core.frame.DataFrame'>\n",
      "RangeIndex: 5110 entries, 0 to 5109\n",
      "Data columns (total 12 columns):\n",
      " #   Column             Non-Null Count  Dtype  \n",
      "---  ------             --------------  -----  \n",
      " 0   id                 5110 non-null   int64  \n",
      " 1   gender             5110 non-null   object \n",
      " 2   age                5110 non-null   float64\n",
      " 3   hypertension       5110 non-null   int64  \n",
      " 4   heart_disease      5110 non-null   int64  \n",
      " 5   ever_married       5110 non-null   object \n",
      " 6   work_type          5110 non-null   object \n",
      " 7   Residence_type     5110 non-null   object \n",
      " 8   avg_glucose_level  5110 non-null   float64\n",
      " 9   bmi                5110 non-null   float64\n",
      " 10  smoking_status     5110 non-null   object \n",
      " 11  stroke             5110 non-null   int64  \n",
      "dtypes: float64(3), int64(4), object(5)\n",
      "memory usage: 479.2+ KB\n"
     ]
    },
    {
     "data": {
      "image/png": "[encoded data removed]",
      "text/plain": [
       "<Figure size 432x288 with 1 Axes>"
      ]
     },
     "metadata": {
      "needs_background": "light"
     },
     "output_type": "display_data"
    }
   ],
   "source": [
    "df.info()\n",
    "#check that we now have non-null values\n",
    "#plot to make sure the distribution seems normal enough\n",
    "plt.hist(df['bmi'], bins=20, alpha=0.8, rwidth=0.7, color = 'deepskyblue')\n",
    "plt.title('BMI Distribution')\n",
    "plt.show()"
   ]
  },
  {
   "cell_type": "code",
   "execution_count": 151,
   "id": "42196432",
   "metadata": {},
   "outputs": [
    {
     "ename": "KeyboardInterrupt",
     "evalue": "",
     "output_type": "error",
     "traceback": [
      "\u001b[1;31m---------------------------------------------------------------------------\u001b[0m",
      "\u001b[1;31mKeyboardInterrupt\u001b[0m                         Traceback (most recent call last)",
      "\u001b[1;32m~\\AppData\\Local\\Temp/ipykernel_17308/2923576558.py\u001b[0m in \u001b[0;36m<module>\u001b[1;34m\u001b[0m\n\u001b[0;32m      1\u001b[0m \u001b[1;31m#split test and training\u001b[0m\u001b[1;33m\u001b[0m\u001b[1;33m\u001b[0m\u001b[0m\n\u001b[1;32m----> 2\u001b[1;33m \u001b[1;32mfrom\u001b[0m \u001b[0msklearn\u001b[0m\u001b[1;33m.\u001b[0m\u001b[0mmodel_selection\u001b[0m \u001b[1;32mimport\u001b[0m \u001b[0mtrain_test_split\u001b[0m\u001b[1;33m\u001b[0m\u001b[1;33m\u001b[0m\u001b[0m\n\u001b[0m\u001b[0;32m      3\u001b[0m \u001b[0mX_train\u001b[0m\u001b[1;33m,\u001b[0m \u001b[0mX_test\u001b[0m\u001b[1;33m,\u001b[0m \u001b[0my_train\u001b[0m\u001b[1;33m,\u001b[0m \u001b[0my_test\u001b[0m \u001b[1;33m=\u001b[0m \u001b[0mtrain_test_split\u001b[0m\u001b[1;33m(\u001b[0m\u001b[0mnormalized_X\u001b[0m\u001b[1;33m,\u001b[0m \u001b[0my_50\u001b[0m\u001b[1;33m,\u001b[0m \u001b[0mtest_size\u001b[0m\u001b[1;33m=\u001b[0m\u001b[1;36m0.3\u001b[0m\u001b[1;33m,\u001b[0m \u001b[0mrandom_state\u001b[0m\u001b[1;33m=\u001b[0m\u001b[1;36m45\u001b[0m\u001b[1;33m,\u001b[0m \u001b[0mstratify\u001b[0m\u001b[1;33m=\u001b[0m\u001b[0my\u001b[0m\u001b[1;33m)\u001b[0m\u001b[1;33m\u001b[0m\u001b[1;33m\u001b[0m\u001b[0m\n",
      "\u001b[1;32m~\\anaconda3\\envs\\hpenv\\lib\\site-packages\\sklearn\\__init__.py\u001b[0m in \u001b[0;36m<module>\u001b[1;34m\u001b[0m\n\u001b[0;32m     80\u001b[0m     \u001b[1;32mfrom\u001b[0m \u001b[1;33m.\u001b[0m \u001b[1;32mimport\u001b[0m \u001b[0m_distributor_init\u001b[0m  \u001b[1;31m# noqa: F401\u001b[0m\u001b[1;33m\u001b[0m\u001b[1;33m\u001b[0m\u001b[0m\n\u001b[0;32m     81\u001b[0m     \u001b[1;32mfrom\u001b[0m \u001b[1;33m.\u001b[0m \u001b[1;32mimport\u001b[0m \u001b[0m__check_build\u001b[0m  \u001b[1;31m# noqa: F401\u001b[0m\u001b[1;33m\u001b[0m\u001b[1;33m\u001b[0m\u001b[0m\n\u001b[1;32m---> 82\u001b[1;33m     \u001b[1;32mfrom\u001b[0m \u001b[1;33m.\u001b[0m\u001b[0mbase\u001b[0m \u001b[1;32mimport\u001b[0m \u001b[0mclone\u001b[0m\u001b[1;33m\u001b[0m\u001b[1;33m\u001b[0m\u001b[0m\n\u001b[0m\u001b[0;32m     83\u001b[0m     \u001b[1;32mfrom\u001b[0m \u001b[1;33m.\u001b[0m\u001b[0mutils\u001b[0m\u001b[1;33m.\u001b[0m\u001b[0m_show_versions\u001b[0m \u001b[1;32mimport\u001b[0m \u001b[0mshow_versions\u001b[0m\u001b[1;33m\u001b[0m\u001b[1;33m\u001b[0m\u001b[0m\n\u001b[0;32m     84\u001b[0m \u001b[1;33m\u001b[0m\u001b[0m\n",
      "\u001b[1;32m~\\anaconda3\\envs\\hpenv\\lib\\site-packages\\sklearn\\base.py\u001b[0m in \u001b[0;36m<module>\u001b[1;34m\u001b[0m\n\u001b[0;32m     15\u001b[0m \u001b[1;32mfrom\u001b[0m \u001b[1;33m.\u001b[0m \u001b[1;32mimport\u001b[0m \u001b[0m__version__\u001b[0m\u001b[1;33m\u001b[0m\u001b[1;33m\u001b[0m\u001b[0m\n\u001b[0;32m     16\u001b[0m \u001b[1;32mfrom\u001b[0m \u001b[1;33m.\u001b[0m\u001b[0m_config\u001b[0m \u001b[1;32mimport\u001b[0m \u001b[0mget_config\u001b[0m\u001b[1;33m\u001b[0m\u001b[1;33m\u001b[0m\u001b[0m\n\u001b[1;32m---> 17\u001b[1;33m \u001b[1;32mfrom\u001b[0m \u001b[1;33m.\u001b[0m\u001b[0mutils\u001b[0m \u001b[1;32mimport\u001b[0m \u001b[0m_IS_32BIT\u001b[0m\u001b[1;33m\u001b[0m\u001b[1;33m\u001b[0m\u001b[0m\n\u001b[0m\u001b[0;32m     18\u001b[0m from .utils._tags import (\n\u001b[0;32m     19\u001b[0m     \u001b[0m_DEFAULT_TAGS\u001b[0m\u001b[1;33m,\u001b[0m\u001b[1;33m\u001b[0m\u001b[1;33m\u001b[0m\u001b[0m\n",
      "\u001b[1;32m~\\anaconda3\\envs\\hpenv\\lib\\site-packages\\sklearn\\utils\\__init__.py\u001b[0m in \u001b[0;36m<module>\u001b[1;34m\u001b[0m\n\u001b[0;32m     19\u001b[0m \u001b[1;32mimport\u001b[0m \u001b[0mwarnings\u001b[0m\u001b[1;33m\u001b[0m\u001b[1;33m\u001b[0m\u001b[0m\n\u001b[0;32m     20\u001b[0m \u001b[1;32mimport\u001b[0m \u001b[0mnumpy\u001b[0m \u001b[1;32mas\u001b[0m \u001b[0mnp\u001b[0m\u001b[1;33m\u001b[0m\u001b[1;33m\u001b[0m\u001b[0m\n\u001b[1;32m---> 21\u001b[1;33m \u001b[1;32mfrom\u001b[0m \u001b[0mscipy\u001b[0m\u001b[1;33m.\u001b[0m\u001b[0msparse\u001b[0m \u001b[1;32mimport\u001b[0m \u001b[0missparse\u001b[0m\u001b[1;33m\u001b[0m\u001b[1;33m\u001b[0m\u001b[0m\n\u001b[0m\u001b[0;32m     22\u001b[0m \u001b[1;33m\u001b[0m\u001b[0m\n\u001b[0;32m     23\u001b[0m \u001b[1;32mfrom\u001b[0m \u001b[1;33m.\u001b[0m\u001b[0mmurmurhash\u001b[0m \u001b[1;32mimport\u001b[0m \u001b[0mmurmurhash3_32\u001b[0m\u001b[1;33m\u001b[0m\u001b[1;33m\u001b[0m\u001b[0m\n",
      "\u001b[1;32m~\\anaconda3\\envs\\hpenv\\lib\\site-packages\\scipy\\sparse\\__init__.py\u001b[0m in \u001b[0;36m<module>\u001b[1;34m\u001b[0m\n\u001b[0;32m    281\u001b[0m \u001b[1;33m\u001b[0m\u001b[0m\n\u001b[0;32m    282\u001b[0m \u001b[1;31m# For backward compatibility with v0.19.\u001b[0m\u001b[1;33m\u001b[0m\u001b[1;33m\u001b[0m\u001b[0m\n\u001b[1;32m--> 283\u001b[1;33m \u001b[1;32mfrom\u001b[0m \u001b[1;33m.\u001b[0m \u001b[1;32mimport\u001b[0m \u001b[0mcsgraph\u001b[0m\u001b[1;33m\u001b[0m\u001b[1;33m\u001b[0m\u001b[0m\n\u001b[0m\u001b[0;32m    284\u001b[0m \u001b[1;33m\u001b[0m\u001b[0m\n\u001b[0;32m    285\u001b[0m \u001b[1;31m# Deprecated namespaces, to be removed in v2.0.0\u001b[0m\u001b[1;33m\u001b[0m\u001b[1;33m\u001b[0m\u001b[0m\n",
      "\u001b[1;32m~\\anaconda3\\envs\\hpenv\\lib\\site-packages\\scipy\\sparse\\csgraph\\__init__.py\u001b[0m in \u001b[0;36m<module>\u001b[1;34m\u001b[0m\n\u001b[0;32m    189\u001b[0m     \u001b[0mdepth_first_tree\u001b[0m\u001b[1;33m,\u001b[0m \u001b[0mconnected_components\u001b[0m\u001b[1;33m\u001b[0m\u001b[1;33m\u001b[0m\u001b[0m\n\u001b[0;32m    190\u001b[0m )\n\u001b[1;32m--> 191\u001b[1;33m \u001b[1;32mfrom\u001b[0m \u001b[1;33m.\u001b[0m\u001b[0m_min_spanning_tree\u001b[0m \u001b[1;32mimport\u001b[0m \u001b[0mminimum_spanning_tree\u001b[0m\u001b[1;33m\u001b[0m\u001b[1;33m\u001b[0m\u001b[0m\n\u001b[0m\u001b[0;32m    192\u001b[0m \u001b[1;32mfrom\u001b[0m \u001b[1;33m.\u001b[0m\u001b[0m_flow\u001b[0m \u001b[1;32mimport\u001b[0m \u001b[0mmaximum_flow\u001b[0m\u001b[1;33m\u001b[0m\u001b[1;33m\u001b[0m\u001b[0m\n\u001b[0;32m    193\u001b[0m from ._matching import (\n",
      "\u001b[1;32m~\\anaconda3\\envs\\hpenv\\lib\\importlib\\_bootstrap.py\u001b[0m in \u001b[0;36mparent\u001b[1;34m(self)\u001b[0m\n",
      "\u001b[1;31mKeyboardInterrupt\u001b[0m: "
     ]
    }
   ],
   "source": [
    "#split test and training\n",
    "from sklearn.model_selection import train_test_split\n",
    "X_train, X_test, y_train, y_test = train_test_split(normalized_X, y_50, test_size=0.3, random_state=45, stratify=y)"
   ]
  },
  {
   "cell_type": "code",
   "execution_count": null,
   "id": "5d1ff755",
   "metadata": {},
   "outputs": [],
   "source": [
    "#normalize data"
   ]
  },
  {
   "cell_type": "code",
   "execution_count": null,
   "id": "f679c552",
   "metadata": {},
   "outputs": [],
   "source": [
    "#_____________________Model Generation_________#"
   ]
  },
  {
   "cell_type": "code",
   "execution_count": null,
   "id": "efee577f",
   "metadata": {},
   "outputs": [],
   "source": [
    "#use perceptron in scikit learn to create model\n",
    "from sklearn.model_selection import train_test_split\n",
    "from sklearn.linear_model import Perceptron\n",
    "from sklearn.metrics import accuracy_score\n",
    "from sklearn.datasets import load_digits"
   ]
  },
  {
   "cell_type": "code",
   "execution_count": null,
   "id": "48898d0d",
   "metadata": {},
   "outputs": [],
   "source": [
    "X_train, X_test, y_train, y_test = train_test_split(X, y, test_size=0.2, random_state= 99)\n",
    "ppn = Perceptron(eta0 = 0.001)\n",
    "ppn.fit(X_train, y_train)"
   ]
  },
  {
   "cell_type": "code",
   "execution_count": null,
   "id": "1ce98a73",
   "metadata": {},
   "outputs": [],
   "source": [
    "#display confusion matrix and classification results\n",
    "from sklearn.metrics import classification_report, confusion_matrix  \n",
    "predictions = ppn.predict(X_test)\n",
    "cm = confusion_matrix(y_test, predictions)\n",
    "print(cm)  \n",
    "score = accuracy_score(y_test, predictions)\n",
    "print(score)"
   ]
  },
  {
   "cell_type": "code",
   "execution_count": null,
   "id": "47c08344",
   "metadata": {},
   "outputs": [],
   "source": [
    "#use two layer neural net -- FROM NOTES -- to predict ---- \n",
    "\n",
    "# experiment with number of neurons in hidden layer \n",
    "# display confusion matrix and classification results\n",
    "\n"
   ]
  },
  {
   "cell_type": "code",
   "execution_count": null,
   "id": "e8eb0976",
   "metadata": {},
   "outputs": [],
   "source": [
    "#use logisticRegression to create model and display a confusion matrix"
   ]
  },
  {
   "cell_type": "code",
   "execution_count": null,
   "id": "30e6ba37",
   "metadata": {},
   "outputs": [],
   "source": [
    "#compare the 3 models -- 1) perceptron 2) 2 layer NN 3) logistic regression"
   ]
  }
 ],
 "metadata": {
  "kernelspec": {
   "display_name": "Python 3 (ipykernel)",
   "language": "python",
   "name": "python3"
  },
  "language_info": {
   "codemirror_mode": {
    "name": "ipython",
    "version": 3
   },
   "file_extension": ".py",
   "mimetype": "text/x-python",
   "name": "python",
   "nbconvert_exporter": "python",
   "pygments_lexer": "ipython3",
   "version": "3.8.5"
  }
 },
 "nbformat": 4,
 "nbformat_minor": 5
}
