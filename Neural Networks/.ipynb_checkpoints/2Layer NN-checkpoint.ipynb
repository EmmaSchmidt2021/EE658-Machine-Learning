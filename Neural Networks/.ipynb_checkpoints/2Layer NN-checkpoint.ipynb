{
 "cells": [
  {
   "cell_type": "code",
   "execution_count": 1,
   "id": "67b40511",
   "metadata": {},
   "outputs": [],
   "source": [
    "#nerual networks in class practice\n",
    "# 2 layer nerual net\n",
    "import numpy as np\n",
    "import matplotlib.pyplot as plt\n",
    "def g1(x):\n",
    "    return 1. / (1 + np.exp(-x))\n",
    "def g2(x):\n",
    "    return 1. / (1 + np.exp(-x))\n",
    "def g1_prime(x):\n",
    "    return g1(x) * (1 - g1(x))\n"
   ]
  },
  {
   "cell_type": "code",
   "execution_count": 6,
   "id": "fc8309b1",
   "metadata": {},
   "outputs": [],
   "source": [
    "def NN(X, y, n_h, n_y, alpha, iterations):\n",
    "\tstage_1 = iterations//2; alpha2 = alpha/2.\n",
    "\tstage_2 = iterations//1.75; alpha3 = alpha/4.\n",
    "\tstage_3 = iterations//1.5; alpha4 = alpha/8.\n",
    "\tcost_list = [[],[]]\n",
    "\tm = X.shape[1]\n",
    "\tn_x = X.shape[0]\n",
    "\tW1 = np.random.randn(n_h, n_x)\n",
    "\tb1 = np.random.randn(n_h, 1)\n",
    "\tW2 = np.random.randn(n_y, n_h)\n",
    "\tb2 = np.random.randn(n_y, 1)\n",
    "\tfor i in range(iterations):\n",
    "\t\tZ1 = np.dot(W1, X) + b1\n",
    "\t\tA1 = g1(Z1)\n",
    "\t\tZ2 = np.dot(W2, A1) + b2\n",
    "\t\tA2 = g2(Z2)\n",
    "\t\tif i%100 == 0:\n",
    "\t\t\tcost = -np.sum(y*np.log(A2) + (1-y)*np.log(1-A2))\n",
    "\t\t\tcost_list[0].append(i)\n",
    "\t\t\tcost_list[1].append(cost)\n",
    "\t\tdZ2 = A2 - y\n",
    "\t\tdW2 = (1/m) * np.dot(dZ2, A1.T)\n",
    "\t\tdb2 = (1/m) * np.sum(dZ2)\n",
    "\t\tdZ1 = np.dot(W2.T, dZ2) * g1_prime(Z1)\n",
    "\t\tdW1 = (1/m) * np.dot(dZ1, X.T)\n",
    "\t\tdb1 = (1/m) * np.sum(dZ1)\n",
    "\t\tW2 = W2 - alpha * dW2\n",
    "\t\tb2 = b2 - alpha * db2\n",
    "\t\tW1 = W1 - alpha * dW1\n",
    "\t\tb1 = b1 - alpha * db1\n",
    "\t\tif i>stage_1: alpha = alpha2\n",
    "\t\telif i>stage_2: alpha = alpha3\n",
    "\t\telif i>stage_3: alpha = alpha4\n",
    "\treturn W1, b1, W2, b2, cost_list\n"
   ]
  },
  {
   "cell_type": "code",
   "execution_count": 11,
   "id": "912c93e6",
   "metadata": {},
   "outputs": [],
   "source": [
    "X = np.array([[0,0], [0,1], [1,0], [1,1]]).T\n",
    "y = np.array([[0,1,1,0]])\n",
    "n_h = 2; n_y = 1\n",
    "alpha = 0.05\n",
    "iterations = 50000"
   ]
  },
  {
   "cell_type": "code",
   "execution_count": 12,
   "id": "b92ab7e1",
   "metadata": {},
   "outputs": [
    {
     "name": "stdout",
     "output_type": "stream",
     "text": [
      "W1= [[ 5.80347653 -6.36746287]\n",
      " [ 7.14819548 -6.05338722]] \n",
      " b1= [[-0.76420393]\n",
      " [ 0.75116526]] \n",
      " W2= [[ 16.05566052 -15.95548988]] \n",
      " b2= [[3.23082839]]\n"
     ]
    },
    {
     "data": {
      "text/plain": [
       "[<matplotlib.lines.Line2D at 0x1eb274abc10>]"
      ]
     },
     "execution_count": 12,
     "metadata": {},
     "output_type": "execute_result"
    },
    {
     "data": {
      "image/png": "[encoded data removed]",
      "text/plain": [
       "<Figure size 432x288 with 1 Axes>"
      ]
     },
     "metadata": {
      "needs_background": "light"
     },
     "output_type": "display_data"
    }
   ],
   "source": [
    "W1, b1, W2, b2, cost_list = NN(X, y, n_h, n_y, alpha, iterations)\n",
    "print('W1=',W1, '\\n', 'b1=',b1, '\\n', 'W2=',W2, '\\n', 'b2=',b2)\n",
    "plt.plot(cost_list[0][1:], cost_list[1][1:], 'go')"
   ]
  },
  {
   "cell_type": "code",
   "execution_count": 14,
   "id": "a218bd08",
   "metadata": {},
   "outputs": [
    {
     "name": "stdout",
     "output_type": "stream",
     "text": [
      "A2= [[7.52701769e-02 9.59479389e-01 9.62078200e-01 7.56396503e-04]]\n",
      "predictions= [[0. 1. 1. 0.]]\n"
     ]
    }
   ],
   "source": [
    "Z1 = np.dot(W1, X) + b1\n",
    "A1 = g1(Z1)\n",
    "Z2 = np.dot(W2, A1) + b2\n",
    "A2 = g2(Z2)\n",
    "predictions = A2.copy()\n",
    "predictions[A2 < 0.5] = 0\n",
    "predictions[A2 > 0.5] = 1\n",
    "print('A2=',A2)\n",
    "print('predictions=',predictions)"
   ]
  },
  {
   "cell_type": "code",
   "execution_count": 15,
   "id": "9fedabf2",
   "metadata": {},
   "outputs": [
    {
     "name": "stdout",
     "output_type": "stream",
     "text": [
      "[[2 0]\n",
      " [0 2]]\n",
      "              precision    recall  f1-score   support\n",
      "\n",
      "           0       1.00      1.00      1.00         2\n",
      "           1       1.00      1.00      1.00         2\n",
      "\n",
      "    accuracy                           1.00         4\n",
      "   macro avg       1.00      1.00      1.00         4\n",
      "weighted avg       1.00      1.00      1.00         4\n",
      "\n"
     ]
    }
   ],
   "source": [
    "from sklearn.metrics import classification_report, confusion_matrix  \n",
    "print(confusion_matrix(y[0], predictions[0]))  \n",
    "print(classification_report(y[0], predictions[0])) "
   ]
  },
  {
   "cell_type": "code",
   "execution_count": null,
   "id": "14479ab1",
   "metadata": {},
   "outputs": [],
   "source": []
  }
 ],
 "metadata": {
  "kernelspec": {
   "display_name": "Python 3 (ipykernel)",
   "language": "python",
   "name": "python3"
  },
  "language_info": {
   "codemirror_mode": {
    "name": "ipython",
    "version": 3
   },
   "file_extension": ".py",
   "mimetype": "text/x-python",
   "name": "python",
   "nbconvert_exporter": "python",
   "pygments_lexer": "ipython3",
   "version": "3.9.7"
  }
 },
 "nbformat": 4,
 "nbformat_minor": 5
}
