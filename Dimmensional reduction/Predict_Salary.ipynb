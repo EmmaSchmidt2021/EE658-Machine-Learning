{
 "cells": [
  {
   "cell_type": "code",
   "execution_count": null,
   "id": "d13a3ae6",
   "metadata": {},
   "outputs": [],
   "source": [
    "import pandas as pd\n",
    "import numpy as np\n",
    "import matplotlib.pyplot as plt"
   ]
  },
  {
   "cell_type": "code",
   "execution_count": null,
   "id": "5f0fa8a7",
   "metadata": {},
   "outputs": [],
   "source": [
    "df = pd.read_csv(\"survey_results_public.csv\")\n",
    "df.head()"
   ]
  },
  {
   "cell_type": "code",
   "execution_count": null,
   "id": "a2c70467",
   "metadata": {},
   "outputs": [],
   "source": [
    "# Keep only 5 of the columns\n",
    "df=df[[\"Country\", \"EdLevel\", \"YearsCodePro\", \"Employment\", \"ConvertedCompYearly\"]]\n",
    "#Our target variable is called convertedCompYearly -- rename it to salary\n",
    "df=df.rename({\"ConvertedCompYearly\":\"Salary\"}, axix=1)\n",
    "df.head()"
   ]
  },
  {
   "cell_type": "code",
   "execution_count": null,
   "id": "f5dd93fc",
   "metadata": {},
   "outputs": [],
   "source": [
    "#remove rows where salary is null\n",
    "df=df[df[\"Salary\"].notnull()]\n",
    "df.info()\n",
    "\n",
    "df = df.dropna()\n",
    "df.isnull().sum()\n",
    "\n",
    "df[\"Employment\"].value_counts()"
   ]
  },
  {
   "cell_type": "code",
   "execution_count": null,
   "id": "ff517fb0",
   "metadata": {},
   "outputs": [],
   "source": [
    "df=df[df[\"Employment\"]==\"Employed full-time\"]\n",
    "df =df.drop[\"Employment\", axis=1] #since we have stripped out all the other options, no need to keep it\n",
    "df.info()"
   ]
  },
  {
   "cell_type": "code",
   "execution_count": null,
   "id": "fe4ee54a",
   "metadata": {},
   "outputs": [],
   "source": [
    "df['Country'].value_counts()"
   ]
  },
  {
   "cell_type": "code",
   "execution_count": null,
   "id": "f4ddb9ba",
   "metadata": {},
   "outputs": [],
   "source": [
    "def shorten_categories(categories, cutoff):\n",
    "    categorical_map={}\n",
    "    for i in range(len(categories)):\n",
    "        if categories.values[i]>= cutoff:\n",
    "            categorical_map[categories.index[i]]=categories.index[i]\n",
    "        else:\n",
    "            categorical_map[categorical.index[i]]='Other'\n",
    "    return categorical_map"
   ]
  },
  {
   "cell_type": "code",
   "execution_count": null,
   "id": "5b647b8b",
   "metadata": {
    "collapsed": true
   },
   "outputs": [],
   "source": [
    "country_map = shorten_categories(df['Country'].value_counts(),400)\n",
    "df['Country'] = df['Country'].map(country_map)\n",
    "df.Country.value_counts()"
   ]
  },
  {
   "cell_type": "code",
   "execution_count": null,
   "id": "a262d671",
   "metadata": {},
   "outputs": [],
   "source": [
    "print(df['YearsCodePro'].unique())"
   ]
  },
  {
   "cell_type": "code",
   "execution_count": null,
   "id": "33140e04",
   "metadata": {},
   "outputs": [],
   "source": [
    "def clean_experience(x):\n",
    "    if x=='More than 50 years':\n",
    "        return 50\n",
    "    if x=='Less than 1 year'\n",
    "        return 0.5\n",
    "    return float(x)"
   ]
  },
  {
   "cell_type": "code",
   "execution_count": null,
   "id": "86b5e27a",
   "metadata": {},
   "outputs": [],
   "source": [
    "df['YearsCodePro']=df['YearsCodePro'].apply(clean_experience)"
   ]
  },
  {
   "cell_type": "code",
   "execution_count": null,
   "id": "716d78a9",
   "metadata": {},
   "outputs": [],
   "source": [
    "print(df[\"EdLevel\"].unique())"
   ]
  },
  {
   "cell_type": "code",
   "execution_count": null,
   "id": "8fefb7e5",
   "metadata": {},
   "outputs": [],
   "source": [
    "def clean_education(x):\n",
    "    if 'Bachelor’s degree' in x:\n",
    "        return 'Bachelor’s degree'\n",
    "    if 'Master’s degree' in x:\n",
    "        return 'Master’s degree'\n",
    "    if 'Professional degree' in x or 'Other doctoral' in x:\n",
    "        return 'Post grad'\n",
    "    return 'Less than a Bachelors' "
   ]
  },
  {
   "cell_type": "code",
   "execution_count": null,
   "id": "d3ec1292",
   "metadata": {},
   "outputs": [],
   "source": [
    "df['EdLevel'] = df['EdLevel'].apply(clean_education) "
   ]
  },
  {
   "cell_type": "code",
   "execution_count": null,
   "id": "746a6f3c",
   "metadata": {},
   "outputs": [],
   "source": [
    "#add a label encoder\n",
    "from sklearn.preprocessing import LabelEncoder\n",
    "le_education = LabelEncoder()\n",
    "df['EdLevel'] = le_education.fit_transform(df['EdLevel'])\n",
    "df[\"EdLevel\"].unique()"
   ]
  },
  {
   "cell_type": "code",
   "execution_count": null,
   "id": "bc2f9b07",
   "metadata": {},
   "outputs": [],
   "source": [
    "df['Country'].unique()"
   ]
  },
  {
   "cell_type": "code",
   "execution_count": null,
   "id": "4cb467c5",
   "metadata": {},
   "outputs": [],
   "source": [
    "le_country = LabelEncoder()\n",
    "df['Country'] = le_country.fit_transform(df['Country'])\n",
    "df[\"Country\"].unique()"
   ]
  },
  {
   "cell_type": "code",
   "execution_count": null,
   "id": "0875f5d6",
   "metadata": {},
   "outputs": [],
   "source": [
    "X = df.drop(\"Salary\", axis=1)\n",
    "y = df[\"Salary\"]\n",
    "X = X.values\n",
    "y = y.values\n",
    "print(X.shape, y.shape)"
   ]
  },
  {
   "cell_type": "code",
   "execution_count": null,
   "id": "06c44be8",
   "metadata": {},
   "outputs": [],
   "source": [
    "from sklearn.linear_model import LinearRegression\n",
    "linear_reg = LinearRegression()\n",
    "linear_reg.fit(X, y)\n",
    "y_pred = linear_reg.predict(X)\n",
    "print(y_pred.shape)"
   ]
  },
  {
   "cell_type": "code",
   "execution_count": null,
   "id": "3201d783",
   "metadata": {},
   "outputs": [],
   "source": [
    "from sklearn.metrics import mean_squared_error\n",
    "import numpy as np\n",
    "error = np.sqrt(mean_squared_error(y, y_pred))\n",
    "print(error)"
   ]
  },
  {
   "cell_type": "code",
   "execution_count": null,
   "id": "363f90a2",
   "metadata": {},
   "outputs": [],
   "source": [
    "sample_data = np.array([[\"United States of America\", \"Master’s degree\", 15 ]])\n",
    "sample_data[:, 1] = le_education.transform(sample_data[:,1])\n",
    "sample_data[:, 0] = le_country.transform(sample_data[:,0])\n",
    "sample_data = sample_data.astype(float)\n",
    "print(sample_data)"
   ]
  },
  {
   "cell_type": "code",
   "execution_count": null,
   "id": "6e0a441f",
   "metadata": {},
   "outputs": [],
   "source": [
    "y_pred = linear_reg.predict(sample_data)\n",
    "print(y_pred)"
   ]
  },
  {
   "cell_type": "code",
   "execution_count": null,
   "id": "7395672b",
   "metadata": {},
   "outputs": [],
   "source": [
    "import pickle\n",
    "data = {\"model\": linear_reg, \"le_country\": le_country, \"le_education\": le_education}\n",
    "with open('saved_steps.pkl', 'wb') as file:\n",
    "    pickle.dump(data, file)"
   ]
  },
  {
   "cell_type": "code",
   "execution_count": null,
   "id": "1b826154",
   "metadata": {},
   "outputs": [],
   "source": [
    "with open('saved_steps.pkl', 'rb') as file:\n",
    "    data = pickle.load(file)\n",
    "loaded_model = data[\"model\"]\n",
    "le_country = data[\"le_country\"]\n",
    "le_education = data[\"le_education\"]"
   ]
  },
  {
   "cell_type": "code",
   "execution_count": null,
   "id": "538dbb95",
   "metadata": {},
   "outputs": [],
   "source": [
    "y_pred = loaded_model.predict(sample_data)\n",
    "print(y_pred)  "
   ]
  }
 ],
 "metadata": {
  "kernelspec": {
   "display_name": "tf2",
   "language": "python",
   "name": "tf2"
  },
  "language_info": {
   "codemirror_mode": {
    "name": "ipython",
    "version": 3
   },
   "file_extension": ".py",
   "mimetype": "text/x-python",
   "name": "python",
   "nbconvert_exporter": "python",
   "pygments_lexer": "ipython3",
   "version": "3.8.12"
  }
 },
 "nbformat": 4,
 "nbformat_minor": 5
}
