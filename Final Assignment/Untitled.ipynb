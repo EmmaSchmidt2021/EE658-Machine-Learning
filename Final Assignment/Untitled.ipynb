{
 "cells": [
  {
   "cell_type": "code",
   "execution_count": 5,
   "id": "919f5485",
   "metadata": {},
   "outputs": [],
   "source": [
    "ward_op = (['1','1.1'],'2,2.2')"
   ]
  },
  {
   "cell_type": "code",
   "execution_count": 6,
   "id": "0631b0c3",
   "metadata": {},
   "outputs": [
    {
     "name": "stdout",
     "output_type": "stream",
     "text": [
      "['1', '1.1']\n"
     ]
    }
   ],
   "source": [
    "print(ward_op[0])"
   ]
  },
  {
   "cell_type": "code",
   "execution_count": 8,
   "id": "b5a60f48",
   "metadata": {},
   "outputs": [],
   "source": [
    "ward_op = [[2.0, 2.2], [3.0, 3.3], [6.0, 6.6], [1.0, 1.1], [4.0, 4.4], [5.0,5.5], [8.0, 8.8], [7.0, 7.7]]\n"
   ]
  },
  {
   "cell_type": "code",
   "execution_count": 9,
   "id": "1501839f",
   "metadata": {},
   "outputs": [
    {
     "name": "stdout",
     "output_type": "stream",
     "text": [
      "[2.0, 2.2]\n"
     ]
    }
   ],
   "source": [
    "print(ward_op[0])"
   ]
  },
  {
   "cell_type": "code",
   "execution_count": 10,
   "id": "8eb28999",
   "metadata": {},
   "outputs": [
    {
     "name": "stdout",
     "output_type": "stream",
     "text": [
      "2.2\n"
     ]
    }
   ],
   "source": [
    "print(ward_op[0][1])"
   ]
  },
  {
   "cell_type": "code",
   "execution_count": null,
   "id": "41eb5a9d",
   "metadata": {},
   "outputs": [],
   "source": [
    "def ward_price_lookup(cols):\n",
    "    ward = cols[0]\n",
    "    price = cols[1]\n",
    "    if pd.isnull(price):\n",
    "        if ward == ward_op[0][0]:\n",
    "            return ward_op[0][1]\n",
    "        elif ward == ward_op[1][0]:\n",
    "            return ward_op[1][1]\n",
    "        elif ward == ward_op[2][0]:\n",
    "            return ward_op[2][1]\n",
    "        elif ward == ward_op[3][0]:\n",
    "            return ward_op[3][1]\n",
    "        elif ward == ward_op[4][0]:\n",
    "            return ward_op[4][1]\n",
    "        elif ward == ward_op[5][0]:\n",
    "            return ward_op[5][1]\n",
    "        elif ward == ward_op[6][0]:\n",
    "            return ward_op[6][1]\n",
    "        else:\n",
    "            return ward_op[7][1]\n",
    "    \n",
    "    else:\n",
    "        return price"
   ]
  },
  {
   "cell_type": "code",
   "execution_count": null,
   "id": "0716c1a5",
   "metadata": {},
   "outputs": [],
   "source": [
    "def ward_price_lookup(cols):\n",
    "    ward = cols[0]\n",
    "    price = cols[1]\n",
    "    if pd.isnull(price):\n",
    "        for i in range(len(ward_op)):\n",
    "            while(True):\n",
    "                if ward == ward_op[i][0]:\n",
    "                    return ward_op[i][1]\n",
    "    else:\n",
    "        return price\n"
   ]
  },
  {
   "cell_type": "code",
   "execution_count": null,
   "id": "fbf4a141",
   "metadata": {},
   "outputs": [],
   "source": []
  }
 ],
 "metadata": {
  "kernelspec": {
   "display_name": "Python 3 (ipykernel)",
   "language": "python",
   "name": "python3"
  },
  "language_info": {
   "codemirror_mode": {
    "name": "ipython",
    "version": 3
   },
   "file_extension": ".py",
   "mimetype": "text/x-python",
   "name": "python",
   "nbconvert_exporter": "python",
   "pygments_lexer": "ipython3",
   "version": "3.8.5"
  }
 },
 "nbformat": 4,
 "nbformat_minor": 5
}
