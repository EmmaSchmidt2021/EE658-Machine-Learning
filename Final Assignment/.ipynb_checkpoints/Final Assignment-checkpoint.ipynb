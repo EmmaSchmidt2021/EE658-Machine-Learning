{
 "cells": [
  {
   "cell_type": "code",
   "execution_count": 132,
   "id": "4b40acdb",
   "metadata": {},
   "outputs": [],
   "source": [
    "import numpy as np\n",
    "import pandas as pd\n",
    "import matplotlib.pyplot as plt"
   ]
  },
  {
   "cell_type": "code",
   "execution_count": 133,
   "id": "03fb1a2f",
   "metadata": {},
   "outputs": [
    {
     "name": "stderr",
     "output_type": "stream",
     "text": [
      "C:\\Users\\schmi\\AppData\\Local\\Temp/ipykernel_28060/2118158088.py:1: DtypeWarning: Columns (18,19,20,21,22,23,24,33,34,35,37,43,45) have mixed types. Specify dtype option on import or set low_memory=False.\n",
      "  df = pd.read_csv(\"./Housing.csv\")\n"
     ]
    }
   ],
   "source": [
    "df = pd.read_csv(\"./Housing.csv\")"
   ]
  },
  {
   "cell_type": "code",
   "execution_count": 134,
   "id": "a92e9522",
   "metadata": {},
   "outputs": [
    {
     "data": {
      "text/html": [
       "<div>\n",
       "<style scoped>\n",
       "    .dataframe tbody tr th:only-of-type {\n",
       "        vertical-align: middle;\n",
       "    }\n",
       "\n",
       "    .dataframe tbody tr th {\n",
       "        vertical-align: top;\n",
       "    }\n",
       "\n",
       "    .dataframe thead th {\n",
       "        text-align: right;\n",
       "    }\n",
       "</style>\n",
       "<table border=\"1\" class=\"dataframe\">\n",
       "  <thead>\n",
       "    <tr style=\"text-align: right;\">\n",
       "      <th></th>\n",
       "      <th>Unnamed: 0</th>\n",
       "      <th>BATHRM</th>\n",
       "      <th>HF_BATHRM</th>\n",
       "      <th>HEAT</th>\n",
       "      <th>AC</th>\n",
       "      <th>NUM_UNITS</th>\n",
       "      <th>ROOMS</th>\n",
       "      <th>BEDRM</th>\n",
       "      <th>AYB</th>\n",
       "      <th>YR_RMDL</th>\n",
       "      <th>...</th>\n",
       "      <th>LONGITUDE</th>\n",
       "      <th>ASSESSMENT_NBHD</th>\n",
       "      <th>ASSESSMENT_SUBNBHD</th>\n",
       "      <th>CENSUS_TRACT</th>\n",
       "      <th>CENSUS_BLOCK</th>\n",
       "      <th>WARD</th>\n",
       "      <th>SQUARE</th>\n",
       "      <th>X</th>\n",
       "      <th>Y</th>\n",
       "      <th>QUADRANT</th>\n",
       "    </tr>\n",
       "  </thead>\n",
       "  <tbody>\n",
       "    <tr>\n",
       "      <th>0</th>\n",
       "      <td>0</td>\n",
       "      <td>4</td>\n",
       "      <td>0</td>\n",
       "      <td>Warm Cool</td>\n",
       "      <td>Y</td>\n",
       "      <td>2.0</td>\n",
       "      <td>8</td>\n",
       "      <td>4</td>\n",
       "      <td>1910.0</td>\n",
       "      <td>1988.0</td>\n",
       "      <td>...</td>\n",
       "      <td>-77.040832</td>\n",
       "      <td>Old City 2</td>\n",
       "      <td>040 D Old City 2</td>\n",
       "      <td>4201.0</td>\n",
       "      <td>004201 2006</td>\n",
       "      <td>Ward 2</td>\n",
       "      <td>152</td>\n",
       "      <td>-77.040429</td>\n",
       "      <td>38.914881</td>\n",
       "      <td>NW</td>\n",
       "    </tr>\n",
       "    <tr>\n",
       "      <th>1</th>\n",
       "      <td>1</td>\n",
       "      <td>3</td>\n",
       "      <td>1</td>\n",
       "      <td>Warm Cool</td>\n",
       "      <td>Y</td>\n",
       "      <td>2.0</td>\n",
       "      <td>11</td>\n",
       "      <td>5</td>\n",
       "      <td>1898.0</td>\n",
       "      <td>2007.0</td>\n",
       "      <td>...</td>\n",
       "      <td>-77.040764</td>\n",
       "      <td>Old City 2</td>\n",
       "      <td>040 D Old City 2</td>\n",
       "      <td>4201.0</td>\n",
       "      <td>004201 2006</td>\n",
       "      <td>Ward 2</td>\n",
       "      <td>152</td>\n",
       "      <td>-77.040429</td>\n",
       "      <td>38.914881</td>\n",
       "      <td>NW</td>\n",
       "    </tr>\n",
       "    <tr>\n",
       "      <th>2</th>\n",
       "      <td>2</td>\n",
       "      <td>3</td>\n",
       "      <td>1</td>\n",
       "      <td>Hot Water Rad</td>\n",
       "      <td>Y</td>\n",
       "      <td>2.0</td>\n",
       "      <td>9</td>\n",
       "      <td>5</td>\n",
       "      <td>1910.0</td>\n",
       "      <td>2009.0</td>\n",
       "      <td>...</td>\n",
       "      <td>-77.040678</td>\n",
       "      <td>Old City 2</td>\n",
       "      <td>040 D Old City 2</td>\n",
       "      <td>4201.0</td>\n",
       "      <td>004201 2006</td>\n",
       "      <td>Ward 2</td>\n",
       "      <td>152</td>\n",
       "      <td>-77.040429</td>\n",
       "      <td>38.914881</td>\n",
       "      <td>NW</td>\n",
       "    </tr>\n",
       "    <tr>\n",
       "      <th>3</th>\n",
       "      <td>3</td>\n",
       "      <td>3</td>\n",
       "      <td>1</td>\n",
       "      <td>Hot Water Rad</td>\n",
       "      <td>Y</td>\n",
       "      <td>2.0</td>\n",
       "      <td>8</td>\n",
       "      <td>5</td>\n",
       "      <td>1900.0</td>\n",
       "      <td>2003.0</td>\n",
       "      <td>...</td>\n",
       "      <td>-77.040629</td>\n",
       "      <td>Old City 2</td>\n",
       "      <td>040 D Old City 2</td>\n",
       "      <td>4201.0</td>\n",
       "      <td>004201 2006</td>\n",
       "      <td>Ward 2</td>\n",
       "      <td>152</td>\n",
       "      <td>-77.040429</td>\n",
       "      <td>38.914881</td>\n",
       "      <td>NW</td>\n",
       "    </tr>\n",
       "    <tr>\n",
       "      <th>4</th>\n",
       "      <td>4</td>\n",
       "      <td>2</td>\n",
       "      <td>1</td>\n",
       "      <td>Warm Cool</td>\n",
       "      <td>Y</td>\n",
       "      <td>1.0</td>\n",
       "      <td>11</td>\n",
       "      <td>3</td>\n",
       "      <td>1913.0</td>\n",
       "      <td>2012.0</td>\n",
       "      <td>...</td>\n",
       "      <td>-77.039361</td>\n",
       "      <td>Old City 2</td>\n",
       "      <td>040 D Old City 2</td>\n",
       "      <td>4201.0</td>\n",
       "      <td>004201 2006</td>\n",
       "      <td>Ward 2</td>\n",
       "      <td>152</td>\n",
       "      <td>-77.040429</td>\n",
       "      <td>38.914881</td>\n",
       "      <td>NW</td>\n",
       "    </tr>\n",
       "  </tbody>\n",
       "</table>\n",
       "<p>5 rows × 49 columns</p>\n",
       "</div>"
      ],
      "text/plain": [
       "   Unnamed: 0  BATHRM  HF_BATHRM           HEAT AC  NUM_UNITS  ROOMS  BEDRM  \\\n",
       "0           0       4          0      Warm Cool  Y        2.0      8      4   \n",
       "1           1       3          1      Warm Cool  Y        2.0     11      5   \n",
       "2           2       3          1  Hot Water Rad  Y        2.0      9      5   \n",
       "3           3       3          1  Hot Water Rad  Y        2.0      8      5   \n",
       "4           4       2          1      Warm Cool  Y        1.0     11      3   \n",
       "\n",
       "      AYB  YR_RMDL  ...  LONGITUDE  ASSESSMENT_NBHD ASSESSMENT_SUBNBHD  \\\n",
       "0  1910.0   1988.0  ... -77.040832       Old City 2   040 D Old City 2   \n",
       "1  1898.0   2007.0  ... -77.040764       Old City 2   040 D Old City 2   \n",
       "2  1910.0   2009.0  ... -77.040678       Old City 2   040 D Old City 2   \n",
       "3  1900.0   2003.0  ... -77.040629       Old City 2   040 D Old City 2   \n",
       "4  1913.0   2012.0  ... -77.039361       Old City 2   040 D Old City 2   \n",
       "\n",
       "   CENSUS_TRACT CENSUS_BLOCK    WARD  SQUARE          X          Y QUADRANT  \n",
       "0        4201.0  004201 2006  Ward 2     152 -77.040429  38.914881       NW  \n",
       "1        4201.0  004201 2006  Ward 2     152 -77.040429  38.914881       NW  \n",
       "2        4201.0  004201 2006  Ward 2     152 -77.040429  38.914881       NW  \n",
       "3        4201.0  004201 2006  Ward 2     152 -77.040429  38.914881       NW  \n",
       "4        4201.0  004201 2006  Ward 2     152 -77.040429  38.914881       NW  \n",
       "\n",
       "[5 rows x 49 columns]"
      ]
     },
     "execution_count": 134,
     "metadata": {},
     "output_type": "execute_result"
    }
   ],
   "source": [
    "df.head()"
   ]
  },
  {
   "cell_type": "code",
   "execution_count": 135,
   "id": "d1e64190",
   "metadata": {},
   "outputs": [
    {
     "name": "stdout",
     "output_type": "stream",
     "text": [
      "<class 'pandas.core.frame.DataFrame'>\n",
      "RangeIndex: 158957 entries, 0 to 158956\n",
      "Data columns (total 49 columns):\n",
      " #   Column              Non-Null Count   Dtype  \n",
      "---  ------              --------------   -----  \n",
      " 0   Unnamed: 0          158957 non-null  int64  \n",
      " 1   BATHRM              158957 non-null  int64  \n",
      " 2   HF_BATHRM           158957 non-null  int64  \n",
      " 3   HEAT                158957 non-null  object \n",
      " 4   AC                  158957 non-null  object \n",
      " 5   NUM_UNITS           106696 non-null  float64\n",
      " 6   ROOMS               158957 non-null  int64  \n",
      " 7   BEDRM               158957 non-null  int64  \n",
      " 8   AYB                 158686 non-null  float64\n",
      " 9   YR_RMDL             80928 non-null   float64\n",
      " 10  EYB                 158957 non-null  int64  \n",
      " 11  STORIES             106652 non-null  float64\n",
      " 12  SALEDATE            132187 non-null  object \n",
      " 13  PRICE               98216 non-null   float64\n",
      " 14  QUALIFIED           158957 non-null  object \n",
      " 15  SALE_NUM            158957 non-null  int64  \n",
      " 16  GBA                 106696 non-null  float64\n",
      " 17  BLDG_NUM            158957 non-null  int64  \n",
      " 18  STYLE               106696 non-null  object \n",
      " 19  STRUCT              106696 non-null  object \n",
      " 20  GRADE               106696 non-null  object \n",
      " 21  CNDTN               106696 non-null  object \n",
      " 22  EXTWALL             106696 non-null  object \n",
      " 23  ROOF                106696 non-null  object \n",
      " 24  INTWALL             106696 non-null  object \n",
      " 25  KITCHENS            106695 non-null  float64\n",
      " 26  FIREPLACES          158957 non-null  int64  \n",
      " 27  USECODE             158957 non-null  int64  \n",
      " 28  LANDAREA            158957 non-null  int64  \n",
      " 29  GIS_LAST_MOD_DTTM   158957 non-null  object \n",
      " 30  SOURCE              158957 non-null  object \n",
      " 31  CMPLX_NUM           52261 non-null   float64\n",
      " 32  LIVING_GBA          52261 non-null   float64\n",
      " 33  FULLADDRESS         106040 non-null  object \n",
      " 34  CITY                106051 non-null  object \n",
      " 35  STATE               106051 non-null  object \n",
      " 36  ZIPCODE             158956 non-null  float64\n",
      " 37  NATIONALGRID        106051 non-null  object \n",
      " 38  LATITUDE            158956 non-null  float64\n",
      " 39  LONGITUDE           158956 non-null  float64\n",
      " 40  ASSESSMENT_NBHD     158956 non-null  object \n",
      " 41  ASSESSMENT_SUBNBHD  126406 non-null  object \n",
      " 42  CENSUS_TRACT        158956 non-null  float64\n",
      " 43  CENSUS_BLOCK        106051 non-null  object \n",
      " 44  WARD                158956 non-null  object \n",
      " 45  SQUARE              158957 non-null  object \n",
      " 46  X                   158720 non-null  float64\n",
      " 47  Y                   158720 non-null  float64\n",
      " 48  QUADRANT            158720 non-null  object \n",
      "dtypes: float64(15), int64(11), object(23)\n",
      "memory usage: 59.4+ MB\n"
     ]
    }
   ],
   "source": [
    "df.info()"
   ]
  },
  {
   "cell_type": "code",
   "execution_count": 136,
   "id": "c25ed458",
   "metadata": {},
   "outputs": [],
   "source": [
    "def find_unique(df):\n",
    "    objectColumns = df.dtypes[df.dtypes == object]\n",
    "    numberColumns = df.dtypes[df.dtypes != object]\n",
    "    text_to_num = list(objectColumns.index)\n",
    "    num_list = list(numberColumns.index)\n",
    "    #print('numerical colums are: ', num_list)\n",
    "    for i in range(len(text_to_num)):\n",
    "        col_name = text_to_num[i]\n",
    "        print(\"\\nthere are \" + str(df[col_name].nunique()) +\" different types in the column \"+ col_name +\":\\n\")\n",
    "        print(df[col_name].unique())"
   ]
  },
  {
   "cell_type": "code",
   "execution_count": 137,
   "id": "a6cc35c9",
   "metadata": {},
   "outputs": [
    {
     "name": "stdout",
     "output_type": "stream",
     "text": [
      "\n",
      "there are 14 different types in the column HEAT:\n",
      "\n",
      "['Warm Cool' 'Hot Water Rad' 'Forced Air' 'Elec Base Brd' 'Ht Pump'\n",
      " 'Electric Rad' 'Wall Furnace' 'Water Base Brd' 'Evp Cool' 'Air Exchng'\n",
      " 'No Data' 'Ind Unit' 'Gravity Furnac' 'Air-Oil']\n",
      "\n",
      "there are 3 different types in the column AC:\n",
      "\n",
      "['Y' 'N' '0']\n",
      "\n",
      "there are 6937 different types in the column SALEDATE:\n",
      "\n",
      "['11/25/2003 0:00' '8/17/2000 0:00' '6/21/2016 0:00' ... '2/16/1995 0:00'\n",
      " '2/14/1994 0:00' '8/6/1993 0:00']\n",
      "\n",
      "there are 2 different types in the column QUALIFIED:\n",
      "\n",
      "['Q' 'U']\n",
      "\n",
      "there are 18 different types in the column STYLE:\n",
      "\n",
      "['3 Story' '4 Story' '2 Story' '2.5 Story Fin' '3.5 Story Fin' '1 Story'\n",
      " '1.5 Story Fin' '2.5 Story Unfin' '3.5 Story Unfin' 'Default'\n",
      " '1.5 Story Unfin' '4.5 Story Fin' 'Split Level' 'Bi-Level' 'Split Foyer'\n",
      " 'Vacant' 'Outbuildings' '4.5 Story Unfin' nan]\n",
      "\n",
      "there are 9 different types in the column STRUCT:\n",
      "\n",
      "['Row Inside' 'Semi-Detached' 'Single' 'Row End' 'Multi' 'Town Inside'\n",
      " 'Town End' 'Default' 'Vacant Land' nan]\n",
      "\n",
      "there are 13 different types in the column GRADE:\n",
      "\n",
      "['Very Good' 'Above Average' 'Good Quality' 'Excellent' 'Average'\n",
      " 'Superior' 'Fair Quality' 'Exceptional-D' 'Exceptional-C' 'Low Quality'\n",
      " 'Exceptional-A' 'Exceptional-B' 'No Data' nan]\n",
      "\n",
      "there are 7 different types in the column CNDTN:\n",
      "\n",
      "['Good' 'Very Good' 'Average' 'Fair' 'Excellent' 'Poor' 'Default' nan]\n",
      "\n",
      "there are 25 different types in the column EXTWALL:\n",
      "\n",
      "['Common Brick' 'Brick/Stone' 'Stucco' 'Stone' 'Stucco Block'\n",
      " 'Brick/Stucco' 'Concrete Block' 'Face Brick' 'Wood Siding' 'Aluminum'\n",
      " 'Brick/Siding' 'Vinyl Siding' 'Stone Veneer' 'Brick Veneer'\n",
      " 'Stone/Stucco' 'Stone/Siding' 'Metal Siding' 'Shingle' 'Concrete'\n",
      " 'Plywood' 'Hardboard' 'Default' 'Adobe' 'Rustic Log' 'SPlaster' nan]\n",
      "\n",
      "there are 16 different types in the column ROOF:\n",
      "\n",
      "['Metal- Sms' 'Built Up' 'Neopren' 'Comp Shingle' 'Metal- Cpr' 'Typical'\n",
      " 'Slate' 'Composition Ro' 'Metal- Pre' 'Shingle' 'Concrete' 'Shake'\n",
      " 'Clay Tile' 'Water Proof' 'Concrete Tile' 'Wood- FS' nan]\n",
      "\n",
      "there are 12 different types in the column INTWALL:\n",
      "\n",
      "['Hardwood' 'Wood Floor' 'Hardwood/Carp' 'Carpet' 'Lt Concrete'\n",
      " 'Vinyl Comp' 'Ceramic Tile' 'Default' 'Terrazo' 'Parquet' 'Vinyl Sheet'\n",
      " 'Resiliant' nan]\n",
      "\n",
      "there are 1 different types in the column GIS_LAST_MOD_DTTM:\n",
      "\n",
      "['7/22/2018 18:01']\n",
      "\n",
      "there are 2 different types in the column SOURCE:\n",
      "\n",
      "['Residential' 'Condominium']\n",
      "\n",
      "there are 105978 different types in the column FULLADDRESS:\n",
      "\n",
      "['1748 SWANN STREET NW' '1746 SWANN STREET NW' '1744 SWANN STREET NW' ...\n",
      " '131 JOLIET STREET SW' '135 JOLIET STREET SW' '139 JOLIET STREET SW']\n",
      "\n",
      "there are 1 different types in the column CITY:\n",
      "\n",
      "['WASHINGTON' nan]\n",
      "\n",
      "there are 1 different types in the column STATE:\n",
      "\n",
      "['DC' nan]\n",
      "\n",
      "there are 105949 different types in the column NATIONALGRID:\n",
      "\n",
      "['18S UJ 23061 09289' '18S UJ 23067 09289' '18S UJ 23074 09289' ...\n",
      " '18S UH 25815 98879' '18S UH 25807 98865' '18S UH 25804 98859']\n",
      "\n",
      "there are 57 different types in the column ASSESSMENT_NBHD:\n",
      "\n",
      "['Old City 2' 'Foggy Bottom' 'Central-tri 1' 'Old City 1'\n",
      " 'Southwest Waterfront' 'Capitol Hill' 'Georgetown' 'Glover Park'\n",
      " 'Burleith' 'Palisades' 'Berkley' 'Foxhall' 'Kent' 'Wesley Heights'\n",
      " 'American University' 'Spring Valley' 'Chevy Chase'\n",
      " 'North Cleveland Park' 'Wakefield' 'Cleveland Park' 'Observatory Circle'\n",
      " 'Forest Hills' 'Massachusetts Avenue Heights' 'Woodley' 'Takoma Park'\n",
      " 'Rock Creek Park' 'Kalorama' 'Garfield' 'Hawthorne' 'Mt. Pleasant'\n",
      " 'Crestwood' 'Columbia Heights' '16th Street Heights' 'Brightwood'\n",
      " 'Shepherd Heights' 'Colonial Village' 'Petworth' 'Ledroit Park'\n",
      " 'Eckington' 'Chillum' 'Brookland' 'Riggs Park' 'Brentwood' 'Trinidad'\n",
      " 'Woodridge' 'Michigan Park' 'Fort Lincoln' 'Lily Ponds' 'Deanwood'\n",
      " 'Marshall Heights' 'Fort Dupont Park' 'Hillcrest' 'Anacostia'\n",
      " 'Randle Heights' 'Barry Farms' 'Congress Heights' nan 'Central-tri 3']\n",
      "\n",
      "there are 121 different types in the column ASSESSMENT_SUBNBHD:\n",
      "\n",
      "['040 D Old City 2' '040 E Old City 2' nan '040 C Old City 2'\n",
      " '040 F Old City 2' '040 G Old City 2' '040 B Old City 2'\n",
      " '040 A Old City 2' '039 E Old City 1' '009 C Capitol Hill'\n",
      " '009 A Capitol Hill' '039 J Old City 1' '039 K Old City 1'\n",
      " '039 C Old City 1' '039 L Old City 1' '009 B Capitol Hill'\n",
      " '039 M Old City 1' '039 F Old City 1' '039 B Old City 1'\n",
      " '039 D Old City 1' '039 A Old City 1' '039 G Old City 1'\n",
      " '039 H Old City 1' '025 D Georgetown' '025 G Georgetown'\n",
      " '025 J Georgetown' '025 H Georgetown' '025 I Georgetown'\n",
      " '025 B Georgetown' '025 E Georgetown' '025 F Georgetown' '008 B Burleith'\n",
      " '008 A Burleith' '025 A Georgetown' '025 C Georgetown' '041 B Palisades'\n",
      " '004 A Berkley' '004 C Berkley' '030 C Kent' '004 B Berkley' '030 B Kent'\n",
      " '054 A Wesley Heights' '041 A Palisades' '001 B American University'\n",
      " '050 A Spring Valley' '001 C American University' '050 B Spring Valley'\n",
      " '030 A Kent' '050 D Spring Valley' '050 C Spring Valley'\n",
      " '054 B Wesley Heights' '001 A American University' '011 A Chevy Chase'\n",
      " '011 C Chevy Chase' '011 B Chevy Chase' '011 E Chevy Chase'\n",
      " '011 D Chevy Chase' '029 A Kalorama' '029 C Kalorama'\n",
      " '036 A Mt. Pleasant' '036 C Mt. Pleasant' '029 B Kalorama'\n",
      " '036 B Mt. Pleasant' '007 E Brookland' '015 A Columbia Heights'\n",
      " '015 B Columbia Heights' '049 A 16th Street Heights' '006 A Brightwood'\n",
      " '049 B 16th Street Heights' '015 D Columbia Heights'\n",
      " '015 E Columbia Heights' '049 C 16th Street Heights' '006 E Brightwood'\n",
      " '042 B Petworth' '006 C Brightwood' '006 B Brightwood' '006 D Brightwood'\n",
      " '015 C Columbia Heights' '031 A Ledroit Park' '042 A Petworth'\n",
      " '019 A Eckington' '031 B Ledroit Park' '042 C Petworth' '019 B Eckington'\n",
      " '007 A Brookland' '007 B Brookland' '007 C Brookland' '005 A Brentwood'\n",
      " '007 D Brookland' '052 A Trinidad' '052 B Trinidad' '005 B Brentwood'\n",
      " '056 C Woodridge' '056 A Woodridge' '056 B Woodridge' '052 C Trinidad'\n",
      " '056 D Woodridge' '032 B Lily Ponds' '018 A Deanwood' '032 A Lily Ponds'\n",
      " '018 E Deanwood' '018 B Deanwood' '018 C Deanwood'\n",
      " '033 A Marshall Heights' '018 D Deanwood' '033 B Marshall Heights'\n",
      " '022 C Fort Dupont Park' '022 D Fort Dupont Park' '028 A Hillcrest'\n",
      " '022 B Fort Dupont Park' '022 A Fort Dupont Park' '002 B Anacostia'\n",
      " '028 B Hillcrest' '043 A Randle Heights' '028 C Hillcrest'\n",
      " '043 B Randle Heights' '002 A Anacostia' '043 C Randle Heights'\n",
      " '043 D Randle Heights' '016 B Congress Heights' '016 C Congress Heights'\n",
      " '016 A Congress Heights']\n",
      "\n",
      "there are 3848 different types in the column CENSUS_BLOCK:\n",
      "\n",
      "['004201 2006' '004201 2005' '005201 4003' ... '009811 2004' '010400 2013'\n",
      " '010900 2000']\n",
      "\n",
      "there are 8 different types in the column WARD:\n",
      "\n",
      "['Ward 2' 'Ward 1' 'Ward 6' 'Ward 5' 'Ward 3' 'Ward 4' 'Ward 7' 'Ward 8'\n",
      " nan]\n",
      "\n",
      "there are 3512 different types in the column SQUARE:\n",
      "\n",
      "[152 208 191 ... 486 502 456]\n",
      "\n",
      "there are 4 different types in the column QUADRANT:\n",
      "\n",
      "['NW' 'SW' 'SE' 'NE' nan]\n"
     ]
    }
   ],
   "source": [
    "find_unique(df)"
   ]
  },
  {
   "cell_type": "code",
   "execution_count": 138,
   "id": "f0c2bbde",
   "metadata": {},
   "outputs": [],
   "source": [
    "#eliminate the non residential source\n",
    "df = df[df.SOURCE == 'Residential']"
   ]
  },
  {
   "cell_type": "code",
   "execution_count": 139,
   "id": "8c6e04d5",
   "metadata": {},
   "outputs": [
    {
     "data": {
      "text/plain": [
       "Unnamed: 0                 0\n",
       "BATHRM                     0\n",
       "HF_BATHRM                  0\n",
       "HEAT                       0\n",
       "AC                         0\n",
       "NUM_UNITS                  0\n",
       "ROOMS                      0\n",
       "BEDRM                      0\n",
       "AYB                      241\n",
       "YR_RMDL                57417\n",
       "EYB                        0\n",
       "STORIES                   44\n",
       "SALEDATE               22513\n",
       "PRICE                  48796\n",
       "QUALIFIED                  0\n",
       "SALE_NUM                   0\n",
       "GBA                        0\n",
       "BLDG_NUM                   0\n",
       "STYLE                      0\n",
       "STRUCT                     0\n",
       "GRADE                      0\n",
       "CNDTN                      0\n",
       "EXTWALL                    0\n",
       "ROOF                       0\n",
       "INTWALL                    0\n",
       "KITCHENS                   1\n",
       "FIREPLACES                 0\n",
       "USECODE                    0\n",
       "LANDAREA                   0\n",
       "GIS_LAST_MOD_DTTM          0\n",
       "SOURCE                     0\n",
       "CMPLX_NUM             106696\n",
       "LIVING_GBA            106696\n",
       "FULLADDRESS              656\n",
       "CITY                     645\n",
       "STATE                    645\n",
       "ZIPCODE                    1\n",
       "NATIONALGRID             645\n",
       "LATITUDE                   1\n",
       "LONGITUDE                  1\n",
       "ASSESSMENT_NBHD            1\n",
       "ASSESSMENT_SUBNBHD     15536\n",
       "CENSUS_TRACT               1\n",
       "CENSUS_BLOCK             645\n",
       "WARD                       1\n",
       "SQUARE                     0\n",
       "X                        237\n",
       "Y                        237\n",
       "QUADRANT                 237\n",
       "dtype: int64"
      ]
     },
     "execution_count": 139,
     "metadata": {},
     "output_type": "execute_result"
    }
   ],
   "source": [
    "df.isna().sum()"
   ]
  },
  {
   "cell_type": "markdown",
   "id": "f659f781",
   "metadata": {},
   "source": [
    "### based on the missing values, lets elimnate some columns to help fill in the dataset\n",
    "- get rid of cmplx_num and living_gba\n",
    "-- the number on the building probably doesnt hold much predicive value and we have more values in gba as well\n",
    "- get rid of the number of units - we have no missing values in rooms, bedrooms, bathrooms, or kitches so this should be fine\n",
    "- get rid of full address, city, state - none of these matter in prediciton\n",
    "- get rid of AYB, this information is better captured in eyb which has no missing values\n",
    "- get rid of sale number and building number\n",
    "- get rid of national grid, longitude and latitude"
   ]
  },
  {
   "cell_type": "code",
   "execution_count": 140,
   "id": "09a746f2",
   "metadata": {},
   "outputs": [],
   "source": [
    "df.drop(\"CMPLX_NUM\", inplace=True, axis=1)"
   ]
  },
  {
   "cell_type": "code",
   "execution_count": 141,
   "id": "0cb1584e",
   "metadata": {},
   "outputs": [],
   "source": [
    "df.drop([\"NUM_UNITS\",\"AYB\",\"SALEDATE\",\"Unnamed: 0\"], inplace=True, axis=1)"
   ]
  },
  {
   "cell_type": "code",
   "execution_count": 142,
   "id": "09277b78",
   "metadata": {},
   "outputs": [],
   "source": [
    "df.drop([\"SALE_NUM\",\"BLDG_NUM\",\"LIVING_GBA\",\"FULLADDRESS\",\"CITY\", \"STATE\",\"NATIONALGRID\",\"X\",\"Y\",\"SOURCE\",\"STORIES\"], inplace=True, axis=1)"
   ]
  },
  {
   "cell_type": "code",
   "execution_count": 143,
   "id": "0e1033c6",
   "metadata": {},
   "outputs": [
    {
     "data": {
      "text/plain": [
       "BATHRM                    0\n",
       "HF_BATHRM                 0\n",
       "HEAT                      0\n",
       "AC                        0\n",
       "ROOMS                     0\n",
       "BEDRM                     0\n",
       "EYB                       0\n",
       "PRICE                 48796\n",
       "QUALIFIED                 0\n",
       "GBA                       0\n",
       "STYLE                     0\n",
       "STRUCT                    0\n",
       "GRADE                     0\n",
       "CNDTN                     0\n",
       "FIREPLACES                0\n",
       "USECODE                   0\n",
       "LANDAREA                  0\n",
       "GIS_LAST_MOD_DTTM         0\n",
       "ZIPCODE                   1\n",
       "LATITUDE                  1\n",
       "LONGITUDE                 1\n",
       "ASSESSMENT_NBHD           1\n",
       "ASSESSMENT_SUBNBHD    15536\n",
       "CENSUS_TRACT              1\n",
       "WARD                      1\n",
       "SQUARE                    0\n",
       "QUADRANT                237\n",
       "dtype: int64"
      ]
     },
     "execution_count": 143,
     "metadata": {},
     "output_type": "execute_result"
    }
   ],
   "source": [
    "#lets also get rid of census block, that should be convered well enough by census tract\n",
    "#roof, exterior wall, interior wall, have too many values missing to really be helpful\n",
    "# honestly how many houses will have more than one kitchen\n",
    "# more than half of the year remodel missing won't be a helpful predictor\n",
    "df.drop([\"EXTWALL\",\"ROOF\",\"INTWALL\",\"KITCHENS\",\"CENSUS_BLOCK\", \"YR_RMDL\" ], inplace=True, axis=1)\n",
    "df.isna().sum()"
   ]
  },
  {
   "cell_type": "code",
   "execution_count": 144,
   "id": "48c87867",
   "metadata": {},
   "outputs": [],
   "source": [
    "#subneighborhood seems unimportant and has several missing values\n",
    "#stories and quadrant are missing values and seem to be small enough to eliminate but still have a\n",
    "#good amount of data\n",
    "\n",
    "df.drop([\"ASSESSMENT_SUBNBHD\", \"QUADRANT\"], inplace=True, axis=1)\n",
    "\n",
    "# lets get rid of the entries where we only have one value\n",
    "# only keep the rows if zipcode is not null\n",
    "df = df[df.ZIPCODE.notnull()]"
   ]
  },
  {
   "cell_type": "code",
   "execution_count": 145,
   "id": "8fd5018b",
   "metadata": {},
   "outputs": [
    {
     "data": {
      "text/plain": [
       "BATHRM                   0\n",
       "HF_BATHRM                0\n",
       "HEAT                     0\n",
       "AC                       0\n",
       "ROOMS                    0\n",
       "BEDRM                    0\n",
       "EYB                      0\n",
       "PRICE                48795\n",
       "QUALIFIED                0\n",
       "GBA                      0\n",
       "STYLE                    0\n",
       "STRUCT                   0\n",
       "GRADE                    0\n",
       "CNDTN                    0\n",
       "FIREPLACES               0\n",
       "USECODE                  0\n",
       "LANDAREA                 0\n",
       "GIS_LAST_MOD_DTTM        0\n",
       "ZIPCODE                  0\n",
       "LATITUDE                 0\n",
       "LONGITUDE                0\n",
       "ASSESSMENT_NBHD          0\n",
       "CENSUS_TRACT             0\n",
       "WARD                     0\n",
       "SQUARE                   0\n",
       "dtype: int64"
      ]
     },
     "execution_count": 145,
     "metadata": {},
     "output_type": "execute_result"
    }
   ],
   "source": [
    "df.isna().sum()"
   ]
  },
  {
   "cell_type": "markdown",
   "id": "48fdd65f",
   "metadata": {},
   "source": [
    "## Price is the most important data we want to fill in\n",
    "### Find a similar spread in another graph and match based on bins or quantile\n",
    "### We should also be able to eliminate other less useful pieces of information like fireplaes"
   ]
  },
  {
   "cell_type": "markdown",
   "id": "4f7772bf",
   "metadata": {},
   "source": [
    "# Part A: Cleaning the data\n",
    "\n",
    "## Implement a sensible approabch for dealing with missing data\n",
    "### After that\n",
    "- change all the values in the dataset into numerical values\n",
    "- substitute dummy columns for categorical variables\n",
    "- eliminate any colums that may not be relevant to objectives"
   ]
  },
  {
   "cell_type": "code",
   "execution_count": 146,
   "id": "6a88b6f2",
   "metadata": {},
   "outputs": [],
   "source": [
    "df.drop([\"QUALIFIED\", \"HEAT\",\"USECODE\",\"LATITUDE\",\"LONGITUDE\",\"CENSUS_TRACT\"], inplace=True, axis=1)"
   ]
  },
  {
   "cell_type": "code",
   "execution_count": 147,
   "id": "cb47a92f",
   "metadata": {},
   "outputs": [
    {
     "data": {
      "text/plain": [
       "<AxesSubplot:>"
      ]
     },
     "execution_count": 147,
     "metadata": {},
     "output_type": "execute_result"
    },
    {
     "data": {
      "image/png": "[encoded data removed]",
      "text/plain": [
       "<Figure size 432x288 with 1 Axes>"
      ]
     },
     "metadata": {
      "needs_background": "light"
     },
     "output_type": "display_data"
    }
   ],
   "source": [
    "df[\"PRICE\"].plot()"
   ]
  },
  {
   "cell_type": "code",
   "execution_count": 148,
   "id": "dacde776",
   "metadata": {},
   "outputs": [],
   "source": [
    "# add a new column that adds rooms baths and half baths \n",
    "# plot against stories\n",
    "df['ALL_RM'] = df.apply(lambda row: row.BATHRM + row.HF_BATHRM + row.ROOMS + row.BEDRM, axis=1)"
   ]
  },
  {
   "cell_type": "code",
   "execution_count": 149,
   "id": "c90c00d6",
   "metadata": {},
   "outputs": [
    {
     "data": {
      "text/plain": [
       "<AxesSubplot:xlabel='ROOMS'>"
      ]
     },
     "execution_count": 149,
     "metadata": {},
     "output_type": "execute_result"
    },
    {
     "data": {
      "image/png": "[encoded data removed]",
      "text/plain": [
       "<Figure size 432x288 with 1 Axes>"
      ]
     },
     "metadata": {
      "needs_background": "light"
     },
     "output_type": "display_data"
    }
   ],
   "source": [
    "df.plot(x='ROOMS', y='PRICE', style='o')"
   ]
  },
  {
   "cell_type": "code",
   "execution_count": 150,
   "id": "cbaf1c09",
   "metadata": {},
   "outputs": [
    {
     "data": {
      "text/plain": [
       "<AxesSubplot:xlabel='ALL_RM'>"
      ]
     },
     "execution_count": 150,
     "metadata": {},
     "output_type": "execute_result"
    },
    {
     "data": {
      "image/png": "[encoded data removed]",
      "text/plain": [
       "<Figure size 432x288 with 1 Axes>"
      ]
     },
     "metadata": {
      "needs_background": "light"
     },
     "output_type": "display_data"
    }
   ],
   "source": [
    "df.plot(x='ALL_RM', y='PRICE', style='o')\n",
    "#that results in the same distribution, so lets get rid of that"
   ]
  },
  {
   "cell_type": "code",
   "execution_count": 151,
   "id": "1822ae38",
   "metadata": {},
   "outputs": [
    {
     "data": {
      "text/plain": [
       "<AxesSubplot:xlabel='EYB'>"
      ]
     },
     "execution_count": 151,
     "metadata": {},
     "output_type": "execute_result"
    },
    {
     "data": {
      "image/png": "[encoded data removed]",
      "text/plain": [
       "<Figure size 432x288 with 1 Axes>"
      ]
     },
     "metadata": {
      "needs_background": "light"
     },
     "output_type": "display_data"
    }
   ],
   "source": [
    "df.plot(x='EYB', y='PRICE', style='o')"
   ]
  },
  {
   "cell_type": "code",
   "execution_count": 152,
   "id": "15ff0fec",
   "metadata": {},
   "outputs": [],
   "source": [
    "#Lets look at ward - it should have 8 categories, perhaps we can bin that and get an average price\n",
    "# trim all the values \n",
    "df[\"WARD\"] = df[\"WARD\"].str[-1]"
   ]
  },
  {
   "cell_type": "code",
   "execution_count": 153,
   "id": "c0e2b57a",
   "metadata": {},
   "outputs": [],
   "source": [
    "df['WARD'] = df['WARD'].astype(int)"
   ]
  },
  {
   "cell_type": "code",
   "execution_count": 154,
   "id": "fa25de32",
   "metadata": {},
   "outputs": [
    {
     "name": "stdout",
     "output_type": "stream",
     "text": [
      "4    20357\n",
      "5    18130\n",
      "6    15831\n",
      "7    15157\n",
      "3    14484\n",
      "8     8724\n",
      "1     8031\n",
      "2     5981\n",
      "Name: WARD, dtype: int64\n",
      "[4, 5, 6, 7, 3, 8, 1, 2]\n",
      "[20357, 18130, 15831, 15157, 14484, 8724, 8031, 5981]\n"
     ]
    }
   ],
   "source": [
    "w_df = df['WARD'].value_counts()\n",
    "print(w_df)\n",
    "w_options = df['WARD'].value_counts().keys().to_list()\n",
    "w_count = df['WARD'].value_counts().to_list()\n",
    "print(w_options)\n",
    "print(w_count)"
   ]
  },
  {
   "cell_type": "code",
   "execution_count": 155,
   "id": "c0a13383",
   "metadata": {},
   "outputs": [
    {
     "data": {
      "image/png": "[encoded data removed]",
      "text/plain": [
       "<Figure size 432x288 with 1 Axes>"
      ]
     },
     "metadata": {
      "needs_background": "light"
     },
     "output_type": "display_data"
    }
   ],
   "source": [
    "plt.bar(w_options, w_count, width = 0.3, color=\"blue\")\n",
    "plt.ylabel('Number of houses')\n",
    "plt.xlabel('WARD')\n",
    "plt.show()"
   ]
  },
  {
   "cell_type": "code",
   "execution_count": 156,
   "id": "8f02595f",
   "metadata": {},
   "outputs": [
    {
     "data": {
      "text/html": [
       "<div>\n",
       "<style scoped>\n",
       "    .dataframe tbody tr th:only-of-type {\n",
       "        vertical-align: middle;\n",
       "    }\n",
       "\n",
       "    .dataframe tbody tr th {\n",
       "        vertical-align: top;\n",
       "    }\n",
       "\n",
       "    .dataframe thead th {\n",
       "        text-align: right;\n",
       "    }\n",
       "</style>\n",
       "<table border=\"1\" class=\"dataframe\">\n",
       "  <thead>\n",
       "    <tr style=\"text-align: right;\">\n",
       "      <th></th>\n",
       "      <th>WARD</th>\n",
       "      <th>PRICE</th>\n",
       "    </tr>\n",
       "  </thead>\n",
       "  <tbody>\n",
       "    <tr>\n",
       "      <th>0</th>\n",
       "      <td>1</td>\n",
       "      <td>5.965437e+05</td>\n",
       "    </tr>\n",
       "    <tr>\n",
       "      <th>1</th>\n",
       "      <td>2</td>\n",
       "      <td>1.307805e+06</td>\n",
       "    </tr>\n",
       "    <tr>\n",
       "      <th>2</th>\n",
       "      <td>3</td>\n",
       "      <td>1.072160e+06</td>\n",
       "    </tr>\n",
       "    <tr>\n",
       "      <th>3</th>\n",
       "      <td>4</td>\n",
       "      <td>5.063311e+05</td>\n",
       "    </tr>\n",
       "    <tr>\n",
       "      <th>4</th>\n",
       "      <td>5</td>\n",
       "      <td>4.091413e+05</td>\n",
       "    </tr>\n",
       "  </tbody>\n",
       "</table>\n",
       "</div>"
      ],
      "text/plain": [
       "   WARD         PRICE\n",
       "0     1  5.965437e+05\n",
       "1     2  1.307805e+06\n",
       "2     3  1.072160e+06\n",
       "3     4  5.063311e+05\n",
       "4     5  4.091413e+05"
      ]
     },
     "execution_count": 156,
     "metadata": {},
     "output_type": "execute_result"
    }
   ],
   "source": [
    "test = df.groupby('WARD', as_index=False)['PRICE'].mean()\n",
    "test.head()"
   ]
  },
  {
   "cell_type": "code",
   "execution_count": 157,
   "id": "4ca0f334",
   "metadata": {},
   "outputs": [
    {
     "data": {
      "text/plain": [
       "<AxesSubplot:xlabel='WARD'>"
      ]
     },
     "execution_count": 157,
     "metadata": {},
     "output_type": "execute_result"
    },
    {
     "data": {
      "image/png": "[encoded data removed]",
      "text/plain": [
       "<Figure size 432x288 with 1 Axes>"
      ]
     },
     "metadata": {
      "needs_background": "light"
     },
     "output_type": "display_data"
    }
   ],
   "source": [
    "test.plot(x=\"WARD\", y=\"PRICE\", style = 'o')"
   ]
  },
  {
   "cell_type": "code",
   "execution_count": 158,
   "id": "e19fd823",
   "metadata": {},
   "outputs": [
    {
     "data": {
      "text/plain": [
       "<AxesSubplot:xlabel='GBA'>"
      ]
     },
     "execution_count": 158,
     "metadata": {},
     "output_type": "execute_result"
    },
    {
     "data": {
      "image/png": "[encoded data removed]",
      "text/plain": [
       "<Figure size 432x288 with 1 Axes>"
      ]
     },
     "metadata": {
      "needs_background": "light"
     },
     "output_type": "display_data"
    }
   ],
   "source": [
    "df.plot(x='GBA', y='PRICE', style='o')"
   ]
  },
  {
   "cell_type": "code",
   "execution_count": 159,
   "id": "f7050c23",
   "metadata": {},
   "outputs": [
    {
     "data": {
      "text/plain": [
       "<AxesSubplot:xlabel='FIREPLACES'>"
      ]
     },
     "execution_count": 159,
     "metadata": {},
     "output_type": "execute_result"
    },
    {
     "data": {
      "image/png": "[encoded data removed]",
      "text/plain": [
       "<Figure size 432x288 with 1 Axes>"
      ]
     },
     "metadata": {
      "needs_background": "light"
     },
     "output_type": "display_data"
    }
   ],
   "source": [
    "df.plot(x='FIREPLACES', y='PRICE', style='o')"
   ]
  },
  {
   "cell_type": "code",
   "execution_count": 160,
   "id": "abb844a5",
   "metadata": {},
   "outputs": [
    {
     "name": "stdout",
     "output_type": "stream",
     "text": [
      "20011.0    14835\n",
      "20002.0    13263\n",
      "20019.0    11555\n",
      "20020.0     7619\n",
      "20016.0     6646\n",
      "20003.0     6343\n",
      "20007.0     6229\n",
      "20001.0     5389\n",
      "20017.0     4940\n",
      "20018.0     4881\n",
      "20015.0     4800\n",
      "20010.0     4277\n",
      "20032.0     4035\n",
      "20012.0     3781\n",
      "20009.0     3458\n",
      "20008.0     3403\n",
      "20024.0      520\n",
      "20037.0      340\n",
      "20005.0      222\n",
      "20036.0      139\n",
      "20052.0       19\n",
      "20006.0        1\n",
      "Name: ZIPCODE, dtype: int64\n",
      "[20011.0, 20002.0, 20019.0, 20020.0, 20016.0, 20003.0, 20007.0, 20001.0, 20017.0, 20018.0, 20015.0, 20010.0, 20032.0, 20012.0, 20009.0, 20008.0, 20024.0, 20037.0, 20005.0, 20036.0, 20052.0, 20006.0]\n",
      "[14835, 13263, 11555, 7619, 6646, 6343, 6229, 5389, 4940, 4881, 4800, 4277, 4035, 3781, 3458, 3403, 520, 340, 222, 139, 19, 1]\n"
     ]
    }
   ],
   "source": [
    "z_df = df['ZIPCODE'].value_counts()\n",
    "print(z_df)\n",
    "z_options = df['ZIPCODE'].value_counts().keys().to_list()\n",
    "z_count = df['ZIPCODE'].value_counts().to_list()\n",
    "print(z_options)\n",
    "print(z_count)"
   ]
  },
  {
   "cell_type": "code",
   "execution_count": 161,
   "id": "ae70141b",
   "metadata": {},
   "outputs": [
    {
     "name": "stdout",
     "output_type": "stream",
     "text": [
      "22\n"
     ]
    }
   ],
   "source": [
    "print(len(z_options))"
   ]
  },
  {
   "cell_type": "code",
   "execution_count": 162,
   "id": "cd69362b",
   "metadata": {},
   "outputs": [
    {
     "data": {
      "text/plain": [
       "<AxesSubplot:xlabel='ZIPCODE'>"
      ]
     },
     "execution_count": 162,
     "metadata": {},
     "output_type": "execute_result"
    },
    {
     "data": {
      "image/png": "[encoded data removed]",
      "text/plain": [
       "<Figure size 432x288 with 1 Axes>"
      ]
     },
     "metadata": {
      "needs_background": "light"
     },
     "output_type": "display_data"
    }
   ],
   "source": [
    "df.plot(x='ZIPCODE', y='PRICE', style='o')"
   ]
  },
  {
   "cell_type": "code",
   "execution_count": 163,
   "id": "6e2ae052",
   "metadata": {},
   "outputs": [
    {
     "data": {
      "text/html": [
       "<div>\n",
       "<style scoped>\n",
       "    .dataframe tbody tr th:only-of-type {\n",
       "        vertical-align: middle;\n",
       "    }\n",
       "\n",
       "    .dataframe tbody tr th {\n",
       "        vertical-align: top;\n",
       "    }\n",
       "\n",
       "    .dataframe thead th {\n",
       "        text-align: right;\n",
       "    }\n",
       "</style>\n",
       "<table border=\"1\" class=\"dataframe\">\n",
       "  <thead>\n",
       "    <tr style=\"text-align: right;\">\n",
       "      <th></th>\n",
       "      <th>ZIPCODE</th>\n",
       "      <th>PRICE</th>\n",
       "    </tr>\n",
       "  </thead>\n",
       "  <tbody>\n",
       "    <tr>\n",
       "      <th>0</th>\n",
       "      <td>20001.0</td>\n",
       "      <td>543073.695160</td>\n",
       "    </tr>\n",
       "    <tr>\n",
       "      <th>1</th>\n",
       "      <td>20002.0</td>\n",
       "      <td>485563.146517</td>\n",
       "    </tr>\n",
       "    <tr>\n",
       "      <th>2</th>\n",
       "      <td>20003.0</td>\n",
       "      <td>651043.804154</td>\n",
       "    </tr>\n",
       "    <tr>\n",
       "      <th>3</th>\n",
       "      <td>20005.0</td>\n",
       "      <td>947229.549618</td>\n",
       "    </tr>\n",
       "    <tr>\n",
       "      <th>4</th>\n",
       "      <td>20006.0</td>\n",
       "      <td>NaN</td>\n",
       "    </tr>\n",
       "  </tbody>\n",
       "</table>\n",
       "</div>"
      ],
      "text/plain": [
       "   ZIPCODE          PRICE\n",
       "0  20001.0  543073.695160\n",
       "1  20002.0  485563.146517\n",
       "2  20003.0  651043.804154\n",
       "3  20005.0  947229.549618\n",
       "4  20006.0            NaN"
      ]
     },
     "execution_count": 163,
     "metadata": {},
     "output_type": "execute_result"
    }
   ],
   "source": [
    "test2 = df.groupby('ZIPCODE', as_index=False)['PRICE'].mean()\n",
    "test2.head()"
   ]
  },
  {
   "cell_type": "code",
   "execution_count": 164,
   "id": "28626278",
   "metadata": {},
   "outputs": [
    {
     "data": {
      "text/plain": [
       "<AxesSubplot:xlabel='ROOMS'>"
      ]
     },
     "execution_count": 164,
     "metadata": {},
     "output_type": "execute_result"
    },
    {
     "data": {
      "image/png": "[encoded data removed]",
      "text/plain": [
       "<Figure size 432x288 with 1 Axes>"
      ]
     },
     "metadata": {
      "needs_background": "light"
     },
     "output_type": "display_data"
    }
   ],
   "source": [
    "df.plot(x='ROOMS', y='BEDRM', style='o')"
   ]
  },
  {
   "cell_type": "code",
   "execution_count": 165,
   "id": "c9c9d239",
   "metadata": {},
   "outputs": [
    {
     "data": {
      "text/plain": [
       "<AxesSubplot:xlabel='ROOMS'>"
      ]
     },
     "execution_count": 165,
     "metadata": {},
     "output_type": "execute_result"
    },
    {
     "data": {
      "image/png": "[encoded data removed]",
      "text/plain": [
       "<Figure size 432x288 with 1 Axes>"
      ]
     },
     "metadata": {
      "needs_background": "light"
     },
     "output_type": "display_data"
    }
   ],
   "source": [
    "df.plot(x='ROOMS', y='ALL_RM', style='o')"
   ]
  },
  {
   "cell_type": "code",
   "execution_count": 166,
   "id": "28ccc67c",
   "metadata": {},
   "outputs": [
    {
     "data": {
      "text/plain": [
       "<AxesSubplot:xlabel='ROOMS'>"
      ]
     },
     "execution_count": 166,
     "metadata": {},
     "output_type": "execute_result"
    },
    {
     "data": {
      "image/png": "[encoded data removed]",
      "text/plain": [
       "<Figure size 432x288 with 1 Axes>"
      ]
     },
     "metadata": {
      "needs_background": "light"
     },
     "output_type": "display_data"
    }
   ],
   "source": [
    "df.plot(x='ROOMS', y='BATHRM', style='o')"
   ]
  },
  {
   "cell_type": "code",
   "execution_count": 167,
   "id": "d82805ae",
   "metadata": {},
   "outputs": [
    {
     "data": {
      "text/plain": [
       "<AxesSubplot:xlabel='ROOMS'>"
      ]
     },
     "execution_count": 167,
     "metadata": {},
     "output_type": "execute_result"
    },
    {
     "data": {
      "image/png": "[encoded data removed]",
      "text/plain": [
       "<Figure size 432x288 with 1 Axes>"
      ]
     },
     "metadata": {
      "needs_background": "light"
     },
     "output_type": "display_data"
    }
   ],
   "source": [
    "df.plot(x='ROOMS', y='HF_BATHRM', style='o')"
   ]
  },
  {
   "cell_type": "code",
   "execution_count": 168,
   "id": "6dc4cc60",
   "metadata": {},
   "outputs": [
    {
     "data": {
      "text/plain": [
       "<AxesSubplot:xlabel='HF_BATHRM'>"
      ]
     },
     "execution_count": 168,
     "metadata": {},
     "output_type": "execute_result"
    },
    {
     "data": {
      "image/png": "[encoded data removed]",
      "text/plain": [
       "<Figure size 432x288 with 1 Axes>"
      ]
     },
     "metadata": {
      "needs_background": "light"
     },
     "output_type": "display_data"
    }
   ],
   "source": [
    "df.plot(x='HF_BATHRM', y='PRICE', style='o')"
   ]
  },
  {
   "cell_type": "code",
   "execution_count": 169,
   "id": "f45ea718",
   "metadata": {},
   "outputs": [
    {
     "name": "stdout",
     "output_type": "stream",
     "text": [
      "Y    66345\n",
      "N    40307\n",
      "0       43\n",
      "Name: AC, dtype: int64\n",
      "['Y', 'N', '0']\n",
      "[66345, 40307, 43]\n"
     ]
    },
    {
     "data": {
      "image/png": "[encoded data removed]",
      "text/plain": [
       "<Figure size 432x288 with 1 Axes>"
      ]
     },
     "metadata": {
      "needs_background": "light"
     },
     "output_type": "display_data"
    }
   ],
   "source": [
    "ac_df = df['AC'].value_counts()\n",
    "print(ac_df)\n",
    "ac_options = df['AC'].value_counts().keys().to_list()\n",
    "ac_count = df['AC'].value_counts().to_list()\n",
    "print(ac_options)\n",
    "print(ac_count)\n",
    "\n",
    "plt.bar(ac_options, ac_count, width = 0.3, color=\"blue\")\n",
    "plt.ylabel('Number of houses')\n",
    "plt.xlabel('AC')\n",
    "plt.show()"
   ]
  },
  {
   "cell_type": "code",
   "execution_count": 170,
   "id": "159548ff",
   "metadata": {},
   "outputs": [
    {
     "data": {
      "text/plain": [
       "<AxesSubplot:xlabel='AC'>"
      ]
     },
     "execution_count": 170,
     "metadata": {},
     "output_type": "execute_result"
    },
    {
     "data": {
      "image/png": "[encoded data removed]",
      "text/plain": [
       "<Figure size 432x288 with 1 Axes>"
      ]
     },
     "metadata": {
      "needs_background": "light"
     },
     "output_type": "display_data"
    }
   ],
   "source": [
    "ac = df.groupby('AC', as_index=False)['PRICE'].mean()\n",
    "ac.head()\n",
    "\n",
    "ac.plot(x=\"AC\", y=\"PRICE\", style = 'o')"
   ]
  },
  {
   "cell_type": "code",
   "execution_count": 171,
   "id": "8122a900",
   "metadata": {},
   "outputs": [
    {
     "name": "stdout",
     "output_type": "stream",
     "text": [
      "Average      58216\n",
      "Good         37497\n",
      "Very Good     8130\n",
      "Excellent     1338\n",
      "Fair          1320\n",
      "Poor           175\n",
      "Default         19\n",
      "Name: CNDTN, dtype: int64\n",
      "['Average', 'Good', 'Very Good', 'Excellent', 'Fair', 'Poor', 'Default']\n",
      "[58216, 37497, 8130, 1338, 1320, 175, 19]\n"
     ]
    },
    {
     "data": {
      "image/png": "[encoded data removed]",
      "text/plain": [
       "<Figure size 432x288 with 1 Axes>"
      ]
     },
     "metadata": {
      "needs_background": "light"
     },
     "output_type": "display_data"
    }
   ],
   "source": [
    "c_df = df['CNDTN'].value_counts()\n",
    "print(c_df)\n",
    "c_options = df['CNDTN'].value_counts().keys().to_list()\n",
    "c_count = df['CNDTN'].value_counts().to_list()\n",
    "print(c_options)\n",
    "print(c_count)\n",
    "\n",
    "plt.bar(c_options, c_count, width = 0.3, color=\"blue\")\n",
    "plt.ylabel('Number of houses')\n",
    "plt.xlabel('CNDTN')\n",
    "plt.show()"
   ]
  },
  {
   "cell_type": "code",
   "execution_count": 172,
   "id": "81a634eb",
   "metadata": {},
   "outputs": [
    {
     "data": {
      "text/plain": [
       "<AxesSubplot:xlabel='CNDTN'>"
      ]
     },
     "execution_count": 172,
     "metadata": {},
     "output_type": "execute_result"
    },
    {
     "data": {
      "image/png": "[encoded data removed]",
      "text/plain": [
       "<Figure size 432x288 with 1 Axes>"
      ]
     },
     "metadata": {
      "needs_background": "light"
     },
     "output_type": "display_data"
    }
   ],
   "source": [
    "c = df.groupby('CNDTN', as_index=False)['PRICE'].mean()\n",
    "\n",
    "c.plot(x=\"CNDTN\", y=\"PRICE\", style = 'o')"
   ]
  },
  {
   "cell_type": "markdown",
   "id": "1ae847c2",
   "metadata": {},
   "source": [
    "# Lets fill in price based on the average from the ward\n",
    "## there are 8 wards and we can match up the average from that"
   ]
  },
  {
   "cell_type": "code",
   "execution_count": 173,
   "id": "5e591042",
   "metadata": {},
   "outputs": [],
   "source": [
    "ward_op = test.values.tolist()"
   ]
  },
  {
   "cell_type": "code",
   "execution_count": 174,
   "id": "519b257f",
   "metadata": {},
   "outputs": [
    {
     "name": "stdout",
     "output_type": "stream",
     "text": [
      "[[1.0, 596543.6801034706], [2.0, 1307804.877539005], [3.0, 1072159.5899480947], [4.0, 506331.0792431082], [5.0, 409141.3304084404], [6.0, 599149.5130099917], [7.0, 237068.704737516], [8.0, 241436.1536269998]]\n"
     ]
    }
   ],
   "source": [
    "print(ward_op)"
   ]
  },
  {
   "cell_type": "code",
   "execution_count": 175,
   "id": "33eaecdb",
   "metadata": {},
   "outputs": [
    {
     "name": "stdout",
     "output_type": "stream",
     "text": [
      "1.0\n",
      "596543.6801034706\n",
      "8\n"
     ]
    }
   ],
   "source": [
    "print(ward_op[0][0])\n",
    "print(ward_op[0][1])\n",
    "print(len(ward_op))"
   ]
  },
  {
   "cell_type": "code",
   "execution_count": 176,
   "id": "92cd07d6",
   "metadata": {},
   "outputs": [],
   "source": [
    "def ward_price_lookup(cols):\n",
    "    ward = cols[0]\n",
    "    price = cols[1]\n",
    "    if pd.isnull(price):\n",
    "        if ward == ward_op[0][0]:\n",
    "            return ward_op[0][1]\n",
    "        elif ward == ward_op[1][0]:\n",
    "            return ward_op[1][1]\n",
    "        elif ward == ward_op[2][0]:\n",
    "            return ward_op[2][1]\n",
    "        elif ward == ward_op[3][0]:\n",
    "            return ward_op[3][1]\n",
    "        elif ward == ward_op[4][0]:\n",
    "            return ward_op[4][1]\n",
    "        elif ward == ward_op[5][0]:\n",
    "            return ward_op[5][1]\n",
    "        elif ward == ward_op[6][0]:\n",
    "            return ward_op[6][1]\n",
    "        else:\n",
    "            return ward_op[7][1]\n",
    "    \n",
    "    else:\n",
    "        return price"
   ]
  },
  {
   "cell_type": "code",
   "execution_count": 177,
   "id": "e0bf84a9",
   "metadata": {},
   "outputs": [],
   "source": [
    "df['PRICE'] = df[['WARD','PRICE']].apply(ward_price_lookup,axis=1)"
   ]
  },
  {
   "cell_type": "code",
   "execution_count": 178,
   "id": "8f1bf097",
   "metadata": {},
   "outputs": [
    {
     "data": {
      "text/plain": [
       "BATHRM               0\n",
       "HF_BATHRM            0\n",
       "AC                   0\n",
       "ROOMS                0\n",
       "BEDRM                0\n",
       "EYB                  0\n",
       "PRICE                0\n",
       "GBA                  0\n",
       "STYLE                0\n",
       "STRUCT               0\n",
       "GRADE                0\n",
       "CNDTN                0\n",
       "FIREPLACES           0\n",
       "LANDAREA             0\n",
       "GIS_LAST_MOD_DTTM    0\n",
       "ZIPCODE              0\n",
       "ASSESSMENT_NBHD      0\n",
       "WARD                 0\n",
       "SQUARE               0\n",
       "ALL_RM               0\n",
       "dtype: int64"
      ]
     },
     "execution_count": 178,
     "metadata": {},
     "output_type": "execute_result"
    }
   ],
   "source": [
    "df.isna().sum()"
   ]
  },
  {
   "cell_type": "markdown",
   "id": "8b19b55d",
   "metadata": {},
   "source": [
    "## Now that we have all the price values filled in, lets delete other irrelevant columns and convert everything to numerical values and create dummies for the categorical variables"
   ]
  },
  {
   "cell_type": "code",
   "execution_count": 179,
   "id": "1ea7afa6",
   "metadata": {},
   "outputs": [
    {
     "name": "stdout",
     "output_type": "stream",
     "text": [
      "<class 'pandas.core.frame.DataFrame'>\n",
      "Int64Index: 106695 entries, 0 to 106695\n",
      "Data columns (total 20 columns):\n",
      " #   Column             Non-Null Count   Dtype  \n",
      "---  ------             --------------   -----  \n",
      " 0   BATHRM             106695 non-null  int64  \n",
      " 1   HF_BATHRM          106695 non-null  int64  \n",
      " 2   AC                 106695 non-null  object \n",
      " 3   ROOMS              106695 non-null  int64  \n",
      " 4   BEDRM              106695 non-null  int64  \n",
      " 5   EYB                106695 non-null  int64  \n",
      " 6   PRICE              106695 non-null  float64\n",
      " 7   GBA                106695 non-null  float64\n",
      " 8   STYLE              106695 non-null  object \n",
      " 9   STRUCT             106695 non-null  object \n",
      " 10  GRADE              106695 non-null  object \n",
      " 11  CNDTN              106695 non-null  object \n",
      " 12  FIREPLACES         106695 non-null  int64  \n",
      " 13  LANDAREA           106695 non-null  int64  \n",
      " 14  GIS_LAST_MOD_DTTM  106695 non-null  object \n",
      " 15  ZIPCODE            106695 non-null  float64\n",
      " 16  ASSESSMENT_NBHD    106695 non-null  object \n",
      " 17  WARD               106695 non-null  int32  \n",
      " 18  SQUARE             106695 non-null  object \n",
      " 19  ALL_RM             106695 non-null  int64  \n",
      "dtypes: float64(3), int32(1), int64(8), object(8)\n",
      "memory usage: 16.7+ MB\n"
     ]
    }
   ],
   "source": [
    "df.info()"
   ]
  },
  {
   "cell_type": "markdown",
   "id": "6104c1b9",
   "metadata": {},
   "source": [
    "### ward and zipcode should fill in the genral area so get rid of nbhd and square\n",
    "### all room was a variable I made, so delete it. - in that there was a linear correlation between the number of rooms and all rooms, so eliminate everything but rooms\n",
    "### Structure has less options and should be able to fill in for style\n",
    "### there are less condidtions than grades so eliminate grade\n",
    "### EYB should cover what the last mod does\n",
    "### Fireplaces does not have much correlation or relevance\n",
    "### GBA should be enough to go off of, eliminate land area\n",
    "### AC is unhelpful since 0 means nothing"
   ]
  },
  {
   "cell_type": "code",
   "execution_count": 180,
   "id": "d36b327f",
   "metadata": {},
   "outputs": [],
   "source": [
    "df.drop(['ASSESSMENT_NBHD','SQUARE', 'ALL_RM','STRUCT','GIS_LAST_MOD_DTTM', 'FIREPLACES','ZIPCODE','LANDAREA','AC'], inplace=True, axis=1)"
   ]
  },
  {
   "cell_type": "code",
   "execution_count": 181,
   "id": "e6233f61",
   "metadata": {},
   "outputs": [],
   "source": [
    "#keep only bathrooms and rooms since there is a pretty linear relationship with both\n",
    "df.drop(['HF_BATHRM', 'BEDRM','BATHRM'], inplace=True, axis=1)"
   ]
  },
  {
   "cell_type": "code",
   "execution_count": 182,
   "id": "924cbae4",
   "metadata": {},
   "outputs": [
    {
     "name": "stdout",
     "output_type": "stream",
     "text": [
      "<class 'pandas.core.frame.DataFrame'>\n",
      "Int64Index: 106695 entries, 0 to 106695\n",
      "Data columns (total 7 columns):\n",
      " #   Column  Non-Null Count   Dtype  \n",
      "---  ------  --------------   -----  \n",
      " 0   ROOMS   106695 non-null  int64  \n",
      " 1   EYB     106695 non-null  int64  \n",
      " 2   PRICE   106695 non-null  float64\n",
      " 3   GBA     106695 non-null  float64\n",
      " 4   STYLE   106695 non-null  object \n",
      " 5   GRADE   106695 non-null  object \n",
      " 6   WARD    106695 non-null  int32  \n",
      "dtypes: float64(2), int32(1), int64(2), object(2)\n",
      "memory usage: 6.1+ MB\n"
     ]
    }
   ],
   "source": [
    "df.drop(['CNDTN'], inplace=True, axis=1)\n",
    "df.info()"
   ]
  },
  {
   "cell_type": "code",
   "execution_count": 183,
   "id": "aeebcf1a",
   "metadata": {},
   "outputs": [],
   "source": [
    "## in the end we have kept bathrooms bedrooms EYB price GBA struct condition and ward"
   ]
  },
  {
   "cell_type": "code",
   "execution_count": 184,
   "id": "50b182ad",
   "metadata": {},
   "outputs": [],
   "source": [
    "objectColumns = df.dtypes[df.dtypes == object]\n",
    "numberColumns = df.dtypes[df.dtypes != object]\n",
    "text_to_num = list(objectColumns.index)"
   ]
  },
  {
   "cell_type": "code",
   "execution_count": 185,
   "id": "75210962",
   "metadata": {},
   "outputs": [
    {
     "name": "stdout",
     "output_type": "stream",
     "text": [
      "(106695, 34)\n"
     ]
    }
   ],
   "source": [
    "X = pd.get_dummies(df, columns=text_to_num, drop_first=True) \n",
    "X = X.astype('int')\n",
    "print(X.shape)"
   ]
  },
  {
   "cell_type": "markdown",
   "id": "22369849",
   "metadata": {},
   "source": [
    "# Part B: Dimmensional Reduction\n",
    "\n",
    "## Use SVD and PCA\n",
    "- in each case show eigenvectors and eigenvalues\n",
    "\n",
    "\n"
   ]
  },
  {
   "cell_type": "code",
   "execution_count": 186,
   "id": "96642641",
   "metadata": {},
   "outputs": [
    {
     "name": "stdout",
     "output_type": "stream",
     "text": [
      "(33, 106695)\n",
      "(106695,)\n"
     ]
    }
   ],
   "source": [
    "X.drop(['PRICE'], inplace=True, axis=1)\n",
    "X = X.T\n",
    "y = df['PRICE']\n",
    "y = y.astype('int')\n",
    "print(X.shape)\n",
    "print(y.shape)"
   ]
  },
  {
   "cell_type": "markdown",
   "id": "d2c22e13",
   "metadata": {},
   "source": [
    "Using PCA:"
   ]
  },
  {
   "cell_type": "code",
   "execution_count": 187,
   "id": "e477e718",
   "metadata": {},
   "outputs": [
    {
     "name": "stdout",
     "output_type": "stream",
     "text": [
      "Eigen-values: v=\n",
      " [-2.50944087e+09  2.65043088e+09  1.32292349e+09 -6.07381999e+06\n",
      "  3.62701633e+04  2.27954112e+04  1.34079204e+04  8.16082558e+03\n",
      "  7.10140502e+03  3.77599581e+03  3.03335938e+03  2.23832554e+03\n",
      "  1.62161502e+03  7.78131915e+02  6.73732242e+02  3.49775473e+02\n",
      "  2.93977919e+02  2.71622404e+02  2.62961754e+02  1.49133867e+02\n",
      "  1.28623084e+02  1.10684127e+02  9.29623468e+01  7.85767369e+01\n",
      "  6.96567240e+01  1.89584355e+01  1.39647162e+01  1.29130624e+01\n",
      "  7.97145662e+00  5.99726440e+00  9.93280548e-01  1.99880017e+00\n",
      "  1.99979870e+00] \n",
      "\n",
      "Eigen-vectors: w=\n",
      " [[ 6.00914112e-01 -5.73791674e-01 -1.77233801e-01 ...  4.13227669e-06\n",
      "  -1.96982850e-05  5.31757081e-06]\n",
      " [-5.77039211e-01 -3.31870489e-01 -7.44786613e-01 ...  9.28868461e-09\n",
      "   2.57440265e-08 -5.08271324e-09]\n",
      " [-4.13555065e-01 -6.69111075e-01  6.15388933e-01 ... -8.19606595e-09\n",
      "  -2.15186262e-08  4.75273668e-09]\n",
      " ...\n",
      " [ 1.03860163e-05 -7.46587845e-06 -1.58906476e-05 ...  3.36202161e-06\n",
      "  -2.05057136e-04  4.04116395e-05]\n",
      " [ 2.41616457e-03 -2.52970975e-03  4.95758447e-04 ... -1.79847835e-05\n",
      "  -9.57623535e-05 -2.64091243e-05]\n",
      " [ 7.52939521e-03 -7.56726515e-03 -1.70044671e-04 ... -1.83808708e-05\n",
      "  -7.40629874e-05 -2.76906528e-05]]\n"
     ]
    }
   ],
   "source": [
    "C = np.dot(X, X.T)\n",
    "v, w = np.linalg.eig(C)\n",
    "print('Eigen-values: v=\\n', v,'\\n')\n",
    "print('Eigen-vectors: w=\\n', w)"
   ]
  },
  {
   "cell_type": "code",
   "execution_count": 188,
   "id": "9a2e7dcf",
   "metadata": {},
   "outputs": [
    {
     "name": "stdout",
     "output_type": "stream",
     "text": [
      "(33, 106695)\n",
      "(33, 33)\n"
     ]
    }
   ],
   "source": [
    "print(X.shape)\n",
    "print(w.shape)"
   ]
  },
  {
   "cell_type": "code",
   "execution_count": 189,
   "id": "1aafbf03",
   "metadata": {},
   "outputs": [],
   "source": [
    "sv = np.cumsum(v)/sum(v)"
   ]
  },
  {
   "cell_type": "code",
   "execution_count": 190,
   "id": "d1dbb221",
   "metadata": {},
   "outputs": [
    {
     "data": {
      "image/png": "[encoded data removed]",
      "text/plain": [
       "<Figure size 432x288 with 1 Axes>"
      ]
     },
     "metadata": {
      "needs_background": "light"
     },
     "output_type": "display_data"
    },
    {
     "name": "stdout",
     "output_type": "stream",
     "text": [
      "sv = [-1.72122203  0.09670485  1.00409625  0.99993022  0.9999551   0.99997074\n",
      "  0.99997993  0.99998553  0.9999904   0.99999299  0.99999507  0.99999661\n",
      "  0.99999772  0.99999825  0.99999872  0.99999896  0.99999916  0.99999934\n",
      "  0.99999952  0.99999963  0.99999971  0.99999979  0.99999985  0.99999991\n",
      "  0.99999996  0.99999997  0.99999998  0.99999999  0.99999999  1.\n",
      "  1.          1.          1.        ]\n"
     ]
    }
   ],
   "source": [
    "#sv = np.insert(sv, 0, 0)\n",
    "plt.step(list(range(len(sv))), sv)\n",
    "plt.show()\n",
    "print('sv =', sv)"
   ]
  },
  {
   "cell_type": "markdown",
   "id": "d0ebf07b",
   "metadata": {},
   "source": [
    "Use SVD"
   ]
  },
  {
   "cell_type": "code",
   "execution_count": 191,
   "id": "29575b68",
   "metadata": {},
   "outputs": [
    {
     "name": "stdout",
     "output_type": "stream",
     "text": [
      "Eigen-vectors: U=\n",
      " [[-2.81731774e-03 -2.91065313e-04  1.60215037e-01 ...  3.37014010e-06\n",
      "   3.92974923e-06  1.05781447e-05]\n",
      " [-7.14965470e-01 -6.99149398e-01 -3.36371965e-03 ...  2.12951701e-08\n",
      "  -3.09244594e-07 -9.31278145e-08]\n",
      " [-6.99152022e-01  7.14970462e-01  4.32055151e-04 ... -6.89243031e-10\n",
      "  -3.77716126e-08 -8.60793698e-09]\n",
      " ...\n",
      " [-4.49685872e-08 -4.11917743e-07 -1.26830809e-04 ...  6.21907691e-06\n",
      "   1.08549657e-04  9.33350013e-05]\n",
      " [-1.16584153e-05  3.70369659e-05 -1.15896602e-02 ... -3.56115573e-05\n",
      "   8.75417188e-06  9.90519009e-06]\n",
      " [-3.58614621e-05  6.11867069e-05 -2.49423480e-02 ... -3.57779043e-05\n",
      "   4.54360461e-06  3.37061920e-06]] (33, 33) \n",
      "\n",
      "Eigen-values: s= [8.74477104e+05 2.10239926e+05 6.11076381e+02 5.49251261e+02\n",
      " 1.59104620e+02 1.40962655e+02 1.14902045e+02 8.97383548e+01\n",
      " 8.09763431e+01 5.85611198e+01 5.50192241e+01 4.40561550e+01\n",
      " 3.68266797e+01 2.69176228e+01 2.47858747e+01 1.83778183e+01\n",
      " 1.70276542e+01 1.59453126e+01 1.54905718e+01 1.21508180e+01\n",
      " 1.12392948e+01 1.03791932e+01 9.41663723e+00 8.28637868e+00\n",
      " 8.05754522e+00 4.34835571e+00 3.73604196e+00 3.59140401e+00\n",
      " 2.82249411e+00 2.44802170e+00 1.41413950e+00 1.41346634e+00\n",
      " 9.96593340e-01] (33,)\n",
      "Eigen-vectors: VT= (33, 106695) \n",
      "\n"
     ]
    }
   ],
   "source": [
    "U, s, VT = np.linalg.svd(X, full_matrices=False)\n",
    "print('Eigen-vectors: U=\\n', U, U.shape,'\\n')\n",
    "print('Eigen-values: s=', s, s.shape)\n",
    "print('Eigen-vectors: VT=', VT.shape,'\\n')"
   ]
  },
  {
   "cell_type": "code",
   "execution_count": 192,
   "id": "9731a1a2",
   "metadata": {},
   "outputs": [
    {
     "data": {
      "image/png": "[encoded data removed]",
      "text/plain": [
       "<Figure size 432x288 with 1 Axes>"
      ]
     },
     "metadata": {
      "needs_background": "light"
     },
     "output_type": "display_data"
    },
    {
     "name": "stdout",
     "output_type": "stream",
     "text": [
      "sv2 = [0.80459309 0.99803164 0.99859389 0.99909924 0.99924563 0.99937533\n",
      " 0.99948105 0.99956362 0.99963812 0.999692   0.99974263 0.99978316\n",
      " 0.99981705 0.99984181 0.99986462 0.99988153 0.99989719 0.99991186\n",
      " 0.99992612 0.9999373  0.99994764 0.99995719 0.99996585 0.99997348\n",
      " 0.99998089 0.99998489 0.99998833 0.99999163 0.99999423 0.99999648\n",
      " 0.99999778 0.99999908 1.        ]\n"
     ]
    }
   ],
   "source": [
    "sv2 = np.cumsum(s)/sum(s)\n",
    "#sv = np.insert(sv, 0, 0)\n",
    "plt.step(list(range(len(sv2))), sv2)\n",
    "plt.show()\n",
    "print('sv2 =', sv2)"
   ]
  },
  {
   "cell_type": "markdown",
   "id": "dfd3e521",
   "metadata": {},
   "source": [
    "## Show Scree Plot\n",
    "\n",
    "### Answer the question\n",
    "- How many dimmensitons of the dataset should be used to retain over 90% of the data variance"
   ]
  },
  {
   "cell_type": "markdown",
   "id": "a9a23282",
   "metadata": {},
   "source": [
    "PCA converges around 4\n",
    "SVD converges at 2"
   ]
  },
  {
   "cell_type": "markdown",
   "id": "0be7db90",
   "metadata": {},
   "source": [
    "# Part C\n",
    "## Divide dataset\n",
    "- Use Linear regression model to predict"
   ]
  },
  {
   "cell_type": "code",
   "execution_count": 193,
   "id": "69c0c8b4",
   "metadata": {},
   "outputs": [],
   "source": [
    "#Linear Regression\n",
    "from sklearn import datasets\n",
    "from sklearn.multiclass import OneVsRestClassifier\n",
    "from sklearn.svm import LinearSVC"
   ]
  },
  {
   "cell_type": "code",
   "execution_count": 194,
   "id": "6afe576b",
   "metadata": {},
   "outputs": [
    {
     "name": "stdout",
     "output_type": "stream",
     "text": [
      "(106695, 33)\n",
      "(106695,)\n"
     ]
    },
    {
     "data": {
      "text/html": [
       "<div>\n",
       "<style scoped>\n",
       "    .dataframe tbody tr th:only-of-type {\n",
       "        vertical-align: middle;\n",
       "    }\n",
       "\n",
       "    .dataframe tbody tr th {\n",
       "        vertical-align: top;\n",
       "    }\n",
       "\n",
       "    .dataframe thead th {\n",
       "        text-align: right;\n",
       "    }\n",
       "</style>\n",
       "<table border=\"1\" class=\"dataframe\">\n",
       "  <thead>\n",
       "    <tr style=\"text-align: right;\">\n",
       "      <th></th>\n",
       "      <th>ROOMS</th>\n",
       "      <th>EYB</th>\n",
       "      <th>GBA</th>\n",
       "      <th>WARD</th>\n",
       "      <th>STYLE_1.5 Story Fin</th>\n",
       "      <th>STYLE_1.5 Story Unfin</th>\n",
       "      <th>STYLE_2 Story</th>\n",
       "      <th>STYLE_2.5 Story Fin</th>\n",
       "      <th>STYLE_2.5 Story Unfin</th>\n",
       "      <th>STYLE_3 Story</th>\n",
       "      <th>...</th>\n",
       "      <th>GRADE_Exceptional-A</th>\n",
       "      <th>GRADE_Exceptional-B</th>\n",
       "      <th>GRADE_Exceptional-C</th>\n",
       "      <th>GRADE_Exceptional-D</th>\n",
       "      <th>GRADE_Fair Quality</th>\n",
       "      <th>GRADE_Good Quality</th>\n",
       "      <th>GRADE_Low Quality</th>\n",
       "      <th>GRADE_No Data</th>\n",
       "      <th>GRADE_Superior</th>\n",
       "      <th>GRADE_Very Good</th>\n",
       "    </tr>\n",
       "  </thead>\n",
       "  <tbody>\n",
       "    <tr>\n",
       "      <th>0</th>\n",
       "      <td>8</td>\n",
       "      <td>1972</td>\n",
       "      <td>2522</td>\n",
       "      <td>2</td>\n",
       "      <td>0</td>\n",
       "      <td>0</td>\n",
       "      <td>0</td>\n",
       "      <td>0</td>\n",
       "      <td>0</td>\n",
       "      <td>1</td>\n",
       "      <td>...</td>\n",
       "      <td>0</td>\n",
       "      <td>0</td>\n",
       "      <td>0</td>\n",
       "      <td>0</td>\n",
       "      <td>0</td>\n",
       "      <td>0</td>\n",
       "      <td>0</td>\n",
       "      <td>0</td>\n",
       "      <td>0</td>\n",
       "      <td>1</td>\n",
       "    </tr>\n",
       "    <tr>\n",
       "      <th>1</th>\n",
       "      <td>11</td>\n",
       "      <td>1972</td>\n",
       "      <td>2567</td>\n",
       "      <td>2</td>\n",
       "      <td>0</td>\n",
       "      <td>0</td>\n",
       "      <td>0</td>\n",
       "      <td>0</td>\n",
       "      <td>0</td>\n",
       "      <td>1</td>\n",
       "      <td>...</td>\n",
       "      <td>0</td>\n",
       "      <td>0</td>\n",
       "      <td>0</td>\n",
       "      <td>0</td>\n",
       "      <td>0</td>\n",
       "      <td>0</td>\n",
       "      <td>0</td>\n",
       "      <td>0</td>\n",
       "      <td>0</td>\n",
       "      <td>1</td>\n",
       "    </tr>\n",
       "    <tr>\n",
       "      <th>2</th>\n",
       "      <td>9</td>\n",
       "      <td>1984</td>\n",
       "      <td>2522</td>\n",
       "      <td>2</td>\n",
       "      <td>0</td>\n",
       "      <td>0</td>\n",
       "      <td>0</td>\n",
       "      <td>0</td>\n",
       "      <td>0</td>\n",
       "      <td>1</td>\n",
       "      <td>...</td>\n",
       "      <td>0</td>\n",
       "      <td>0</td>\n",
       "      <td>0</td>\n",
       "      <td>0</td>\n",
       "      <td>0</td>\n",
       "      <td>0</td>\n",
       "      <td>0</td>\n",
       "      <td>0</td>\n",
       "      <td>0</td>\n",
       "      <td>1</td>\n",
       "    </tr>\n",
       "    <tr>\n",
       "      <th>3</th>\n",
       "      <td>8</td>\n",
       "      <td>1984</td>\n",
       "      <td>2484</td>\n",
       "      <td>2</td>\n",
       "      <td>0</td>\n",
       "      <td>0</td>\n",
       "      <td>0</td>\n",
       "      <td>0</td>\n",
       "      <td>0</td>\n",
       "      <td>1</td>\n",
       "      <td>...</td>\n",
       "      <td>0</td>\n",
       "      <td>0</td>\n",
       "      <td>0</td>\n",
       "      <td>0</td>\n",
       "      <td>0</td>\n",
       "      <td>0</td>\n",
       "      <td>0</td>\n",
       "      <td>0</td>\n",
       "      <td>0</td>\n",
       "      <td>1</td>\n",
       "    </tr>\n",
       "    <tr>\n",
       "      <th>4</th>\n",
       "      <td>11</td>\n",
       "      <td>1985</td>\n",
       "      <td>5255</td>\n",
       "      <td>2</td>\n",
       "      <td>0</td>\n",
       "      <td>0</td>\n",
       "      <td>0</td>\n",
       "      <td>0</td>\n",
       "      <td>0</td>\n",
       "      <td>1</td>\n",
       "      <td>...</td>\n",
       "      <td>0</td>\n",
       "      <td>0</td>\n",
       "      <td>0</td>\n",
       "      <td>0</td>\n",
       "      <td>0</td>\n",
       "      <td>0</td>\n",
       "      <td>0</td>\n",
       "      <td>0</td>\n",
       "      <td>0</td>\n",
       "      <td>1</td>\n",
       "    </tr>\n",
       "  </tbody>\n",
       "</table>\n",
       "<p>5 rows × 33 columns</p>\n",
       "</div>"
      ],
      "text/plain": [
       "   ROOMS   EYB   GBA  WARD  STYLE_1.5 Story Fin  STYLE_1.5 Story Unfin  \\\n",
       "0      8  1972  2522     2                    0                      0   \n",
       "1     11  1972  2567     2                    0                      0   \n",
       "2      9  1984  2522     2                    0                      0   \n",
       "3      8  1984  2484     2                    0                      0   \n",
       "4     11  1985  5255     2                    0                      0   \n",
       "\n",
       "   STYLE_2 Story  STYLE_2.5 Story Fin  STYLE_2.5 Story Unfin  STYLE_3 Story  \\\n",
       "0              0                    0                      0              1   \n",
       "1              0                    0                      0              1   \n",
       "2              0                    0                      0              1   \n",
       "3              0                    0                      0              1   \n",
       "4              0                    0                      0              1   \n",
       "\n",
       "   ...  GRADE_Exceptional-A  GRADE_Exceptional-B  GRADE_Exceptional-C  \\\n",
       "0  ...                    0                    0                    0   \n",
       "1  ...                    0                    0                    0   \n",
       "2  ...                    0                    0                    0   \n",
       "3  ...                    0                    0                    0   \n",
       "4  ...                    0                    0                    0   \n",
       "\n",
       "   GRADE_Exceptional-D  GRADE_Fair Quality  GRADE_Good Quality  \\\n",
       "0                    0                   0                   0   \n",
       "1                    0                   0                   0   \n",
       "2                    0                   0                   0   \n",
       "3                    0                   0                   0   \n",
       "4                    0                   0                   0   \n",
       "\n",
       "   GRADE_Low Quality  GRADE_No Data  GRADE_Superior  GRADE_Very Good  \n",
       "0                  0              0               0                1  \n",
       "1                  0              0               0                1  \n",
       "2                  0              0               0                1  \n",
       "3                  0              0               0                1  \n",
       "4                  0              0               0                1  \n",
       "\n",
       "[5 rows x 33 columns]"
      ]
     },
     "execution_count": 194,
     "metadata": {},
     "output_type": "execute_result"
    }
   ],
   "source": [
    "X = pd.get_dummies(df, columns=text_to_num, drop_first=True) \n",
    "X = X.astype('int')\n",
    "X.drop(['PRICE'], inplace=True, axis=1)\n",
    "y = df['PRICE']\n",
    "y = y.astype('int')\n",
    "print(X.shape)\n",
    "print(y.shape)\n",
    "X.head()"
   ]
  },
  {
   "cell_type": "code",
   "execution_count": 195,
   "id": "fccd8145",
   "metadata": {},
   "outputs": [],
   "source": [
    "from sklearn.model_selection import train_test_split\n",
    "X_train, X_test, y_train, y_test = train_test_split(X, y, test_size=0.25, random_state=45) "
   ]
  },
  {
   "cell_type": "code",
   "execution_count": 196,
   "id": "e24c9057",
   "metadata": {},
   "outputs": [
    {
     "data": {
      "text/plain": [
       "LinearRegression()"
      ]
     },
     "execution_count": 196,
     "metadata": {},
     "output_type": "execute_result"
    }
   ],
   "source": [
    "from sklearn.linear_model import LinearRegression\n",
    "lm = LinearRegression()\n",
    "lm.fit(X_train, y_train)"
   ]
  },
  {
   "cell_type": "code",
   "execution_count": 197,
   "id": "d0872e5f",
   "metadata": {},
   "outputs": [
    {
     "name": "stdout",
     "output_type": "stream",
     "text": [
      "coefficient [ 5.88545882e+02  2.14119164e+03  9.03388941e+01 -5.62344308e+04\n",
      "  3.82176429e+03  4.40386981e+04  7.40623042e+03  2.20016087e+04\n",
      " -2.50656197e+04 -1.24549337e+04 -2.72653619e+04  6.04674533e+05\n",
      "  2.30053843e+04 -6.87742872e+05 -4.46434317e+04 -6.06653433e+04\n",
      "  4.60327585e+02 -2.04413741e+05 -6.28549651e+04 -6.88753966e+03\n",
      "  4.65501361e+04 -3.98784502e+04  4.17308602e+05  9.65943468e+05\n",
      "  1.40818872e+06  2.57765349e+06  1.31883738e+06 -2.64392384e+04\n",
      "  1.42379280e+05  1.79825536e+04  9.39233656e+05  5.97733939e+05\n",
      "  2.49804592e+05]\n",
      "intercept: -3614367.678095081\n"
     ]
    }
   ],
   "source": [
    "print('coefficient', lm.coef_)\n",
    "print(\"intercept:\",lm.intercept_)"
   ]
  },
  {
   "cell_type": "code",
   "execution_count": 198,
   "id": "9dba4edb",
   "metadata": {},
   "outputs": [
    {
     "name": "stdout",
     "output_type": "stream",
     "text": [
      "26674\n",
      "<class 'numpy.ndarray'>\n",
      "(26674,)\n",
      "(26674, 33)\n",
      "(26674,)\n",
      "26674\n",
      "26674\n",
      "0.42567998949109664\n"
     ]
    }
   ],
   "source": [
    "predictions = lm.predict(X_test)\n",
    "print(len(X_test))\n",
    "print(type(predictions))\n",
    "print(predictions.shape)\n",
    "print(X_test.shape)\n",
    "print(y_test.shape)\n",
    "print(len(predictions))\n",
    "print(len(y_test))\n",
    "print(lm.score(X_test, y_test))"
   ]
  },
  {
   "cell_type": "markdown",
   "id": "12b0fa3d",
   "metadata": {},
   "source": [
    "\n",
    "## Convert Price into categorical value"
   ]
  },
  {
   "cell_type": "code",
   "execution_count": 199,
   "id": "24f54b23",
   "metadata": {},
   "outputs": [],
   "source": [
    "def convert_price_category(cols):\n",
    "    for price in cols:\n",
    "        if price <= 30000:\n",
    "            return 0\n",
    "        elif price <= 60000:\n",
    "            return 1\n",
    "        elif price <= 90000:\n",
    "            return 2\n",
    "        elif price<= 130000:\n",
    "            return 3\n",
    "        else:\n",
    "            return 4"
   ]
  },
  {
   "cell_type": "code",
   "execution_count": 200,
   "id": "2dbc08ba",
   "metadata": {},
   "outputs": [],
   "source": [
    "df['PRICE'] = df[['PRICE']].apply(convert_price_category,axis=1)"
   ]
  },
  {
   "cell_type": "code",
   "execution_count": 201,
   "id": "1d9210c8",
   "metadata": {},
   "outputs": [
    {
     "name": "stdout",
     "output_type": "stream",
     "text": [
      "[4 1 0 3 2] 5\n"
     ]
    }
   ],
   "source": [
    "y = df['PRICE']\n",
    "print(y.unique(), y.nunique())"
   ]
  },
  {
   "cell_type": "code",
   "execution_count": 202,
   "id": "a592ed9e",
   "metadata": {},
   "outputs": [],
   "source": [
    "X_train, X_test, y_train, y_test = train_test_split(X, y, test_size=0.25, random_state=45) "
   ]
  },
  {
   "cell_type": "markdown",
   "id": "e8a927c7",
   "metadata": {},
   "source": [
    "\n",
    "### Use each of the following to predict\n",
    "- Logistic Regression\n",
    "- Neural Network\n",
    "- Naive Bays\n",
    "\n"
   ]
  },
  {
   "cell_type": "markdown",
   "id": "510d62c3",
   "metadata": {},
   "source": [
    "# LOGISTIC REGRESSION"
   ]
  },
  {
   "cell_type": "code",
   "execution_count": 203,
   "id": "bf827a43",
   "metadata": {},
   "outputs": [
    {
     "name": "stderr",
     "output_type": "stream",
     "text": [
      "C:\\Users\\schmi\\anaconda3\\envs\\hpenv\\lib\\site-packages\\sklearn\\linear_model\\_sag.py:352: ConvergenceWarning: The max_iter was reached which means the coef_ did not converge\n",
      "  warnings.warn(\n"
     ]
    },
    {
     "data": {
      "text/plain": [
       "LogisticRegression(solver='saga')"
      ]
     },
     "execution_count": 203,
     "metadata": {},
     "output_type": "execute_result"
    }
   ],
   "source": [
    "from sklearn.linear_model import LogisticRegression\n",
    "from sklearn.metrics import classification_report, confusion_matrix, accuracy_score\n",
    "log_reg = LogisticRegression(solver='saga')\n",
    "log_reg.fit(X_train, y_train.ravel())"
   ]
  },
  {
   "cell_type": "code",
   "execution_count": 204,
   "id": "bb7e9ffb",
   "metadata": {},
   "outputs": [
    {
     "name": "stdout",
     "output_type": "stream",
     "text": [
      "(26674,) int64\n",
      "(26674,) int64\n"
     ]
    }
   ],
   "source": [
    "Log_predictions = log_reg.predict(X_test)\n",
    "print(Log_predictions.shape, Log_predictions.dtype)\n",
    "print(y_test.shape, y_test.dtype)"
   ]
  },
  {
   "cell_type": "code",
   "execution_count": 205,
   "id": "14885a2f",
   "metadata": {},
   "outputs": [
    {
     "name": "stdout",
     "output_type": "stream",
     "text": [
      "[[    0     0     0     0    52]\n",
      " [    0     0     0     0   157]\n",
      " [    0     0     0     0   416]\n",
      " [    0     0     0     0   867]\n",
      " [    0     0     0     0 25182]]\n",
      "0.9440653820199445\n"
     ]
    }
   ],
   "source": [
    "cm = confusion_matrix(y_test, Log_predictions)\n",
    "print(cm)  \n",
    "score = accuracy_score(y_test, Log_predictions)\n",
    "print(score)"
   ]
  },
  {
   "cell_type": "markdown",
   "id": "e6671029",
   "metadata": {},
   "source": [
    "# NEURAL NET\n"
   ]
  },
  {
   "cell_type": "code",
   "execution_count": 206,
   "id": "f0a1d78f",
   "metadata": {},
   "outputs": [],
   "source": [
    "#Leaky ReLu Activation\n",
    "def g1(t):\n",
    "    return np.maximum(0.01 * t, t)\n",
    "def g1_prime(t):\n",
    "    return np.where(t>0, 1, 0.01)\n",
    "def g2(x):\n",
    "    return 1. / (1 + np.exp(-x))"
   ]
  },
  {
   "cell_type": "code",
   "execution_count": null,
   "id": "ddce9471",
   "metadata": {},
   "outputs": [],
   "source": [
    "# The activation Functions\n",
    "#sigmoid\n",
    "def g1(t):\n",
    "    return 1/(1 + np.exp(-t))\n",
    "def g1_prime(t):\n",
    "    return g1(t)*(1-g1(t))\n",
    "# softmax\n",
    "def g2(t):\n",
    "    e = np.exp(t)\n",
    "    return e / e.sum(axis=1, keepdims=True)"
   ]
  },
  {
   "cell_type": "code",
   "execution_count": null,
   "id": "42274cc5",
   "metadata": {},
   "outputs": [],
   "source": [
    "#Leaky ReLu Activation\n",
    "def g1(t):\n",
    "    return np.maximum(0.01 * t, t)\n",
    "def g1_prime(t):\n",
    "    return np.where(t>0, 1, 0.01)\n",
    "# softmax\n",
    "def g2(t):\n",
    "    e = np.exp(t)\n",
    "    return e / e.sum(axis=1, keepdims=True)  "
   ]
  },
  {
   "cell_type": "code",
   "execution_count": 207,
   "id": "cad311d6",
   "metadata": {},
   "outputs": [],
   "source": [
    "def NN(xx, y, n_h, n_y, alpha, iterations):\n",
    "\tstage_1 = iterations//2; alpha2 = alpha/2.\n",
    "\tstage_2 = iterations//1.75; alpha3 = alpha/4.\n",
    "\tstage_3 = iterations//1.5; alpha4 = alpha/8.\n",
    "\tcost_list = [[],[]]\n",
    "\tm = xx.shape[1]\n",
    "\tn_x = xx.shape[0]\n",
    "\tprint(xx.shape)\n",
    "\tprint(n_x)\n",
    "\tW1 = np.random.randn(n_h, n_x)\n",
    "\tprint(W1, W1.shape)\n",
    "\tb1 = np.random.randn(n_h, 1)\n",
    "\tprint(b1, b1.shape)\n",
    "\tW2 = np.random.randn(n_y, n_h)\n",
    "\tb2 = np.random.randn(n_y, 1)\n",
    "\tfor i in range(iterations):\n",
    "\t\tZ1 = np.dot(W1, xx) + b1\n",
    "\t\tA1 = g1(Z1)\n",
    "\t\tZ2 = np.dot(W2, A1) + b2\n",
    "\t\tA2 = g2(Z2)\n",
    "\t\t#if i%100 == 0:\n",
    "\t\t\t#cost = -np.sum(y*np.log(A2) + (1-y)*np.log(1-A2))\n",
    "\t\t\t#cost_list[0].append(i)\n",
    "\t\t\t#cost_list[1].append(cost)\n",
    "\t\tdZ2 = A2 - y\n",
    "\t\tdW2 = (1/m) * np.dot(dZ2, A1.T)\n",
    "\t\tdb2 = (1/m) * np.sum(dZ2)\n",
    "\t\tdZ1 = np.dot(W2.T, dZ2) * g1_prime(Z1)\n",
    "\t\tdW1 = (1/m) * np.dot(dZ1, xx.T)\n",
    "\t\tdb1 = (1/m) * np.sum(dZ1)\n",
    "\t\tW2 = W2 - alpha * dW2\n",
    "\t\tb2 = b2 - alpha * db2\n",
    "\t\tW1 = W1 - alpha * dW1\n",
    "\t\tb1 = b1 - alpha * db1\n",
    "\t\tif i>stage_1: alpha = alpha2\n",
    "\t\telif i>stage_2: alpha = alpha3\n",
    "\t\telif i>stage_3: alpha = alpha4\n",
    "\treturn W1, b1, W2, b2, cost_list\n"
   ]
  },
  {
   "cell_type": "code",
   "execution_count": 208,
   "id": "09264ffc",
   "metadata": {},
   "outputs": [],
   "source": [
    "n_h = 2; n_y = 1\n",
    "alpha = 0.05\n",
    "iterations = 50000"
   ]
  },
  {
   "cell_type": "code",
   "execution_count": 209,
   "id": "d65bd282",
   "metadata": {},
   "outputs": [
    {
     "name": "stdout",
     "output_type": "stream",
     "text": [
      "(33, 80021) (80021,)\n"
     ]
    }
   ],
   "source": [
    "print(X_train.T.shape, y_train.T.shape)"
   ]
  },
  {
   "cell_type": "code",
   "execution_count": 210,
   "id": "0b1f39dc",
   "metadata": {},
   "outputs": [
    {
     "name": "stdout",
     "output_type": "stream",
     "text": [
      "(80021, 1)\n"
     ]
    }
   ],
   "source": [
    "y_train_N = y_train.values.reshape(-1,1)\n",
    "print(y_train_N.shape)"
   ]
  },
  {
   "cell_type": "code",
   "execution_count": 211,
   "id": "fc507dd4",
   "metadata": {},
   "outputs": [
    {
     "name": "stdout",
     "output_type": "stream",
     "text": [
      "(80021, 33) (80021, 1)\n",
      "(33, 80021) (1, 80021)\n"
     ]
    }
   ],
   "source": [
    "print(X_train.shape, y_train_N.shape)\n",
    "print(X_train.T.shape, y_train_N.T.shape)"
   ]
  },
  {
   "cell_type": "code",
   "execution_count": 212,
   "id": "319b26a6",
   "metadata": {},
   "outputs": [
    {
     "name": "stdout",
     "output_type": "stream",
     "text": [
      "(33, 80021)\n",
      "33\n",
      "[[ 0.45601404  0.61211428 -0.35443939 -1.54777731 -0.06479802  0.13972085\n",
      "   1.49830974  1.29409606 -1.30024401 -2.17307635  0.79467073 -0.04401294\n",
      "   1.40985275 -1.73877353  0.88443501 -0.25036376 -3.18249823  2.93437843\n",
      "   0.31761618 -2.65783612 -1.19072162  1.42104997 -0.21947073  1.29683757\n",
      "   0.12816242  0.01135696  0.34448596  0.93302247 -1.34916548  0.90084609\n",
      "  -0.36830384 -1.69660973  0.0052122 ]\n",
      " [-1.19872194  1.49733318  0.32094507  0.03324901  1.64442269  1.27985283\n",
      "   1.30204092 -2.38037565  0.54310121  0.56368119  0.90240138 -0.77034764\n",
      "   0.51563492 -0.49164392 -1.0589711   1.17037198  0.67232807 -0.46070089\n",
      "  -0.894736    1.48503733  0.85901126 -0.95929124  1.21373379  1.63390323\n",
      "   1.73314469 -0.3743149   1.14864069  0.45227917  0.76920464  0.26807378\n",
      "   0.64225215  1.56616328  0.25643274]] (2, 33)\n",
      "[[ 1.69520726]\n",
      " [-0.09200439]] (2, 1)\n"
     ]
    },
    {
     "name": "stderr",
     "output_type": "stream",
     "text": [
      "C:\\Users\\schmi\\anaconda3\\envs\\hpenv\\lib\\site-packages\\numpy\\core\\fromnumeric.py:86: RuntimeWarning: invalid value encountered in reduce\n",
      "  return ufunc.reduce(obj, axis, dtype, out, **passkwargs)\n"
     ]
    },
    {
     "ename": "KeyboardInterrupt",
     "evalue": "",
     "output_type": "error",
     "traceback": [
      "\u001b[1;31m---------------------------------------------------------------------------\u001b[0m",
      "\u001b[1;31mKeyboardInterrupt\u001b[0m                         Traceback (most recent call last)",
      "\u001b[1;32m~\\AppData\\Local\\Temp/ipykernel_28060/2448213019.py\u001b[0m in \u001b[0;36m<module>\u001b[1;34m\u001b[0m\n\u001b[1;32m----> 1\u001b[1;33m \u001b[0mW1\u001b[0m\u001b[1;33m,\u001b[0m \u001b[0mb1\u001b[0m\u001b[1;33m,\u001b[0m \u001b[0mW2\u001b[0m\u001b[1;33m,\u001b[0m \u001b[0mb2\u001b[0m\u001b[1;33m,\u001b[0m \u001b[0mcost_list\u001b[0m \u001b[1;33m=\u001b[0m \u001b[0mNN\u001b[0m\u001b[1;33m(\u001b[0m\u001b[0mX_train\u001b[0m\u001b[1;33m.\u001b[0m\u001b[0mT\u001b[0m\u001b[1;33m,\u001b[0m \u001b[0my_train_N\u001b[0m\u001b[1;33m.\u001b[0m\u001b[0mT\u001b[0m\u001b[1;33m,\u001b[0m \u001b[0mn_h\u001b[0m\u001b[1;33m,\u001b[0m \u001b[0mn_y\u001b[0m\u001b[1;33m,\u001b[0m \u001b[0malpha\u001b[0m\u001b[1;33m,\u001b[0m \u001b[0miterations\u001b[0m\u001b[1;33m)\u001b[0m\u001b[1;33m\u001b[0m\u001b[1;33m\u001b[0m\u001b[0m\n\u001b[0m",
      "\u001b[1;32m~\\AppData\\Local\\Temp/ipykernel_28060/241312550.py\u001b[0m in \u001b[0;36mNN\u001b[1;34m(xx, y, n_h, n_y, alpha, iterations)\u001b[0m\n\u001b[0;32m     15\u001b[0m         \u001b[0mb2\u001b[0m \u001b[1;33m=\u001b[0m \u001b[0mnp\u001b[0m\u001b[1;33m.\u001b[0m\u001b[0mrandom\u001b[0m\u001b[1;33m.\u001b[0m\u001b[0mrandn\u001b[0m\u001b[1;33m(\u001b[0m\u001b[0mn_y\u001b[0m\u001b[1;33m,\u001b[0m \u001b[1;36m1\u001b[0m\u001b[1;33m)\u001b[0m\u001b[1;33m\u001b[0m\u001b[1;33m\u001b[0m\u001b[0m\n\u001b[0;32m     16\u001b[0m         \u001b[1;32mfor\u001b[0m \u001b[0mi\u001b[0m \u001b[1;32min\u001b[0m \u001b[0mrange\u001b[0m\u001b[1;33m(\u001b[0m\u001b[0miterations\u001b[0m\u001b[1;33m)\u001b[0m\u001b[1;33m:\u001b[0m\u001b[1;33m\u001b[0m\u001b[1;33m\u001b[0m\u001b[0m\n\u001b[1;32m---> 17\u001b[1;33m                 \u001b[0mZ1\u001b[0m \u001b[1;33m=\u001b[0m \u001b[0mnp\u001b[0m\u001b[1;33m.\u001b[0m\u001b[0mdot\u001b[0m\u001b[1;33m(\u001b[0m\u001b[0mW1\u001b[0m\u001b[1;33m,\u001b[0m \u001b[0mxx\u001b[0m\u001b[1;33m)\u001b[0m \u001b[1;33m+\u001b[0m \u001b[0mb1\u001b[0m\u001b[1;33m\u001b[0m\u001b[1;33m\u001b[0m\u001b[0m\n\u001b[0m\u001b[0;32m     18\u001b[0m                 \u001b[0mA1\u001b[0m \u001b[1;33m=\u001b[0m \u001b[0mg1\u001b[0m\u001b[1;33m(\u001b[0m\u001b[0mZ1\u001b[0m\u001b[1;33m)\u001b[0m\u001b[1;33m\u001b[0m\u001b[1;33m\u001b[0m\u001b[0m\n\u001b[0;32m     19\u001b[0m                 \u001b[0mZ2\u001b[0m \u001b[1;33m=\u001b[0m \u001b[0mnp\u001b[0m\u001b[1;33m.\u001b[0m\u001b[0mdot\u001b[0m\u001b[1;33m(\u001b[0m\u001b[0mW2\u001b[0m\u001b[1;33m,\u001b[0m \u001b[0mA1\u001b[0m\u001b[1;33m)\u001b[0m \u001b[1;33m+\u001b[0m \u001b[0mb2\u001b[0m\u001b[1;33m\u001b[0m\u001b[1;33m\u001b[0m\u001b[0m\n",
      "\u001b[1;32m<__array_function__ internals>\u001b[0m in \u001b[0;36mdot\u001b[1;34m(*args, **kwargs)\u001b[0m\n",
      "\u001b[1;32m~\\anaconda3\\envs\\hpenv\\lib\\site-packages\\pandas\\core\\generic.py\u001b[0m in \u001b[0;36m__array__\u001b[1;34m(self, dtype)\u001b[0m\n\u001b[0;32m   2070\u001b[0m \u001b[1;33m\u001b[0m\u001b[0m\n\u001b[0;32m   2071\u001b[0m     \u001b[1;32mdef\u001b[0m \u001b[0m__array__\u001b[0m\u001b[1;33m(\u001b[0m\u001b[0mself\u001b[0m\u001b[1;33m,\u001b[0m \u001b[0mdtype\u001b[0m\u001b[1;33m:\u001b[0m \u001b[0mnpt\u001b[0m\u001b[1;33m.\u001b[0m\u001b[0mDTypeLike\u001b[0m \u001b[1;33m|\u001b[0m \u001b[1;32mNone\u001b[0m \u001b[1;33m=\u001b[0m \u001b[1;32mNone\u001b[0m\u001b[1;33m)\u001b[0m \u001b[1;33m->\u001b[0m \u001b[0mnp\u001b[0m\u001b[1;33m.\u001b[0m\u001b[0mndarray\u001b[0m\u001b[1;33m:\u001b[0m\u001b[1;33m\u001b[0m\u001b[1;33m\u001b[0m\u001b[0m\n\u001b[1;32m-> 2072\u001b[1;33m         \u001b[1;32mreturn\u001b[0m \u001b[0mnp\u001b[0m\u001b[1;33m.\u001b[0m\u001b[0masarray\u001b[0m\u001b[1;33m(\u001b[0m\u001b[0mself\u001b[0m\u001b[1;33m.\u001b[0m\u001b[0m_values\u001b[0m\u001b[1;33m,\u001b[0m \u001b[0mdtype\u001b[0m\u001b[1;33m=\u001b[0m\u001b[0mdtype\u001b[0m\u001b[1;33m)\u001b[0m\u001b[1;33m\u001b[0m\u001b[1;33m\u001b[0m\u001b[0m\n\u001b[0m\u001b[0;32m   2073\u001b[0m \u001b[1;33m\u001b[0m\u001b[0m\n\u001b[0;32m   2074\u001b[0m     def __array_wrap__(\n",
      "\u001b[1;31mKeyboardInterrupt\u001b[0m: "
     ]
    }
   ],
   "source": [
    "W1, b1, W2, b2, cost_list = NN(X_train.T, y_train_N.T, n_h, n_y, alpha, iterations)"
   ]
  },
  {
   "cell_type": "code",
   "execution_count": null,
   "id": "34f69e5b",
   "metadata": {},
   "outputs": [],
   "source": [
    "z1 = np.dot(w_1, X) + b_1\n",
    "a1 = g1(z1)\n",
    "z2 = np.dot(w_2, a1) + b_2\n",
    "a2 = g2(z2.T).T\n",
    "pred = np.zeros(1500, dtype=int)\n",
    "for i in range(1500):\n",
    "    if a2[1,i]>a2[0,i] and a2[1,i]>a2[2,i]: pred[i]=1\n",
    "    elif a2[2,i]>a2[0,i] and a2[2,i]>a2[1,i]: pred[i]=2\n",
    "cm = confusion_matrix(labels, pred)\n",
    "print(cm)"
   ]
  },
  {
   "cell_type": "markdown",
   "id": "0748a453",
   "metadata": {},
   "source": [
    "# "
   ]
  },
  {
   "cell_type": "markdown",
   "id": "ae7b795d",
   "metadata": {},
   "source": [
    "# NAIVE BAYES"
   ]
  },
  {
   "cell_type": "code",
   "execution_count": 213,
   "id": "f73bedef",
   "metadata": {},
   "outputs": [
    {
     "name": "stdout",
     "output_type": "stream",
     "text": [
      "Train: (80021, 33) (80021,)\n",
      "Test: (26674, 33) (26674,)\n"
     ]
    }
   ],
   "source": [
    "print('Train:', X_train.shape, y_train.shape)\n",
    "print('Test:', X_test.shape, y_test.shape)"
   ]
  },
  {
   "cell_type": "code",
   "execution_count": 214,
   "id": "0f353550",
   "metadata": {},
   "outputs": [
    {
     "name": "stdout",
     "output_type": "stream",
     "text": [
      "0.25871635300292417\n"
     ]
    }
   ],
   "source": [
    "from sklearn import metrics\n",
    "from sklearn.naive_bayes import GaussianNB, MultinomialNB, ComplementNB\n",
    "model = GaussianNB()\n",
    "model.fit(X_train, y_train)\n",
    "predicted = model.predict(X_test)\n",
    "print(metrics.accuracy_score(y_test, predicted))"
   ]
  },
  {
   "cell_type": "code",
   "execution_count": 215,
   "id": "ef06cf98",
   "metadata": {},
   "outputs": [
    {
     "name": "stdout",
     "output_type": "stream",
     "text": [
      "0.4673839694084127\n"
     ]
    }
   ],
   "source": [
    "model = MultinomialNB()\n",
    "model.fit(X_train, y_train)\n",
    "predicted = model.predict(X_test)\n",
    "print(metrics.accuracy_score(y_test, predicted))"
   ]
  },
  {
   "cell_type": "code",
   "execution_count": 216,
   "id": "ac4adced",
   "metadata": {},
   "outputs": [
    {
     "name": "stdout",
     "output_type": "stream",
     "text": [
      "0.4801304641223664\n"
     ]
    }
   ],
   "source": [
    "NBmodel = ComplementNB()\n",
    "NBmodel.fit(X_train, y_train)\n",
    "predicted = NBmodel.predict(X_test)\n",
    "print(metrics.accuracy_score(y_test, predicted))"
   ]
  },
  {
   "cell_type": "markdown",
   "id": "d243ffe5",
   "metadata": {},
   "source": [
    "# Finally, validate the models with testing data"
   ]
  },
  {
   "cell_type": "code",
   "execution_count": 217,
   "id": "7d0725cd",
   "metadata": {},
   "outputs": [],
   "source": [
    "# we have log_predictions, NBmodel, and NN_predictions\n",
    "#first create some sample data\n",
    "test_data = X[:10]"
   ]
  },
  {
   "cell_type": "code",
   "execution_count": 218,
   "id": "b35bf95e",
   "metadata": {},
   "outputs": [
    {
     "name": "stdout",
     "output_type": "stream",
     "text": [
      "(10, 33)\n"
     ]
    }
   ],
   "source": [
    "print(test_data.shape)"
   ]
  },
  {
   "cell_type": "code",
   "execution_count": 219,
   "id": "0dfe407e",
   "metadata": {},
   "outputs": [
    {
     "name": "stdout",
     "output_type": "stream",
     "text": [
      "   ROOMS   EYB   GBA  WARD  STYLE_1.5 Story Fin  STYLE_1.5 Story Unfin  \\\n",
      "0      8  1972  2522     2                    0                      0   \n",
      "1     11  1972  2567     2                    0                      0   \n",
      "2      9  1984  2522     2                    0                      0   \n",
      "3      8  1984  2484     2                    0                      0   \n",
      "4     11  1985  5255     2                    0                      0   \n",
      "5     10  1972  5344     2                    0                      0   \n",
      "6      5  1957  1260     2                    0                      0   \n",
      "7      8  1972  2401     2                    0                      0   \n",
      "8      7  1967  1488     2                    0                      0   \n",
      "9      6  1950  1590     2                    0                      0   \n",
      "\n",
      "   STYLE_2 Story  STYLE_2.5 Story Fin  STYLE_2.5 Story Unfin  STYLE_3 Story  \\\n",
      "0              0                    0                      0              1   \n",
      "1              0                    0                      0              1   \n",
      "2              0                    0                      0              1   \n",
      "3              0                    0                      0              1   \n",
      "4              0                    0                      0              1   \n",
      "5              0                    0                      0              0   \n",
      "6              1                    0                      0              0   \n",
      "7              0                    0                      0              1   \n",
      "8              1                    0                      0              0   \n",
      "9              1                    0                      0              0   \n",
      "\n",
      "   ...  GRADE_Exceptional-A  GRADE_Exceptional-B  GRADE_Exceptional-C  \\\n",
      "0  ...                    0                    0                    0   \n",
      "1  ...                    0                    0                    0   \n",
      "2  ...                    0                    0                    0   \n",
      "3  ...                    0                    0                    0   \n",
      "4  ...                    0                    0                    0   \n",
      "5  ...                    0                    0                    0   \n",
      "6  ...                    0                    0                    0   \n",
      "7  ...                    0                    0                    0   \n",
      "8  ...                    0                    0                    0   \n",
      "9  ...                    0                    0                    0   \n",
      "\n",
      "   GRADE_Exceptional-D  GRADE_Fair Quality  GRADE_Good Quality  \\\n",
      "0                    0                   0                   0   \n",
      "1                    0                   0                   0   \n",
      "2                    0                   0                   0   \n",
      "3                    0                   0                   0   \n",
      "4                    0                   0                   0   \n",
      "5                    0                   0                   0   \n",
      "6                    0                   0                   0   \n",
      "7                    0                   0                   0   \n",
      "8                    0                   0                   0   \n",
      "9                    0                   0                   1   \n",
      "\n",
      "   GRADE_Low Quality  GRADE_No Data  GRADE_Superior  GRADE_Very Good  \n",
      "0                  0              0               0                1  \n",
      "1                  0              0               0                1  \n",
      "2                  0              0               0                1  \n",
      "3                  0              0               0                1  \n",
      "4                  0              0               0                1  \n",
      "5                  0              0               0                1  \n",
      "6                  0              0               0                0  \n",
      "7                  0              0               0                1  \n",
      "8                  0              0               0                0  \n",
      "9                  0              0               0                0  \n",
      "\n",
      "[10 rows x 33 columns]\n"
     ]
    }
   ],
   "source": [
    "print(test_data)"
   ]
  },
  {
   "cell_type": "code",
   "execution_count": null,
   "id": "43c7756c",
   "metadata": {},
   "outputs": [],
   "source": [
    "#test_data.to_csv('TEST_Final.csv')"
   ]
  },
  {
   "cell_type": "markdown",
   "id": "0b01d72c",
   "metadata": {},
   "source": [
    "# Opened and edit the CSV"
   ]
  },
  {
   "cell_type": "code",
   "execution_count": 220,
   "id": "33dc35f2",
   "metadata": {},
   "outputs": [],
   "source": [
    "test_df = pd.read_csv(\"./TEST_Final.csv\")"
   ]
  },
  {
   "cell_type": "code",
   "execution_count": 221,
   "id": "5c933c43",
   "metadata": {},
   "outputs": [
    {
     "name": "stdout",
     "output_type": "stream",
     "text": [
      "(10, 34)\n"
     ]
    },
    {
     "data": {
      "text/plain": [
       "<bound method DataFrame.info of    Unnamed: 0  ROOMS   EYB   GBA  WARD  STYLE_1.5 Story Fin  \\\n",
       "0           0      8  1970  1800     2                    0   \n",
       "1           1     10  1972  2567     3                    0   \n",
       "2           2      3  1984  1400     4                    0   \n",
       "3           3      8  1987  2500     2                    0   \n",
       "4           4     11  1985  5255     5                    0   \n",
       "5           5      7  1980  5344     8                    0   \n",
       "6           6      5  1941  1260     1                    0   \n",
       "7           7      8  1972  2401     9                    0   \n",
       "8           8      8  1967  1488     3                    0   \n",
       "9           9      5  2000  1590     2                    0   \n",
       "\n",
       "   STYLE_1.5 Story Unfin  STYLE_2 Story  STYLE_2.5 Story Fin  \\\n",
       "0                      0              0                    0   \n",
       "1                      0              0                    0   \n",
       "2                      0              0                    0   \n",
       "3                      0              0                    0   \n",
       "4                      0              0                    0   \n",
       "5                      0              0                    0   \n",
       "6                      1              0                    0   \n",
       "7                      0              0                    0   \n",
       "8                      0              1                    0   \n",
       "9                      0              1                    0   \n",
       "\n",
       "   STYLE_2.5 Story Unfin  ...  GRADE_Exceptional-A  GRADE_Exceptional-B  \\\n",
       "0                      0  ...                    0                    0   \n",
       "1                      1  ...                    0                    0   \n",
       "2                      0  ...                    0                    0   \n",
       "3                      0  ...                    0                    0   \n",
       "4                      0  ...                    0                    0   \n",
       "5                      0  ...                    0                    0   \n",
       "6                      0  ...                    0                    0   \n",
       "7                      0  ...                    0                    0   \n",
       "8                      0  ...                    0                    0   \n",
       "9                      0  ...                    0                    0   \n",
       "\n",
       "   GRADE_Exceptional-C  GRADE_Exceptional-D  GRADE_Fair Quality  \\\n",
       "0                    0                    0                   0   \n",
       "1                    0                    0                   0   \n",
       "2                    0                    0                   0   \n",
       "3                    0                    0                   0   \n",
       "4                    0                    0                   0   \n",
       "5                    0                    0                   0   \n",
       "6                    0                    0                   0   \n",
       "7                    0                    0                   0   \n",
       "8                    0                    0                   0   \n",
       "9                    0                    0                   0   \n",
       "\n",
       "   GRADE_Good Quality  GRADE_Low Quality  GRADE_No Data  GRADE_Superior  \\\n",
       "0                   0                  0              0               0   \n",
       "1                   0                  0              0               0   \n",
       "2                   0                  0              0               0   \n",
       "3                   0                  0              0               0   \n",
       "4                   0                  0              0               0   \n",
       "5                   0                  0              0               0   \n",
       "6                   0                  0              0               0   \n",
       "7                   0                  0              0               0   \n",
       "8                   0                  0              0               0   \n",
       "9                   1                  0              0               0   \n",
       "\n",
       "   GRADE_Very Good  \n",
       "0                1  \n",
       "1                1  \n",
       "2                1  \n",
       "3                1  \n",
       "4                1  \n",
       "5                1  \n",
       "6                0  \n",
       "7                1  \n",
       "8                0  \n",
       "9                0  \n",
       "\n",
       "[10 rows x 34 columns]>"
      ]
     },
     "execution_count": 221,
     "metadata": {},
     "output_type": "execute_result"
    }
   ],
   "source": [
    "print(test_df.shape)\n",
    "test_df.info"
   ]
  },
  {
   "cell_type": "code",
   "execution_count": 222,
   "id": "634ca757",
   "metadata": {},
   "outputs": [
    {
     "data": {
      "text/html": [
       "<div>\n",
       "<style scoped>\n",
       "    .dataframe tbody tr th:only-of-type {\n",
       "        vertical-align: middle;\n",
       "    }\n",
       "\n",
       "    .dataframe tbody tr th {\n",
       "        vertical-align: top;\n",
       "    }\n",
       "\n",
       "    .dataframe thead th {\n",
       "        text-align: right;\n",
       "    }\n",
       "</style>\n",
       "<table border=\"1\" class=\"dataframe\">\n",
       "  <thead>\n",
       "    <tr style=\"text-align: right;\">\n",
       "      <th></th>\n",
       "      <th>Unnamed: 0</th>\n",
       "      <th>ROOMS</th>\n",
       "      <th>EYB</th>\n",
       "      <th>GBA</th>\n",
       "      <th>WARD</th>\n",
       "      <th>STYLE_1.5 Story Fin</th>\n",
       "      <th>STYLE_1.5 Story Unfin</th>\n",
       "      <th>STYLE_2 Story</th>\n",
       "      <th>STYLE_2.5 Story Fin</th>\n",
       "      <th>STYLE_2.5 Story Unfin</th>\n",
       "      <th>...</th>\n",
       "      <th>GRADE_Exceptional-A</th>\n",
       "      <th>GRADE_Exceptional-B</th>\n",
       "      <th>GRADE_Exceptional-C</th>\n",
       "      <th>GRADE_Exceptional-D</th>\n",
       "      <th>GRADE_Fair Quality</th>\n",
       "      <th>GRADE_Good Quality</th>\n",
       "      <th>GRADE_Low Quality</th>\n",
       "      <th>GRADE_No Data</th>\n",
       "      <th>GRADE_Superior</th>\n",
       "      <th>GRADE_Very Good</th>\n",
       "    </tr>\n",
       "  </thead>\n",
       "  <tbody>\n",
       "    <tr>\n",
       "      <th>0</th>\n",
       "      <td>0</td>\n",
       "      <td>8</td>\n",
       "      <td>1970</td>\n",
       "      <td>1800</td>\n",
       "      <td>2</td>\n",
       "      <td>0</td>\n",
       "      <td>0</td>\n",
       "      <td>0</td>\n",
       "      <td>0</td>\n",
       "      <td>0</td>\n",
       "      <td>...</td>\n",
       "      <td>0</td>\n",
       "      <td>0</td>\n",
       "      <td>0</td>\n",
       "      <td>0</td>\n",
       "      <td>0</td>\n",
       "      <td>0</td>\n",
       "      <td>0</td>\n",
       "      <td>0</td>\n",
       "      <td>0</td>\n",
       "      <td>1</td>\n",
       "    </tr>\n",
       "    <tr>\n",
       "      <th>1</th>\n",
       "      <td>1</td>\n",
       "      <td>10</td>\n",
       "      <td>1972</td>\n",
       "      <td>2567</td>\n",
       "      <td>3</td>\n",
       "      <td>0</td>\n",
       "      <td>0</td>\n",
       "      <td>0</td>\n",
       "      <td>0</td>\n",
       "      <td>1</td>\n",
       "      <td>...</td>\n",
       "      <td>0</td>\n",
       "      <td>0</td>\n",
       "      <td>0</td>\n",
       "      <td>0</td>\n",
       "      <td>0</td>\n",
       "      <td>0</td>\n",
       "      <td>0</td>\n",
       "      <td>0</td>\n",
       "      <td>0</td>\n",
       "      <td>1</td>\n",
       "    </tr>\n",
       "    <tr>\n",
       "      <th>2</th>\n",
       "      <td>2</td>\n",
       "      <td>3</td>\n",
       "      <td>1984</td>\n",
       "      <td>1400</td>\n",
       "      <td>4</td>\n",
       "      <td>0</td>\n",
       "      <td>0</td>\n",
       "      <td>0</td>\n",
       "      <td>0</td>\n",
       "      <td>0</td>\n",
       "      <td>...</td>\n",
       "      <td>0</td>\n",
       "      <td>0</td>\n",
       "      <td>0</td>\n",
       "      <td>0</td>\n",
       "      <td>0</td>\n",
       "      <td>0</td>\n",
       "      <td>0</td>\n",
       "      <td>0</td>\n",
       "      <td>0</td>\n",
       "      <td>1</td>\n",
       "    </tr>\n",
       "    <tr>\n",
       "      <th>3</th>\n",
       "      <td>3</td>\n",
       "      <td>8</td>\n",
       "      <td>1987</td>\n",
       "      <td>2500</td>\n",
       "      <td>2</td>\n",
       "      <td>0</td>\n",
       "      <td>0</td>\n",
       "      <td>0</td>\n",
       "      <td>0</td>\n",
       "      <td>0</td>\n",
       "      <td>...</td>\n",
       "      <td>0</td>\n",
       "      <td>0</td>\n",
       "      <td>0</td>\n",
       "      <td>0</td>\n",
       "      <td>0</td>\n",
       "      <td>0</td>\n",
       "      <td>0</td>\n",
       "      <td>0</td>\n",
       "      <td>0</td>\n",
       "      <td>1</td>\n",
       "    </tr>\n",
       "    <tr>\n",
       "      <th>4</th>\n",
       "      <td>4</td>\n",
       "      <td>11</td>\n",
       "      <td>1985</td>\n",
       "      <td>5255</td>\n",
       "      <td>5</td>\n",
       "      <td>0</td>\n",
       "      <td>0</td>\n",
       "      <td>0</td>\n",
       "      <td>0</td>\n",
       "      <td>0</td>\n",
       "      <td>...</td>\n",
       "      <td>0</td>\n",
       "      <td>0</td>\n",
       "      <td>0</td>\n",
       "      <td>0</td>\n",
       "      <td>0</td>\n",
       "      <td>0</td>\n",
       "      <td>0</td>\n",
       "      <td>0</td>\n",
       "      <td>0</td>\n",
       "      <td>1</td>\n",
       "    </tr>\n",
       "  </tbody>\n",
       "</table>\n",
       "<p>5 rows × 34 columns</p>\n",
       "</div>"
      ],
      "text/plain": [
       "   Unnamed: 0  ROOMS   EYB   GBA  WARD  STYLE_1.5 Story Fin  \\\n",
       "0           0      8  1970  1800     2                    0   \n",
       "1           1     10  1972  2567     3                    0   \n",
       "2           2      3  1984  1400     4                    0   \n",
       "3           3      8  1987  2500     2                    0   \n",
       "4           4     11  1985  5255     5                    0   \n",
       "\n",
       "   STYLE_1.5 Story Unfin  STYLE_2 Story  STYLE_2.5 Story Fin  \\\n",
       "0                      0              0                    0   \n",
       "1                      0              0                    0   \n",
       "2                      0              0                    0   \n",
       "3                      0              0                    0   \n",
       "4                      0              0                    0   \n",
       "\n",
       "   STYLE_2.5 Story Unfin  ...  GRADE_Exceptional-A  GRADE_Exceptional-B  \\\n",
       "0                      0  ...                    0                    0   \n",
       "1                      1  ...                    0                    0   \n",
       "2                      0  ...                    0                    0   \n",
       "3                      0  ...                    0                    0   \n",
       "4                      0  ...                    0                    0   \n",
       "\n",
       "   GRADE_Exceptional-C  GRADE_Exceptional-D  GRADE_Fair Quality  \\\n",
       "0                    0                    0                   0   \n",
       "1                    0                    0                   0   \n",
       "2                    0                    0                   0   \n",
       "3                    0                    0                   0   \n",
       "4                    0                    0                   0   \n",
       "\n",
       "   GRADE_Good Quality  GRADE_Low Quality  GRADE_No Data  GRADE_Superior  \\\n",
       "0                   0                  0              0               0   \n",
       "1                   0                  0              0               0   \n",
       "2                   0                  0              0               0   \n",
       "3                   0                  0              0               0   \n",
       "4                   0                  0              0               0   \n",
       "\n",
       "   GRADE_Very Good  \n",
       "0                1  \n",
       "1                1  \n",
       "2                1  \n",
       "3                1  \n",
       "4                1  \n",
       "\n",
       "[5 rows x 34 columns]"
      ]
     },
     "execution_count": 222,
     "metadata": {},
     "output_type": "execute_result"
    }
   ],
   "source": [
    "test_df.head()"
   ]
  },
  {
   "cell_type": "code",
   "execution_count": 223,
   "id": "1b11d9db",
   "metadata": {},
   "outputs": [],
   "source": [
    "test_df.drop(['Unnamed: 0'], inplace=True, axis=1)"
   ]
  },
  {
   "cell_type": "code",
   "execution_count": 224,
   "id": "f1b254db",
   "metadata": {},
   "outputs": [
    {
     "data": {
      "text/plain": [
       "(10, 33)"
      ]
     },
     "execution_count": 224,
     "metadata": {},
     "output_type": "execute_result"
    }
   ],
   "source": [
    "test_df.shape"
   ]
  },
  {
   "cell_type": "code",
   "execution_count": 225,
   "id": "650c9433",
   "metadata": {},
   "outputs": [],
   "source": [
    "NBpredicted = NBmodel.predict(test_df)"
   ]
  },
  {
   "cell_type": "code",
   "execution_count": 226,
   "id": "dd26ac37",
   "metadata": {},
   "outputs": [
    {
     "name": "stdout",
     "output_type": "stream",
     "text": [
      "[4 4 3 4 4 4 3 4 3 4]\n"
     ]
    }
   ],
   "source": [
    "print(NBpredicted)"
   ]
  },
  {
   "cell_type": "code",
   "execution_count": 227,
   "id": "38c8d7e0",
   "metadata": {},
   "outputs": [],
   "source": [
    "Linear_predictions = lm.predict(test_df)"
   ]
  },
  {
   "cell_type": "code",
   "execution_count": 228,
   "id": "63c63270",
   "metadata": {},
   "outputs": [
    {
     "name": "stdout",
     "output_type": "stream",
     "text": [
      "[ 895979.0246119   901883.31451468  774408.55883681  995616.50836753\n",
      " 1073280.12353678  935017.16881604  646259.29726283  546103.63914806\n",
      "  575191.85605187  851913.82010324]\n"
     ]
    }
   ],
   "source": [
    "print(Linear_predictions)"
   ]
  },
  {
   "cell_type": "code",
   "execution_count": 229,
   "id": "c48b0f0b",
   "metadata": {},
   "outputs": [],
   "source": [
    "def convert_price_category(cols):\n",
    "    for x in range(len(cols)):\n",
    "        price = cols[x]\n",
    "        if price <= 30000:\n",
    "            print(0)\n",
    "        elif price <= 60000:\n",
    "            print(1)\n",
    "        elif price <= 90000:\n",
    "            print(2)\n",
    "        elif price<= 130000:\n",
    "            print(3)\n",
    "        else:\n",
    "            print(4)"
   ]
  },
  {
   "cell_type": "code",
   "execution_count": 230,
   "id": "2811fc30",
   "metadata": {},
   "outputs": [
    {
     "name": "stdout",
     "output_type": "stream",
     "text": [
      "4\n",
      "4\n",
      "4\n",
      "4\n",
      "4\n",
      "4\n",
      "4\n",
      "4\n",
      "4\n",
      "4\n"
     ]
    }
   ],
   "source": [
    "convert_price_category(Linear_predictions)"
   ]
  },
  {
   "cell_type": "code",
   "execution_count": 231,
   "id": "a13fd6a7",
   "metadata": {},
   "outputs": [],
   "source": [
    "log_predictions = log_reg.predict(test_df)"
   ]
  },
  {
   "cell_type": "code",
   "execution_count": 232,
   "id": "ace743c5",
   "metadata": {},
   "outputs": [
    {
     "name": "stdout",
     "output_type": "stream",
     "text": [
      "[4 4 4 4 4 4 4 4 4 4]\n"
     ]
    }
   ],
   "source": [
    "print(log_predictions)"
   ]
  },
  {
   "cell_type": "code",
   "execution_count": null,
   "id": "c44f797d",
   "metadata": {},
   "outputs": [],
   "source": []
  }
 ],
 "metadata": {
  "kernelspec": {
   "display_name": "Python 3 (ipykernel)",
   "language": "python",
   "name": "python3"
  },
  "language_info": {
   "codemirror_mode": {
    "name": "ipython",
    "version": 3
   },
   "file_extension": ".py",
   "mimetype": "text/x-python",
   "name": "python",
   "nbconvert_exporter": "python",
   "pygments_lexer": "ipython3",
   "version": "3.9.7"
  }
 },
 "nbformat": 4,
 "nbformat_minor": 5
}
