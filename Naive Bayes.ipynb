{
 "cells": [
  {
   "cell_type": "code",
   "execution_count": 2,
   "id": "2258a28e",
   "metadata": {},
   "outputs": [],
   "source": [
    "import numpy as np\n",
    "import pandas as pd\n",
    "import matplotlib.pyplot as plt\n"
   ]
  },
  {
   "cell_type": "code",
   "execution_count": 9,
   "id": "8ecbb139",
   "metadata": {},
   "outputs": [],
   "source": [
    "import random\n",
    "import math\n",
    "%matplotlib inline"
   ]
  },
  {
   "cell_type": "code",
   "execution_count": 6,
   "id": "7bf3fcd3",
   "metadata": {},
   "outputs": [],
   "source": [
    "df = pd.read_csv(\"./weather.csv\")"
   ]
  },
  {
   "cell_type": "code",
   "execution_count": 7,
   "id": "da203aae",
   "metadata": {},
   "outputs": [
    {
     "data": {
      "text/html": [
       "<div>\n",
       "<style scoped>\n",
       "    .dataframe tbody tr th:only-of-type {\n",
       "        vertical-align: middle;\n",
       "    }\n",
       "\n",
       "    .dataframe tbody tr th {\n",
       "        vertical-align: top;\n",
       "    }\n",
       "\n",
       "    .dataframe thead th {\n",
       "        text-align: right;\n",
       "    }\n",
       "</style>\n",
       "<table border=\"1\" class=\"dataframe\">\n",
       "  <thead>\n",
       "    <tr style=\"text-align: right;\">\n",
       "      <th></th>\n",
       "      <th>Outlook</th>\n",
       "      <th>Temperature</th>\n",
       "      <th>Humidity</th>\n",
       "      <th>Windy</th>\n",
       "      <th>Class</th>\n",
       "    </tr>\n",
       "  </thead>\n",
       "  <tbody>\n",
       "    <tr>\n",
       "      <th>0</th>\n",
       "      <td>0</td>\n",
       "      <td>0</td>\n",
       "      <td>0</td>\n",
       "      <td>0</td>\n",
       "      <td>0</td>\n",
       "    </tr>\n",
       "    <tr>\n",
       "      <th>1</th>\n",
       "      <td>0</td>\n",
       "      <td>0</td>\n",
       "      <td>0</td>\n",
       "      <td>1</td>\n",
       "      <td>0</td>\n",
       "    </tr>\n",
       "    <tr>\n",
       "      <th>2</th>\n",
       "      <td>1</td>\n",
       "      <td>0</td>\n",
       "      <td>0</td>\n",
       "      <td>0</td>\n",
       "      <td>1</td>\n",
       "    </tr>\n",
       "    <tr>\n",
       "      <th>3</th>\n",
       "      <td>2</td>\n",
       "      <td>1</td>\n",
       "      <td>0</td>\n",
       "      <td>0</td>\n",
       "      <td>1</td>\n",
       "    </tr>\n",
       "    <tr>\n",
       "      <th>4</th>\n",
       "      <td>2</td>\n",
       "      <td>2</td>\n",
       "      <td>1</td>\n",
       "      <td>0</td>\n",
       "      <td>1</td>\n",
       "    </tr>\n",
       "  </tbody>\n",
       "</table>\n",
       "</div>"
      ],
      "text/plain": [
       "   Outlook  Temperature  Humidity  Windy  Class\n",
       "0        0            0         0      0      0\n",
       "1        0            0         0      1      0\n",
       "2        1            0         0      0      1\n",
       "3        2            1         0      0      1\n",
       "4        2            2         1      0      1"
      ]
     },
     "execution_count": 7,
     "metadata": {},
     "output_type": "execute_result"
    }
   ],
   "source": [
    "df.head()"
   ]
  },
  {
   "cell_type": "code",
   "execution_count": 10,
   "id": "3a94bb4c",
   "metadata": {},
   "outputs": [],
   "source": [
    "dataset = df.values"
   ]
  },
  {
   "cell_type": "code",
   "execution_count": 11,
   "id": "53e0c6b0",
   "metadata": {},
   "outputs": [],
   "source": [
    "def separateByClass(dataset):\n",
    "    separated = {}\n",
    "    for i in range(len(dataset)):\n",
    "        vector = dataset[i]\n",
    "        if (vector[-1] not in separated):\n",
    "            separated[vector[-1]] = []\n",
    "        separated[vector[-1]].append(vector)\n",
    "    return separated"
   ]
  },
  {
   "cell_type": "code",
   "execution_count": 18,
   "id": "2f432657",
   "metadata": {},
   "outputs": [
    {
     "data": {
      "text/plain": [
       "{0: [array([0, 0, 0, 0, 0], dtype=int64),\n",
       "  array([0, 0, 0, 1, 0], dtype=int64),\n",
       "  array([2, 2, 1, 1, 0], dtype=int64),\n",
       "  array([0, 1, 0, 0, 0], dtype=int64),\n",
       "  array([2, 1, 0, 1, 0], dtype=int64)],\n",
       " 1: [array([1, 0, 0, 0, 1], dtype=int64),\n",
       "  array([2, 1, 0, 0, 1], dtype=int64),\n",
       "  array([2, 2, 1, 0, 1], dtype=int64),\n",
       "  array([1, 2, 1, 1, 1], dtype=int64),\n",
       "  array([0, 2, 1, 0, 1], dtype=int64),\n",
       "  array([2, 1, 1, 0, 1], dtype=int64),\n",
       "  array([0, 1, 1, 1, 1], dtype=int64),\n",
       "  array([1, 1, 0, 1, 1], dtype=int64),\n",
       "  array([1, 0, 1, 0, 1], dtype=int64)]}"
      ]
     },
     "execution_count": 18,
     "metadata": {},
     "output_type": "execute_result"
    }
   ],
   "source": [
    "separateByClass(dataset)"
   ]
  },
  {
   "cell_type": "code",
   "execution_count": 12,
   "id": "2eef7f39",
   "metadata": {},
   "outputs": [],
   "source": [
    "# Returns the average of 'numbers'\n",
    "def mean(numbers):\n",
    "    return sum(numbers)/float(len(numbers))\n",
    "# Returns the standard deviation of 'numbers'\n",
    "def stdev(numbers):\n",
    "    avg = mean(numbers)\n",
    "    variance = sum([pow(x-avg,2) for x in numbers])/float(len(numbers)-1)\n",
    "    return math.sqrt(variance)\n",
    "# Returns the mean and stdev of each feature in 'dataset'\n",
    "def summarize(dataset):\n",
    "    summaries = [(np.mean(attribute), np.std(attribute)) for attribute in zip(*dataset)]\n",
    "    del summaries[-1]\n",
    "    return summaries"
   ]
  },
  {
   "cell_type": "code",
   "execution_count": 13,
   "id": "b16eac93",
   "metadata": {},
   "outputs": [
    {
     "data": {
      "text/plain": [
       "[(1.0, 0.8451542547285166),\n",
       " (1.0, 0.7559289460184544),\n",
       " (0.5, 0.5),\n",
       " (0.42857142857142855, 0.49487165930539345)]"
      ]
     },
     "execution_count": 13,
     "metadata": {},
     "output_type": "execute_result"
    }
   ],
   "source": [
    "summarize(dataset)"
   ]
  },
  {
   "cell_type": "code",
   "execution_count": 16,
   "id": "ccf4450e",
   "metadata": {},
   "outputs": [],
   "source": [
    "# This function summarizeByClass() takes the entire data set as a parameter.\n",
    "# First, it uses the function separateByClass() to separate the data into lists \n",
    "#according to the class value.\n",
    "# Next, it uses the function summarize() to find the mean and stdev for each \n",
    "#feature, in each of the subsets\n",
    "def summarizeByClass(dataset):\n",
    "    separated = separateByClass(dataset)\n",
    "    summaries = {}\n",
    "    for classValue, instances in separated.items():\n",
    "        summaries[classValue] = summarize(instances)\n",
    "    return summaries"
   ]
  },
  {
   "cell_type": "code",
   "execution_count": 17,
   "id": "abe5a44d",
   "metadata": {},
   "outputs": [
    {
     "data": {
      "text/plain": [
       "{0: [(0.8, 0.9797958971132713),\n",
       "  (0.8, 0.7483314773547883),\n",
       "  (0.2, 0.4000000000000001),\n",
       "  (0.6, 0.48989794855663565)],\n",
       " 1: [(1.1111111111111112, 0.7370277311900889),\n",
       "  (1.1111111111111112, 0.7370277311900889),\n",
       "  (0.6666666666666666, 0.4714045207910317),\n",
       "  (0.3333333333333333, 0.4714045207910317)]}"
      ]
     },
     "execution_count": 17,
     "metadata": {},
     "output_type": "execute_result"
    }
   ],
   "source": [
    "summarizeByClass(dataset)"
   ]
  },
  {
   "cell_type": "code",
   "execution_count": 19,
   "id": "d15c421b",
   "metadata": {},
   "outputs": [],
   "source": [
    "# calculateProbability() returns the probability corresponding to a value, based on a Gaussian distribution with a specific mean and standard deviation\n",
    "import math\n",
    "def calculateProbability(x, mean, stdev):\n",
    "    if stdev == 0: return 0\n",
    "    exponent = math.exp(-(math.pow(x-mean,2)/(2*math.pow(stdev,2))))\n",
    "    return (1 / (math.sqrt(2*math.pi) * stdev)) * exponent\n",
    "\n"
   ]
  },
  {
   "cell_type": "code",
   "execution_count": 20,
   "id": "fd39b937",
   "metadata": {},
   "outputs": [
    {
     "name": "stdout",
     "output_type": "stream",
     "text": [
      "Probability of belonging to class: 0.19947114020071635\n"
     ]
    }
   ],
   "source": [
    "# Example\n",
    "x = 5\n",
    "mean = 5;  stdev = 2\n",
    "probability = calculateProbability(x, mean, stdev)\n",
    "print('Probability of belonging to class:', probability)"
   ]
  },
  {
   "cell_type": "code",
   "execution_count": 21,
   "id": "de1007a6",
   "metadata": {},
   "outputs": [],
   "source": [
    "# For each data point x with (n features), calculate the probability that x belongs to each of the classes in the data set\n",
    "def calculateClassProbabilities(summaries, inputVector):\n",
    "    probabilities = {}\n",
    "    for classValue, classSummaries in summaries.items():\n",
    "        probabilities[classValue] = 1\n",
    "        for i in range(len(classSummaries)):\n",
    "            mean, stdev = classSummaries[i]\n",
    "            x = inputVector[i]\n",
    "            probabilities[classValue] *= calculateProbability(x, mean, stdev)\n",
    "    return probabilities"
   ]
  },
  {
   "cell_type": "code",
   "execution_count": 22,
   "id": "c6023fae",
   "metadata": {},
   "outputs": [
    {
     "name": "stdout",
     "output_type": "stream",
     "text": [
      "Probabilities for each class: {0: 0.7820853879509118, 1: 6.298736258150442e-05}\n"
     ]
    }
   ],
   "source": [
    "# Example\n",
    "summaries = {0:[(1, 0.5)], 1:[(20, 5.0)]}\n",
    "inputVector = [1.1]\n",
    "probabilities = calculateClassProbabilities(summaries, inputVector)\n",
    "print('Probabilities for each class:', probabilities)\n"
   ]
  },
  {
   "cell_type": "markdown",
   "id": "bdb9083f",
   "metadata": {},
   "source": [
    "Probabilities for each class: {0: 0.7820853879509118, 1: 6.298736258150442e-05}\n",
    "\n",
    "For the given input 1.1, there is more than 78% probability that it belongs to class \n",
    "0, and less than 0.0063% probability that it belongs to class 1."
   ]
  },
  {
   "cell_type": "code",
   "execution_count": 23,
   "id": "9a6d9160",
   "metadata": {},
   "outputs": [],
   "source": [
    "def predict(summaries, inputVector):\n",
    "    probabilities = calculateClassProbabilities(summaries, inputVector)\n",
    "    bestLabel, bestProb = None, -1\n",
    "    for classValue, probability in probabilities.items():\n",
    "        if bestLabel is None or probability > bestProb:\n",
    "            bestProb = probability\n",
    "            bestLabel = classValue\n",
    "    return bestLabel"
   ]
  },
  {
   "cell_type": "code",
   "execution_count": 24,
   "id": "983ed698",
   "metadata": {},
   "outputs": [
    {
     "name": "stdout",
     "output_type": "stream",
     "text": [
      "Prediction: A\n"
     ]
    }
   ],
   "source": [
    "# For example:\n",
    "summaries = {'A':[(1, 0.5)], 'B':[(20, 5.0)]}\n",
    "inputVector = [1.1]\n",
    "label = predict(summaries, inputVector)\n",
    "print('Prediction:', label)"
   ]
  },
  {
   "cell_type": "code",
   "execution_count": 27,
   "id": "e0be0427",
   "metadata": {},
   "outputs": [
    {
     "name": "stdout",
     "output_type": "stream",
     "text": [
      "Prediction: B\n"
     ]
    }
   ],
   "source": [
    "# For example:\n",
    "summaries = {'A':[(1, 0.5)], 'B':[(20, 5.0)]}\n",
    "inputVector = [18.1]\n",
    "label = predict(summaries, inputVector)\n",
    "print('Prediction:', label)"
   ]
  },
  {
   "cell_type": "code",
   "execution_count": 25,
   "id": "4f378c06",
   "metadata": {},
   "outputs": [],
   "source": [
    "# getPredictions() takes a list of inputs and returns the prediction for each of the inputs \n",
    "def getPredictions(summaries, testSet):\n",
    "    predictions = []\n",
    "    for i in range(len(testSet)):\n",
    "        result = predict(summaries, testSet[i])\n",
    "        predictions.append(result)\n",
    "    return predictions\n",
    "\n"
   ]
  },
  {
   "cell_type": "code",
   "execution_count": 26,
   "id": "9ef96209",
   "metadata": {},
   "outputs": [
    {
     "name": "stdout",
     "output_type": "stream",
     "text": [
      "Prediction: ['A', 'B']\n"
     ]
    }
   ],
   "source": [
    "# Example\n",
    "summaries = {'A':[(1, 0.5)], 'B':[(20, 5.0)]}\n",
    "testSet = [[1.1, '?'], [19.1, '?']]\n",
    "predictions = getPredictions(summaries, testSet)\n",
    "print('Prediction:', predictions)"
   ]
  },
  {
   "cell_type": "code",
   "execution_count": 28,
   "id": "32d16f5c",
   "metadata": {},
   "outputs": [
    {
     "name": "stdout",
     "output_type": "stream",
     "text": [
      "Accuracy: 66.66666666666666\n"
     ]
    }
   ],
   "source": [
    "# getAccuracy() takes the computed predictions and the known labels to compute \n",
    "#and return the accuracy of the predictions. \n",
    "def getAccuracy(testSet, predictions):\n",
    "    correct = 0\n",
    "    for x in range(len(testSet)):\n",
    "        if testSet[x][-1] == predictions[x]:\n",
    "            correct += 1\n",
    "    return (correct/float(len(testSet))) * 100.0\n",
    "\n",
    "# Example\n",
    "testSet = [[1,1,1,'a'], [2,2,2,'a'], [3,3,3,'b']]\n",
    "predictions = ['a', 'a', 'a']\n",
    "accuracy = getAccuracy(testSet, predictions)\n",
    "print('Accuracy:', accuracy)"
   ]
  },
  {
   "cell_type": "code",
   "execution_count": 29,
   "id": "737c1941",
   "metadata": {},
   "outputs": [],
   "source": [
    "# The function SplitDataset() divides the dataset into training and testing subsets.\n",
    "def splitDataset(dataset, splitRatio):\n",
    "    trainSize = int(len(dataset) * splitRatio)\n",
    "    trainSet = []\n",
    "    copy = list(dataset)\n",
    "    while len(trainSet) < trainSize:\n",
    "        index = random.randrange(len(copy))\n",
    "        trainSet.append(copy.pop(index))\n",
    "    return [trainSet, copy]"
   ]
  },
  {
   "cell_type": "code",
   "execution_count": 33,
   "id": "7e1590eb",
   "metadata": {},
   "outputs": [],
   "source": [
    "def main():\n",
    "    df = pd.read_csv(\"./weather.csv\")\n",
    "    dataset = df.values\n",
    "    summaries = summarizeByClass(dataset)\n",
    "    predictions = getPredictions(summaries, [[2,0,0,1]])\n",
    "    print(predictions)\n",
    " \n"
   ]
  },
  {
   "cell_type": "code",
   "execution_count": 34,
   "id": "e6c8a245",
   "metadata": {},
   "outputs": [
    {
     "name": "stdout",
     "output_type": "stream",
     "text": [
      "[0]\n"
     ]
    }
   ],
   "source": [
    "main()"
   ]
  },
  {
   "cell_type": "code",
   "execution_count": null,
   "id": "7a197ead",
   "metadata": {},
   "outputs": [],
   "source": []
  }
 ],
 "metadata": {
  "kernelspec": {
   "display_name": "tf2",
   "language": "python",
   "name": "tf2"
  },
  "language_info": {
   "codemirror_mode": {
    "name": "ipython",
    "version": 3
   },
   "file_extension": ".py",
   "mimetype": "text/x-python",
   "name": "python",
   "nbconvert_exporter": "python",
   "pygments_lexer": "ipython3",
   "version": "3.8.12"
  }
 },
 "nbformat": 4,
 "nbformat_minor": 5
}
