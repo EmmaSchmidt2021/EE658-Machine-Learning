{
 "cells": [
  {
   "cell_type": "markdown",
   "metadata": {},
   "source": [
    "# EE 658/758 Machine Learning in Engineering (Spring 2022)"
   ]
  },
  {
   "cell_type": "markdown",
   "metadata": {},
   "source": [
    "# Assignment #1: Linear Regression\n",
    "## DUE DATE: Monday, February 7, 2022"
   ]
  },
  {
   "cell_type": "markdown",
   "metadata": {},
   "source": [
    "# Predicting the Amount of Money Spent on Insured Customers \n",
    "\n",
    "### For this assignment, we will be analyzing insured customers' data for an insurance company:\n",
    "**Based on a sample data that consists of the profile of insured customers, we want to be able to predict the dollar amount of money spent by the insurance company on insured customers.**"
   ]
  },
  {
   "cell_type": "markdown",
   "metadata": {},
   "source": [
    "### Insured ustomers' Data\n",
    "The insured customers' data is in a csv file. It has information sconsisting of:\n",
    "1. age\n",
    "2. sex (female, male)\n",
    "3. bmi\n",
    "4. children\n",
    "5. smoker (yes, no)\n",
    "6. region (northeast, northwest, southeast, southwest])\n",
    "7. **expenses**\n",
    "\n",
    "The value we want to predict is **expenses**\n"
   ]
  },
  {
   "cell_type": "markdown",
   "metadata": {},
   "source": [
    "## 1. Import the Libraries:\n",
    "1. numpy\n",
    "2. matplotlib.pyplot\n",
    "3. pandas"
   ]
  },
  {
   "cell_type": "code",
   "execution_count": 109,
   "metadata": {},
   "outputs": [],
   "source": [
    "import numpy as np\n",
    "import matplotlib.pyplot as plt\n",
    "import pandas as pd"
   ]
  },
  {
   "cell_type": "markdown",
   "metadata": {},
   "source": [
    "## 2. Read the csv file: \"Insurance Customers Data\""
   ]
  },
  {
   "cell_type": "code",
   "execution_count": 110,
   "metadata": {},
   "outputs": [],
   "source": [
    "data_path = \"C:/Users/emmasch/EE658 PYTHON/insurance.csv\"\n",
    "df= pd.read_csv(data_path)"
   ]
  },
  {
   "cell_type": "markdown",
   "metadata": {},
   "source": [
    "## 3. Show a sample of the data (first 10 rows)"
   ]
  },
  {
   "cell_type": "code",
   "execution_count": 111,
   "metadata": {},
   "outputs": [
    {
     "data": {
      "text/html": [
       "<div>\n",
       "<style scoped>\n",
       "    .dataframe tbody tr th:only-of-type {\n",
       "        vertical-align: middle;\n",
       "    }\n",
       "\n",
       "    .dataframe tbody tr th {\n",
       "        vertical-align: top;\n",
       "    }\n",
       "\n",
       "    .dataframe thead th {\n",
       "        text-align: right;\n",
       "    }\n",
       "</style>\n",
       "<table border=\"1\" class=\"dataframe\">\n",
       "  <thead>\n",
       "    <tr style=\"text-align: right;\">\n",
       "      <th></th>\n",
       "      <th>age</th>\n",
       "      <th>sex</th>\n",
       "      <th>bmi</th>\n",
       "      <th>children</th>\n",
       "      <th>smoker</th>\n",
       "      <th>region</th>\n",
       "      <th>expenses</th>\n",
       "    </tr>\n",
       "  </thead>\n",
       "  <tbody>\n",
       "    <tr>\n",
       "      <th>0</th>\n",
       "      <td>19</td>\n",
       "      <td>female</td>\n",
       "      <td>27.9</td>\n",
       "      <td>0</td>\n",
       "      <td>yes</td>\n",
       "      <td>southwest</td>\n",
       "      <td>16884.92</td>\n",
       "    </tr>\n",
       "    <tr>\n",
       "      <th>1</th>\n",
       "      <td>18</td>\n",
       "      <td>male</td>\n",
       "      <td>33.8</td>\n",
       "      <td>1</td>\n",
       "      <td>no</td>\n",
       "      <td>southeast</td>\n",
       "      <td>1725.55</td>\n",
       "    </tr>\n",
       "    <tr>\n",
       "      <th>2</th>\n",
       "      <td>28</td>\n",
       "      <td>male</td>\n",
       "      <td>33.0</td>\n",
       "      <td>3</td>\n",
       "      <td>no</td>\n",
       "      <td>southeast</td>\n",
       "      <td>4449.46</td>\n",
       "    </tr>\n",
       "    <tr>\n",
       "      <th>3</th>\n",
       "      <td>33</td>\n",
       "      <td>male</td>\n",
       "      <td>22.7</td>\n",
       "      <td>0</td>\n",
       "      <td>no</td>\n",
       "      <td>northwest</td>\n",
       "      <td>21984.47</td>\n",
       "    </tr>\n",
       "    <tr>\n",
       "      <th>4</th>\n",
       "      <td>32</td>\n",
       "      <td>male</td>\n",
       "      <td>28.9</td>\n",
       "      <td>0</td>\n",
       "      <td>no</td>\n",
       "      <td>northwest</td>\n",
       "      <td>3866.86</td>\n",
       "    </tr>\n",
       "    <tr>\n",
       "      <th>5</th>\n",
       "      <td>31</td>\n",
       "      <td>female</td>\n",
       "      <td>25.7</td>\n",
       "      <td>0</td>\n",
       "      <td>no</td>\n",
       "      <td>southeast</td>\n",
       "      <td>3756.62</td>\n",
       "    </tr>\n",
       "    <tr>\n",
       "      <th>6</th>\n",
       "      <td>46</td>\n",
       "      <td>female</td>\n",
       "      <td>33.4</td>\n",
       "      <td>1</td>\n",
       "      <td>no</td>\n",
       "      <td>southeast</td>\n",
       "      <td>8240.59</td>\n",
       "    </tr>\n",
       "    <tr>\n",
       "      <th>7</th>\n",
       "      <td>37</td>\n",
       "      <td>female</td>\n",
       "      <td>27.7</td>\n",
       "      <td>3</td>\n",
       "      <td>no</td>\n",
       "      <td>northwest</td>\n",
       "      <td>7281.51</td>\n",
       "    </tr>\n",
       "    <tr>\n",
       "      <th>8</th>\n",
       "      <td>37</td>\n",
       "      <td>male</td>\n",
       "      <td>29.8</td>\n",
       "      <td>2</td>\n",
       "      <td>no</td>\n",
       "      <td>northeast</td>\n",
       "      <td>6406.41</td>\n",
       "    </tr>\n",
       "    <tr>\n",
       "      <th>9</th>\n",
       "      <td>60</td>\n",
       "      <td>female</td>\n",
       "      <td>25.8</td>\n",
       "      <td>0</td>\n",
       "      <td>no</td>\n",
       "      <td>northwest</td>\n",
       "      <td>28923.14</td>\n",
       "    </tr>\n",
       "  </tbody>\n",
       "</table>\n",
       "</div>"
      ],
      "text/plain": [
       "   age     sex   bmi  children smoker     region  expenses\n",
       "0   19  female  27.9         0    yes  southwest  16884.92\n",
       "1   18    male  33.8         1     no  southeast   1725.55\n",
       "2   28    male  33.0         3     no  southeast   4449.46\n",
       "3   33    male  22.7         0     no  northwest  21984.47\n",
       "4   32    male  28.9         0     no  northwest   3866.86\n",
       "5   31  female  25.7         0     no  southeast   3756.62\n",
       "6   46  female  33.4         1     no  southeast   8240.59\n",
       "7   37  female  27.7         3     no  northwest   7281.51\n",
       "8   37    male  29.8         2     no  northeast   6406.41\n",
       "9   60  female  25.8         0     no  northwest  28923.14"
      ]
     },
     "execution_count": 111,
     "metadata": {},
     "output_type": "execute_result"
    }
   ],
   "source": [
    "df.head(10)"
   ]
  },
  {
   "cell_type": "markdown",
   "metadata": {},
   "source": [
    "## 4. Show some statistics about the data (describe())"
   ]
  },
  {
   "cell_type": "code",
   "execution_count": 112,
   "metadata": {},
   "outputs": [
    {
     "data": {
      "text/html": [
       "<div>\n",
       "<style scoped>\n",
       "    .dataframe tbody tr th:only-of-type {\n",
       "        vertical-align: middle;\n",
       "    }\n",
       "\n",
       "    .dataframe tbody tr th {\n",
       "        vertical-align: top;\n",
       "    }\n",
       "\n",
       "    .dataframe thead th {\n",
       "        text-align: right;\n",
       "    }\n",
       "</style>\n",
       "<table border=\"1\" class=\"dataframe\">\n",
       "  <thead>\n",
       "    <tr style=\"text-align: right;\">\n",
       "      <th></th>\n",
       "      <th>age</th>\n",
       "      <th>bmi</th>\n",
       "      <th>children</th>\n",
       "      <th>expenses</th>\n",
       "    </tr>\n",
       "  </thead>\n",
       "  <tbody>\n",
       "    <tr>\n",
       "      <th>count</th>\n",
       "      <td>1338.000000</td>\n",
       "      <td>1338.000000</td>\n",
       "      <td>1338.000000</td>\n",
       "      <td>1338.000000</td>\n",
       "    </tr>\n",
       "    <tr>\n",
       "      <th>mean</th>\n",
       "      <td>39.207025</td>\n",
       "      <td>30.665471</td>\n",
       "      <td>1.094918</td>\n",
       "      <td>13270.422414</td>\n",
       "    </tr>\n",
       "    <tr>\n",
       "      <th>std</th>\n",
       "      <td>14.049960</td>\n",
       "      <td>6.098382</td>\n",
       "      <td>1.205493</td>\n",
       "      <td>12110.011240</td>\n",
       "    </tr>\n",
       "    <tr>\n",
       "      <th>min</th>\n",
       "      <td>18.000000</td>\n",
       "      <td>16.000000</td>\n",
       "      <td>0.000000</td>\n",
       "      <td>1121.870000</td>\n",
       "    </tr>\n",
       "    <tr>\n",
       "      <th>25%</th>\n",
       "      <td>27.000000</td>\n",
       "      <td>26.300000</td>\n",
       "      <td>0.000000</td>\n",
       "      <td>4740.287500</td>\n",
       "    </tr>\n",
       "    <tr>\n",
       "      <th>50%</th>\n",
       "      <td>39.000000</td>\n",
       "      <td>30.400000</td>\n",
       "      <td>1.000000</td>\n",
       "      <td>9382.030000</td>\n",
       "    </tr>\n",
       "    <tr>\n",
       "      <th>75%</th>\n",
       "      <td>51.000000</td>\n",
       "      <td>34.700000</td>\n",
       "      <td>2.000000</td>\n",
       "      <td>16639.915000</td>\n",
       "    </tr>\n",
       "    <tr>\n",
       "      <th>max</th>\n",
       "      <td>64.000000</td>\n",
       "      <td>53.100000</td>\n",
       "      <td>5.000000</td>\n",
       "      <td>63770.430000</td>\n",
       "    </tr>\n",
       "  </tbody>\n",
       "</table>\n",
       "</div>"
      ],
      "text/plain": [
       "               age          bmi     children      expenses\n",
       "count  1338.000000  1338.000000  1338.000000   1338.000000\n",
       "mean     39.207025    30.665471     1.094918  13270.422414\n",
       "std      14.049960     6.098382     1.205493  12110.011240\n",
       "min      18.000000    16.000000     0.000000   1121.870000\n",
       "25%      27.000000    26.300000     0.000000   4740.287500\n",
       "50%      39.000000    30.400000     1.000000   9382.030000\n",
       "75%      51.000000    34.700000     2.000000  16639.915000\n",
       "max      64.000000    53.100000     5.000000  63770.430000"
      ]
     },
     "execution_count": 112,
     "metadata": {},
     "output_type": "execute_result"
    }
   ],
   "source": [
    "df.describe()"
   ]
  },
  {
   "cell_type": "markdown",
   "metadata": {},
   "source": [
    "## 5. Show info about the data (info())"
   ]
  },
  {
   "cell_type": "code",
   "execution_count": 113,
   "metadata": {},
   "outputs": [
    {
     "name": "stdout",
     "output_type": "stream",
     "text": [
      "<class 'pandas.core.frame.DataFrame'>\n",
      "RangeIndex: 1338 entries, 0 to 1337\n",
      "Data columns (total 7 columns):\n",
      " #   Column    Non-Null Count  Dtype  \n",
      "---  ------    --------------  -----  \n",
      " 0   age       1338 non-null   int64  \n",
      " 1   sex       1338 non-null   object \n",
      " 2   bmi       1338 non-null   float64\n",
      " 3   children  1338 non-null   int64  \n",
      " 4   smoker    1338 non-null   object \n",
      " 5   region    1338 non-null   object \n",
      " 6   expenses  1338 non-null   float64\n",
      "dtypes: float64(2), int64(2), object(3)\n",
      "memory usage: 73.3+ KB\n"
     ]
    }
   ],
   "source": [
    "df.info()"
   ]
  },
  {
   "cell_type": "markdown",
   "metadata": {},
   "source": [
    "## 6. Convert the columns with text data into numeric data"
   ]
  },
  {
   "cell_type": "code",
   "execution_count": 114,
   "metadata": {},
   "outputs": [
    {
     "name": "stdout",
     "output_type": "stream",
     "text": [
      "['sex', 'smoker', 'region']\n"
     ]
    }
   ],
   "source": [
    "type(df)\n",
    "columnTypes = dict(df.dtypes)\n",
    "objectColumns = df.dtypes[df.dtypes == object]\n",
    "text_to_num = list(objectColumns.index)\n",
    "print(text_to_num)"
   ]
  },
  {
   "cell_type": "code",
   "execution_count": 115,
   "metadata": {},
   "outputs": [
    {
     "data": {
      "text/html": [
       "<div>\n",
       "<style scoped>\n",
       "    .dataframe tbody tr th:only-of-type {\n",
       "        vertical-align: middle;\n",
       "    }\n",
       "\n",
       "    .dataframe tbody tr th {\n",
       "        vertical-align: top;\n",
       "    }\n",
       "\n",
       "    .dataframe thead th {\n",
       "        text-align: right;\n",
       "    }\n",
       "</style>\n",
       "<table border=\"1\" class=\"dataframe\">\n",
       "  <thead>\n",
       "    <tr style=\"text-align: right;\">\n",
       "      <th></th>\n",
       "      <th>age</th>\n",
       "      <th>sex</th>\n",
       "      <th>bmi</th>\n",
       "      <th>children</th>\n",
       "      <th>smoker</th>\n",
       "      <th>region</th>\n",
       "      <th>expenses</th>\n",
       "      <th>Female</th>\n",
       "      <th>Male</th>\n",
       "      <th>Yes_Smoke</th>\n",
       "      <th>No_Smoke</th>\n",
       "      <th>SW</th>\n",
       "      <th>SE</th>\n",
       "      <th>NW</th>\n",
       "      <th>NE</th>\n",
       "    </tr>\n",
       "  </thead>\n",
       "  <tbody>\n",
       "    <tr>\n",
       "      <th>0</th>\n",
       "      <td>19</td>\n",
       "      <td>female</td>\n",
       "      <td>27.9</td>\n",
       "      <td>0</td>\n",
       "      <td>yes</td>\n",
       "      <td>southwest</td>\n",
       "      <td>16884.92</td>\n",
       "      <td>female</td>\n",
       "      <td>female</td>\n",
       "      <td>yes</td>\n",
       "      <td>yes</td>\n",
       "      <td>southwest</td>\n",
       "      <td>southwest</td>\n",
       "      <td>southwest</td>\n",
       "      <td>southwest</td>\n",
       "    </tr>\n",
       "    <tr>\n",
       "      <th>1</th>\n",
       "      <td>18</td>\n",
       "      <td>male</td>\n",
       "      <td>33.8</td>\n",
       "      <td>1</td>\n",
       "      <td>no</td>\n",
       "      <td>southeast</td>\n",
       "      <td>1725.55</td>\n",
       "      <td>male</td>\n",
       "      <td>male</td>\n",
       "      <td>no</td>\n",
       "      <td>no</td>\n",
       "      <td>southeast</td>\n",
       "      <td>southeast</td>\n",
       "      <td>southeast</td>\n",
       "      <td>southeast</td>\n",
       "    </tr>\n",
       "    <tr>\n",
       "      <th>2</th>\n",
       "      <td>28</td>\n",
       "      <td>male</td>\n",
       "      <td>33.0</td>\n",
       "      <td>3</td>\n",
       "      <td>no</td>\n",
       "      <td>southeast</td>\n",
       "      <td>4449.46</td>\n",
       "      <td>male</td>\n",
       "      <td>male</td>\n",
       "      <td>no</td>\n",
       "      <td>no</td>\n",
       "      <td>southeast</td>\n",
       "      <td>southeast</td>\n",
       "      <td>southeast</td>\n",
       "      <td>southeast</td>\n",
       "    </tr>\n",
       "    <tr>\n",
       "      <th>3</th>\n",
       "      <td>33</td>\n",
       "      <td>male</td>\n",
       "      <td>22.7</td>\n",
       "      <td>0</td>\n",
       "      <td>no</td>\n",
       "      <td>northwest</td>\n",
       "      <td>21984.47</td>\n",
       "      <td>male</td>\n",
       "      <td>male</td>\n",
       "      <td>no</td>\n",
       "      <td>no</td>\n",
       "      <td>northwest</td>\n",
       "      <td>northwest</td>\n",
       "      <td>northwest</td>\n",
       "      <td>northwest</td>\n",
       "    </tr>\n",
       "    <tr>\n",
       "      <th>4</th>\n",
       "      <td>32</td>\n",
       "      <td>male</td>\n",
       "      <td>28.9</td>\n",
       "      <td>0</td>\n",
       "      <td>no</td>\n",
       "      <td>northwest</td>\n",
       "      <td>3866.86</td>\n",
       "      <td>male</td>\n",
       "      <td>male</td>\n",
       "      <td>no</td>\n",
       "      <td>no</td>\n",
       "      <td>northwest</td>\n",
       "      <td>northwest</td>\n",
       "      <td>northwest</td>\n",
       "      <td>northwest</td>\n",
       "    </tr>\n",
       "  </tbody>\n",
       "</table>\n",
       "</div>"
      ],
      "text/plain": [
       "   age     sex   bmi  children smoker     region  expenses  Female    Male  \\\n",
       "0   19  female  27.9         0    yes  southwest  16884.92  female  female   \n",
       "1   18    male  33.8         1     no  southeast   1725.55    male    male   \n",
       "2   28    male  33.0         3     no  southeast   4449.46    male    male   \n",
       "3   33    male  22.7         0     no  northwest  21984.47    male    male   \n",
       "4   32    male  28.9         0     no  northwest   3866.86    male    male   \n",
       "\n",
       "  Yes_Smoke No_Smoke         SW         SE         NW         NE  \n",
       "0       yes      yes  southwest  southwest  southwest  southwest  \n",
       "1        no       no  southeast  southeast  southeast  southeast  \n",
       "2        no       no  southeast  southeast  southeast  southeast  \n",
       "3        no       no  northwest  northwest  northwest  northwest  \n",
       "4        no       no  northwest  northwest  northwest  northwest  "
      ]
     },
     "execution_count": 115,
     "metadata": {},
     "output_type": "execute_result"
    }
   ],
   "source": [
    "df[\"Female\"]=df.sex.copy(deep=True)\n",
    "df[\"Male\"]=df.sex.copy(deep=True)\n",
    "df[\"Yes_Smoke\"]=df.smoker.copy(deep=True)\n",
    "df[\"No_Smoke\"]=df.smoker.copy(deep=True)\n",
    "df[\"SW\"]=df.region.copy(deep=True)\n",
    "df[\"SE\"]=df.region.copy(deep=True)\n",
    "df[\"NW\"]=df.region.copy(deep=True)\n",
    "df[\"NE\"]=df.region.copy(deep=True)\n",
    "df.head(5)"
   ]
  },
  {
   "cell_type": "code",
   "execution_count": 116,
   "metadata": {
    "scrolled": true
   },
   "outputs": [
    {
     "data": {
      "text/html": [
       "<div>\n",
       "<style scoped>\n",
       "    .dataframe tbody tr th:only-of-type {\n",
       "        vertical-align: middle;\n",
       "    }\n",
       "\n",
       "    .dataframe tbody tr th {\n",
       "        vertical-align: top;\n",
       "    }\n",
       "\n",
       "    .dataframe thead th {\n",
       "        text-align: right;\n",
       "    }\n",
       "</style>\n",
       "<table border=\"1\" class=\"dataframe\">\n",
       "  <thead>\n",
       "    <tr style=\"text-align: right;\">\n",
       "      <th></th>\n",
       "      <th>age</th>\n",
       "      <th>sex</th>\n",
       "      <th>bmi</th>\n",
       "      <th>children</th>\n",
       "      <th>smoker</th>\n",
       "      <th>region</th>\n",
       "      <th>expenses</th>\n",
       "      <th>Female</th>\n",
       "      <th>Male</th>\n",
       "      <th>Yes_Smoke</th>\n",
       "      <th>No_Smoke</th>\n",
       "      <th>SW</th>\n",
       "      <th>SE</th>\n",
       "      <th>NW</th>\n",
       "      <th>NE</th>\n",
       "    </tr>\n",
       "  </thead>\n",
       "  <tbody>\n",
       "    <tr>\n",
       "      <th>0</th>\n",
       "      <td>19</td>\n",
       "      <td>female</td>\n",
       "      <td>27.9</td>\n",
       "      <td>0</td>\n",
       "      <td>yes</td>\n",
       "      <td>southwest</td>\n",
       "      <td>16884.92</td>\n",
       "      <td>1</td>\n",
       "      <td>0</td>\n",
       "      <td>1</td>\n",
       "      <td>0</td>\n",
       "      <td>1</td>\n",
       "      <td>0</td>\n",
       "      <td>0</td>\n",
       "      <td>0</td>\n",
       "    </tr>\n",
       "    <tr>\n",
       "      <th>1</th>\n",
       "      <td>18</td>\n",
       "      <td>male</td>\n",
       "      <td>33.8</td>\n",
       "      <td>1</td>\n",
       "      <td>no</td>\n",
       "      <td>southeast</td>\n",
       "      <td>1725.55</td>\n",
       "      <td>0</td>\n",
       "      <td>1</td>\n",
       "      <td>0</td>\n",
       "      <td>1</td>\n",
       "      <td>0</td>\n",
       "      <td>1</td>\n",
       "      <td>0</td>\n",
       "      <td>0</td>\n",
       "    </tr>\n",
       "    <tr>\n",
       "      <th>2</th>\n",
       "      <td>28</td>\n",
       "      <td>male</td>\n",
       "      <td>33.0</td>\n",
       "      <td>3</td>\n",
       "      <td>no</td>\n",
       "      <td>southeast</td>\n",
       "      <td>4449.46</td>\n",
       "      <td>0</td>\n",
       "      <td>1</td>\n",
       "      <td>0</td>\n",
       "      <td>1</td>\n",
       "      <td>0</td>\n",
       "      <td>1</td>\n",
       "      <td>0</td>\n",
       "      <td>0</td>\n",
       "    </tr>\n",
       "    <tr>\n",
       "      <th>3</th>\n",
       "      <td>33</td>\n",
       "      <td>male</td>\n",
       "      <td>22.7</td>\n",
       "      <td>0</td>\n",
       "      <td>no</td>\n",
       "      <td>northwest</td>\n",
       "      <td>21984.47</td>\n",
       "      <td>0</td>\n",
       "      <td>1</td>\n",
       "      <td>0</td>\n",
       "      <td>1</td>\n",
       "      <td>0</td>\n",
       "      <td>0</td>\n",
       "      <td>1</td>\n",
       "      <td>0</td>\n",
       "    </tr>\n",
       "    <tr>\n",
       "      <th>4</th>\n",
       "      <td>32</td>\n",
       "      <td>male</td>\n",
       "      <td>28.9</td>\n",
       "      <td>0</td>\n",
       "      <td>no</td>\n",
       "      <td>northwest</td>\n",
       "      <td>3866.86</td>\n",
       "      <td>0</td>\n",
       "      <td>1</td>\n",
       "      <td>0</td>\n",
       "      <td>1</td>\n",
       "      <td>0</td>\n",
       "      <td>0</td>\n",
       "      <td>1</td>\n",
       "      <td>0</td>\n",
       "    </tr>\n",
       "  </tbody>\n",
       "</table>\n",
       "</div>"
      ],
      "text/plain": [
       "   age     sex   bmi  children smoker     region  expenses  Female  Male  \\\n",
       "0   19  female  27.9         0    yes  southwest  16884.92       1     0   \n",
       "1   18    male  33.8         1     no  southeast   1725.55       0     1   \n",
       "2   28    male  33.0         3     no  southeast   4449.46       0     1   \n",
       "3   33    male  22.7         0     no  northwest  21984.47       0     1   \n",
       "4   32    male  28.9         0     no  northwest   3866.86       0     1   \n",
       "\n",
       "   Yes_Smoke  No_Smoke  SW  SE  NW  NE  \n",
       "0          1         0   1   0   0   0  \n",
       "1          0         1   0   1   0   0  \n",
       "2          0         1   0   1   0   0  \n",
       "3          0         1   0   0   1   0  \n",
       "4          0         1   0   0   1   0  "
      ]
     },
     "execution_count": 116,
     "metadata": {},
     "output_type": "execute_result"
    }
   ],
   "source": [
    "df.head(5)\n",
    "#dont want to create an illusion of a hierarchy\n",
    "#if it is true = 1 if not=0 \n",
    "#you are either this color or you are not -- give independence to the values for regression\n",
    "\n",
    "df.Female.replace([\"female\",\"male\"],[1,0], inplace=True)\n",
    "df.Male.replace([\"female\",\"male\"],[0,1], inplace=True)\n",
    "df.Yes_Smoke.replace([\"yes\", \"no\"], [1,0], inplace=True)\n",
    "df.No_Smoke.replace([\"yes\", \"no\"], [0,1], inplace=True)\n",
    "df.SW.replace([\"northeast\", \"northwest\", \"southeast\", \"southwest\"], [0,0,0,1], inplace=True)\n",
    "df.SE.replace([\"northeast\", \"northwest\", \"southeast\", \"southwest\"], [0,0,1,0], inplace=True)\n",
    "df.NW.replace([\"northeast\", \"northwest\", \"southeast\", \"southwest\"], [0,1,0,0], inplace=True)\n",
    "df.NE.replace([\"northeast\", \"northwest\", \"southeast\", \"southwest\"], [1,0,0,0], inplace=True)\n",
    "#drop the column to reduce complexity\n",
    "df.head(5)\n",
    "\n"
   ]
  },
  {
   "cell_type": "markdown",
   "metadata": {},
   "source": [
    "## 7. wich features of the input data have the strongest correlations?"
   ]
  },
  {
   "cell_type": "code",
   "execution_count": 117,
   "metadata": {},
   "outputs": [
    {
     "data": {
      "text/html": [
       "<div>\n",
       "<style scoped>\n",
       "    .dataframe tbody tr th:only-of-type {\n",
       "        vertical-align: middle;\n",
       "    }\n",
       "\n",
       "    .dataframe tbody tr th {\n",
       "        vertical-align: top;\n",
       "    }\n",
       "\n",
       "    .dataframe thead th {\n",
       "        text-align: right;\n",
       "    }\n",
       "</style>\n",
       "<table border=\"1\" class=\"dataframe\">\n",
       "  <thead>\n",
       "    <tr style=\"text-align: right;\">\n",
       "      <th></th>\n",
       "      <th>age</th>\n",
       "      <th>bmi</th>\n",
       "      <th>children</th>\n",
       "      <th>expenses</th>\n",
       "      <th>Female</th>\n",
       "      <th>Male</th>\n",
       "      <th>Yes_Smoke</th>\n",
       "      <th>No_Smoke</th>\n",
       "      <th>SW</th>\n",
       "      <th>SE</th>\n",
       "      <th>NW</th>\n",
       "      <th>NE</th>\n",
       "    </tr>\n",
       "  </thead>\n",
       "  <tbody>\n",
       "    <tr>\n",
       "      <th>0</th>\n",
       "      <td>19</td>\n",
       "      <td>27.9</td>\n",
       "      <td>0</td>\n",
       "      <td>16884.92</td>\n",
       "      <td>1</td>\n",
       "      <td>0</td>\n",
       "      <td>1</td>\n",
       "      <td>0</td>\n",
       "      <td>1</td>\n",
       "      <td>0</td>\n",
       "      <td>0</td>\n",
       "      <td>0</td>\n",
       "    </tr>\n",
       "    <tr>\n",
       "      <th>1</th>\n",
       "      <td>18</td>\n",
       "      <td>33.8</td>\n",
       "      <td>1</td>\n",
       "      <td>1725.55</td>\n",
       "      <td>0</td>\n",
       "      <td>1</td>\n",
       "      <td>0</td>\n",
       "      <td>1</td>\n",
       "      <td>0</td>\n",
       "      <td>1</td>\n",
       "      <td>0</td>\n",
       "      <td>0</td>\n",
       "    </tr>\n",
       "    <tr>\n",
       "      <th>2</th>\n",
       "      <td>28</td>\n",
       "      <td>33.0</td>\n",
       "      <td>3</td>\n",
       "      <td>4449.46</td>\n",
       "      <td>0</td>\n",
       "      <td>1</td>\n",
       "      <td>0</td>\n",
       "      <td>1</td>\n",
       "      <td>0</td>\n",
       "      <td>1</td>\n",
       "      <td>0</td>\n",
       "      <td>0</td>\n",
       "    </tr>\n",
       "    <tr>\n",
       "      <th>3</th>\n",
       "      <td>33</td>\n",
       "      <td>22.7</td>\n",
       "      <td>0</td>\n",
       "      <td>21984.47</td>\n",
       "      <td>0</td>\n",
       "      <td>1</td>\n",
       "      <td>0</td>\n",
       "      <td>1</td>\n",
       "      <td>0</td>\n",
       "      <td>0</td>\n",
       "      <td>1</td>\n",
       "      <td>0</td>\n",
       "    </tr>\n",
       "    <tr>\n",
       "      <th>4</th>\n",
       "      <td>32</td>\n",
       "      <td>28.9</td>\n",
       "      <td>0</td>\n",
       "      <td>3866.86</td>\n",
       "      <td>0</td>\n",
       "      <td>1</td>\n",
       "      <td>0</td>\n",
       "      <td>1</td>\n",
       "      <td>0</td>\n",
       "      <td>0</td>\n",
       "      <td>1</td>\n",
       "      <td>0</td>\n",
       "    </tr>\n",
       "  </tbody>\n",
       "</table>\n",
       "</div>"
      ],
      "text/plain": [
       "   age   bmi  children  expenses  Female  Male  Yes_Smoke  No_Smoke  SW  SE  \\\n",
       "0   19  27.9         0  16884.92       1     0          1         0   1   0   \n",
       "1   18  33.8         1   1725.55       0     1          0         1   0   1   \n",
       "2   28  33.0         3   4449.46       0     1          0         1   0   1   \n",
       "3   33  22.7         0  21984.47       0     1          0         1   0   0   \n",
       "4   32  28.9         0   3866.86       0     1          0         1   0   0   \n",
       "\n",
       "   NW  NE  \n",
       "0   0   0  \n",
       "1   0   0  \n",
       "2   0   0  \n",
       "3   1   0  \n",
       "4   1   0  "
      ]
     },
     "execution_count": 117,
     "metadata": {},
     "output_type": "execute_result"
    }
   ],
   "source": [
    "#clean up dataframe before calling corrs\n",
    "df.drop(['region','sex', 'smoker'], axis=1, inplace=True)\n",
    "df.head(5)"
   ]
  },
  {
   "cell_type": "code",
   "execution_count": 118,
   "metadata": {},
   "outputs": [
    {
     "name": "stdout",
     "output_type": "stream",
     "text": [
      "<class 'pandas.core.frame.DataFrame'>\n",
      "RangeIndex: 1338 entries, 0 to 1337\n",
      "Data columns (total 12 columns):\n",
      " #   Column     Non-Null Count  Dtype  \n",
      "---  ------     --------------  -----  \n",
      " 0   age        1338 non-null   int64  \n",
      " 1   bmi        1338 non-null   float64\n",
      " 2   children   1338 non-null   int64  \n",
      " 3   expenses   1338 non-null   float64\n",
      " 4   Female     1338 non-null   int64  \n",
      " 5   Male       1338 non-null   int64  \n",
      " 6   Yes_Smoke  1338 non-null   int64  \n",
      " 7   No_Smoke   1338 non-null   int64  \n",
      " 8   SW         1338 non-null   int64  \n",
      " 9   SE         1338 non-null   int64  \n",
      " 10  NW         1338 non-null   int64  \n",
      " 11  NE         1338 non-null   int64  \n",
      "dtypes: float64(2), int64(10)\n",
      "memory usage: 125.6 KB\n"
     ]
    }
   ],
   "source": [
    "pd.get_dummies(df[\"Male\"])\n",
    "pd.get_dummies(df[\"Female\"])\n",
    "pd.get_dummies(df[\"Yes_Smoke\"])\n",
    "pd.get_dummies(df[\"No_Smoke\"])\n",
    "df.info()\n",
    "#they all appear to be int64 anyway? When is get dummies nessesary?"
   ]
  },
  {
   "cell_type": "code",
   "execution_count": 119,
   "metadata": {},
   "outputs": [
    {
     "name": "stdout",
     "output_type": "stream",
     "text": [
      "                age       bmi  children  expenses    Female      Male  \\\n",
      "age        1.000000  0.109341  0.042469  0.299008  0.020856 -0.020856   \n",
      "bmi        0.109341  1.000000  0.012645  0.198576 -0.046380  0.046380   \n",
      "children   0.042469  0.012645  1.000000  0.067998 -0.017163  0.017163   \n",
      "expenses   0.299008  0.198576  0.067998  1.000000 -0.057292  0.057292   \n",
      "Female     0.020856 -0.046380 -0.017163 -0.057292  1.000000 -1.000000   \n",
      "Male      -0.020856  0.046380  0.017163  0.057292 -1.000000  1.000000   \n",
      "Yes_Smoke -0.025019  0.003968  0.007673  0.787251 -0.076185  0.076185   \n",
      "No_Smoke   0.025019 -0.003968 -0.007673 -0.787251  0.076185 -0.076185   \n",
      "SW         0.010016 -0.006398  0.021914 -0.043210  0.004184 -0.004184   \n",
      "SE        -0.011642  0.270144 -0.023066  0.073982 -0.017117  0.017117   \n",
      "NW        -0.000407 -0.135992  0.024806 -0.039905  0.011156 -0.011156   \n",
      "NE         0.002475 -0.138091 -0.022808  0.006349  0.002425 -0.002425   \n",
      "\n",
      "           Yes_Smoke  No_Smoke        SW        SE        NW        NE  \n",
      "age        -0.025019  0.025019  0.010016 -0.011642 -0.000407  0.002475  \n",
      "bmi         0.003968 -0.003968 -0.006398  0.270144 -0.135992 -0.138091  \n",
      "children    0.007673 -0.007673  0.021914 -0.023066  0.024806 -0.022808  \n",
      "expenses    0.787251 -0.787251 -0.043210  0.073982 -0.039905  0.006349  \n",
      "Female     -0.076185  0.076185  0.004184 -0.017117  0.011156  0.002425  \n",
      "Male        0.076185 -0.076185 -0.004184  0.017117 -0.011156 -0.002425  \n",
      "Yes_Smoke   1.000000 -1.000000 -0.036945  0.068498 -0.036945  0.002811  \n",
      "No_Smoke   -1.000000  1.000000  0.036945 -0.068498  0.036945 -0.002811  \n",
      "SW         -0.036945  0.036945  1.000000 -0.346265 -0.320829 -0.320177  \n",
      "SE          0.068498 -0.068498 -0.346265  1.000000 -0.346265 -0.345561  \n",
      "NW         -0.036945  0.036945 -0.320829 -0.346265  1.000000 -0.320177  \n",
      "NE          0.002811 -0.002811 -0.320177 -0.345561 -0.320177  1.000000  \n",
      "age  age         1.000000\n",
      "     bmi         0.109341\n",
      "     children    0.042469\n",
      "     expenses    0.299008\n",
      "     Female      0.020856\n",
      "                   ...   \n",
      "SE   NW          0.346265\n",
      "     NE          0.345561\n",
      "NW   NW          1.000000\n",
      "     NE          0.320177\n",
      "NE   NE          1.000000\n",
      "Length: 76, dtype: float64\n"
     ]
    }
   ],
   "source": [
    "#correlation will show positive or inverse relationships as well as the strength between them\n",
    "# sort through the correlation matrix for the largest absolute values\n",
    "corr = df.corr()\n",
    "all_corr = corr.abs().unstack().drop_duplicates()\n",
    "#all_corr.sort_values(ascending = False)\n",
    "print(corr)\n",
    "print(all_corr)"
   ]
  },
  {
   "cell_type": "markdown",
   "metadata": {},
   "source": [
    "## 8. Based on this data, what looks to be the most correlated feature with \"Expenses\"? (Justify your answer)"
   ]
  },
  {
   "cell_type": "code",
   "execution_count": 120,
   "metadata": {},
   "outputs": [
    {
     "data": {
      "text/plain": [
       "expenses  No_Smoke     0.787251\n",
       "          Yes_Smoke    0.787251\n",
       "          age          0.299008\n",
       "          bmi          0.198576\n",
       "          SE           0.073982\n",
       "          children     0.067998\n",
       "          Female       0.057292\n",
       "          Male         0.057292\n",
       "          SW           0.043210\n",
       "          NW           0.039905\n",
       "          NE           0.006349\n",
       "dtype: float64"
      ]
     },
     "execution_count": 120,
     "metadata": {},
     "output_type": "execute_result"
    }
   ],
   "source": [
    "#focus_cols = ['expenses']\n",
    "expense_corr = df.corr().filter(['expenses']).drop(['expenses'])\n",
    "ex_1 = expense_corr.abs().unstack().drop_duplicates()\n",
    "ex_1.sort_values(ascending = False)\n",
    "##for some reason both smokers and non smokers have the same correlation to expenses?"
   ]
  },
  {
   "cell_type": "markdown",
   "metadata": {},
   "source": [
    "** Refer to the customers features data by \"X\" **  \n",
    "** Refer to the label feature (expenses) by \"y\" **"
   ]
  },
  {
   "cell_type": "code",
   "execution_count": 121,
   "metadata": {},
   "outputs": [
    {
     "name": "stdout",
     "output_type": "stream",
     "text": [
      "<class 'pandas.core.frame.DataFrame'>\n",
      "RangeIndex: 1338 entries, 0 to 1337\n",
      "Data columns (total 12 columns):\n",
      " #   Column     Non-Null Count  Dtype  \n",
      "---  ------     --------------  -----  \n",
      " 0   age        1338 non-null   int64  \n",
      " 1   bmi        1338 non-null   float64\n",
      " 2   children   1338 non-null   int64  \n",
      " 3   expenses   1338 non-null   float64\n",
      " 4   Female     1338 non-null   int64  \n",
      " 5   Male       1338 non-null   int64  \n",
      " 6   Yes_Smoke  1338 non-null   int64  \n",
      " 7   No_Smoke   1338 non-null   int64  \n",
      " 8   SW         1338 non-null   int64  \n",
      " 9   SE         1338 non-null   int64  \n",
      " 10  NW         1338 non-null   int64  \n",
      " 11  NE         1338 non-null   int64  \n",
      "dtypes: float64(2), int64(10)\n",
      "memory usage: 125.6 KB\n"
     ]
    },
    {
     "data": {
      "text/html": [
       "<div>\n",
       "<style scoped>\n",
       "    .dataframe tbody tr th:only-of-type {\n",
       "        vertical-align: middle;\n",
       "    }\n",
       "\n",
       "    .dataframe tbody tr th {\n",
       "        vertical-align: top;\n",
       "    }\n",
       "\n",
       "    .dataframe thead th {\n",
       "        text-align: right;\n",
       "    }\n",
       "</style>\n",
       "<table border=\"1\" class=\"dataframe\">\n",
       "  <thead>\n",
       "    <tr style=\"text-align: right;\">\n",
       "      <th></th>\n",
       "      <th>age</th>\n",
       "      <th>bmi</th>\n",
       "      <th>children</th>\n",
       "      <th>Female</th>\n",
       "      <th>Male</th>\n",
       "      <th>Yes_Smoke</th>\n",
       "      <th>No_Smoke</th>\n",
       "      <th>SW</th>\n",
       "      <th>SE</th>\n",
       "      <th>NW</th>\n",
       "      <th>NE</th>\n",
       "    </tr>\n",
       "  </thead>\n",
       "  <tbody>\n",
       "    <tr>\n",
       "      <th>0</th>\n",
       "      <td>19</td>\n",
       "      <td>27.9</td>\n",
       "      <td>0</td>\n",
       "      <td>1</td>\n",
       "      <td>0</td>\n",
       "      <td>1</td>\n",
       "      <td>0</td>\n",
       "      <td>1</td>\n",
       "      <td>0</td>\n",
       "      <td>0</td>\n",
       "      <td>0</td>\n",
       "    </tr>\n",
       "    <tr>\n",
       "      <th>1</th>\n",
       "      <td>18</td>\n",
       "      <td>33.8</td>\n",
       "      <td>1</td>\n",
       "      <td>0</td>\n",
       "      <td>1</td>\n",
       "      <td>0</td>\n",
       "      <td>1</td>\n",
       "      <td>0</td>\n",
       "      <td>1</td>\n",
       "      <td>0</td>\n",
       "      <td>0</td>\n",
       "    </tr>\n",
       "    <tr>\n",
       "      <th>2</th>\n",
       "      <td>28</td>\n",
       "      <td>33.0</td>\n",
       "      <td>3</td>\n",
       "      <td>0</td>\n",
       "      <td>1</td>\n",
       "      <td>0</td>\n",
       "      <td>1</td>\n",
       "      <td>0</td>\n",
       "      <td>1</td>\n",
       "      <td>0</td>\n",
       "      <td>0</td>\n",
       "    </tr>\n",
       "    <tr>\n",
       "      <th>3</th>\n",
       "      <td>33</td>\n",
       "      <td>22.7</td>\n",
       "      <td>0</td>\n",
       "      <td>0</td>\n",
       "      <td>1</td>\n",
       "      <td>0</td>\n",
       "      <td>1</td>\n",
       "      <td>0</td>\n",
       "      <td>0</td>\n",
       "      <td>1</td>\n",
       "      <td>0</td>\n",
       "    </tr>\n",
       "    <tr>\n",
       "      <th>4</th>\n",
       "      <td>32</td>\n",
       "      <td>28.9</td>\n",
       "      <td>0</td>\n",
       "      <td>0</td>\n",
       "      <td>1</td>\n",
       "      <td>0</td>\n",
       "      <td>1</td>\n",
       "      <td>0</td>\n",
       "      <td>0</td>\n",
       "      <td>1</td>\n",
       "      <td>0</td>\n",
       "    </tr>\n",
       "  </tbody>\n",
       "</table>\n",
       "</div>"
      ],
      "text/plain": [
       "   age   bmi  children  Female  Male  Yes_Smoke  No_Smoke  SW  SE  NW  NE\n",
       "0   19  27.9         0       1     0          1         0   1   0   0   0\n",
       "1   18  33.8         1       0     1          0         1   0   1   0   0\n",
       "2   28  33.0         3       0     1          0         1   0   1   0   0\n",
       "3   33  22.7         0       0     1          0         1   0   0   1   0\n",
       "4   32  28.9         0       0     1          0         1   0   0   1   0"
      ]
     },
     "execution_count": 121,
     "metadata": {},
     "output_type": "execute_result"
    }
   ],
   "source": [
    "#call data X and expenses matrix y\n",
    "X = df.copy()\n",
    "X.info()\n",
    "X.head(5)\n",
    "X.drop(['expenses'], axis=1, inplace=True)\n",
    "X.head(5)\n"
   ]
  },
  {
   "cell_type": "code",
   "execution_count": 122,
   "metadata": {},
   "outputs": [
    {
     "name": "stdout",
     "output_type": "stream",
     "text": [
      "0       16884.92\n",
      "1        1725.55\n",
      "2        4449.46\n",
      "3       21984.47\n",
      "4        3866.86\n",
      "          ...   \n",
      "1333    10600.55\n",
      "1334     2205.98\n",
      "1335     1629.83\n",
      "1336     2007.95\n",
      "1337    29141.36\n",
      "Name: expenses, Length: 1338, dtype: float64\n"
     ]
    }
   ],
   "source": [
    "expenses = df[\"expenses\"]\n",
    "y = expenses.copy()\n",
    "print(y)"
   ]
  },
  {
   "cell_type": "markdown",
   "metadata": {},
   "source": [
    "## 9. Load the train_test_split function"
   ]
  },
  {
   "cell_type": "code",
   "execution_count": null,
   "metadata": {},
   "outputs": [],
   "source": [
    "from sklearn.model_selection import train_test_split\n"
   ]
  },
  {
   "cell_type": "markdown",
   "metadata": {},
   "source": [
    "## 10. Split the data into:\n",
    "1. a **training** data set, and\n",
    "2. a **test** data set. "
   ]
  },
  {
   "cell_type": "code",
   "execution_count": 123,
   "metadata": {},
   "outputs": [],
   "source": [
    "X_train, X_test, y_train, y_test = train_test_split(X, y, test_size=0.25, random_state=45) "
   ]
  },
  {
   "cell_type": "markdown",
   "metadata": {},
   "source": [
    "## 11. Import LinearRegression from sklearn.linear_model"
   ]
  },
  {
   "cell_type": "code",
   "execution_count": 124,
   "metadata": {},
   "outputs": [],
   "source": [
    "from sklearn.linear_model import LinearRegression\n"
   ]
  },
  {
   "cell_type": "markdown",
   "metadata": {},
   "source": [
    "## 12. Create an instance of a LinearRegression() model named lm"
   ]
  },
  {
   "cell_type": "code",
   "execution_count": 125,
   "metadata": {},
   "outputs": [],
   "source": [
    "lm = LinearRegression()"
   ]
  },
  {
   "cell_type": "markdown",
   "metadata": {},
   "source": [
    "## 13. Fit the model to the training data"
   ]
  },
  {
   "cell_type": "code",
   "execution_count": 142,
   "metadata": {},
   "outputs": [
    {
     "data": {
      "text/plain": [
       "LinearRegression()"
      ]
     },
     "execution_count": 142,
     "metadata": {},
     "output_type": "execute_result"
    }
   ],
   "source": [
    "lm.fit(X_train.values, y_train)"
   ]
  },
  {
   "cell_type": "markdown",
   "metadata": {},
   "source": [
    "## 14. Print the linear model's intercept and coefficients"
   ]
  },
  {
   "cell_type": "code",
   "execution_count": 143,
   "metadata": {},
   "outputs": [
    {
     "name": "stdout",
     "output_type": "stream",
     "text": [
      "coefficient [   256.15971378    332.40460544    460.57599509    -43.16000322\n",
      "     43.16000322  12151.65769376 -12151.65769376   -274.43772345\n",
      "   -406.6874393     167.91977612    513.20538663]\n",
      "intercept: -101.18393383170041\n"
     ]
    }
   ],
   "source": [
    "print('coefficient', lm.coef_)\n",
    "print(\"intercept:\",lm.intercept_)\n",
    "\n",
    "#coefficient [   256.15971378    332.40460544    460.57599509    -43.16000322\n",
    "#     43.16000322  12151.65769376 -12151.65769376   -274.43772345\n",
    "#   -406.6874393     167.91977612    513.20538663]\n",
    "#intercept: -101.18393383170041"
   ]
  },
  {
   "cell_type": "markdown",
   "metadata": {},
   "source": [
    "## 15. Use the trained model to predict the test data set"
   ]
  },
  {
   "cell_type": "code",
   "execution_count": 144,
   "metadata": {},
   "outputs": [
    {
     "name": "stdout",
     "output_type": "stream",
     "text": [
      "335\n",
      "<class 'numpy.ndarray'>\n",
      "(335,)\n",
      "(335, 11)\n",
      "(335,)\n",
      "335\n",
      "335\n",
      "0.7065398681585913\n"
     ]
    }
   ],
   "source": [
    "predictions = lm.predict(X_test)\n",
    "print(len(X_test))\n",
    "print(type(predictions))\n",
    "print(predictions.shape)\n",
    "print(X_test.shape)\n",
    "print(y_test.shape)\n",
    "print(len(predictions))\n",
    "print(len(y_test))\n",
    "print(lm.score(X_test, y_test))\n",
    "#check sizing and shapes to know what the model will be looking for when predicting\n",
    "# also solve issue with plotting sizes"
   ]
  },
  {
   "cell_type": "markdown",
   "metadata": {},
   "source": [
    "## 16. Create a scatterplot of the real test values versus the predicted values."
   ]
  },
  {
   "cell_type": "code",
   "execution_count": 145,
   "metadata": {},
   "outputs": [
    {
     "data": {
      "text/plain": [
       "Text(0, 0.5, 'Predictions')"
      ]
     },
     "execution_count": 145,
     "metadata": {},
     "output_type": "execute_result"
    },
    {
     "data": {
      "image/png": "[encoded data removed]",
      "text/plain": [
       "<Figure size 432x288 with 1 Axes>"
      ]
     },
     "metadata": {
      "needs_background": "light"
     },
     "output_type": "display_data"
    }
   ],
   "source": [
    "plt.scatter(y_test, predictions, c=\"b\")\n",
    "plt.xlabel(\"Real Values\")\n",
    "plt.ylabel(\"Predictions\")"
   ]
  },
  {
   "cell_type": "markdown",
   "metadata": {},
   "source": [
    "## 17. Calculate: \n",
    "1. the Mean Absolute Error, \n",
    "2. Mean Squared Error, and \n",
    "3. the Root Mean Squared Error."
   ]
  },
  {
   "cell_type": "code",
   "execution_count": 146,
   "metadata": {},
   "outputs": [
    {
     "name": "stdout",
     "output_type": "stream",
     "text": [
      "MAE: 4392.718904026637\n",
      "MSE: 37691827.564354874\n",
      "RMSE: 6139.367032875203\n"
     ]
    }
   ],
   "source": [
    "from sklearn import metrics\n",
    "print('MAE:', metrics.mean_absolute_error(y_test, predictions))\n",
    "print('MSE:', metrics.mean_squared_error(y_test, predictions))\n",
    "print('RMSE:', np.sqrt(metrics.mean_squared_error(y_test, predictions)))\n",
    "\n",
    "#MAE: 4392.718904026637\n",
    "#MSE: 37691827.564354874\n",
    "#RMSE: 6139.367032875203"
   ]
  },
  {
   "cell_type": "markdown",
   "metadata": {},
   "source": [
    "## 18. Show a histogram of the difference between the actual and predicted value of the test data set.\n"
   ]
  },
  {
   "cell_type": "code",
   "execution_count": 147,
   "metadata": {},
   "outputs": [
    {
     "data": {
      "text/plain": [
       "Text(0.5, 1.0, 'Predictions- Blue Vs Real - Red')"
      ]
     },
     "execution_count": 147,
     "metadata": {},
     "output_type": "execute_result"
    },
    {
     "data": {
      "image/png": "[encoded data removed]",
      "text/plain": [
       "<Figure size 432x288 with 1 Axes>"
      ]
     },
     "metadata": {
      "needs_background": "light"
     },
     "output_type": "display_data"
    }
   ],
   "source": [
    "Predictions_DF = pd.DataFrame(predictions)\n",
    "Y = pd.DataFrame(y_test)\n",
    "Frames = [Predictions_DF, Y]\n",
    "Final = pd.concat(Frames)\n",
    "plt.hist(Final, density=True, bins=30, color=['blue', 'red'])\n",
    "plt.title('Predictions- Blue Vs Real - Red')\n"
   ]
  },
  {
   "cell_type": "markdown",
   "metadata": {},
   "source": [
    "## 19. Explain the meaning behind the coefficients of the model"
   ]
  },
  {
   "cell_type": "code",
   "execution_count": 148,
   "metadata": {},
   "outputs": [],
   "source": [
    "# The coefficients represent the strength and the parallel or inverseness of a relationship between the independent and dependent variables. \n",
    "# Age is independent of expenses. No matter what the expense is, it does not effect age. But Expenses are dependent on age. \n",
    "# The coefficient of age will show if there is a positive or negative correlation with expenses. If it is positive, as age increases\n",
    "# the expenses will also increase, and the opposite for negative. The value of the coefficient determines the strength of the correlation.\n",
    "# The higher the coefficient, the stronger that independent variable effects the value of the dependent variable."
   ]
  },
  {
   "cell_type": "markdown",
   "metadata": {},
   "source": [
    "## 20. Create 3 records of input data and use the model to predict the cost associated with this data  "
   ]
  },
  {
   "cell_type": "code",
   "execution_count": 149,
   "metadata": {},
   "outputs": [
    {
     "name": "stdout",
     "output_type": "stream",
     "text": [
      "['age', 'bmi', 'children', 'Female', 'Male', 'Yes_Smoke', 'No_Smoke', 'SW', 'SE', 'NW', 'NE']\n",
      "(1, 11)\n"
     ]
    }
   ],
   "source": [
    "# we need to create 3 separate arrays with values for all the categories then use lm.predict(X_array)\n",
    "print(list(X.columns))\n",
    "ex1 = np.array([35, 20, 2, 0, 1, 0, 1, 0,0,1,0], dtype=\"int64\").reshape(1,-1)\n",
    "print(ex1.shape)# make sure it matches what we expect\n",
    "ex2 = np.array([22,25, 0, 1, 0, 0, 1, 0,0,0,1], dtype=\"int64\").reshape(1,-1)\n",
    "ex3 = np.array([60, 23, 4, 0, 1, 1, 0, 0,1,0,0], dtype=\"int64\").reshape(1,-1)"
   ]
  },
  {
   "cell_type": "code",
   "execution_count": 177,
   "metadata": {},
   "outputs": [
    {
     "name": "stdout",
     "output_type": "stream",
     "text": [
      "[[35 20  2  0  1  0  1  0  0  1  0]\n",
      " [22 25  0  1  0  0  1  0  0  0  1]\n",
      " [60 23  4  0  1  1  0  0  1  0  0]]\n"
     ]
    },
    {
     "data": {
      "text/html": [
       "<div>\n",
       "<style scoped>\n",
       "    .dataframe tbody tr th:only-of-type {\n",
       "        vertical-align: middle;\n",
       "    }\n",
       "\n",
       "    .dataframe tbody tr th {\n",
       "        vertical-align: top;\n",
       "    }\n",
       "\n",
       "    .dataframe thead th {\n",
       "        text-align: right;\n",
       "    }\n",
       "</style>\n",
       "<table border=\"1\" class=\"dataframe\">\n",
       "  <thead>\n",
       "    <tr style=\"text-align: right;\">\n",
       "      <th></th>\n",
       "      <th>age</th>\n",
       "      <th>bmi</th>\n",
       "      <th>children</th>\n",
       "      <th>Female</th>\n",
       "      <th>Male</th>\n",
       "      <th>Yes_Smoke</th>\n",
       "      <th>No_Smoke</th>\n",
       "      <th>SW</th>\n",
       "      <th>SE</th>\n",
       "      <th>NW</th>\n",
       "      <th>NE</th>\n",
       "    </tr>\n",
       "  </thead>\n",
       "  <tbody>\n",
       "    <tr>\n",
       "      <th>0</th>\n",
       "      <td>35</td>\n",
       "      <td>20</td>\n",
       "      <td>2</td>\n",
       "      <td>0</td>\n",
       "      <td>1</td>\n",
       "      <td>0</td>\n",
       "      <td>1</td>\n",
       "      <td>0</td>\n",
       "      <td>0</td>\n",
       "      <td>1</td>\n",
       "      <td>0</td>\n",
       "    </tr>\n",
       "    <tr>\n",
       "      <th>1</th>\n",
       "      <td>22</td>\n",
       "      <td>25</td>\n",
       "      <td>0</td>\n",
       "      <td>1</td>\n",
       "      <td>0</td>\n",
       "      <td>0</td>\n",
       "      <td>1</td>\n",
       "      <td>0</td>\n",
       "      <td>0</td>\n",
       "      <td>0</td>\n",
       "      <td>1</td>\n",
       "    </tr>\n",
       "    <tr>\n",
       "      <th>2</th>\n",
       "      <td>60</td>\n",
       "      <td>23</td>\n",
       "      <td>4</td>\n",
       "      <td>0</td>\n",
       "      <td>1</td>\n",
       "      <td>1</td>\n",
       "      <td>0</td>\n",
       "      <td>0</td>\n",
       "      <td>1</td>\n",
       "      <td>0</td>\n",
       "      <td>0</td>\n",
       "    </tr>\n",
       "  </tbody>\n",
       "</table>\n",
       "</div>"
      ],
      "text/plain": [
       "   age  bmi  children  Female  Male  Yes_Smoke  No_Smoke  SW  SE  NW  NE\n",
       "0   35   20         2       0     1          0         1   0   0   1   0\n",
       "1   22   25         0       1     0          0         1   0   0   0   1\n",
       "2   60   23         4       0     1          1         0   0   1   0   0"
      ]
     },
     "execution_count": 177,
     "metadata": {},
     "output_type": "execute_result"
    }
   ],
   "source": [
    "# creating a stacked array to pass into dataframe structure to slap on column names\n",
    "array = np.concatenate((ex1,ex2,ex3))\n",
    "print(array)\n",
    "New_Ex = pd.DataFrame(array,columns=list(X.columns))\n",
    "New_Ex.head()"
   ]
  },
  {
   "cell_type": "code",
   "execution_count": 181,
   "metadata": {},
   "outputs": [
    {
     "name": "stdout",
     "output_type": "stream",
     "text": [
      "The example senario's predicted expenses are [ 4493.07223287  2162.83259487 36544.13905587]\n"
     ]
    }
   ],
   "source": [
    "Ex_Predictions = lm.predict(New_Ex)\n",
    "print('The example senario\\'s predicted expenses are', Ex_Predictions)\n",
    "\n",
    "#The example senario's predicted expenses are [ 4493.07223287  2162.83259487 36544.13905587]"
   ]
  }
 ],
 "metadata": {
  "kernelspec": {
   "display_name": "Python 3 (ipykernel)",
   "language": "python",
   "name": "python3"
  },
  "language_info": {
   "codemirror_mode": {
    "name": "ipython",
    "version": 3
   },
   "file_extension": ".py",
   "mimetype": "text/x-python",
   "name": "python",
   "nbconvert_exporter": "python",
   "pygments_lexer": "ipython3",
   "version": "3.8.5"
  }
 },
 "nbformat": 4,
 "nbformat_minor": 2
}
